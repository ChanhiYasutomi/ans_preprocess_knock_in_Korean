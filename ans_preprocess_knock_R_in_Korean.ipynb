{
  "cells": [
    {
      "cell_type": "markdown",
      "metadata": {
        "id": "pfh7ZcCMhnQi"
      },
      "source": [
        "# 데이터 사이언스 100번의 노크(구조화 데이터 처리편) - R\n",
        "\n"
      ]
    },
    {
      "cell_type": "markdown",
      "source": [
        "## 참고(Reference) : 「データサイエンティスト協会スキル定義委員」の「データサイエンス100本ノック（構造化データ加工編）」\n",
        "\n",
        "## 데이터 사이언티스트 소사이어티 깃허브 : https://github.com/The-Japan-DataScientist-Society/100knocks-preprocess\n",
        "\n",
        "## 데이터 사이언스 100 노크 (구조화된 데이터 처리) URL : https://github.com/The-Japan-DataScientist-Society/100knocks-preprocess/blob/master/docker/work/answer/ans_preprocess_knock_R.ipynb\n",
        "\n",
        "- 참고: 원래 데이터 사이언티스트 소사이어티(データサイエンティスト協会スキル定義委員)에서 만든 ipynb 파일을 DeepL 에서 일본어에서 영어로 번역한 파일입니다.\n",
        "\n",
        "- 이 파일을 업데이트한 이유는 초보자부터 고급 엔지니어까지 R을 사용하고자 하는 모든 사람에게 유용한 이 실습을 전파하기 위해서입니다. \n",
        "\n",
        "- 이 데이터는 일본어로 작성되었으므로 연습할 때 언어 문제가 발생할 수 있습니다. 그러나 크게 영향을 미치지 않으므로 걱정하지 마십시오."
      ],
      "metadata": {
        "id": "RD0Ks24lMFck"
      }
    },
    {
      "cell_type": "markdown",
      "metadata": {
        "id": "BElHuJUHoL_K"
      },
      "source": [
        "## 소개\n",
        "- 먼저 다음 셀을 실행합니다.\n",
        "- 필요한 라이브러리를 가져오고 데이터베이스에서 데이터를 읽습니다(PostgreSQL).\n",
        "- 사용할 것으로 예상되는 라이브러리는 다음 셀에서 가져옵니다.\n",
        "- 사용하려는 다른 라이브러리가 있는 경우 install.packages()를 사용하여 적절하게 설치합니다.\n",
        "- 이름, 주소 등은 더미 데이터이며 실제 데이터가 아닙니다."
      ]
    },
    {
      "cell_type": "code",
      "execution_count": null,
      "metadata": {
        "id": "INJqTdzdBJiO",
        "outputId": "7549fe34-6de9-448d-903d-c74baec5aa6e"
      },
      "outputs": [
        {
          "name": "stderr",
          "output_type": "stream",
          "text": [
            "Loading required package: RPostgreSQL\n",
            "\n",
            "Loading required package: DBI\n",
            "\n",
            "Loading required package: tidyr\n",
            "\n",
            "Loading required package: dplyr\n",
            "\n",
            "\n",
            "Attaching package: ‘dplyr’\n",
            "\n",
            "\n",
            "The following objects are masked from ‘package:stats’:\n",
            "\n",
            "    filter, lag\n",
            "\n",
            "\n",
            "The following objects are masked from ‘package:base’:\n",
            "\n",
            "    intersect, setdiff, setequal, union\n",
            "\n",
            "\n",
            "Loading required package: stringr\n",
            "\n",
            "Loading required package: caret\n",
            "\n",
            "Loading required package: ggplot2\n",
            "\n",
            "Loading required package: lattice\n",
            "\n",
            "Loading required package: lubridate\n",
            "\n",
            "\n",
            "Attaching package: ‘lubridate’\n",
            "\n",
            "\n",
            "The following objects are masked from ‘package:base’:\n",
            "\n",
            "    date, intersect, setdiff, union\n",
            "\n",
            "\n",
            "Loading required package: rsample\n",
            "\n",
            "Loading required package: recipes\n",
            "\n",
            "\n",
            "Attaching package: ‘recipes’\n",
            "\n",
            "\n",
            "The following object is masked from ‘package:stringr’:\n",
            "\n",
            "    fixed\n",
            "\n",
            "\n",
            "The following object is masked from ‘package:stats’:\n",
            "\n",
            "    step\n",
            "\n",
            "\n",
            "Loading required package: themis\n",
            "\n",
            "Registered S3 methods overwritten by 'themis':\n",
            "  method                  from   \n",
            "  bake.step_downsample    recipes\n",
            "  bake.step_upsample      recipes\n",
            "  prep.step_downsample    recipes\n",
            "  prep.step_upsample      recipes\n",
            "  tidy.step_downsample    recipes\n",
            "  tidy.step_upsample      recipes\n",
            "  tunable.step_downsample recipes\n",
            "  tunable.step_upsample   recipes\n",
            "\n",
            "\n",
            "Attaching package: ‘themis’\n",
            "\n",
            "\n",
            "The following objects are masked from ‘package:recipes’:\n",
            "\n",
            "    step_downsample, step_upsample\n",
            "\n",
            "\n"
          ]
        }
      ],
      "source": [
        "require(\"RPostgreSQL\")\n",
        "require(\"tidyr\")\n",
        "require(\"dplyr\")\n",
        "require(\"stringr\")\n",
        "require(\"caret\")\n",
        "require(\"lubridate\")\n",
        "require(\"rsample\")\n",
        "require(\"recipes\")\n",
        "require(\"themis\")\n",
        "\n",
        "host <- \"db\"\n",
        "port <- Sys.getenv()[\"PG_PORT\"]\n",
        "dbname <- Sys.getenv()[\"PG_DATABASE\"]\n",
        "user <- Sys.getenv()[\"PG_USER\"]\n",
        "password <- Sys.getenv()[\"PG_PASSWORD\"]\n",
        "\n",
        "con <- dbConnect(PostgreSQL(), host=host, port=port, dbname=dbname, user=user, password=password)\n",
        "df_customer <- dbGetQuery(con,\"SELECT * FROM customer\")\n",
        "df_category <- dbGetQuery(con,\"SELECT * FROM category\")\n",
        "df_product <- dbGetQuery(con,\"SELECT * FROM product\")\n",
        "df_receipt <- dbGetQuery(con,\"SELECT * FROM receipt\")\n",
        "df_store <- dbGetQuery(con,\"SELECT * FROM store\")\n",
        "df_geocode <- dbGetQuery(con,\"SELECT * FROM geocode\")"
      ]
    },
    {
      "cell_type": "markdown",
      "metadata": {
        "id": "LgLJIoEiBJiX"
      },
      "source": [
        "# 연습 문제"
      ]
    },
    {
      "cell_type": "markdown",
      "metadata": {
        "id": "XE_ZAeoQBJiX"
      },
      "source": [
        "---\n",
        "> R-001: 영수증 내역 데이터(df_receipt)에서 전체 항목 중 첫 10건을 표시하여 어떤 데이터를 보유하고 있는지 목시으로 확인하라."
      ]
    },
    {
      "cell_type": "code",
      "execution_count": null,
      "metadata": {
        "id": "QcQRzoMjBJiX",
        "outputId": "513ce9db-2dfb-4e27-9596-55c0d89948dd"
      },
      "outputs": [
        {
          "data": {
            "text/html": [
              "<table class=\"dataframe\">\n",
              "<caption>A data.frame: 10 × 9</caption>\n",
              "<thead>\n",
              "\t<tr><th></th><th scope=col>sales_ymd</th><th scope=col>sales_epoch</th><th scope=col>store_cd</th><th scope=col>receipt_no</th><th scope=col>receipt_sub_no</th><th scope=col>customer_id</th><th scope=col>product_cd</th><th scope=col>quantity</th><th scope=col>amount</th></tr>\n",
              "\t<tr><th></th><th scope=col>&lt;int&gt;</th><th scope=col>&lt;int&gt;</th><th scope=col>&lt;chr&gt;</th><th scope=col>&lt;int&gt;</th><th scope=col>&lt;int&gt;</th><th scope=col>&lt;chr&gt;</th><th scope=col>&lt;chr&gt;</th><th scope=col>&lt;int&gt;</th><th scope=col>&lt;int&gt;</th></tr>\n",
              "</thead>\n",
              "<tbody>\n",
              "\t<tr><th scope=row>1</th><td>20181103</td><td>1541203200</td><td>S14006</td><td> 112</td><td>1</td><td>CS006214000001</td><td>P070305012</td><td>1</td><td>158</td></tr>\n",
              "\t<tr><th scope=row>2</th><td>20181118</td><td>1542499200</td><td>S13008</td><td>1132</td><td>2</td><td>CS008415000097</td><td>P070701017</td><td>1</td><td> 81</td></tr>\n",
              "\t<tr><th scope=row>3</th><td>20170712</td><td>1499817600</td><td>S14028</td><td>1102</td><td>1</td><td>CS028414000014</td><td>P060101005</td><td>1</td><td>170</td></tr>\n",
              "\t<tr><th scope=row>4</th><td>20190205</td><td>1549324800</td><td>S14042</td><td>1132</td><td>1</td><td>ZZ000000000000</td><td>P050301001</td><td>1</td><td> 25</td></tr>\n",
              "\t<tr><th scope=row>5</th><td>20180821</td><td>1534809600</td><td>S14025</td><td>1102</td><td>2</td><td>CS025415000050</td><td>P060102007</td><td>1</td><td> 90</td></tr>\n",
              "\t<tr><th scope=row>6</th><td>20190605</td><td>1559692800</td><td>S13003</td><td>1112</td><td>1</td><td>CS003515000195</td><td>P050102002</td><td>1</td><td>138</td></tr>\n",
              "\t<tr><th scope=row>7</th><td>20181205</td><td>1543968000</td><td>S14024</td><td>1102</td><td>2</td><td>CS024514000042</td><td>P080101005</td><td>1</td><td> 30</td></tr>\n",
              "\t<tr><th scope=row>8</th><td>20190922</td><td>1569110400</td><td>S14040</td><td>1102</td><td>1</td><td>CS040415000178</td><td>P070501004</td><td>1</td><td>128</td></tr>\n",
              "\t<tr><th scope=row>9</th><td>20170504</td><td>1493856000</td><td>S13020</td><td>1112</td><td>2</td><td>ZZ000000000000</td><td>P071302010</td><td>1</td><td>770</td></tr>\n",
              "\t<tr><th scope=row>10</th><td>20191010</td><td>1570665600</td><td>S14027</td><td>1102</td><td>1</td><td>CS027514000015</td><td>P071101003</td><td>1</td><td>680</td></tr>\n",
              "</tbody>\n",
              "</table>\n"
            ],
            "text/latex": [
              "A data.frame: 10 × 9\n",
              "\\begin{tabular}{r|lllllllll}\n",
              "  & sales\\_ymd & sales\\_epoch & store\\_cd & receipt\\_no & receipt\\_sub\\_no & customer\\_id & product\\_cd & quantity & amount\\\\\n",
              "  & <int> & <int> & <chr> & <int> & <int> & <chr> & <chr> & <int> & <int>\\\\\n",
              "\\hline\n",
              "\t1 & 20181103 & 1541203200 & S14006 &  112 & 1 & CS006214000001 & P070305012 & 1 & 158\\\\\n",
              "\t2 & 20181118 & 1542499200 & S13008 & 1132 & 2 & CS008415000097 & P070701017 & 1 &  81\\\\\n",
              "\t3 & 20170712 & 1499817600 & S14028 & 1102 & 1 & CS028414000014 & P060101005 & 1 & 170\\\\\n",
              "\t4 & 20190205 & 1549324800 & S14042 & 1132 & 1 & ZZ000000000000 & P050301001 & 1 &  25\\\\\n",
              "\t5 & 20180821 & 1534809600 & S14025 & 1102 & 2 & CS025415000050 & P060102007 & 1 &  90\\\\\n",
              "\t6 & 20190605 & 1559692800 & S13003 & 1112 & 1 & CS003515000195 & P050102002 & 1 & 138\\\\\n",
              "\t7 & 20181205 & 1543968000 & S14024 & 1102 & 2 & CS024514000042 & P080101005 & 1 &  30\\\\\n",
              "\t8 & 20190922 & 1569110400 & S14040 & 1102 & 1 & CS040415000178 & P070501004 & 1 & 128\\\\\n",
              "\t9 & 20170504 & 1493856000 & S13020 & 1112 & 2 & ZZ000000000000 & P071302010 & 1 & 770\\\\\n",
              "\t10 & 20191010 & 1570665600 & S14027 & 1102 & 1 & CS027514000015 & P071101003 & 1 & 680\\\\\n",
              "\\end{tabular}\n"
            ],
            "text/markdown": [
              "\n",
              "A data.frame: 10 × 9\n",
              "\n",
              "| <!--/--> | sales_ymd &lt;int&gt; | sales_epoch &lt;int&gt; | store_cd &lt;chr&gt; | receipt_no &lt;int&gt; | receipt_sub_no &lt;int&gt; | customer_id &lt;chr&gt; | product_cd &lt;chr&gt; | quantity &lt;int&gt; | amount &lt;int&gt; |\n",
              "|---|---|---|---|---|---|---|---|---|---|\n",
              "| 1 | 20181103 | 1541203200 | S14006 |  112 | 1 | CS006214000001 | P070305012 | 1 | 158 |\n",
              "| 2 | 20181118 | 1542499200 | S13008 | 1132 | 2 | CS008415000097 | P070701017 | 1 |  81 |\n",
              "| 3 | 20170712 | 1499817600 | S14028 | 1102 | 1 | CS028414000014 | P060101005 | 1 | 170 |\n",
              "| 4 | 20190205 | 1549324800 | S14042 | 1132 | 1 | ZZ000000000000 | P050301001 | 1 |  25 |\n",
              "| 5 | 20180821 | 1534809600 | S14025 | 1102 | 2 | CS025415000050 | P060102007 | 1 |  90 |\n",
              "| 6 | 20190605 | 1559692800 | S13003 | 1112 | 1 | CS003515000195 | P050102002 | 1 | 138 |\n",
              "| 7 | 20181205 | 1543968000 | S14024 | 1102 | 2 | CS024514000042 | P080101005 | 1 |  30 |\n",
              "| 8 | 20190922 | 1569110400 | S14040 | 1102 | 1 | CS040415000178 | P070501004 | 1 | 128 |\n",
              "| 9 | 20170504 | 1493856000 | S13020 | 1112 | 2 | ZZ000000000000 | P071302010 | 1 | 770 |\n",
              "| 10 | 20191010 | 1570665600 | S14027 | 1102 | 1 | CS027514000015 | P071101003 | 1 | 680 |\n",
              "\n"
            ],
            "text/plain": [
              "   sales_ymd sales_epoch store_cd receipt_no receipt_sub_no customer_id   \n",
              "1  20181103  1541203200  S14006    112       1              CS006214000001\n",
              "2  20181118  1542499200  S13008   1132       2              CS008415000097\n",
              "3  20170712  1499817600  S14028   1102       1              CS028414000014\n",
              "4  20190205  1549324800  S14042   1132       1              ZZ000000000000\n",
              "5  20180821  1534809600  S14025   1102       2              CS025415000050\n",
              "6  20190605  1559692800  S13003   1112       1              CS003515000195\n",
              "7  20181205  1543968000  S14024   1102       2              CS024514000042\n",
              "8  20190922  1569110400  S14040   1102       1              CS040415000178\n",
              "9  20170504  1493856000  S13020   1112       2              ZZ000000000000\n",
              "10 20191010  1570665600  S14027   1102       1              CS027514000015\n",
              "   product_cd quantity amount\n",
              "1  P070305012 1        158   \n",
              "2  P070701017 1         81   \n",
              "3  P060101005 1        170   \n",
              "4  P050301001 1         25   \n",
              "5  P060102007 1         90   \n",
              "6  P050102002 1        138   \n",
              "7  P080101005 1         30   \n",
              "8  P070501004 1        128   \n",
              "9  P071302010 1        770   \n",
              "10 P071101003 1        680   "
            ]
          },
          "metadata": {},
          "output_type": "display_data"
        }
      ],
      "source": [
        "head(df_receipt, n = 10)"
      ]
    },
    {
      "cell_type": "markdown",
      "metadata": {
        "id": "n_3Cj-OEBJiX"
      },
      "source": [
        "---\n",
        "> R-002: 영수증 내역 데이터(df_receipt)에서 판매일자(sales_ymd), 고객 아이디(customer_id), 상품코드(product_cd), 판매금액(amount)의 순서로 열을 지정하여 10건씩 표시하라."
      ]
    },
    {
      "cell_type": "code",
      "execution_count": null,
      "metadata": {
        "id": "A1UBh8tHBJiX",
        "outputId": "a493df1a-4dfa-4b9d-9925-3d220810671a"
      },
      "outputs": [
        {
          "data": {
            "text/html": [
              "<table class=\"dataframe\">\n",
              "<caption>A data.frame: 10 × 4</caption>\n",
              "<thead>\n",
              "\t<tr><th></th><th scope=col>sales_ymd</th><th scope=col>customer_id</th><th scope=col>product_cd</th><th scope=col>amount</th></tr>\n",
              "\t<tr><th></th><th scope=col>&lt;int&gt;</th><th scope=col>&lt;chr&gt;</th><th scope=col>&lt;chr&gt;</th><th scope=col>&lt;int&gt;</th></tr>\n",
              "</thead>\n",
              "<tbody>\n",
              "\t<tr><th scope=row>1</th><td>20181103</td><td>CS006214000001</td><td>P070305012</td><td>158</td></tr>\n",
              "\t<tr><th scope=row>2</th><td>20181118</td><td>CS008415000097</td><td>P070701017</td><td> 81</td></tr>\n",
              "\t<tr><th scope=row>3</th><td>20170712</td><td>CS028414000014</td><td>P060101005</td><td>170</td></tr>\n",
              "\t<tr><th scope=row>4</th><td>20190205</td><td>ZZ000000000000</td><td>P050301001</td><td> 25</td></tr>\n",
              "\t<tr><th scope=row>5</th><td>20180821</td><td>CS025415000050</td><td>P060102007</td><td> 90</td></tr>\n",
              "\t<tr><th scope=row>6</th><td>20190605</td><td>CS003515000195</td><td>P050102002</td><td>138</td></tr>\n",
              "\t<tr><th scope=row>7</th><td>20181205</td><td>CS024514000042</td><td>P080101005</td><td> 30</td></tr>\n",
              "\t<tr><th scope=row>8</th><td>20190922</td><td>CS040415000178</td><td>P070501004</td><td>128</td></tr>\n",
              "\t<tr><th scope=row>9</th><td>20170504</td><td>ZZ000000000000</td><td>P071302010</td><td>770</td></tr>\n",
              "\t<tr><th scope=row>10</th><td>20191010</td><td>CS027514000015</td><td>P071101003</td><td>680</td></tr>\n",
              "</tbody>\n",
              "</table>\n"
            ],
            "text/latex": [
              "A data.frame: 10 × 4\n",
              "\\begin{tabular}{r|llll}\n",
              "  & sales\\_ymd & customer\\_id & product\\_cd & amount\\\\\n",
              "  & <int> & <chr> & <chr> & <int>\\\\\n",
              "\\hline\n",
              "\t1 & 20181103 & CS006214000001 & P070305012 & 158\\\\\n",
              "\t2 & 20181118 & CS008415000097 & P070701017 &  81\\\\\n",
              "\t3 & 20170712 & CS028414000014 & P060101005 & 170\\\\\n",
              "\t4 & 20190205 & ZZ000000000000 & P050301001 &  25\\\\\n",
              "\t5 & 20180821 & CS025415000050 & P060102007 &  90\\\\\n",
              "\t6 & 20190605 & CS003515000195 & P050102002 & 138\\\\\n",
              "\t7 & 20181205 & CS024514000042 & P080101005 &  30\\\\\n",
              "\t8 & 20190922 & CS040415000178 & P070501004 & 128\\\\\n",
              "\t9 & 20170504 & ZZ000000000000 & P071302010 & 770\\\\\n",
              "\t10 & 20191010 & CS027514000015 & P071101003 & 680\\\\\n",
              "\\end{tabular}\n"
            ],
            "text/markdown": [
              "\n",
              "A data.frame: 10 × 4\n",
              "\n",
              "| <!--/--> | sales_ymd &lt;int&gt; | customer_id &lt;chr&gt; | product_cd &lt;chr&gt; | amount &lt;int&gt; |\n",
              "|---|---|---|---|---|\n",
              "| 1 | 20181103 | CS006214000001 | P070305012 | 158 |\n",
              "| 2 | 20181118 | CS008415000097 | P070701017 |  81 |\n",
              "| 3 | 20170712 | CS028414000014 | P060101005 | 170 |\n",
              "| 4 | 20190205 | ZZ000000000000 | P050301001 |  25 |\n",
              "| 5 | 20180821 | CS025415000050 | P060102007 |  90 |\n",
              "| 6 | 20190605 | CS003515000195 | P050102002 | 138 |\n",
              "| 7 | 20181205 | CS024514000042 | P080101005 |  30 |\n",
              "| 8 | 20190922 | CS040415000178 | P070501004 | 128 |\n",
              "| 9 | 20170504 | ZZ000000000000 | P071302010 | 770 |\n",
              "| 10 | 20191010 | CS027514000015 | P071101003 | 680 |\n",
              "\n"
            ],
            "text/plain": [
              "   sales_ymd customer_id    product_cd amount\n",
              "1  20181103  CS006214000001 P070305012 158   \n",
              "2  20181118  CS008415000097 P070701017  81   \n",
              "3  20170712  CS028414000014 P060101005 170   \n",
              "4  20190205  ZZ000000000000 P050301001  25   \n",
              "5  20180821  CS025415000050 P060102007  90   \n",
              "6  20190605  CS003515000195 P050102002 138   \n",
              "7  20181205  CS024514000042 P080101005  30   \n",
              "8  20190922  CS040415000178 P070501004 128   \n",
              "9  20170504  ZZ000000000000 P071302010 770   \n",
              "10 20191010  CS027514000015 P071101003 680   "
            ]
          },
          "metadata": {},
          "output_type": "display_data"
        }
      ],
      "source": [
        "head(df_receipt[c(\"sales_ymd\", \"customer_id\", \"product_cd\", \"amount\")], n = 10)"
      ]
    },
    {
      "cell_type": "markdown",
      "metadata": {
        "id": "JfuVMUdRBJiY"
      },
      "source": [
        "---\n",
        "> R-003: 영수증 내역 데이터(df_receipt)에서 매출일자(sales_ymd), 고객 ID(customer_id), 상품코드(product_cd), 매출금액(amount) 순으로 열을 지정하여 10건씩 표시한다. 단, sales_ymdsales_date로 항목명을 변경하면서 추출한다."
      ]
    },
    {
      "cell_type": "code",
      "execution_count": null,
      "metadata": {
        "id": "mgyhs1mwBJiY",
        "outputId": "07b0f3f5-d1d1-4035-c1a6-9402ecc24286"
      },
      "outputs": [
        {
          "data": {
            "text/html": [
              "<table class=\"dataframe\">\n",
              "<caption>A data.frame: 10 × 4</caption>\n",
              "<thead>\n",
              "\t<tr><th></th><th scope=col>sales_date</th><th scope=col>customer_id</th><th scope=col>product_cd</th><th scope=col>amount</th></tr>\n",
              "\t<tr><th></th><th scope=col>&lt;int&gt;</th><th scope=col>&lt;chr&gt;</th><th scope=col>&lt;chr&gt;</th><th scope=col>&lt;int&gt;</th></tr>\n",
              "</thead>\n",
              "<tbody>\n",
              "\t<tr><th scope=row>1</th><td>20181103</td><td>CS006214000001</td><td>P070305012</td><td>158</td></tr>\n",
              "\t<tr><th scope=row>2</th><td>20181118</td><td>CS008415000097</td><td>P070701017</td><td> 81</td></tr>\n",
              "\t<tr><th scope=row>3</th><td>20170712</td><td>CS028414000014</td><td>P060101005</td><td>170</td></tr>\n",
              "\t<tr><th scope=row>4</th><td>20190205</td><td>ZZ000000000000</td><td>P050301001</td><td> 25</td></tr>\n",
              "\t<tr><th scope=row>5</th><td>20180821</td><td>CS025415000050</td><td>P060102007</td><td> 90</td></tr>\n",
              "\t<tr><th scope=row>6</th><td>20190605</td><td>CS003515000195</td><td>P050102002</td><td>138</td></tr>\n",
              "\t<tr><th scope=row>7</th><td>20181205</td><td>CS024514000042</td><td>P080101005</td><td> 30</td></tr>\n",
              "\t<tr><th scope=row>8</th><td>20190922</td><td>CS040415000178</td><td>P070501004</td><td>128</td></tr>\n",
              "\t<tr><th scope=row>9</th><td>20170504</td><td>ZZ000000000000</td><td>P071302010</td><td>770</td></tr>\n",
              "\t<tr><th scope=row>10</th><td>20191010</td><td>CS027514000015</td><td>P071101003</td><td>680</td></tr>\n",
              "</tbody>\n",
              "</table>\n"
            ],
            "text/latex": [
              "A data.frame: 10 × 4\n",
              "\\begin{tabular}{r|llll}\n",
              "  & sales\\_date & customer\\_id & product\\_cd & amount\\\\\n",
              "  & <int> & <chr> & <chr> & <int>\\\\\n",
              "\\hline\n",
              "\t1 & 20181103 & CS006214000001 & P070305012 & 158\\\\\n",
              "\t2 & 20181118 & CS008415000097 & P070701017 &  81\\\\\n",
              "\t3 & 20170712 & CS028414000014 & P060101005 & 170\\\\\n",
              "\t4 & 20190205 & ZZ000000000000 & P050301001 &  25\\\\\n",
              "\t5 & 20180821 & CS025415000050 & P060102007 &  90\\\\\n",
              "\t6 & 20190605 & CS003515000195 & P050102002 & 138\\\\\n",
              "\t7 & 20181205 & CS024514000042 & P080101005 &  30\\\\\n",
              "\t8 & 20190922 & CS040415000178 & P070501004 & 128\\\\\n",
              "\t9 & 20170504 & ZZ000000000000 & P071302010 & 770\\\\\n",
              "\t10 & 20191010 & CS027514000015 & P071101003 & 680\\\\\n",
              "\\end{tabular}\n"
            ],
            "text/markdown": [
              "\n",
              "A data.frame: 10 × 4\n",
              "\n",
              "| <!--/--> | sales_date &lt;int&gt; | customer_id &lt;chr&gt; | product_cd &lt;chr&gt; | amount &lt;int&gt; |\n",
              "|---|---|---|---|---|\n",
              "| 1 | 20181103 | CS006214000001 | P070305012 | 158 |\n",
              "| 2 | 20181118 | CS008415000097 | P070701017 |  81 |\n",
              "| 3 | 20170712 | CS028414000014 | P060101005 | 170 |\n",
              "| 4 | 20190205 | ZZ000000000000 | P050301001 |  25 |\n",
              "| 5 | 20180821 | CS025415000050 | P060102007 |  90 |\n",
              "| 6 | 20190605 | CS003515000195 | P050102002 | 138 |\n",
              "| 7 | 20181205 | CS024514000042 | P080101005 |  30 |\n",
              "| 8 | 20190922 | CS040415000178 | P070501004 | 128 |\n",
              "| 9 | 20170504 | ZZ000000000000 | P071302010 | 770 |\n",
              "| 10 | 20191010 | CS027514000015 | P071101003 | 680 |\n",
              "\n"
            ],
            "text/plain": [
              "   sales_date customer_id    product_cd amount\n",
              "1  20181103   CS006214000001 P070305012 158   \n",
              "2  20181118   CS008415000097 P070701017  81   \n",
              "3  20170712   CS028414000014 P060101005 170   \n",
              "4  20190205   ZZ000000000000 P050301001  25   \n",
              "5  20180821   CS025415000050 P060102007  90   \n",
              "6  20190605   CS003515000195 P050102002 138   \n",
              "7  20181205   CS024514000042 P080101005  30   \n",
              "8  20190922   CS040415000178 P070501004 128   \n",
              "9  20170504   ZZ000000000000 P071302010 770   \n",
              "10 20191010   CS027514000015 P071101003 680   "
            ]
          },
          "metadata": {},
          "output_type": "display_data"
        }
      ],
      "source": [
        "head(rename(df_receipt[c(\"sales_ymd\", \"customer_id\", \"product_cd\", \"amount\")], \n",
        "            sales_date = sales_ymd), n = 10)"
      ]
    },
    {
      "cell_type": "markdown",
      "metadata": {
        "id": "PfCpsdn1BJiY"
      },
      "source": [
        "---\n",
        "> R-004: 영수증 내역 데이터(df_receipt)에서 판매일(sales_ymd), 고객 ID(customer_id), 상품 코드(product_cd), 판매 금액(amount) 순으로 열을 지정하고, 다음 조건을 만족하는 데이터를 추출하시오.\n",
        "> - 고객 ID(customer_id)가 \"CS018205000001\"."
      ]
    },
    {
      "cell_type": "code",
      "execution_count": null,
      "metadata": {
        "id": "vJNjlmqmBJiY",
        "outputId": "8b8c16ed-68a0-4b07-9824-b71be1fa0c70"
      },
      "outputs": [
        {
          "data": {
            "text/html": [
              "<table class=\"dataframe\">\n",
              "<caption>A data.frame: 12 × 4</caption>\n",
              "<thead>\n",
              "\t<tr><th scope=col>sales_ymd</th><th scope=col>customer_id</th><th scope=col>product_cd</th><th scope=col>amount</th></tr>\n",
              "\t<tr><th scope=col>&lt;int&gt;</th><th scope=col>&lt;chr&gt;</th><th scope=col>&lt;chr&gt;</th><th scope=col>&lt;int&gt;</th></tr>\n",
              "</thead>\n",
              "<tbody>\n",
              "\t<tr><td>20180911</td><td>CS018205000001</td><td>P071401012</td><td>2200</td></tr>\n",
              "\t<tr><td>20180414</td><td>CS018205000001</td><td>P060104007</td><td> 600</td></tr>\n",
              "\t<tr><td>20170614</td><td>CS018205000001</td><td>P050206001</td><td> 990</td></tr>\n",
              "\t<tr><td>20170614</td><td>CS018205000001</td><td>P060702015</td><td> 108</td></tr>\n",
              "\t<tr><td>20190216</td><td>CS018205000001</td><td>P071005024</td><td> 102</td></tr>\n",
              "\t<tr><td>20180414</td><td>CS018205000001</td><td>P071101002</td><td> 278</td></tr>\n",
              "\t<tr><td>20190226</td><td>CS018205000001</td><td>P070902035</td><td> 168</td></tr>\n",
              "\t<tr><td>20190924</td><td>CS018205000001</td><td>P060805001</td><td> 495</td></tr>\n",
              "\t<tr><td>20190226</td><td>CS018205000001</td><td>P071401020</td><td>2200</td></tr>\n",
              "\t<tr><td>20180911</td><td>CS018205000001</td><td>P071401005</td><td>1100</td></tr>\n",
              "\t<tr><td>20190216</td><td>CS018205000001</td><td>P040101002</td><td> 218</td></tr>\n",
              "\t<tr><td>20190924</td><td>CS018205000001</td><td>P091503001</td><td> 280</td></tr>\n",
              "</tbody>\n",
              "</table>\n"
            ],
            "text/latex": [
              "A data.frame: 12 × 4\n",
              "\\begin{tabular}{llll}\n",
              " sales\\_ymd & customer\\_id & product\\_cd & amount\\\\\n",
              " <int> & <chr> & <chr> & <int>\\\\\n",
              "\\hline\n",
              "\t 20180911 & CS018205000001 & P071401012 & 2200\\\\\n",
              "\t 20180414 & CS018205000001 & P060104007 &  600\\\\\n",
              "\t 20170614 & CS018205000001 & P050206001 &  990\\\\\n",
              "\t 20170614 & CS018205000001 & P060702015 &  108\\\\\n",
              "\t 20190216 & CS018205000001 & P071005024 &  102\\\\\n",
              "\t 20180414 & CS018205000001 & P071101002 &  278\\\\\n",
              "\t 20190226 & CS018205000001 & P070902035 &  168\\\\\n",
              "\t 20190924 & CS018205000001 & P060805001 &  495\\\\\n",
              "\t 20190226 & CS018205000001 & P071401020 & 2200\\\\\n",
              "\t 20180911 & CS018205000001 & P071401005 & 1100\\\\\n",
              "\t 20190216 & CS018205000001 & P040101002 &  218\\\\\n",
              "\t 20190924 & CS018205000001 & P091503001 &  280\\\\\n",
              "\\end{tabular}\n"
            ],
            "text/markdown": [
              "\n",
              "A data.frame: 12 × 4\n",
              "\n",
              "| sales_ymd &lt;int&gt; | customer_id &lt;chr&gt; | product_cd &lt;chr&gt; | amount &lt;int&gt; |\n",
              "|---|---|---|---|\n",
              "| 20180911 | CS018205000001 | P071401012 | 2200 |\n",
              "| 20180414 | CS018205000001 | P060104007 |  600 |\n",
              "| 20170614 | CS018205000001 | P050206001 |  990 |\n",
              "| 20170614 | CS018205000001 | P060702015 |  108 |\n",
              "| 20190216 | CS018205000001 | P071005024 |  102 |\n",
              "| 20180414 | CS018205000001 | P071101002 |  278 |\n",
              "| 20190226 | CS018205000001 | P070902035 |  168 |\n",
              "| 20190924 | CS018205000001 | P060805001 |  495 |\n",
              "| 20190226 | CS018205000001 | P071401020 | 2200 |\n",
              "| 20180911 | CS018205000001 | P071401005 | 1100 |\n",
              "| 20190216 | CS018205000001 | P040101002 |  218 |\n",
              "| 20190924 | CS018205000001 | P091503001 |  280 |\n",
              "\n"
            ],
            "text/plain": [
              "   sales_ymd customer_id    product_cd amount\n",
              "1  20180911  CS018205000001 P071401012 2200  \n",
              "2  20180414  CS018205000001 P060104007  600  \n",
              "3  20170614  CS018205000001 P050206001  990  \n",
              "4  20170614  CS018205000001 P060702015  108  \n",
              "5  20190216  CS018205000001 P071005024  102  \n",
              "6  20180414  CS018205000001 P071101002  278  \n",
              "7  20190226  CS018205000001 P070902035  168  \n",
              "8  20190924  CS018205000001 P060805001  495  \n",
              "9  20190226  CS018205000001 P071401020 2200  \n",
              "10 20180911  CS018205000001 P071401005 1100  \n",
              "11 20190216  CS018205000001 P040101002  218  \n",
              "12 20190924  CS018205000001 P091503001  280  "
            ]
          },
          "metadata": {},
          "output_type": "display_data"
        }
      ],
      "source": [
        "df_receipt[c(\"sales_ymd\", \"customer_id\", \"product_cd\", \"amount\")] %>%\n",
        "    filter(customer_id == \"CS018205000001\")"
      ]
    },
    {
      "cell_type": "markdown",
      "metadata": {
        "id": "88wA8emZBJiY"
      },
      "source": [
        "---\n",
        "> R-005: 영수증 내역 데이터(df_receipt)에서 판매일(sales_ymd), 고객 ID(customer_id), 상품 코드(product_cd), 판매 금액(amount)의 순서로 열을 지정하고, 아래 조건을 모두 만족하는 데이터를 추출하라.\n",
        "> - 고객 ID(customer_id)가 \"CS018205000001\"\n",
        "> - 매출 금액(amount)이 1,000 이상"
      ]
    },
    {
      "cell_type": "code",
      "execution_count": null,
      "metadata": {
        "id": "nwnZF7xSBJiY",
        "outputId": "7cd5a10a-a03c-476b-ca6e-84449df8a20d"
      },
      "outputs": [
        {
          "data": {
            "text/html": [
              "<table class=\"dataframe\">\n",
              "<caption>A data.frame: 3 × 4</caption>\n",
              "<thead>\n",
              "\t<tr><th scope=col>sales_ymd</th><th scope=col>customer_id</th><th scope=col>product_cd</th><th scope=col>amount</th></tr>\n",
              "\t<tr><th scope=col>&lt;int&gt;</th><th scope=col>&lt;chr&gt;</th><th scope=col>&lt;chr&gt;</th><th scope=col>&lt;int&gt;</th></tr>\n",
              "</thead>\n",
              "<tbody>\n",
              "\t<tr><td>20180911</td><td>CS018205000001</td><td>P071401012</td><td>2200</td></tr>\n",
              "\t<tr><td>20190226</td><td>CS018205000001</td><td>P071401020</td><td>2200</td></tr>\n",
              "\t<tr><td>20180911</td><td>CS018205000001</td><td>P071401005</td><td>1100</td></tr>\n",
              "</tbody>\n",
              "</table>\n"
            ],
            "text/latex": [
              "A data.frame: 3 × 4\n",
              "\\begin{tabular}{llll}\n",
              " sales\\_ymd & customer\\_id & product\\_cd & amount\\\\\n",
              " <int> & <chr> & <chr> & <int>\\\\\n",
              "\\hline\n",
              "\t 20180911 & CS018205000001 & P071401012 & 2200\\\\\n",
              "\t 20190226 & CS018205000001 & P071401020 & 2200\\\\\n",
              "\t 20180911 & CS018205000001 & P071401005 & 1100\\\\\n",
              "\\end{tabular}\n"
            ],
            "text/markdown": [
              "\n",
              "A data.frame: 3 × 4\n",
              "\n",
              "| sales_ymd &lt;int&gt; | customer_id &lt;chr&gt; | product_cd &lt;chr&gt; | amount &lt;int&gt; |\n",
              "|---|---|---|---|\n",
              "| 20180911 | CS018205000001 | P071401012 | 2200 |\n",
              "| 20190226 | CS018205000001 | P071401020 | 2200 |\n",
              "| 20180911 | CS018205000001 | P071401005 | 1100 |\n",
              "\n"
            ],
            "text/plain": [
              "  sales_ymd customer_id    product_cd amount\n",
              "1 20180911  CS018205000001 P071401012 2200  \n",
              "2 20190226  CS018205000001 P071401020 2200  \n",
              "3 20180911  CS018205000001 P071401005 1100  "
            ]
          },
          "metadata": {},
          "output_type": "display_data"
        }
      ],
      "source": [
        "df_receipt[c(\"sales_ymd\", \"customer_id\", \"product_cd\", \"amount\")] %>%\n",
        "    filter(customer_id == \"CS018205000001\" & amount >= 1000)"
      ]
    },
    {
      "cell_type": "markdown",
      "metadata": {
        "id": "sbbzpPa0BJiY"
      },
      "source": [
        "---\n",
        "> R-006: 영수증 내역 데이터(df_receipt)에서 판매일(sales_ymd), 고객 ID(customer_id), 상품 코드(product_cd), 판매 수량(quantity), 판매 금액(amount) 순으로 열을 지정하고, 다음 조건을 모두 만족하는 데이터를 추출하라. 추출하라.\n",
        "> - 고객 ID(customer_id)가 \"CS018205000001\".\n",
        "> - 판매금액(amount)이 1,000 이상 또는 판매수량(quantity)이 5 이상"
      ]
    },
    {
      "cell_type": "code",
      "execution_count": null,
      "metadata": {
        "id": "izQbSEwbBJiY",
        "outputId": "56859ce2-df91-4635-861c-4af90fc10e5d"
      },
      "outputs": [
        {
          "data": {
            "text/html": [
              "<table class=\"dataframe\">\n",
              "<caption>A data.frame: 5 × 5</caption>\n",
              "<thead>\n",
              "\t<tr><th scope=col>sales_ymd</th><th scope=col>customer_id</th><th scope=col>product_cd</th><th scope=col>quantity</th><th scope=col>amount</th></tr>\n",
              "\t<tr><th scope=col>&lt;int&gt;</th><th scope=col>&lt;chr&gt;</th><th scope=col>&lt;chr&gt;</th><th scope=col>&lt;int&gt;</th><th scope=col>&lt;int&gt;</th></tr>\n",
              "</thead>\n",
              "<tbody>\n",
              "\t<tr><td>20180911</td><td>CS018205000001</td><td>P071401012</td><td>1</td><td>2200</td></tr>\n",
              "\t<tr><td>20180414</td><td>CS018205000001</td><td>P060104007</td><td>6</td><td> 600</td></tr>\n",
              "\t<tr><td>20170614</td><td>CS018205000001</td><td>P050206001</td><td>5</td><td> 990</td></tr>\n",
              "\t<tr><td>20190226</td><td>CS018205000001</td><td>P071401020</td><td>1</td><td>2200</td></tr>\n",
              "\t<tr><td>20180911</td><td>CS018205000001</td><td>P071401005</td><td>1</td><td>1100</td></tr>\n",
              "</tbody>\n",
              "</table>\n"
            ],
            "text/latex": [
              "A data.frame: 5 × 5\n",
              "\\begin{tabular}{lllll}\n",
              " sales\\_ymd & customer\\_id & product\\_cd & quantity & amount\\\\\n",
              " <int> & <chr> & <chr> & <int> & <int>\\\\\n",
              "\\hline\n",
              "\t 20180911 & CS018205000001 & P071401012 & 1 & 2200\\\\\n",
              "\t 20180414 & CS018205000001 & P060104007 & 6 &  600\\\\\n",
              "\t 20170614 & CS018205000001 & P050206001 & 5 &  990\\\\\n",
              "\t 20190226 & CS018205000001 & P071401020 & 1 & 2200\\\\\n",
              "\t 20180911 & CS018205000001 & P071401005 & 1 & 1100\\\\\n",
              "\\end{tabular}\n"
            ],
            "text/markdown": [
              "\n",
              "A data.frame: 5 × 5\n",
              "\n",
              "| sales_ymd &lt;int&gt; | customer_id &lt;chr&gt; | product_cd &lt;chr&gt; | quantity &lt;int&gt; | amount &lt;int&gt; |\n",
              "|---|---|---|---|---|\n",
              "| 20180911 | CS018205000001 | P071401012 | 1 | 2200 |\n",
              "| 20180414 | CS018205000001 | P060104007 | 6 |  600 |\n",
              "| 20170614 | CS018205000001 | P050206001 | 5 |  990 |\n",
              "| 20190226 | CS018205000001 | P071401020 | 1 | 2200 |\n",
              "| 20180911 | CS018205000001 | P071401005 | 1 | 1100 |\n",
              "\n"
            ],
            "text/plain": [
              "  sales_ymd customer_id    product_cd quantity amount\n",
              "1 20180911  CS018205000001 P071401012 1        2200  \n",
              "2 20180414  CS018205000001 P060104007 6         600  \n",
              "3 20170614  CS018205000001 P050206001 5         990  \n",
              "4 20190226  CS018205000001 P071401020 1        2200  \n",
              "5 20180911  CS018205000001 P071401005 1        1100  "
            ]
          },
          "metadata": {},
          "output_type": "display_data"
        }
      ],
      "source": [
        "df_receipt[c(\"sales_ymd\", \"customer_id\", \n",
        "             \"product_cd\", \"quantity\", \"amount\")] %>%\n",
        "    filter(customer_id == \"CS018205000001\" & (amount >= 1000 | quantity >= 5))"
      ]
    },
    {
      "cell_type": "markdown",
      "metadata": {
        "id": "OVOaLqTMBJiZ"
      },
      "source": [
        "---\n",
        "> R-007: 영수증 내역 데이터(df_receipt)에서 판매일(sales_ymd), 고객 ID(customer_id), 상품 코드(product_cd), 판매 금액(amount)의 순서로 열을 지정하고, 아래 조건을 모두 만족하는 데이터를 추출하라.\n",
        "> - 고객 ID(customer_id)가 \"CS018205000001\"\n",
        "> -  매출 금액(amount)이 1,000 이상 2,000 이하"
      ]
    },
    {
      "cell_type": "code",
      "execution_count": null,
      "metadata": {
        "id": "GgocB8UTBJiZ",
        "outputId": "a4040c7b-82f2-42d0-a6e5-da8f732eba57"
      },
      "outputs": [
        {
          "data": {
            "text/html": [
              "<table class=\"dataframe\">\n",
              "<caption>A data.frame: 1 × 4</caption>\n",
              "<thead>\n",
              "\t<tr><th scope=col>sales_ymd</th><th scope=col>customer_id</th><th scope=col>product_cd</th><th scope=col>amount</th></tr>\n",
              "\t<tr><th scope=col>&lt;int&gt;</th><th scope=col>&lt;chr&gt;</th><th scope=col>&lt;chr&gt;</th><th scope=col>&lt;int&gt;</th></tr>\n",
              "</thead>\n",
              "<tbody>\n",
              "\t<tr><td>20180911</td><td>CS018205000001</td><td>P071401005</td><td>1100</td></tr>\n",
              "</tbody>\n",
              "</table>\n"
            ],
            "text/latex": [
              "A data.frame: 1 × 4\n",
              "\\begin{tabular}{llll}\n",
              " sales\\_ymd & customer\\_id & product\\_cd & amount\\\\\n",
              " <int> & <chr> & <chr> & <int>\\\\\n",
              "\\hline\n",
              "\t 20180911 & CS018205000001 & P071401005 & 1100\\\\\n",
              "\\end{tabular}\n"
            ],
            "text/markdown": [
              "\n",
              "A data.frame: 1 × 4\n",
              "\n",
              "| sales_ymd &lt;int&gt; | customer_id &lt;chr&gt; | product_cd &lt;chr&gt; | amount &lt;int&gt; |\n",
              "|---|---|---|---|\n",
              "| 20180911 | CS018205000001 | P071401005 | 1100 |\n",
              "\n"
            ],
            "text/plain": [
              "  sales_ymd customer_id    product_cd amount\n",
              "1 20180911  CS018205000001 P071401005 1100  "
            ]
          },
          "metadata": {},
          "output_type": "display_data"
        }
      ],
      "source": [
        "df_receipt[c(\"sales_ymd\", \"customer_id\", \"product_cd\", \"amount\")] %>%\n",
        "    filter(customer_id == \"CS018205000001\" & between(amount, 1000, 2000))"
      ]
    },
    {
      "cell_type": "markdown",
      "metadata": {
        "id": "n5O6dArpBJiZ"
      },
      "source": [
        "---\n",
        "> R-008: 영수증 내역 데이터(df_receipt)에서 판매일(sales_ymd), 고객 ID(customer_id), 상품 코드(product_cd), 판매 금액(amount)의 순서로 열을 지정하고, 아래 조건을 모두 만족하는 데이터를 추출하라.\n",
        "> - 고객 ID(customer_id)가 \"CS018205000001\"\n",
        "> - 상품코드(product_cd)가 \"P071401019\" 이외"
      ]
    },
    {
      "cell_type": "code",
      "execution_count": null,
      "metadata": {
        "id": "YGT4UWGKBJiZ",
        "outputId": "1916337c-6d91-4c28-8048-43ee4fd153db"
      },
      "outputs": [
        {
          "data": {
            "text/html": [
              "<table class=\"dataframe\">\n",
              "<caption>A data.frame: 12 × 4</caption>\n",
              "<thead>\n",
              "\t<tr><th scope=col>sales_ymd</th><th scope=col>customer_id</th><th scope=col>product_cd</th><th scope=col>amount</th></tr>\n",
              "\t<tr><th scope=col>&lt;int&gt;</th><th scope=col>&lt;chr&gt;</th><th scope=col>&lt;chr&gt;</th><th scope=col>&lt;int&gt;</th></tr>\n",
              "</thead>\n",
              "<tbody>\n",
              "\t<tr><td>20180911</td><td>CS018205000001</td><td>P071401012</td><td>2200</td></tr>\n",
              "\t<tr><td>20180414</td><td>CS018205000001</td><td>P060104007</td><td> 600</td></tr>\n",
              "\t<tr><td>20170614</td><td>CS018205000001</td><td>P050206001</td><td> 990</td></tr>\n",
              "\t<tr><td>20170614</td><td>CS018205000001</td><td>P060702015</td><td> 108</td></tr>\n",
              "\t<tr><td>20190216</td><td>CS018205000001</td><td>P071005024</td><td> 102</td></tr>\n",
              "\t<tr><td>20180414</td><td>CS018205000001</td><td>P071101002</td><td> 278</td></tr>\n",
              "\t<tr><td>20190226</td><td>CS018205000001</td><td>P070902035</td><td> 168</td></tr>\n",
              "\t<tr><td>20190924</td><td>CS018205000001</td><td>P060805001</td><td> 495</td></tr>\n",
              "\t<tr><td>20190226</td><td>CS018205000001</td><td>P071401020</td><td>2200</td></tr>\n",
              "\t<tr><td>20180911</td><td>CS018205000001</td><td>P071401005</td><td>1100</td></tr>\n",
              "\t<tr><td>20190216</td><td>CS018205000001</td><td>P040101002</td><td> 218</td></tr>\n",
              "\t<tr><td>20190924</td><td>CS018205000001</td><td>P091503001</td><td> 280</td></tr>\n",
              "</tbody>\n",
              "</table>\n"
            ],
            "text/latex": [
              "A data.frame: 12 × 4\n",
              "\\begin{tabular}{llll}\n",
              " sales\\_ymd & customer\\_id & product\\_cd & amount\\\\\n",
              " <int> & <chr> & <chr> & <int>\\\\\n",
              "\\hline\n",
              "\t 20180911 & CS018205000001 & P071401012 & 2200\\\\\n",
              "\t 20180414 & CS018205000001 & P060104007 &  600\\\\\n",
              "\t 20170614 & CS018205000001 & P050206001 &  990\\\\\n",
              "\t 20170614 & CS018205000001 & P060702015 &  108\\\\\n",
              "\t 20190216 & CS018205000001 & P071005024 &  102\\\\\n",
              "\t 20180414 & CS018205000001 & P071101002 &  278\\\\\n",
              "\t 20190226 & CS018205000001 & P070902035 &  168\\\\\n",
              "\t 20190924 & CS018205000001 & P060805001 &  495\\\\\n",
              "\t 20190226 & CS018205000001 & P071401020 & 2200\\\\\n",
              "\t 20180911 & CS018205000001 & P071401005 & 1100\\\\\n",
              "\t 20190216 & CS018205000001 & P040101002 &  218\\\\\n",
              "\t 20190924 & CS018205000001 & P091503001 &  280\\\\\n",
              "\\end{tabular}\n"
            ],
            "text/markdown": [
              "\n",
              "A data.frame: 12 × 4\n",
              "\n",
              "| sales_ymd &lt;int&gt; | customer_id &lt;chr&gt; | product_cd &lt;chr&gt; | amount &lt;int&gt; |\n",
              "|---|---|---|---|\n",
              "| 20180911 | CS018205000001 | P071401012 | 2200 |\n",
              "| 20180414 | CS018205000001 | P060104007 |  600 |\n",
              "| 20170614 | CS018205000001 | P050206001 |  990 |\n",
              "| 20170614 | CS018205000001 | P060702015 |  108 |\n",
              "| 20190216 | CS018205000001 | P071005024 |  102 |\n",
              "| 20180414 | CS018205000001 | P071101002 |  278 |\n",
              "| 20190226 | CS018205000001 | P070902035 |  168 |\n",
              "| 20190924 | CS018205000001 | P060805001 |  495 |\n",
              "| 20190226 | CS018205000001 | P071401020 | 2200 |\n",
              "| 20180911 | CS018205000001 | P071401005 | 1100 |\n",
              "| 20190216 | CS018205000001 | P040101002 |  218 |\n",
              "| 20190924 | CS018205000001 | P091503001 |  280 |\n",
              "\n"
            ],
            "text/plain": [
              "   sales_ymd customer_id    product_cd amount\n",
              "1  20180911  CS018205000001 P071401012 2200  \n",
              "2  20180414  CS018205000001 P060104007  600  \n",
              "3  20170614  CS018205000001 P050206001  990  \n",
              "4  20170614  CS018205000001 P060702015  108  \n",
              "5  20190216  CS018205000001 P071005024  102  \n",
              "6  20180414  CS018205000001 P071101002  278  \n",
              "7  20190226  CS018205000001 P070902035  168  \n",
              "8  20190924  CS018205000001 P060805001  495  \n",
              "9  20190226  CS018205000001 P071401020 2200  \n",
              "10 20180911  CS018205000001 P071401005 1100  \n",
              "11 20190216  CS018205000001 P040101002  218  \n",
              "12 20190924  CS018205000001 P091503001  280  "
            ]
          },
          "metadata": {},
          "output_type": "display_data"
        }
      ],
      "source": [
        "df_receipt[c(\"sales_ymd\", \"customer_id\", \"product_cd\", \"amount\")] %>%\n",
        "    filter(customer_id == \"CS018205000001\" &\n",
        "           product_cd != \"P071401019\")"
      ]
    },
    {
      "cell_type": "markdown",
      "metadata": {
        "id": "X-EK-TzeBJiZ"
      },
      "source": [
        "---\n",
        "> R-009: 다음 처리에서 출력 결과를 바꾸지 않고 OR을 AND로 다시 작성하시오.\n",
        "\n",
        "`df_store %>% filter(!(prefecture_cd == \"13\" | floor_area > 900))`"
      ]
    },
    {
      "cell_type": "code",
      "execution_count": null,
      "metadata": {
        "id": "Es5sUWyJBJiZ",
        "outputId": "9e1c8c16-8076-4df0-f389-8500d2166fa3"
      },
      "outputs": [
        {
          "data": {
            "text/html": [
              "<table class=\"dataframe\">\n",
              "<caption>A data.frame: 3 × 10</caption>\n",
              "<thead>\n",
              "\t<tr><th scope=col>store_cd</th><th scope=col>store_name</th><th scope=col>prefecture_cd</th><th scope=col>prefecture</th><th scope=col>address</th><th scope=col>address_kana</th><th scope=col>tel_no</th><th scope=col>longitude</th><th scope=col>latitude</th><th scope=col>floor_area</th></tr>\n",
              "\t<tr><th scope=col>&lt;chr&gt;</th><th scope=col>&lt;chr&gt;</th><th scope=col>&lt;chr&gt;</th><th scope=col>&lt;chr&gt;</th><th scope=col>&lt;chr&gt;</th><th scope=col>&lt;chr&gt;</th><th scope=col>&lt;chr&gt;</th><th scope=col>&lt;dbl&gt;</th><th scope=col>&lt;dbl&gt;</th><th scope=col>&lt;dbl&gt;</th></tr>\n",
              "</thead>\n",
              "<tbody>\n",
              "\t<tr><td>S14046</td><td>北山田店  </td><td>14</td><td>神奈川県</td><td>神奈川県横浜市都筑区北山田一丁目  </td><td>カナガワケンヨコハマシツヅキクキタヤマタイッチョウメ        </td><td>045-123-4049</td><td>139.5916</td><td>35.56189</td><td>831</td></tr>\n",
              "\t<tr><td>S14011</td><td>日吉本町店</td><td>14</td><td>神奈川県</td><td>神奈川県横浜市港北区日吉本町四丁目</td><td>カナガワケンヨコハマシコウホククヒヨシホンチョウヨンチョウメ</td><td>045-123-4033</td><td>139.6316</td><td>35.54655</td><td>890</td></tr>\n",
              "\t<tr><td>S12013</td><td>習志野店  </td><td>12</td><td>千葉県  </td><td>千葉県習志野市芝園一丁目          </td><td>チバケンナラシノシシバゾノイッチョウメ                      </td><td>047-123-4002</td><td>140.0220</td><td>35.66122</td><td>808</td></tr>\n",
              "</tbody>\n",
              "</table>\n"
            ],
            "text/latex": [
              "A data.frame: 3 × 10\n",
              "\\begin{tabular}{llllllllll}\n",
              " store\\_cd & store\\_name & prefecture\\_cd & prefecture & address & address\\_kana & tel\\_no & longitude & latitude & floor\\_area\\\\\n",
              " <chr> & <chr> & <chr> & <chr> & <chr> & <chr> & <chr> & <dbl> & <dbl> & <dbl>\\\\\n",
              "\\hline\n",
              "\t S14046 & 北山田店   & 14 & 神奈川県 & 神奈川県横浜市都筑区北山田一丁目   & カナガワケンヨコハマシツヅキクキタヤマタイッチョウメ         & 045-123-4049 & 139.5916 & 35.56189 & 831\\\\\n",
              "\t S14011 & 日吉本町店 & 14 & 神奈川県 & 神奈川県横浜市港北区日吉本町四丁目 & カナガワケンヨコハマシコウホククヒヨシホンチョウヨンチョウメ & 045-123-4033 & 139.6316 & 35.54655 & 890\\\\\n",
              "\t S12013 & 習志野店   & 12 & 千葉県   & 千葉県習志野市芝園一丁目           & チバケンナラシノシシバゾノイッチョウメ                       & 047-123-4002 & 140.0220 & 35.66122 & 808\\\\\n",
              "\\end{tabular}\n"
            ],
            "text/markdown": [
              "\n",
              "A data.frame: 3 × 10\n",
              "\n",
              "| store_cd &lt;chr&gt; | store_name &lt;chr&gt; | prefecture_cd &lt;chr&gt; | prefecture &lt;chr&gt; | address &lt;chr&gt; | address_kana &lt;chr&gt; | tel_no &lt;chr&gt; | longitude &lt;dbl&gt; | latitude &lt;dbl&gt; | floor_area &lt;dbl&gt; |\n",
              "|---|---|---|---|---|---|---|---|---|---|\n",
              "| S14046 | 北山田店   | 14 | 神奈川県 | 神奈川県横浜市都筑区北山田一丁目   | カナガワケンヨコハマシツヅキクキタヤマタイッチョウメ         | 045-123-4049 | 139.5916 | 35.56189 | 831 |\n",
              "| S14011 | 日吉本町店 | 14 | 神奈川県 | 神奈川県横浜市港北区日吉本町四丁目 | カナガワケンヨコハマシコウホククヒヨシホンチョウヨンチョウメ | 045-123-4033 | 139.6316 | 35.54655 | 890 |\n",
              "| S12013 | 習志野店   | 12 | 千葉県   | 千葉県習志野市芝園一丁目           | チバケンナラシノシシバゾノイッチョウメ                       | 047-123-4002 | 140.0220 | 35.66122 | 808 |\n",
              "\n"
            ],
            "text/plain": [
              "  store_cd store_name prefecture_cd prefecture\n",
              "1 S14046   北山田店   14            神奈川県  \n",
              "2 S14011   日吉本町店 14            神奈川県  \n",
              "3 S12013   習志野店   12            千葉県    \n",
              "  address                           \n",
              "1 神奈川県横浜市都筑区北山田一丁目  \n",
              "2 神奈川県横浜市港北区日吉本町四丁目\n",
              "3 千葉県習志野市芝園一丁目          \n",
              "  address_kana                                                 tel_no      \n",
              "1 カナガワケンヨコハマシツヅキクキタヤマタイッチョウメ         045-123-4049\n",
              "2 カナガワケンヨコハマシコウホククヒヨシホンチョウヨンチョウメ 045-123-4033\n",
              "3 チバケンナラシノシシバゾノイッチョウメ                       047-123-4002\n",
              "  longitude latitude floor_area\n",
              "1 139.5916  35.56189 831       \n",
              "2 139.6316  35.54655 890       \n",
              "3 140.0220  35.66122 808       "
            ]
          },
          "metadata": {},
          "output_type": "display_data"
        }
      ],
      "source": [
        "df_store %>% filter(prefecture_cd != \"13\" & floor_area <= 900)"
      ]
    },
    {
      "cell_type": "markdown",
      "metadata": {
        "id": "daxzIMKEBJiZ"
      },
      "source": [
        "---\n",
        "> R-010: 매장 데이터(df_store)에서 매장 코드(store_cd)가 \"S14\"로 시작하는 항목만 전체 추출하여 10개를 표시하라."
      ]
    },
    {
      "cell_type": "code",
      "execution_count": null,
      "metadata": {
        "id": "5qXWB9vQBJiZ",
        "outputId": "aab1107b-2563-4487-ea8a-66308c1d2062"
      },
      "outputs": [
        {
          "data": {
            "text/html": [
              "<table class=\"dataframe\">\n",
              "<caption>A data.frame: 10 × 10</caption>\n",
              "<thead>\n",
              "\t<tr><th></th><th scope=col>store_cd</th><th scope=col>store_name</th><th scope=col>prefecture_cd</th><th scope=col>prefecture</th><th scope=col>address</th><th scope=col>address_kana</th><th scope=col>tel_no</th><th scope=col>longitude</th><th scope=col>latitude</th><th scope=col>floor_area</th></tr>\n",
              "\t<tr><th></th><th scope=col>&lt;chr&gt;</th><th scope=col>&lt;chr&gt;</th><th scope=col>&lt;chr&gt;</th><th scope=col>&lt;chr&gt;</th><th scope=col>&lt;chr&gt;</th><th scope=col>&lt;chr&gt;</th><th scope=col>&lt;chr&gt;</th><th scope=col>&lt;dbl&gt;</th><th scope=col>&lt;dbl&gt;</th><th scope=col>&lt;dbl&gt;</th></tr>\n",
              "</thead>\n",
              "<tbody>\n",
              "\t<tr><th scope=row>1</th><td>S14010</td><td>菊名店      </td><td>14</td><td>神奈川県</td><td>神奈川県横浜市港北区菊名一丁目        </td><td>カナガワケンヨコハマシコウホククキクナイッチョウメ          </td><td>045-123-4032</td><td>139.6326</td><td>35.50049</td><td>1732</td></tr>\n",
              "\t<tr><th scope=row>2</th><td>S14033</td><td>阿久和店    </td><td>14</td><td>神奈川県</td><td>神奈川県横浜市瀬谷区阿久和西一丁目    </td><td>カナガワケンヨコハマシセヤクアクワニシイッチョウメ          </td><td>045-123-4043</td><td>139.4961</td><td>35.45918</td><td>1495</td></tr>\n",
              "\t<tr><th scope=row>3</th><td>S14036</td><td>相模原中央店</td><td>14</td><td>神奈川県</td><td>神奈川県相模原市中央二丁目            </td><td>カナガワケンサガミハラシチュウオウニチョウメ                </td><td>042-123-4045</td><td>139.3716</td><td>35.57327</td><td>1679</td></tr>\n",
              "\t<tr><th scope=row>4</th><td>S14040</td><td>長津田店    </td><td>14</td><td>神奈川県</td><td>神奈川県横浜市緑区長津田みなみ台五丁目</td><td>カナガワケンヨコハマシミドリクナガツタミナミダイゴチョウメ  </td><td>045-123-4046</td><td>139.4994</td><td>35.52398</td><td>1548</td></tr>\n",
              "\t<tr><th scope=row>5</th><td>S14050</td><td>阿久和西店  </td><td>14</td><td>神奈川県</td><td>神奈川県横浜市瀬谷区阿久和西一丁目    </td><td>カナガワケンヨコハマシセヤクアクワニシイッチョウメ          </td><td>045-123-4053</td><td>139.4961</td><td>35.45918</td><td>1830</td></tr>\n",
              "\t<tr><th scope=row>6</th><td>S14028</td><td>二ツ橋店    </td><td>14</td><td>神奈川県</td><td>神奈川県横浜市瀬谷区二ツ橋町          </td><td>カナガワケンヨコハマシセヤクフタツバシチョウ                </td><td>045-123-4042</td><td>139.4963</td><td>35.46304</td><td>1574</td></tr>\n",
              "\t<tr><th scope=row>7</th><td>S14012</td><td>本牧和田店  </td><td>14</td><td>神奈川県</td><td>神奈川県横浜市中区本牧和田            </td><td>カナガワケンヨコハマシナカクホンモクワダ                    </td><td>045-123-4034</td><td>139.6582</td><td>35.42156</td><td>1341</td></tr>\n",
              "\t<tr><th scope=row>8</th><td>S14046</td><td>北山田店    </td><td>14</td><td>神奈川県</td><td>神奈川県横浜市都筑区北山田一丁目      </td><td>カナガワケンヨコハマシツヅキクキタヤマタイッチョウメ        </td><td>045-123-4049</td><td>139.5916</td><td>35.56189</td><td> 831</td></tr>\n",
              "\t<tr><th scope=row>9</th><td>S14022</td><td>逗子店      </td><td>14</td><td>神奈川県</td><td>神奈川県逗子市逗子一丁目              </td><td>カナガワケンズシシズシイッチョウメ                          </td><td>046-123-4036</td><td>139.5789</td><td>35.29642</td><td>1838</td></tr>\n",
              "\t<tr><th scope=row>10</th><td>S14011</td><td>日吉本町店  </td><td>14</td><td>神奈川県</td><td>神奈川県横浜市港北区日吉本町四丁目    </td><td>カナガワケンヨコハマシコウホククヒヨシホンチョウヨンチョウメ</td><td>045-123-4033</td><td>139.6316</td><td>35.54655</td><td> 890</td></tr>\n",
              "</tbody>\n",
              "</table>\n"
            ],
            "text/latex": [
              "A data.frame: 10 × 10\n",
              "\\begin{tabular}{r|llllllllll}\n",
              "  & store\\_cd & store\\_name & prefecture\\_cd & prefecture & address & address\\_kana & tel\\_no & longitude & latitude & floor\\_area\\\\\n",
              "  & <chr> & <chr> & <chr> & <chr> & <chr> & <chr> & <chr> & <dbl> & <dbl> & <dbl>\\\\\n",
              "\\hline\n",
              "\t1 & S14010 & 菊名店       & 14 & 神奈川県 & 神奈川県横浜市港北区菊名一丁目         & カナガワケンヨコハマシコウホククキクナイッチョウメ           & 045-123-4032 & 139.6326 & 35.50049 & 1732\\\\\n",
              "\t2 & S14033 & 阿久和店     & 14 & 神奈川県 & 神奈川県横浜市瀬谷区阿久和西一丁目     & カナガワケンヨコハマシセヤクアクワニシイッチョウメ           & 045-123-4043 & 139.4961 & 35.45918 & 1495\\\\\n",
              "\t3 & S14036 & 相模原中央店 & 14 & 神奈川県 & 神奈川県相模原市中央二丁目             & カナガワケンサガミハラシチュウオウニチョウメ                 & 042-123-4045 & 139.3716 & 35.57327 & 1679\\\\\n",
              "\t4 & S14040 & 長津田店     & 14 & 神奈川県 & 神奈川県横浜市緑区長津田みなみ台五丁目 & カナガワケンヨコハマシミドリクナガツタミナミダイゴチョウメ   & 045-123-4046 & 139.4994 & 35.52398 & 1548\\\\\n",
              "\t5 & S14050 & 阿久和西店   & 14 & 神奈川県 & 神奈川県横浜市瀬谷区阿久和西一丁目     & カナガワケンヨコハマシセヤクアクワニシイッチョウメ           & 045-123-4053 & 139.4961 & 35.45918 & 1830\\\\\n",
              "\t6 & S14028 & 二ツ橋店     & 14 & 神奈川県 & 神奈川県横浜市瀬谷区二ツ橋町           & カナガワケンヨコハマシセヤクフタツバシチョウ                 & 045-123-4042 & 139.4963 & 35.46304 & 1574\\\\\n",
              "\t7 & S14012 & 本牧和田店   & 14 & 神奈川県 & 神奈川県横浜市中区本牧和田             & カナガワケンヨコハマシナカクホンモクワダ                     & 045-123-4034 & 139.6582 & 35.42156 & 1341\\\\\n",
              "\t8 & S14046 & 北山田店     & 14 & 神奈川県 & 神奈川県横浜市都筑区北山田一丁目       & カナガワケンヨコハマシツヅキクキタヤマタイッチョウメ         & 045-123-4049 & 139.5916 & 35.56189 &  831\\\\\n",
              "\t9 & S14022 & 逗子店       & 14 & 神奈川県 & 神奈川県逗子市逗子一丁目               & カナガワケンズシシズシイッチョウメ                           & 046-123-4036 & 139.5789 & 35.29642 & 1838\\\\\n",
              "\t10 & S14011 & 日吉本町店   & 14 & 神奈川県 & 神奈川県横浜市港北区日吉本町四丁目     & カナガワケンヨコハマシコウホククヒヨシホンチョウヨンチョウメ & 045-123-4033 & 139.6316 & 35.54655 &  890\\\\\n",
              "\\end{tabular}\n"
            ],
            "text/markdown": [
              "\n",
              "A data.frame: 10 × 10\n",
              "\n",
              "| <!--/--> | store_cd &lt;chr&gt; | store_name &lt;chr&gt; | prefecture_cd &lt;chr&gt; | prefecture &lt;chr&gt; | address &lt;chr&gt; | address_kana &lt;chr&gt; | tel_no &lt;chr&gt; | longitude &lt;dbl&gt; | latitude &lt;dbl&gt; | floor_area &lt;dbl&gt; |\n",
              "|---|---|---|---|---|---|---|---|---|---|---|\n",
              "| 1 | S14010 | 菊名店       | 14 | 神奈川県 | 神奈川県横浜市港北区菊名一丁目         | カナガワケンヨコハマシコウホククキクナイッチョウメ           | 045-123-4032 | 139.6326 | 35.50049 | 1732 |\n",
              "| 2 | S14033 | 阿久和店     | 14 | 神奈川県 | 神奈川県横浜市瀬谷区阿久和西一丁目     | カナガワケンヨコハマシセヤクアクワニシイッチョウメ           | 045-123-4043 | 139.4961 | 35.45918 | 1495 |\n",
              "| 3 | S14036 | 相模原中央店 | 14 | 神奈川県 | 神奈川県相模原市中央二丁目             | カナガワケンサガミハラシチュウオウニチョウメ                 | 042-123-4045 | 139.3716 | 35.57327 | 1679 |\n",
              "| 4 | S14040 | 長津田店     | 14 | 神奈川県 | 神奈川県横浜市緑区長津田みなみ台五丁目 | カナガワケンヨコハマシミドリクナガツタミナミダイゴチョウメ   | 045-123-4046 | 139.4994 | 35.52398 | 1548 |\n",
              "| 5 | S14050 | 阿久和西店   | 14 | 神奈川県 | 神奈川県横浜市瀬谷区阿久和西一丁目     | カナガワケンヨコハマシセヤクアクワニシイッチョウメ           | 045-123-4053 | 139.4961 | 35.45918 | 1830 |\n",
              "| 6 | S14028 | 二ツ橋店     | 14 | 神奈川県 | 神奈川県横浜市瀬谷区二ツ橋町           | カナガワケンヨコハマシセヤクフタツバシチョウ                 | 045-123-4042 | 139.4963 | 35.46304 | 1574 |\n",
              "| 7 | S14012 | 本牧和田店   | 14 | 神奈川県 | 神奈川県横浜市中区本牧和田             | カナガワケンヨコハマシナカクホンモクワダ                     | 045-123-4034 | 139.6582 | 35.42156 | 1341 |\n",
              "| 8 | S14046 | 北山田店     | 14 | 神奈川県 | 神奈川県横浜市都筑区北山田一丁目       | カナガワケンヨコハマシツヅキクキタヤマタイッチョウメ         | 045-123-4049 | 139.5916 | 35.56189 |  831 |\n",
              "| 9 | S14022 | 逗子店       | 14 | 神奈川県 | 神奈川県逗子市逗子一丁目               | カナガワケンズシシズシイッチョウメ                           | 046-123-4036 | 139.5789 | 35.29642 | 1838 |\n",
              "| 10 | S14011 | 日吉本町店   | 14 | 神奈川県 | 神奈川県横浜市港北区日吉本町四丁目     | カナガワケンヨコハマシコウホククヒヨシホンチョウヨンチョウメ | 045-123-4033 | 139.6316 | 35.54655 |  890 |\n",
              "\n"
            ],
            "text/plain": [
              "   store_cd store_name   prefecture_cd prefecture\n",
              "1  S14010   菊名店       14            神奈川県  \n",
              "2  S14033   阿久和店     14            神奈川県  \n",
              "3  S14036   相模原中央店 14            神奈川県  \n",
              "4  S14040   長津田店     14            神奈川県  \n",
              "5  S14050   阿久和西店   14            神奈川県  \n",
              "6  S14028   二ツ橋店     14            神奈川県  \n",
              "7  S14012   本牧和田店   14            神奈川県  \n",
              "8  S14046   北山田店     14            神奈川県  \n",
              "9  S14022   逗子店       14            神奈川県  \n",
              "10 S14011   日吉本町店   14            神奈川県  \n",
              "   address                               \n",
              "1  神奈川県横浜市港北区菊名一丁目        \n",
              "2  神奈川県横浜市瀬谷区阿久和西一丁目    \n",
              "3  神奈川県相模原市中央二丁目            \n",
              "4  神奈川県横浜市緑区長津田みなみ台五丁目\n",
              "5  神奈川県横浜市瀬谷区阿久和西一丁目    \n",
              "6  神奈川県横浜市瀬谷区二ツ橋町          \n",
              "7  神奈川県横浜市中区本牧和田            \n",
              "8  神奈川県横浜市都筑区北山田一丁目      \n",
              "9  神奈川県逗子市逗子一丁目              \n",
              "10 神奈川県横浜市港北区日吉本町四丁目    \n",
              "   address_kana                                                 tel_no      \n",
              "1  カナガワケンヨコハマシコウホククキクナイッチョウメ           045-123-4032\n",
              "2  カナガワケンヨコハマシセヤクアクワニシイッチョウメ           045-123-4043\n",
              "3  カナガワケンサガミハラシチュウオウニチョウメ                 042-123-4045\n",
              "4  カナガワケンヨコハマシミドリクナガツタミナミダイゴチョウメ   045-123-4046\n",
              "5  カナガワケンヨコハマシセヤクアクワニシイッチョウメ           045-123-4053\n",
              "6  カナガワケンヨコハマシセヤクフタツバシチョウ                 045-123-4042\n",
              "7  カナガワケンヨコハマシナカクホンモクワダ                     045-123-4034\n",
              "8  カナガワケンヨコハマシツヅキクキタヤマタイッチョウメ         045-123-4049\n",
              "9  カナガワケンズシシズシイッチョウメ                           046-123-4036\n",
              "10 カナガワケンヨコハマシコウホククヒヨシホンチョウヨンチョウメ 045-123-4033\n",
              "   longitude latitude floor_area\n",
              "1  139.6326  35.50049 1732      \n",
              "2  139.4961  35.45918 1495      \n",
              "3  139.3716  35.57327 1679      \n",
              "4  139.4994  35.52398 1548      \n",
              "5  139.4961  35.45918 1830      \n",
              "6  139.4963  35.46304 1574      \n",
              "7  139.6582  35.42156 1341      \n",
              "8  139.5916  35.56189  831      \n",
              "9  139.5789  35.29642 1838      \n",
              "10 139.6316  35.54655  890      "
            ]
          },
          "metadata": {},
          "output_type": "display_data"
        }
      ],
      "source": [
        "head(df_store %>% filter(startsWith(store_cd, \"S14\")), n = 10)"
      ]
    },
    {
      "cell_type": "markdown",
      "metadata": {
        "id": "HvCgmT2pBJiZ"
      },
      "source": [
        "---\n",
        "> R-011: 고객 데이터(df_customer)에서 고객 ID(customer_id)의 끝자리가 1인 항목만 전체 추출하여 10건을 표시하라."
      ]
    },
    {
      "cell_type": "code",
      "execution_count": null,
      "metadata": {
        "id": "zPNZoVBRBJiZ",
        "outputId": "84a369e3-b16d-4c86-9955-5bff4e4ba895"
      },
      "outputs": [
        {
          "data": {
            "text/html": [
              "<table class=\"dataframe\">\n",
              "<caption>A data.frame: 10 × 11</caption>\n",
              "<thead>\n",
              "\t<tr><th></th><th scope=col>customer_id</th><th scope=col>customer_name</th><th scope=col>gender_cd</th><th scope=col>gender</th><th scope=col>birth_day</th><th scope=col>age</th><th scope=col>postal_cd</th><th scope=col>address</th><th scope=col>application_store_cd</th><th scope=col>application_date</th><th scope=col>status_cd</th></tr>\n",
              "\t<tr><th></th><th scope=col>&lt;chr&gt;</th><th scope=col>&lt;chr&gt;</th><th scope=col>&lt;chr&gt;</th><th scope=col>&lt;chr&gt;</th><th scope=col>&lt;date&gt;</th><th scope=col>&lt;int&gt;</th><th scope=col>&lt;chr&gt;</th><th scope=col>&lt;chr&gt;</th><th scope=col>&lt;chr&gt;</th><th scope=col>&lt;chr&gt;</th><th scope=col>&lt;chr&gt;</th></tr>\n",
              "</thead>\n",
              "<tbody>\n",
              "\t<tr><th scope=row>1</th><td>CS037613000071</td><td>六角 雅彦  </td><td>9</td><td>不明</td><td>1952-04-01</td><td>66</td><td>136-0076</td><td>東京都江東区南砂**********          </td><td>S13037</td><td>20150414</td><td>0-00000000-0</td></tr>\n",
              "\t<tr><th scope=row>2</th><td>CS028811000001</td><td>堀井 かおり</td><td>1</td><td>女性</td><td>1933-03-27</td><td>86</td><td>245-0016</td><td>神奈川県横浜市泉区和泉町**********  </td><td>S14028</td><td>20160115</td><td>0-00000000-0</td></tr>\n",
              "\t<tr><th scope=row>3</th><td>CS040412000191</td><td>川井 郁恵  </td><td>1</td><td>女性</td><td>1977-01-05</td><td>42</td><td>226-0021</td><td>神奈川県横浜市緑区北八朔町**********</td><td>S14040</td><td>20151101</td><td>1-20091025-4</td></tr>\n",
              "\t<tr><th scope=row>4</th><td>CS028314000011</td><td>小菅 あおい</td><td>1</td><td>女性</td><td>1983-11-26</td><td>35</td><td>246-0038</td><td>神奈川県横浜市瀬谷区宮沢**********  </td><td>S14028</td><td>20151123</td><td>1-20080426-5</td></tr>\n",
              "\t<tr><th scope=row>5</th><td>CS039212000051</td><td>藤島 恵梨香</td><td>1</td><td>女性</td><td>1997-02-03</td><td>22</td><td>166-0001</td><td>東京都杉並区阿佐谷北**********      </td><td>S13039</td><td>20171121</td><td>1-20100215-4</td></tr>\n",
              "\t<tr><th scope=row>6</th><td>CS015412000111</td><td>松居 奈月  </td><td>1</td><td>女性</td><td>1972-10-04</td><td>46</td><td>136-0071</td><td>東京都江東区亀戸**********          </td><td>S13015</td><td>20150629</td><td>0-00000000-0</td></tr>\n",
              "\t<tr><th scope=row>7</th><td>CS004702000041</td><td>野島 洋    </td><td>0</td><td>男性</td><td>1943-08-24</td><td>75</td><td>176-0022</td><td>東京都練馬区向山**********          </td><td>S13004</td><td>20170218</td><td>0-00000000-0</td></tr>\n",
              "\t<tr><th scope=row>8</th><td>CS041515000001</td><td>栗田 千夏  </td><td>1</td><td>女性</td><td>1967-01-02</td><td>52</td><td>206-0001</td><td>東京都多摩市和田**********          </td><td>S13041</td><td>20160422</td><td>E-20100803-F</td></tr>\n",
              "\t<tr><th scope=row>9</th><td>CS029313000221</td><td>北条 ひかり</td><td>1</td><td>女性</td><td>1987-06-19</td><td>31</td><td>279-0011</td><td>千葉県浦安市美浜**********          </td><td>S12029</td><td>20180810</td><td>0-00000000-0</td></tr>\n",
              "\t<tr><th scope=row>10</th><td>CS034312000071</td><td>望月 奈央  </td><td>1</td><td>女性</td><td>1980-09-20</td><td>38</td><td>213-0026</td><td>神奈川県川崎市高津区久末**********  </td><td>S14034</td><td>20160106</td><td>0-00000000-0</td></tr>\n",
              "</tbody>\n",
              "</table>\n"
            ],
            "text/latex": [
              "A data.frame: 10 × 11\n",
              "\\begin{tabular}{r|lllllllllll}\n",
              "  & customer\\_id & customer\\_name & gender\\_cd & gender & birth\\_day & age & postal\\_cd & address & application\\_store\\_cd & application\\_date & status\\_cd\\\\\n",
              "  & <chr> & <chr> & <chr> & <chr> & <date> & <int> & <chr> & <chr> & <chr> & <chr> & <chr>\\\\\n",
              "\\hline\n",
              "\t1 & CS037613000071 & 六角 雅彦   & 9 & 不明 & 1952-04-01 & 66 & 136-0076 & 東京都江東区南砂**********           & S13037 & 20150414 & 0-00000000-0\\\\\n",
              "\t2 & CS028811000001 & 堀井 かおり & 1 & 女性 & 1933-03-27 & 86 & 245-0016 & 神奈川県横浜市泉区和泉町**********   & S14028 & 20160115 & 0-00000000-0\\\\\n",
              "\t3 & CS040412000191 & 川井 郁恵   & 1 & 女性 & 1977-01-05 & 42 & 226-0021 & 神奈川県横浜市緑区北八朔町********** & S14040 & 20151101 & 1-20091025-4\\\\\n",
              "\t4 & CS028314000011 & 小菅 あおい & 1 & 女性 & 1983-11-26 & 35 & 246-0038 & 神奈川県横浜市瀬谷区宮沢**********   & S14028 & 20151123 & 1-20080426-5\\\\\n",
              "\t5 & CS039212000051 & 藤島 恵梨香 & 1 & 女性 & 1997-02-03 & 22 & 166-0001 & 東京都杉並区阿佐谷北**********       & S13039 & 20171121 & 1-20100215-4\\\\\n",
              "\t6 & CS015412000111 & 松居 奈月   & 1 & 女性 & 1972-10-04 & 46 & 136-0071 & 東京都江東区亀戸**********           & S13015 & 20150629 & 0-00000000-0\\\\\n",
              "\t7 & CS004702000041 & 野島 洋     & 0 & 男性 & 1943-08-24 & 75 & 176-0022 & 東京都練馬区向山**********           & S13004 & 20170218 & 0-00000000-0\\\\\n",
              "\t8 & CS041515000001 & 栗田 千夏   & 1 & 女性 & 1967-01-02 & 52 & 206-0001 & 東京都多摩市和田**********           & S13041 & 20160422 & E-20100803-F\\\\\n",
              "\t9 & CS029313000221 & 北条 ひかり & 1 & 女性 & 1987-06-19 & 31 & 279-0011 & 千葉県浦安市美浜**********           & S12029 & 20180810 & 0-00000000-0\\\\\n",
              "\t10 & CS034312000071 & 望月 奈央   & 1 & 女性 & 1980-09-20 & 38 & 213-0026 & 神奈川県川崎市高津区久末**********   & S14034 & 20160106 & 0-00000000-0\\\\\n",
              "\\end{tabular}\n"
            ],
            "text/markdown": [
              "\n",
              "A data.frame: 10 × 11\n",
              "\n",
              "| <!--/--> | customer_id &lt;chr&gt; | customer_name &lt;chr&gt; | gender_cd &lt;chr&gt; | gender &lt;chr&gt; | birth_day &lt;date&gt; | age &lt;int&gt; | postal_cd &lt;chr&gt; | address &lt;chr&gt; | application_store_cd &lt;chr&gt; | application_date &lt;chr&gt; | status_cd &lt;chr&gt; |\n",
              "|---|---|---|---|---|---|---|---|---|---|---|---|\n",
              "| 1 | CS037613000071 | 六角 雅彦   | 9 | 不明 | 1952-04-01 | 66 | 136-0076 | 東京都江東区南砂**********           | S13037 | 20150414 | 0-00000000-0 |\n",
              "| 2 | CS028811000001 | 堀井 かおり | 1 | 女性 | 1933-03-27 | 86 | 245-0016 | 神奈川県横浜市泉区和泉町**********   | S14028 | 20160115 | 0-00000000-0 |\n",
              "| 3 | CS040412000191 | 川井 郁恵   | 1 | 女性 | 1977-01-05 | 42 | 226-0021 | 神奈川県横浜市緑区北八朔町********** | S14040 | 20151101 | 1-20091025-4 |\n",
              "| 4 | CS028314000011 | 小菅 あおい | 1 | 女性 | 1983-11-26 | 35 | 246-0038 | 神奈川県横浜市瀬谷区宮沢**********   | S14028 | 20151123 | 1-20080426-5 |\n",
              "| 5 | CS039212000051 | 藤島 恵梨香 | 1 | 女性 | 1997-02-03 | 22 | 166-0001 | 東京都杉並区阿佐谷北**********       | S13039 | 20171121 | 1-20100215-4 |\n",
              "| 6 | CS015412000111 | 松居 奈月   | 1 | 女性 | 1972-10-04 | 46 | 136-0071 | 東京都江東区亀戸**********           | S13015 | 20150629 | 0-00000000-0 |\n",
              "| 7 | CS004702000041 | 野島 洋     | 0 | 男性 | 1943-08-24 | 75 | 176-0022 | 東京都練馬区向山**********           | S13004 | 20170218 | 0-00000000-0 |\n",
              "| 8 | CS041515000001 | 栗田 千夏   | 1 | 女性 | 1967-01-02 | 52 | 206-0001 | 東京都多摩市和田**********           | S13041 | 20160422 | E-20100803-F |\n",
              "| 9 | CS029313000221 | 北条 ひかり | 1 | 女性 | 1987-06-19 | 31 | 279-0011 | 千葉県浦安市美浜**********           | S12029 | 20180810 | 0-00000000-0 |\n",
              "| 10 | CS034312000071 | 望月 奈央   | 1 | 女性 | 1980-09-20 | 38 | 213-0026 | 神奈川県川崎市高津区久末**********   | S14034 | 20160106 | 0-00000000-0 |\n",
              "\n"
            ],
            "text/plain": [
              "   customer_id    customer_name gender_cd gender birth_day  age postal_cd\n",
              "1  CS037613000071 六角 雅彦     9         不明   1952-04-01 66  136-0076 \n",
              "2  CS028811000001 堀井 かおり   1         女性   1933-03-27 86  245-0016 \n",
              "3  CS040412000191 川井 郁恵     1         女性   1977-01-05 42  226-0021 \n",
              "4  CS028314000011 小菅 あおい   1         女性   1983-11-26 35  246-0038 \n",
              "5  CS039212000051 藤島 恵梨香   1         女性   1997-02-03 22  166-0001 \n",
              "6  CS015412000111 松居 奈月     1         女性   1972-10-04 46  136-0071 \n",
              "7  CS004702000041 野島 洋       0         男性   1943-08-24 75  176-0022 \n",
              "8  CS041515000001 栗田 千夏     1         女性   1967-01-02 52  206-0001 \n",
              "9  CS029313000221 北条 ひかり   1         女性   1987-06-19 31  279-0011 \n",
              "10 CS034312000071 望月 奈央     1         女性   1980-09-20 38  213-0026 \n",
              "   address                              application_store_cd application_date\n",
              "1  東京都江東区南砂**********           S13037               20150414        \n",
              "2  神奈川県横浜市泉区和泉町**********   S14028               20160115        \n",
              "3  神奈川県横浜市緑区北八朔町********** S14040               20151101        \n",
              "4  神奈川県横浜市瀬谷区宮沢**********   S14028               20151123        \n",
              "5  東京都杉並区阿佐谷北**********       S13039               20171121        \n",
              "6  東京都江東区亀戸**********           S13015               20150629        \n",
              "7  東京都練馬区向山**********           S13004               20170218        \n",
              "8  東京都多摩市和田**********           S13041               20160422        \n",
              "9  千葉県浦安市美浜**********           S12029               20180810        \n",
              "10 神奈川県川崎市高津区久末**********   S14034               20160106        \n",
              "   status_cd   \n",
              "1  0-00000000-0\n",
              "2  0-00000000-0\n",
              "3  1-20091025-4\n",
              "4  1-20080426-5\n",
              "5  1-20100215-4\n",
              "6  0-00000000-0\n",
              "7  0-00000000-0\n",
              "8  E-20100803-F\n",
              "9  0-00000000-0\n",
              "10 0-00000000-0"
            ]
          },
          "metadata": {},
          "output_type": "display_data"
        }
      ],
      "source": [
        "head(df_customer %>% filter(endsWith(customer_id, \"1\")), n = 10)"
      ]
    },
    {
      "cell_type": "markdown",
      "metadata": {
        "id": "tGRsB9PdBJia"
      },
      "source": [
        "---\n",
        "> R-012: 점포 데이터(df_store)에서 주소(address)에 '요코하마시'가 포함된 항목만 모두 표시한다."
      ]
    },
    {
      "cell_type": "code",
      "execution_count": null,
      "metadata": {
        "id": "DQ0Vm93dBJia",
        "outputId": "b886d9bf-8ca7-4328-e1ec-03e551d3b1cc"
      },
      "outputs": [
        {
          "data": {
            "text/html": [
              "<table class=\"dataframe\">\n",
              "<caption>A data.frame: 11 × 10</caption>\n",
              "<thead>\n",
              "\t<tr><th scope=col>store_cd</th><th scope=col>store_name</th><th scope=col>prefecture_cd</th><th scope=col>prefecture</th><th scope=col>address</th><th scope=col>address_kana</th><th scope=col>tel_no</th><th scope=col>longitude</th><th scope=col>latitude</th><th scope=col>floor_area</th></tr>\n",
              "\t<tr><th scope=col>&lt;chr&gt;</th><th scope=col>&lt;chr&gt;</th><th scope=col>&lt;chr&gt;</th><th scope=col>&lt;chr&gt;</th><th scope=col>&lt;chr&gt;</th><th scope=col>&lt;chr&gt;</th><th scope=col>&lt;chr&gt;</th><th scope=col>&lt;dbl&gt;</th><th scope=col>&lt;dbl&gt;</th><th scope=col>&lt;dbl&gt;</th></tr>\n",
              "</thead>\n",
              "<tbody>\n",
              "\t<tr><td>S14010</td><td>菊名店    </td><td>14</td><td>神奈川県</td><td>神奈川県横浜市港北区菊名一丁目        </td><td>カナガワケンヨコハマシコウホククキクナイッチョウメ          </td><td>045-123-4032</td><td>139.6326</td><td>35.50049</td><td>1732</td></tr>\n",
              "\t<tr><td>S14033</td><td>阿久和店  </td><td>14</td><td>神奈川県</td><td>神奈川県横浜市瀬谷区阿久和西一丁目    </td><td>カナガワケンヨコハマシセヤクアクワニシイッチョウメ          </td><td>045-123-4043</td><td>139.4961</td><td>35.45918</td><td>1495</td></tr>\n",
              "\t<tr><td>S14040</td><td>長津田店  </td><td>14</td><td>神奈川県</td><td>神奈川県横浜市緑区長津田みなみ台五丁目</td><td>カナガワケンヨコハマシミドリクナガツタミナミダイゴチョウメ  </td><td>045-123-4046</td><td>139.4994</td><td>35.52398</td><td>1548</td></tr>\n",
              "\t<tr><td>S14050</td><td>阿久和西店</td><td>14</td><td>神奈川県</td><td>神奈川県横浜市瀬谷区阿久和西一丁目    </td><td>カナガワケンヨコハマシセヤクアクワニシイッチョウメ          </td><td>045-123-4053</td><td>139.4961</td><td>35.45918</td><td>1830</td></tr>\n",
              "\t<tr><td>S14028</td><td>二ツ橋店  </td><td>14</td><td>神奈川県</td><td>神奈川県横浜市瀬谷区二ツ橋町          </td><td>カナガワケンヨコハマシセヤクフタツバシチョウ                </td><td>045-123-4042</td><td>139.4963</td><td>35.46304</td><td>1574</td></tr>\n",
              "\t<tr><td>S14012</td><td>本牧和田店</td><td>14</td><td>神奈川県</td><td>神奈川県横浜市中区本牧和田            </td><td>カナガワケンヨコハマシナカクホンモクワダ                    </td><td>045-123-4034</td><td>139.6582</td><td>35.42156</td><td>1341</td></tr>\n",
              "\t<tr><td>S14046</td><td>北山田店  </td><td>14</td><td>神奈川県</td><td>神奈川県横浜市都筑区北山田一丁目      </td><td>カナガワケンヨコハマシツヅキクキタヤマタイッチョウメ        </td><td>045-123-4049</td><td>139.5916</td><td>35.56189</td><td> 831</td></tr>\n",
              "\t<tr><td>S14011</td><td>日吉本町店</td><td>14</td><td>神奈川県</td><td>神奈川県横浜市港北区日吉本町四丁目    </td><td>カナガワケンヨコハマシコウホククヒヨシホンチョウヨンチョウメ</td><td>045-123-4033</td><td>139.6316</td><td>35.54655</td><td> 890</td></tr>\n",
              "\t<tr><td>S14048</td><td>中川中央店</td><td>14</td><td>神奈川県</td><td>神奈川県横浜市都筑区中川中央二丁目    </td><td>カナガワケンヨコハマシツヅキクナカガワチュウオウニチョウメ  </td><td>045-123-4051</td><td>139.5758</td><td>35.54912</td><td>1657</td></tr>\n",
              "\t<tr><td>S14042</td><td>新山下店  </td><td>14</td><td>神奈川県</td><td>神奈川県横浜市中区新山下二丁目        </td><td>カナガワケンヨコハマシナカクシンヤマシタニチョウメ          </td><td>045-123-4047</td><td>139.6593</td><td>35.43894</td><td>1044</td></tr>\n",
              "\t<tr><td>S14006</td><td>葛が谷店  </td><td>14</td><td>神奈川県</td><td>神奈川県横浜市都筑区葛が谷            </td><td>カナガワケンヨコハマシツヅキククズガヤ                      </td><td>045-123-4031</td><td>139.5633</td><td>35.53573</td><td>1886</td></tr>\n",
              "</tbody>\n",
              "</table>\n"
            ],
            "text/latex": [
              "A data.frame: 11 × 10\n",
              "\\begin{tabular}{llllllllll}\n",
              " store\\_cd & store\\_name & prefecture\\_cd & prefecture & address & address\\_kana & tel\\_no & longitude & latitude & floor\\_area\\\\\n",
              " <chr> & <chr> & <chr> & <chr> & <chr> & <chr> & <chr> & <dbl> & <dbl> & <dbl>\\\\\n",
              "\\hline\n",
              "\t S14010 & 菊名店     & 14 & 神奈川県 & 神奈川県横浜市港北区菊名一丁目         & カナガワケンヨコハマシコウホククキクナイッチョウメ           & 045-123-4032 & 139.6326 & 35.50049 & 1732\\\\\n",
              "\t S14033 & 阿久和店   & 14 & 神奈川県 & 神奈川県横浜市瀬谷区阿久和西一丁目     & カナガワケンヨコハマシセヤクアクワニシイッチョウメ           & 045-123-4043 & 139.4961 & 35.45918 & 1495\\\\\n",
              "\t S14040 & 長津田店   & 14 & 神奈川県 & 神奈川県横浜市緑区長津田みなみ台五丁目 & カナガワケンヨコハマシミドリクナガツタミナミダイゴチョウメ   & 045-123-4046 & 139.4994 & 35.52398 & 1548\\\\\n",
              "\t S14050 & 阿久和西店 & 14 & 神奈川県 & 神奈川県横浜市瀬谷区阿久和西一丁目     & カナガワケンヨコハマシセヤクアクワニシイッチョウメ           & 045-123-4053 & 139.4961 & 35.45918 & 1830\\\\\n",
              "\t S14028 & 二ツ橋店   & 14 & 神奈川県 & 神奈川県横浜市瀬谷区二ツ橋町           & カナガワケンヨコハマシセヤクフタツバシチョウ                 & 045-123-4042 & 139.4963 & 35.46304 & 1574\\\\\n",
              "\t S14012 & 本牧和田店 & 14 & 神奈川県 & 神奈川県横浜市中区本牧和田             & カナガワケンヨコハマシナカクホンモクワダ                     & 045-123-4034 & 139.6582 & 35.42156 & 1341\\\\\n",
              "\t S14046 & 北山田店   & 14 & 神奈川県 & 神奈川県横浜市都筑区北山田一丁目       & カナガワケンヨコハマシツヅキクキタヤマタイッチョウメ         & 045-123-4049 & 139.5916 & 35.56189 &  831\\\\\n",
              "\t S14011 & 日吉本町店 & 14 & 神奈川県 & 神奈川県横浜市港北区日吉本町四丁目     & カナガワケンヨコハマシコウホククヒヨシホンチョウヨンチョウメ & 045-123-4033 & 139.6316 & 35.54655 &  890\\\\\n",
              "\t S14048 & 中川中央店 & 14 & 神奈川県 & 神奈川県横浜市都筑区中川中央二丁目     & カナガワケンヨコハマシツヅキクナカガワチュウオウニチョウメ   & 045-123-4051 & 139.5758 & 35.54912 & 1657\\\\\n",
              "\t S14042 & 新山下店   & 14 & 神奈川県 & 神奈川県横浜市中区新山下二丁目         & カナガワケンヨコハマシナカクシンヤマシタニチョウメ           & 045-123-4047 & 139.6593 & 35.43894 & 1044\\\\\n",
              "\t S14006 & 葛が谷店   & 14 & 神奈川県 & 神奈川県横浜市都筑区葛が谷             & カナガワケンヨコハマシツヅキククズガヤ                       & 045-123-4031 & 139.5633 & 35.53573 & 1886\\\\\n",
              "\\end{tabular}\n"
            ],
            "text/markdown": [
              "\n",
              "A data.frame: 11 × 10\n",
              "\n",
              "| store_cd &lt;chr&gt; | store_name &lt;chr&gt; | prefecture_cd &lt;chr&gt; | prefecture &lt;chr&gt; | address &lt;chr&gt; | address_kana &lt;chr&gt; | tel_no &lt;chr&gt; | longitude &lt;dbl&gt; | latitude &lt;dbl&gt; | floor_area &lt;dbl&gt; |\n",
              "|---|---|---|---|---|---|---|---|---|---|\n",
              "| S14010 | 菊名店     | 14 | 神奈川県 | 神奈川県横浜市港北区菊名一丁目         | カナガワケンヨコハマシコウホククキクナイッチョウメ           | 045-123-4032 | 139.6326 | 35.50049 | 1732 |\n",
              "| S14033 | 阿久和店   | 14 | 神奈川県 | 神奈川県横浜市瀬谷区阿久和西一丁目     | カナガワケンヨコハマシセヤクアクワニシイッチョウメ           | 045-123-4043 | 139.4961 | 35.45918 | 1495 |\n",
              "| S14040 | 長津田店   | 14 | 神奈川県 | 神奈川県横浜市緑区長津田みなみ台五丁目 | カナガワケンヨコハマシミドリクナガツタミナミダイゴチョウメ   | 045-123-4046 | 139.4994 | 35.52398 | 1548 |\n",
              "| S14050 | 阿久和西店 | 14 | 神奈川県 | 神奈川県横浜市瀬谷区阿久和西一丁目     | カナガワケンヨコハマシセヤクアクワニシイッチョウメ           | 045-123-4053 | 139.4961 | 35.45918 | 1830 |\n",
              "| S14028 | 二ツ橋店   | 14 | 神奈川県 | 神奈川県横浜市瀬谷区二ツ橋町           | カナガワケンヨコハマシセヤクフタツバシチョウ                 | 045-123-4042 | 139.4963 | 35.46304 | 1574 |\n",
              "| S14012 | 本牧和田店 | 14 | 神奈川県 | 神奈川県横浜市中区本牧和田             | カナガワケンヨコハマシナカクホンモクワダ                     | 045-123-4034 | 139.6582 | 35.42156 | 1341 |\n",
              "| S14046 | 北山田店   | 14 | 神奈川県 | 神奈川県横浜市都筑区北山田一丁目       | カナガワケンヨコハマシツヅキクキタヤマタイッチョウメ         | 045-123-4049 | 139.5916 | 35.56189 |  831 |\n",
              "| S14011 | 日吉本町店 | 14 | 神奈川県 | 神奈川県横浜市港北区日吉本町四丁目     | カナガワケンヨコハマシコウホククヒヨシホンチョウヨンチョウメ | 045-123-4033 | 139.6316 | 35.54655 |  890 |\n",
              "| S14048 | 中川中央店 | 14 | 神奈川県 | 神奈川県横浜市都筑区中川中央二丁目     | カナガワケンヨコハマシツヅキクナカガワチュウオウニチョウメ   | 045-123-4051 | 139.5758 | 35.54912 | 1657 |\n",
              "| S14042 | 新山下店   | 14 | 神奈川県 | 神奈川県横浜市中区新山下二丁目         | カナガワケンヨコハマシナカクシンヤマシタニチョウメ           | 045-123-4047 | 139.6593 | 35.43894 | 1044 |\n",
              "| S14006 | 葛が谷店   | 14 | 神奈川県 | 神奈川県横浜市都筑区葛が谷             | カナガワケンヨコハマシツヅキククズガヤ                       | 045-123-4031 | 139.5633 | 35.53573 | 1886 |\n",
              "\n"
            ],
            "text/plain": [
              "   store_cd store_name prefecture_cd prefecture\n",
              "1  S14010   菊名店     14            神奈川県  \n",
              "2  S14033   阿久和店   14            神奈川県  \n",
              "3  S14040   長津田店   14            神奈川県  \n",
              "4  S14050   阿久和西店 14            神奈川県  \n",
              "5  S14028   二ツ橋店   14            神奈川県  \n",
              "6  S14012   本牧和田店 14            神奈川県  \n",
              "7  S14046   北山田店   14            神奈川県  \n",
              "8  S14011   日吉本町店 14            神奈川県  \n",
              "9  S14048   中川中央店 14            神奈川県  \n",
              "10 S14042   新山下店   14            神奈川県  \n",
              "11 S14006   葛が谷店   14            神奈川県  \n",
              "   address                               \n",
              "1  神奈川県横浜市港北区菊名一丁目        \n",
              "2  神奈川県横浜市瀬谷区阿久和西一丁目    \n",
              "3  神奈川県横浜市緑区長津田みなみ台五丁目\n",
              "4  神奈川県横浜市瀬谷区阿久和西一丁目    \n",
              "5  神奈川県横浜市瀬谷区二ツ橋町          \n",
              "6  神奈川県横浜市中区本牧和田            \n",
              "7  神奈川県横浜市都筑区北山田一丁目      \n",
              "8  神奈川県横浜市港北区日吉本町四丁目    \n",
              "9  神奈川県横浜市都筑区中川中央二丁目    \n",
              "10 神奈川県横浜市中区新山下二丁目        \n",
              "11 神奈川県横浜市都筑区葛が谷            \n",
              "   address_kana                                                 tel_no      \n",
              "1  カナガワケンヨコハマシコウホククキクナイッチョウメ           045-123-4032\n",
              "2  カナガワケンヨコハマシセヤクアクワニシイッチョウメ           045-123-4043\n",
              "3  カナガワケンヨコハマシミドリクナガツタミナミダイゴチョウメ   045-123-4046\n",
              "4  カナガワケンヨコハマシセヤクアクワニシイッチョウメ           045-123-4053\n",
              "5  カナガワケンヨコハマシセヤクフタツバシチョウ                 045-123-4042\n",
              "6  カナガワケンヨコハマシナカクホンモクワダ                     045-123-4034\n",
              "7  カナガワケンヨコハマシツヅキクキタヤマタイッチョウメ         045-123-4049\n",
              "8  カナガワケンヨコハマシコウホククヒヨシホンチョウヨンチョウメ 045-123-4033\n",
              "9  カナガワケンヨコハマシツヅキクナカガワチュウオウニチョウメ   045-123-4051\n",
              "10 カナガワケンヨコハマシナカクシンヤマシタニチョウメ           045-123-4047\n",
              "11 カナガワケンヨコハマシツヅキククズガヤ                       045-123-4031\n",
              "   longitude latitude floor_area\n",
              "1  139.6326  35.50049 1732      \n",
              "2  139.4961  35.45918 1495      \n",
              "3  139.4994  35.52398 1548      \n",
              "4  139.4961  35.45918 1830      \n",
              "5  139.4963  35.46304 1574      \n",
              "6  139.6582  35.42156 1341      \n",
              "7  139.5916  35.56189  831      \n",
              "8  139.6316  35.54655  890      \n",
              "9  139.5758  35.54912 1657      \n",
              "10 139.6593  35.43894 1044      \n",
              "11 139.5633  35.53573 1886      "
            ]
          },
          "metadata": {},
          "output_type": "display_data"
        }
      ],
      "source": [
        "df_store %>% filter(grepl(\"横浜市\", address))"
      ]
    },
    {
      "cell_type": "markdown",
      "metadata": {
        "id": "_gqfsAf_BJia"
      },
      "source": [
        "---\n",
        "> R-013: 고객 데이터(df_customer)에서 상태코드(status_cd)가 알파벳 A~F로 시작하는 데이터를 모두 추출하여 10건을 표시하라."
      ]
    },
    {
      "cell_type": "code",
      "execution_count": null,
      "metadata": {
        "id": "ibhwAr2_BJia",
        "outputId": "55068648-87fc-4d26-dbb0-0d7b9a029d8a"
      },
      "outputs": [
        {
          "data": {
            "text/html": [
              "<table class=\"dataframe\">\n",
              "<caption>A data.frame: 10 × 11</caption>\n",
              "<thead>\n",
              "\t<tr><th></th><th scope=col>customer_id</th><th scope=col>customer_name</th><th scope=col>gender_cd</th><th scope=col>gender</th><th scope=col>birth_day</th><th scope=col>age</th><th scope=col>postal_cd</th><th scope=col>address</th><th scope=col>application_store_cd</th><th scope=col>application_date</th><th scope=col>status_cd</th></tr>\n",
              "\t<tr><th></th><th scope=col>&lt;chr&gt;</th><th scope=col>&lt;chr&gt;</th><th scope=col>&lt;chr&gt;</th><th scope=col>&lt;chr&gt;</th><th scope=col>&lt;date&gt;</th><th scope=col>&lt;int&gt;</th><th scope=col>&lt;chr&gt;</th><th scope=col>&lt;chr&gt;</th><th scope=col>&lt;chr&gt;</th><th scope=col>&lt;chr&gt;</th><th scope=col>&lt;chr&gt;</th></tr>\n",
              "</thead>\n",
              "<tbody>\n",
              "\t<tr><th scope=row>1</th><td>CS031415000172</td><td>宇多田 貴美子</td><td>1</td><td>女性</td><td>1976-10-04</td><td>42</td><td>151-0053</td><td>東京都渋谷区代々木**********          </td><td>S13031</td><td>20150529</td><td>D-20100325-C</td></tr>\n",
              "\t<tr><th scope=row>2</th><td>CS015414000103</td><td>奥野 陽子    </td><td>1</td><td>女性</td><td>1977-08-09</td><td>41</td><td>136-0073</td><td>東京都江東区北砂**********            </td><td>S13015</td><td>20150722</td><td>B-20100609-B</td></tr>\n",
              "\t<tr><th scope=row>3</th><td>CS011215000048</td><td>芦田 沙耶    </td><td>1</td><td>女性</td><td>1992-02-01</td><td>27</td><td>223-0062</td><td>神奈川県横浜市港北区日吉本町**********</td><td>S14011</td><td>20150228</td><td>C-20100421-9</td></tr>\n",
              "\t<tr><th scope=row>4</th><td>CS029415000023</td><td>梅田 里穂    </td><td>1</td><td>女性</td><td>1976-01-17</td><td>43</td><td>279-0043</td><td>千葉県浦安市富士見**********          </td><td>S12029</td><td>20150610</td><td>D-20100918-E</td></tr>\n",
              "\t<tr><th scope=row>5</th><td>CS035415000029</td><td>寺沢 真希    </td><td>9</td><td>不明</td><td>1977-09-27</td><td>41</td><td>158-0096</td><td>東京都世田谷区玉川台**********        </td><td>S13035</td><td>20141220</td><td>F-20101029-F</td></tr>\n",
              "\t<tr><th scope=row>6</th><td>CS031415000106</td><td>宇野 由美子  </td><td>1</td><td>女性</td><td>1970-02-26</td><td>49</td><td>151-0053</td><td>東京都渋谷区代々木**********          </td><td>S13031</td><td>20150201</td><td>F-20100511-E</td></tr>\n",
              "\t<tr><th scope=row>7</th><td>CS029215000025</td><td>石倉 美帆    </td><td>1</td><td>女性</td><td>1993-09-28</td><td>25</td><td>279-0022</td><td>千葉県浦安市今川**********            </td><td>S12029</td><td>20150708</td><td>B-20100820-C</td></tr>\n",
              "\t<tr><th scope=row>8</th><td>CS033605000005</td><td>猪股 雄太    </td><td>0</td><td>男性</td><td>1955-12-05</td><td>63</td><td>246-0031</td><td>神奈川県横浜市瀬谷区瀬谷**********    </td><td>S14033</td><td>20150425</td><td>F-20100917-E</td></tr>\n",
              "\t<tr><th scope=row>9</th><td>CS033415000229</td><td>板垣 菜々美  </td><td>1</td><td>女性</td><td>1977-11-07</td><td>41</td><td>246-0021</td><td>神奈川県横浜市瀬谷区二ツ橋町**********</td><td>S14033</td><td>20150712</td><td>F-20100326-E</td></tr>\n",
              "\t<tr><th scope=row>10</th><td>CS008415000145</td><td>黒谷 麻緒    </td><td>1</td><td>女性</td><td>1977-06-27</td><td>41</td><td>157-0067</td><td>東京都世田谷区喜多見**********        </td><td>S13008</td><td>20150829</td><td>F-20100622-F</td></tr>\n",
              "</tbody>\n",
              "</table>\n"
            ],
            "text/latex": [
              "A data.frame: 10 × 11\n",
              "\\begin{tabular}{r|lllllllllll}\n",
              "  & customer\\_id & customer\\_name & gender\\_cd & gender & birth\\_day & age & postal\\_cd & address & application\\_store\\_cd & application\\_date & status\\_cd\\\\\n",
              "  & <chr> & <chr> & <chr> & <chr> & <date> & <int> & <chr> & <chr> & <chr> & <chr> & <chr>\\\\\n",
              "\\hline\n",
              "\t1 & CS031415000172 & 宇多田 貴美子 & 1 & 女性 & 1976-10-04 & 42 & 151-0053 & 東京都渋谷区代々木**********           & S13031 & 20150529 & D-20100325-C\\\\\n",
              "\t2 & CS015414000103 & 奥野 陽子     & 1 & 女性 & 1977-08-09 & 41 & 136-0073 & 東京都江東区北砂**********             & S13015 & 20150722 & B-20100609-B\\\\\n",
              "\t3 & CS011215000048 & 芦田 沙耶     & 1 & 女性 & 1992-02-01 & 27 & 223-0062 & 神奈川県横浜市港北区日吉本町********** & S14011 & 20150228 & C-20100421-9\\\\\n",
              "\t4 & CS029415000023 & 梅田 里穂     & 1 & 女性 & 1976-01-17 & 43 & 279-0043 & 千葉県浦安市富士見**********           & S12029 & 20150610 & D-20100918-E\\\\\n",
              "\t5 & CS035415000029 & 寺沢 真希     & 9 & 不明 & 1977-09-27 & 41 & 158-0096 & 東京都世田谷区玉川台**********         & S13035 & 20141220 & F-20101029-F\\\\\n",
              "\t6 & CS031415000106 & 宇野 由美子   & 1 & 女性 & 1970-02-26 & 49 & 151-0053 & 東京都渋谷区代々木**********           & S13031 & 20150201 & F-20100511-E\\\\\n",
              "\t7 & CS029215000025 & 石倉 美帆     & 1 & 女性 & 1993-09-28 & 25 & 279-0022 & 千葉県浦安市今川**********             & S12029 & 20150708 & B-20100820-C\\\\\n",
              "\t8 & CS033605000005 & 猪股 雄太     & 0 & 男性 & 1955-12-05 & 63 & 246-0031 & 神奈川県横浜市瀬谷区瀬谷**********     & S14033 & 20150425 & F-20100917-E\\\\\n",
              "\t9 & CS033415000229 & 板垣 菜々美   & 1 & 女性 & 1977-11-07 & 41 & 246-0021 & 神奈川県横浜市瀬谷区二ツ橋町********** & S14033 & 20150712 & F-20100326-E\\\\\n",
              "\t10 & CS008415000145 & 黒谷 麻緒     & 1 & 女性 & 1977-06-27 & 41 & 157-0067 & 東京都世田谷区喜多見**********         & S13008 & 20150829 & F-20100622-F\\\\\n",
              "\\end{tabular}\n"
            ],
            "text/markdown": [
              "\n",
              "A data.frame: 10 × 11\n",
              "\n",
              "| <!--/--> | customer_id &lt;chr&gt; | customer_name &lt;chr&gt; | gender_cd &lt;chr&gt; | gender &lt;chr&gt; | birth_day &lt;date&gt; | age &lt;int&gt; | postal_cd &lt;chr&gt; | address &lt;chr&gt; | application_store_cd &lt;chr&gt; | application_date &lt;chr&gt; | status_cd &lt;chr&gt; |\n",
              "|---|---|---|---|---|---|---|---|---|---|---|---|\n",
              "| 1 | CS031415000172 | 宇多田 貴美子 | 1 | 女性 | 1976-10-04 | 42 | 151-0053 | 東京都渋谷区代々木**********           | S13031 | 20150529 | D-20100325-C |\n",
              "| 2 | CS015414000103 | 奥野 陽子     | 1 | 女性 | 1977-08-09 | 41 | 136-0073 | 東京都江東区北砂**********             | S13015 | 20150722 | B-20100609-B |\n",
              "| 3 | CS011215000048 | 芦田 沙耶     | 1 | 女性 | 1992-02-01 | 27 | 223-0062 | 神奈川県横浜市港北区日吉本町********** | S14011 | 20150228 | C-20100421-9 |\n",
              "| 4 | CS029415000023 | 梅田 里穂     | 1 | 女性 | 1976-01-17 | 43 | 279-0043 | 千葉県浦安市富士見**********           | S12029 | 20150610 | D-20100918-E |\n",
              "| 5 | CS035415000029 | 寺沢 真希     | 9 | 不明 | 1977-09-27 | 41 | 158-0096 | 東京都世田谷区玉川台**********         | S13035 | 20141220 | F-20101029-F |\n",
              "| 6 | CS031415000106 | 宇野 由美子   | 1 | 女性 | 1970-02-26 | 49 | 151-0053 | 東京都渋谷区代々木**********           | S13031 | 20150201 | F-20100511-E |\n",
              "| 7 | CS029215000025 | 石倉 美帆     | 1 | 女性 | 1993-09-28 | 25 | 279-0022 | 千葉県浦安市今川**********             | S12029 | 20150708 | B-20100820-C |\n",
              "| 8 | CS033605000005 | 猪股 雄太     | 0 | 男性 | 1955-12-05 | 63 | 246-0031 | 神奈川県横浜市瀬谷区瀬谷**********     | S14033 | 20150425 | F-20100917-E |\n",
              "| 9 | CS033415000229 | 板垣 菜々美   | 1 | 女性 | 1977-11-07 | 41 | 246-0021 | 神奈川県横浜市瀬谷区二ツ橋町********** | S14033 | 20150712 | F-20100326-E |\n",
              "| 10 | CS008415000145 | 黒谷 麻緒     | 1 | 女性 | 1977-06-27 | 41 | 157-0067 | 東京都世田谷区喜多見**********         | S13008 | 20150829 | F-20100622-F |\n",
              "\n"
            ],
            "text/plain": [
              "   customer_id    customer_name gender_cd gender birth_day  age postal_cd\n",
              "1  CS031415000172 宇多田 貴美子 1         女性   1976-10-04 42  151-0053 \n",
              "2  CS015414000103 奥野 陽子     1         女性   1977-08-09 41  136-0073 \n",
              "3  CS011215000048 芦田 沙耶     1         女性   1992-02-01 27  223-0062 \n",
              "4  CS029415000023 梅田 里穂     1         女性   1976-01-17 43  279-0043 \n",
              "5  CS035415000029 寺沢 真希     9         不明   1977-09-27 41  158-0096 \n",
              "6  CS031415000106 宇野 由美子   1         女性   1970-02-26 49  151-0053 \n",
              "7  CS029215000025 石倉 美帆     1         女性   1993-09-28 25  279-0022 \n",
              "8  CS033605000005 猪股 雄太     0         男性   1955-12-05 63  246-0031 \n",
              "9  CS033415000229 板垣 菜々美   1         女性   1977-11-07 41  246-0021 \n",
              "10 CS008415000145 黒谷 麻緒     1         女性   1977-06-27 41  157-0067 \n",
              "   address                                application_store_cd application_date\n",
              "1  東京都渋谷区代々木**********           S13031               20150529        \n",
              "2  東京都江東区北砂**********             S13015               20150722        \n",
              "3  神奈川県横浜市港北区日吉本町********** S14011               20150228        \n",
              "4  千葉県浦安市富士見**********           S12029               20150610        \n",
              "5  東京都世田谷区玉川台**********         S13035               20141220        \n",
              "6  東京都渋谷区代々木**********           S13031               20150201        \n",
              "7  千葉県浦安市今川**********             S12029               20150708        \n",
              "8  神奈川県横浜市瀬谷区瀬谷**********     S14033               20150425        \n",
              "9  神奈川県横浜市瀬谷区二ツ橋町********** S14033               20150712        \n",
              "10 東京都世田谷区喜多見**********         S13008               20150829        \n",
              "   status_cd   \n",
              "1  D-20100325-C\n",
              "2  B-20100609-B\n",
              "3  C-20100421-9\n",
              "4  D-20100918-E\n",
              "5  F-20101029-F\n",
              "6  F-20100511-E\n",
              "7  B-20100820-C\n",
              "8  F-20100917-E\n",
              "9  F-20100326-E\n",
              "10 F-20100622-F"
            ]
          },
          "metadata": {},
          "output_type": "display_data"
        }
      ],
      "source": [
        "head(df_customer %>% filter(grepl(\"^[A-F]\", status_cd)), n = 10)"
      ]
    },
    {
      "cell_type": "markdown",
      "metadata": {
        "id": "kbk5o1WMBJia"
      },
      "source": [
        "---\n",
        "> R-014: 고객 데이터(df_customer)에서 상태코드(status_cd)의 끝자리가 숫자 1~9로 끝나는 데이터를 모두 추출하여 10건을 표시하라."
      ]
    },
    {
      "cell_type": "code",
      "execution_count": null,
      "metadata": {
        "id": "kq43dJ3CBJia",
        "outputId": "312a6adf-0dd4-45d8-9898-d2d8e59de865"
      },
      "outputs": [
        {
          "data": {
            "text/html": [
              "<table class=\"dataframe\">\n",
              "<caption>A data.frame: 10 × 11</caption>\n",
              "<thead>\n",
              "\t<tr><th></th><th scope=col>customer_id</th><th scope=col>customer_name</th><th scope=col>gender_cd</th><th scope=col>gender</th><th scope=col>birth_day</th><th scope=col>age</th><th scope=col>postal_cd</th><th scope=col>address</th><th scope=col>application_store_cd</th><th scope=col>application_date</th><th scope=col>status_cd</th></tr>\n",
              "\t<tr><th></th><th scope=col>&lt;chr&gt;</th><th scope=col>&lt;chr&gt;</th><th scope=col>&lt;chr&gt;</th><th scope=col>&lt;chr&gt;</th><th scope=col>&lt;date&gt;</th><th scope=col>&lt;int&gt;</th><th scope=col>&lt;chr&gt;</th><th scope=col>&lt;chr&gt;</th><th scope=col>&lt;chr&gt;</th><th scope=col>&lt;chr&gt;</th><th scope=col>&lt;chr&gt;</th></tr>\n",
              "</thead>\n",
              "<tbody>\n",
              "\t<tr><th scope=row>1</th><td>CS001215000145</td><td>田崎 美紀    </td><td>1</td><td>女性</td><td>1995-03-29</td><td>24</td><td>144-0055</td><td>東京都大田区仲六郷**********          </td><td>S13001</td><td>20170605</td><td>6-20090929-2</td></tr>\n",
              "\t<tr><th scope=row>2</th><td>CS033513000180</td><td>安斎 遥      </td><td>1</td><td>女性</td><td>1962-07-11</td><td>56</td><td>241-0823</td><td>神奈川県横浜市旭区善部町**********    </td><td>S14033</td><td>20150728</td><td>6-20080506-5</td></tr>\n",
              "\t<tr><th scope=row>3</th><td>CS011215000048</td><td>芦田 沙耶    </td><td>1</td><td>女性</td><td>1992-02-01</td><td>27</td><td>223-0062</td><td>神奈川県横浜市港北区日吉本町**********</td><td>S14011</td><td>20150228</td><td>C-20100421-9</td></tr>\n",
              "\t<tr><th scope=row>4</th><td>CS040412000191</td><td>川井 郁恵    </td><td>1</td><td>女性</td><td>1977-01-05</td><td>42</td><td>226-0021</td><td>神奈川県横浜市緑区北八朔町**********  </td><td>S14040</td><td>20151101</td><td>1-20091025-4</td></tr>\n",
              "\t<tr><th scope=row>5</th><td>CS009315000023</td><td>皆川 文世    </td><td>1</td><td>女性</td><td>1980-04-15</td><td>38</td><td>154-0012</td><td>東京都世田谷区駒沢**********          </td><td>S13009</td><td>20150319</td><td>5-20080322-1</td></tr>\n",
              "\t<tr><th scope=row>6</th><td>CS015315000033</td><td>福士 璃奈子  </td><td>1</td><td>女性</td><td>1983-03-17</td><td>36</td><td>135-0043</td><td>東京都江東区塩浜**********            </td><td>S13015</td><td>20141024</td><td>4-20080219-3</td></tr>\n",
              "\t<tr><th scope=row>7</th><td>CS023513000066</td><td>神戸 そら    </td><td>1</td><td>女性</td><td>1961-12-17</td><td>57</td><td>210-0005</td><td>神奈川県川崎市川崎区東田町**********  </td><td>S14023</td><td>20150915</td><td>5-20100524-9</td></tr>\n",
              "\t<tr><th scope=row>8</th><td>CS035513000134</td><td>市川 美帆    </td><td>1</td><td>女性</td><td>1960-03-27</td><td>59</td><td>156-0053</td><td>東京都世田谷区桜**********            </td><td>S13035</td><td>20150227</td><td>8-20100711-9</td></tr>\n",
              "\t<tr><th scope=row>9</th><td>CS001515000263</td><td>高松 夏空    </td><td>1</td><td>女性</td><td>1962-11-09</td><td>56</td><td>144-0051</td><td>東京都大田区西蒲田**********          </td><td>S13001</td><td>20160812</td><td>1-20100804-1</td></tr>\n",
              "\t<tr><th scope=row>10</th><td>CS040314000027</td><td>鶴田 きみまろ</td><td>9</td><td>不明</td><td>1986-03-26</td><td>33</td><td>226-0027</td><td>神奈川県横浜市緑区長津田**********    </td><td>S14040</td><td>20150122</td><td>2-20080426-4</td></tr>\n",
              "</tbody>\n",
              "</table>\n"
            ],
            "text/latex": [
              "A data.frame: 10 × 11\n",
              "\\begin{tabular}{r|lllllllllll}\n",
              "  & customer\\_id & customer\\_name & gender\\_cd & gender & birth\\_day & age & postal\\_cd & address & application\\_store\\_cd & application\\_date & status\\_cd\\\\\n",
              "  & <chr> & <chr> & <chr> & <chr> & <date> & <int> & <chr> & <chr> & <chr> & <chr> & <chr>\\\\\n",
              "\\hline\n",
              "\t1 & CS001215000145 & 田崎 美紀     & 1 & 女性 & 1995-03-29 & 24 & 144-0055 & 東京都大田区仲六郷**********           & S13001 & 20170605 & 6-20090929-2\\\\\n",
              "\t2 & CS033513000180 & 安斎 遥       & 1 & 女性 & 1962-07-11 & 56 & 241-0823 & 神奈川県横浜市旭区善部町**********     & S14033 & 20150728 & 6-20080506-5\\\\\n",
              "\t3 & CS011215000048 & 芦田 沙耶     & 1 & 女性 & 1992-02-01 & 27 & 223-0062 & 神奈川県横浜市港北区日吉本町********** & S14011 & 20150228 & C-20100421-9\\\\\n",
              "\t4 & CS040412000191 & 川井 郁恵     & 1 & 女性 & 1977-01-05 & 42 & 226-0021 & 神奈川県横浜市緑区北八朔町**********   & S14040 & 20151101 & 1-20091025-4\\\\\n",
              "\t5 & CS009315000023 & 皆川 文世     & 1 & 女性 & 1980-04-15 & 38 & 154-0012 & 東京都世田谷区駒沢**********           & S13009 & 20150319 & 5-20080322-1\\\\\n",
              "\t6 & CS015315000033 & 福士 璃奈子   & 1 & 女性 & 1983-03-17 & 36 & 135-0043 & 東京都江東区塩浜**********             & S13015 & 20141024 & 4-20080219-3\\\\\n",
              "\t7 & CS023513000066 & 神戸 そら     & 1 & 女性 & 1961-12-17 & 57 & 210-0005 & 神奈川県川崎市川崎区東田町**********   & S14023 & 20150915 & 5-20100524-9\\\\\n",
              "\t8 & CS035513000134 & 市川 美帆     & 1 & 女性 & 1960-03-27 & 59 & 156-0053 & 東京都世田谷区桜**********             & S13035 & 20150227 & 8-20100711-9\\\\\n",
              "\t9 & CS001515000263 & 高松 夏空     & 1 & 女性 & 1962-11-09 & 56 & 144-0051 & 東京都大田区西蒲田**********           & S13001 & 20160812 & 1-20100804-1\\\\\n",
              "\t10 & CS040314000027 & 鶴田 きみまろ & 9 & 不明 & 1986-03-26 & 33 & 226-0027 & 神奈川県横浜市緑区長津田**********     & S14040 & 20150122 & 2-20080426-4\\\\\n",
              "\\end{tabular}\n"
            ],
            "text/markdown": [
              "\n",
              "A data.frame: 10 × 11\n",
              "\n",
              "| <!--/--> | customer_id &lt;chr&gt; | customer_name &lt;chr&gt; | gender_cd &lt;chr&gt; | gender &lt;chr&gt; | birth_day &lt;date&gt; | age &lt;int&gt; | postal_cd &lt;chr&gt; | address &lt;chr&gt; | application_store_cd &lt;chr&gt; | application_date &lt;chr&gt; | status_cd &lt;chr&gt; |\n",
              "|---|---|---|---|---|---|---|---|---|---|---|---|\n",
              "| 1 | CS001215000145 | 田崎 美紀     | 1 | 女性 | 1995-03-29 | 24 | 144-0055 | 東京都大田区仲六郷**********           | S13001 | 20170605 | 6-20090929-2 |\n",
              "| 2 | CS033513000180 | 安斎 遥       | 1 | 女性 | 1962-07-11 | 56 | 241-0823 | 神奈川県横浜市旭区善部町**********     | S14033 | 20150728 | 6-20080506-5 |\n",
              "| 3 | CS011215000048 | 芦田 沙耶     | 1 | 女性 | 1992-02-01 | 27 | 223-0062 | 神奈川県横浜市港北区日吉本町********** | S14011 | 20150228 | C-20100421-9 |\n",
              "| 4 | CS040412000191 | 川井 郁恵     | 1 | 女性 | 1977-01-05 | 42 | 226-0021 | 神奈川県横浜市緑区北八朔町**********   | S14040 | 20151101 | 1-20091025-4 |\n",
              "| 5 | CS009315000023 | 皆川 文世     | 1 | 女性 | 1980-04-15 | 38 | 154-0012 | 東京都世田谷区駒沢**********           | S13009 | 20150319 | 5-20080322-1 |\n",
              "| 6 | CS015315000033 | 福士 璃奈子   | 1 | 女性 | 1983-03-17 | 36 | 135-0043 | 東京都江東区塩浜**********             | S13015 | 20141024 | 4-20080219-3 |\n",
              "| 7 | CS023513000066 | 神戸 そら     | 1 | 女性 | 1961-12-17 | 57 | 210-0005 | 神奈川県川崎市川崎区東田町**********   | S14023 | 20150915 | 5-20100524-9 |\n",
              "| 8 | CS035513000134 | 市川 美帆     | 1 | 女性 | 1960-03-27 | 59 | 156-0053 | 東京都世田谷区桜**********             | S13035 | 20150227 | 8-20100711-9 |\n",
              "| 9 | CS001515000263 | 高松 夏空     | 1 | 女性 | 1962-11-09 | 56 | 144-0051 | 東京都大田区西蒲田**********           | S13001 | 20160812 | 1-20100804-1 |\n",
              "| 10 | CS040314000027 | 鶴田 きみまろ | 9 | 不明 | 1986-03-26 | 33 | 226-0027 | 神奈川県横浜市緑区長津田**********     | S14040 | 20150122 | 2-20080426-4 |\n",
              "\n"
            ],
            "text/plain": [
              "   customer_id    customer_name gender_cd gender birth_day  age postal_cd\n",
              "1  CS001215000145 田崎 美紀     1         女性   1995-03-29 24  144-0055 \n",
              "2  CS033513000180 安斎 遥       1         女性   1962-07-11 56  241-0823 \n",
              "3  CS011215000048 芦田 沙耶     1         女性   1992-02-01 27  223-0062 \n",
              "4  CS040412000191 川井 郁恵     1         女性   1977-01-05 42  226-0021 \n",
              "5  CS009315000023 皆川 文世     1         女性   1980-04-15 38  154-0012 \n",
              "6  CS015315000033 福士 璃奈子   1         女性   1983-03-17 36  135-0043 \n",
              "7  CS023513000066 神戸 そら     1         女性   1961-12-17 57  210-0005 \n",
              "8  CS035513000134 市川 美帆     1         女性   1960-03-27 59  156-0053 \n",
              "9  CS001515000263 高松 夏空     1         女性   1962-11-09 56  144-0051 \n",
              "10 CS040314000027 鶴田 きみまろ 9         不明   1986-03-26 33  226-0027 \n",
              "   address                                application_store_cd application_date\n",
              "1  東京都大田区仲六郷**********           S13001               20170605        \n",
              "2  神奈川県横浜市旭区善部町**********     S14033               20150728        \n",
              "3  神奈川県横浜市港北区日吉本町********** S14011               20150228        \n",
              "4  神奈川県横浜市緑区北八朔町**********   S14040               20151101        \n",
              "5  東京都世田谷区駒沢**********           S13009               20150319        \n",
              "6  東京都江東区塩浜**********             S13015               20141024        \n",
              "7  神奈川県川崎市川崎区東田町**********   S14023               20150915        \n",
              "8  東京都世田谷区桜**********             S13035               20150227        \n",
              "9  東京都大田区西蒲田**********           S13001               20160812        \n",
              "10 神奈川県横浜市緑区長津田**********     S14040               20150122        \n",
              "   status_cd   \n",
              "1  6-20090929-2\n",
              "2  6-20080506-5\n",
              "3  C-20100421-9\n",
              "4  1-20091025-4\n",
              "5  5-20080322-1\n",
              "6  4-20080219-3\n",
              "7  5-20100524-9\n",
              "8  8-20100711-9\n",
              "9  1-20100804-1\n",
              "10 2-20080426-4"
            ]
          },
          "metadata": {},
          "output_type": "display_data"
        }
      ],
      "source": [
        "head(df_customer %>% filter(grepl(\"[1-9]$\", status_cd)), n = 10)"
      ]
    },
    {
      "cell_type": "markdown",
      "metadata": {
        "id": "izHq0DuVBJia"
      },
      "source": [
        "---\n",
        "> R-015: 고객 데이터(df_customer)에서 상태코드(status_cd)의 시작이 알파벳 A~F로 시작하고 끝이 숫자 1~9로 끝나는 데이터를 모두 추출하여 10건을 표시하라."
      ]
    },
    {
      "cell_type": "code",
      "execution_count": null,
      "metadata": {
        "id": "u0tTxWlGBJia",
        "outputId": "cd13e855-05aa-4b39-c6d8-518042d6fb6c"
      },
      "outputs": [
        {
          "data": {
            "text/html": [
              "<table class=\"dataframe\">\n",
              "<caption>A data.frame: 10 × 11</caption>\n",
              "<thead>\n",
              "\t<tr><th></th><th scope=col>customer_id</th><th scope=col>customer_name</th><th scope=col>gender_cd</th><th scope=col>gender</th><th scope=col>birth_day</th><th scope=col>age</th><th scope=col>postal_cd</th><th scope=col>address</th><th scope=col>application_store_cd</th><th scope=col>application_date</th><th scope=col>status_cd</th></tr>\n",
              "\t<tr><th></th><th scope=col>&lt;chr&gt;</th><th scope=col>&lt;chr&gt;</th><th scope=col>&lt;chr&gt;</th><th scope=col>&lt;chr&gt;</th><th scope=col>&lt;date&gt;</th><th scope=col>&lt;int&gt;</th><th scope=col>&lt;chr&gt;</th><th scope=col>&lt;chr&gt;</th><th scope=col>&lt;chr&gt;</th><th scope=col>&lt;chr&gt;</th><th scope=col>&lt;chr&gt;</th></tr>\n",
              "</thead>\n",
              "<tbody>\n",
              "\t<tr><th scope=row>1</th><td>CS011215000048</td><td>芦田 沙耶  </td><td>1</td><td>女性</td><td>1992-02-01</td><td>27</td><td>223-0062</td><td>神奈川県横浜市港北区日吉本町**********</td><td>S14011</td><td>20150228</td><td>C-20100421-9</td></tr>\n",
              "\t<tr><th scope=row>2</th><td>CS022513000105</td><td>島村 貴美子</td><td>1</td><td>女性</td><td>1962-03-12</td><td>57</td><td>249-0002</td><td>神奈川県逗子市山の根**********        </td><td>S14022</td><td>20150320</td><td>A-20091115-7</td></tr>\n",
              "\t<tr><th scope=row>3</th><td>CS001515000096</td><td>水野 陽子  </td><td>9</td><td>不明</td><td>1960-11-29</td><td>58</td><td>144-0053</td><td>東京都大田区蒲田本町**********        </td><td>S13001</td><td>20150614</td><td>A-20100724-7</td></tr>\n",
              "\t<tr><th scope=row>4</th><td>CS013615000053</td><td>西脇 季衣  </td><td>1</td><td>女性</td><td>1953-10-18</td><td>65</td><td>261-0026</td><td>千葉県千葉市美浜区幕張西**********    </td><td>S12013</td><td>20150128</td><td>B-20100329-6</td></tr>\n",
              "\t<tr><th scope=row>5</th><td>CS020412000161</td><td>小宮 薫    </td><td>1</td><td>女性</td><td>1974-05-21</td><td>44</td><td>174-0042</td><td>東京都板橋区東坂下**********          </td><td>S13020</td><td>20150822</td><td>B-20081021-3</td></tr>\n",
              "\t<tr><th scope=row>6</th><td>CS001215000097</td><td>竹中 あさみ</td><td>1</td><td>女性</td><td>1990-07-25</td><td>28</td><td>146-0095</td><td>東京都大田区多摩川**********          </td><td>S13001</td><td>20170315</td><td>A-20100211-2</td></tr>\n",
              "\t<tr><th scope=row>7</th><td>CS035212000007</td><td>内村 恵梨香</td><td>1</td><td>女性</td><td>1990-12-04</td><td>28</td><td>152-0023</td><td>東京都目黒区八雲**********            </td><td>S13035</td><td>20151013</td><td>B-20101018-6</td></tr>\n",
              "\t<tr><th scope=row>8</th><td>CS002515000386</td><td>野田 コウ  </td><td>1</td><td>女性</td><td>1963-05-30</td><td>55</td><td>185-0013</td><td>東京都国分寺市西恋ケ窪**********      </td><td>S13002</td><td>20160410</td><td>C-20100127-8</td></tr>\n",
              "\t<tr><th scope=row>9</th><td>CS001615000372</td><td>稲垣 寿々花</td><td>1</td><td>女性</td><td>1956-10-29</td><td>62</td><td>144-0035</td><td>東京都大田区南蒲田**********          </td><td>S13001</td><td>20170403</td><td>A-20100104-1</td></tr>\n",
              "\t<tr><th scope=row>10</th><td>CS032512000121</td><td>松井 知世  </td><td>1</td><td>女性</td><td>1962-09-04</td><td>56</td><td>210-0011</td><td>神奈川県川崎市川崎区富士見**********  </td><td>S13032</td><td>20150727</td><td>A-20100103-5</td></tr>\n",
              "</tbody>\n",
              "</table>\n"
            ],
            "text/latex": [
              "A data.frame: 10 × 11\n",
              "\\begin{tabular}{r|lllllllllll}\n",
              "  & customer\\_id & customer\\_name & gender\\_cd & gender & birth\\_day & age & postal\\_cd & address & application\\_store\\_cd & application\\_date & status\\_cd\\\\\n",
              "  & <chr> & <chr> & <chr> & <chr> & <date> & <int> & <chr> & <chr> & <chr> & <chr> & <chr>\\\\\n",
              "\\hline\n",
              "\t1 & CS011215000048 & 芦田 沙耶   & 1 & 女性 & 1992-02-01 & 27 & 223-0062 & 神奈川県横浜市港北区日吉本町********** & S14011 & 20150228 & C-20100421-9\\\\\n",
              "\t2 & CS022513000105 & 島村 貴美子 & 1 & 女性 & 1962-03-12 & 57 & 249-0002 & 神奈川県逗子市山の根**********         & S14022 & 20150320 & A-20091115-7\\\\\n",
              "\t3 & CS001515000096 & 水野 陽子   & 9 & 不明 & 1960-11-29 & 58 & 144-0053 & 東京都大田区蒲田本町**********         & S13001 & 20150614 & A-20100724-7\\\\\n",
              "\t4 & CS013615000053 & 西脇 季衣   & 1 & 女性 & 1953-10-18 & 65 & 261-0026 & 千葉県千葉市美浜区幕張西**********     & S12013 & 20150128 & B-20100329-6\\\\\n",
              "\t5 & CS020412000161 & 小宮 薫     & 1 & 女性 & 1974-05-21 & 44 & 174-0042 & 東京都板橋区東坂下**********           & S13020 & 20150822 & B-20081021-3\\\\\n",
              "\t6 & CS001215000097 & 竹中 あさみ & 1 & 女性 & 1990-07-25 & 28 & 146-0095 & 東京都大田区多摩川**********           & S13001 & 20170315 & A-20100211-2\\\\\n",
              "\t7 & CS035212000007 & 内村 恵梨香 & 1 & 女性 & 1990-12-04 & 28 & 152-0023 & 東京都目黒区八雲**********             & S13035 & 20151013 & B-20101018-6\\\\\n",
              "\t8 & CS002515000386 & 野田 コウ   & 1 & 女性 & 1963-05-30 & 55 & 185-0013 & 東京都国分寺市西恋ケ窪**********       & S13002 & 20160410 & C-20100127-8\\\\\n",
              "\t9 & CS001615000372 & 稲垣 寿々花 & 1 & 女性 & 1956-10-29 & 62 & 144-0035 & 東京都大田区南蒲田**********           & S13001 & 20170403 & A-20100104-1\\\\\n",
              "\t10 & CS032512000121 & 松井 知世   & 1 & 女性 & 1962-09-04 & 56 & 210-0011 & 神奈川県川崎市川崎区富士見**********   & S13032 & 20150727 & A-20100103-5\\\\\n",
              "\\end{tabular}\n"
            ],
            "text/markdown": [
              "\n",
              "A data.frame: 10 × 11\n",
              "\n",
              "| <!--/--> | customer_id &lt;chr&gt; | customer_name &lt;chr&gt; | gender_cd &lt;chr&gt; | gender &lt;chr&gt; | birth_day &lt;date&gt; | age &lt;int&gt; | postal_cd &lt;chr&gt; | address &lt;chr&gt; | application_store_cd &lt;chr&gt; | application_date &lt;chr&gt; | status_cd &lt;chr&gt; |\n",
              "|---|---|---|---|---|---|---|---|---|---|---|---|\n",
              "| 1 | CS011215000048 | 芦田 沙耶   | 1 | 女性 | 1992-02-01 | 27 | 223-0062 | 神奈川県横浜市港北区日吉本町********** | S14011 | 20150228 | C-20100421-9 |\n",
              "| 2 | CS022513000105 | 島村 貴美子 | 1 | 女性 | 1962-03-12 | 57 | 249-0002 | 神奈川県逗子市山の根**********         | S14022 | 20150320 | A-20091115-7 |\n",
              "| 3 | CS001515000096 | 水野 陽子   | 9 | 不明 | 1960-11-29 | 58 | 144-0053 | 東京都大田区蒲田本町**********         | S13001 | 20150614 | A-20100724-7 |\n",
              "| 4 | CS013615000053 | 西脇 季衣   | 1 | 女性 | 1953-10-18 | 65 | 261-0026 | 千葉県千葉市美浜区幕張西**********     | S12013 | 20150128 | B-20100329-6 |\n",
              "| 5 | CS020412000161 | 小宮 薫     | 1 | 女性 | 1974-05-21 | 44 | 174-0042 | 東京都板橋区東坂下**********           | S13020 | 20150822 | B-20081021-3 |\n",
              "| 6 | CS001215000097 | 竹中 あさみ | 1 | 女性 | 1990-07-25 | 28 | 146-0095 | 東京都大田区多摩川**********           | S13001 | 20170315 | A-20100211-2 |\n",
              "| 7 | CS035212000007 | 内村 恵梨香 | 1 | 女性 | 1990-12-04 | 28 | 152-0023 | 東京都目黒区八雲**********             | S13035 | 20151013 | B-20101018-6 |\n",
              "| 8 | CS002515000386 | 野田 コウ   | 1 | 女性 | 1963-05-30 | 55 | 185-0013 | 東京都国分寺市西恋ケ窪**********       | S13002 | 20160410 | C-20100127-8 |\n",
              "| 9 | CS001615000372 | 稲垣 寿々花 | 1 | 女性 | 1956-10-29 | 62 | 144-0035 | 東京都大田区南蒲田**********           | S13001 | 20170403 | A-20100104-1 |\n",
              "| 10 | CS032512000121 | 松井 知世   | 1 | 女性 | 1962-09-04 | 56 | 210-0011 | 神奈川県川崎市川崎区富士見**********   | S13032 | 20150727 | A-20100103-5 |\n",
              "\n"
            ],
            "text/plain": [
              "   customer_id    customer_name gender_cd gender birth_day  age postal_cd\n",
              "1  CS011215000048 芦田 沙耶     1         女性   1992-02-01 27  223-0062 \n",
              "2  CS022513000105 島村 貴美子   1         女性   1962-03-12 57  249-0002 \n",
              "3  CS001515000096 水野 陽子     9         不明   1960-11-29 58  144-0053 \n",
              "4  CS013615000053 西脇 季衣     1         女性   1953-10-18 65  261-0026 \n",
              "5  CS020412000161 小宮 薫       1         女性   1974-05-21 44  174-0042 \n",
              "6  CS001215000097 竹中 あさみ   1         女性   1990-07-25 28  146-0095 \n",
              "7  CS035212000007 内村 恵梨香   1         女性   1990-12-04 28  152-0023 \n",
              "8  CS002515000386 野田 コウ     1         女性   1963-05-30 55  185-0013 \n",
              "9  CS001615000372 稲垣 寿々花   1         女性   1956-10-29 62  144-0035 \n",
              "10 CS032512000121 松井 知世     1         女性   1962-09-04 56  210-0011 \n",
              "   address                                application_store_cd application_date\n",
              "1  神奈川県横浜市港北区日吉本町********** S14011               20150228        \n",
              "2  神奈川県逗子市山の根**********         S14022               20150320        \n",
              "3  東京都大田区蒲田本町**********         S13001               20150614        \n",
              "4  千葉県千葉市美浜区幕張西**********     S12013               20150128        \n",
              "5  東京都板橋区東坂下**********           S13020               20150822        \n",
              "6  東京都大田区多摩川**********           S13001               20170315        \n",
              "7  東京都目黒区八雲**********             S13035               20151013        \n",
              "8  東京都国分寺市西恋ケ窪**********       S13002               20160410        \n",
              "9  東京都大田区南蒲田**********           S13001               20170403        \n",
              "10 神奈川県川崎市川崎区富士見**********   S13032               20150727        \n",
              "   status_cd   \n",
              "1  C-20100421-9\n",
              "2  A-20091115-7\n",
              "3  A-20100724-7\n",
              "4  B-20100329-6\n",
              "5  B-20081021-3\n",
              "6  A-20100211-2\n",
              "7  B-20101018-6\n",
              "8  C-20100127-8\n",
              "9  A-20100104-1\n",
              "10 A-20100103-5"
            ]
          },
          "metadata": {},
          "output_type": "display_data"
        }
      ],
      "source": [
        "head(df_customer %>% filter(grepl(\"^[A-F].*[1-9]$\", status_cd)), n = 10)"
      ]
    },
    {
      "cell_type": "markdown",
      "metadata": {
        "id": "WG4v7-86BJia"
      },
      "source": [
        "---\n",
        "> R-016: 매장 데이터(df_store)에서 전화번호(tel_no)가 3자리-3자리-4자리인 데이터를 모두 표시하라."
      ]
    },
    {
      "cell_type": "code",
      "execution_count": null,
      "metadata": {
        "id": "Dln1f3o_BJia",
        "outputId": "0cc45d4f-1d4e-443c-f4a1-f208fcfd55ec"
      },
      "outputs": [
        {
          "data": {
            "text/html": [
              "<table class=\"dataframe\">\n",
              "<caption>A data.frame: 34 × 10</caption>\n",
              "<thead>\n",
              "\t<tr><th scope=col>store_cd</th><th scope=col>store_name</th><th scope=col>prefecture_cd</th><th scope=col>prefecture</th><th scope=col>address</th><th scope=col>address_kana</th><th scope=col>tel_no</th><th scope=col>longitude</th><th scope=col>latitude</th><th scope=col>floor_area</th></tr>\n",
              "\t<tr><th scope=col>&lt;chr&gt;</th><th scope=col>&lt;chr&gt;</th><th scope=col>&lt;chr&gt;</th><th scope=col>&lt;chr&gt;</th><th scope=col>&lt;chr&gt;</th><th scope=col>&lt;chr&gt;</th><th scope=col>&lt;chr&gt;</th><th scope=col>&lt;dbl&gt;</th><th scope=col>&lt;dbl&gt;</th><th scope=col>&lt;dbl&gt;</th></tr>\n",
              "</thead>\n",
              "<tbody>\n",
              "\t<tr><td>S12014</td><td>千草台店    </td><td>12</td><td>千葉県  </td><td>千葉県千葉市稲毛区千草台一丁目        </td><td>チバケンチバシイナゲクチグサダイイッチョウメ                </td><td>043-123-4003</td><td>140.1180</td><td>35.63559</td><td>1698</td></tr>\n",
              "\t<tr><td>S13002</td><td>国分寺店    </td><td>13</td><td>東京都  </td><td>東京都国分寺市本多二丁目              </td><td>トウキョウトコクブンジシホンダニチョウメ                    </td><td>042-123-4008</td><td>139.4802</td><td>35.70566</td><td>1735</td></tr>\n",
              "\t<tr><td>S14010</td><td>菊名店      </td><td>14</td><td>神奈川県</td><td>神奈川県横浜市港北区菊名一丁目        </td><td>カナガワケンヨコハマシコウホククキクナイッチョウメ          </td><td>045-123-4032</td><td>139.6326</td><td>35.50049</td><td>1732</td></tr>\n",
              "\t<tr><td>S14033</td><td>阿久和店    </td><td>14</td><td>神奈川県</td><td>神奈川県横浜市瀬谷区阿久和西一丁目    </td><td>カナガワケンヨコハマシセヤクアクワニシイッチョウメ          </td><td>045-123-4043</td><td>139.4961</td><td>35.45918</td><td>1495</td></tr>\n",
              "\t<tr><td>S14036</td><td>相模原中央店</td><td>14</td><td>神奈川県</td><td>神奈川県相模原市中央二丁目            </td><td>カナガワケンサガミハラシチュウオウニチョウメ                </td><td>042-123-4045</td><td>139.3716</td><td>35.57327</td><td>1679</td></tr>\n",
              "\t<tr><td>S14040</td><td>長津田店    </td><td>14</td><td>神奈川県</td><td>神奈川県横浜市緑区長津田みなみ台五丁目</td><td>カナガワケンヨコハマシミドリクナガツタミナミダイゴチョウメ  </td><td>045-123-4046</td><td>139.4994</td><td>35.52398</td><td>1548</td></tr>\n",
              "\t<tr><td>S14050</td><td>阿久和西店  </td><td>14</td><td>神奈川県</td><td>神奈川県横浜市瀬谷区阿久和西一丁目    </td><td>カナガワケンヨコハマシセヤクアクワニシイッチョウメ          </td><td>045-123-4053</td><td>139.4961</td><td>35.45918</td><td>1830</td></tr>\n",
              "\t<tr><td>S13052</td><td>森野店      </td><td>13</td><td>東京都  </td><td>東京都町田市森野三丁目                </td><td>トウキョウトマチダシモリノサンチョウメ                      </td><td>042-123-4030</td><td>139.4383</td><td>35.55293</td><td>1087</td></tr>\n",
              "\t<tr><td>S14028</td><td>二ツ橋店    </td><td>14</td><td>神奈川県</td><td>神奈川県横浜市瀬谷区二ツ橋町          </td><td>カナガワケンヨコハマシセヤクフタツバシチョウ                </td><td>045-123-4042</td><td>139.4963</td><td>35.46304</td><td>1574</td></tr>\n",
              "\t<tr><td>S14012</td><td>本牧和田店  </td><td>14</td><td>神奈川県</td><td>神奈川県横浜市中区本牧和田            </td><td>カナガワケンヨコハマシナカクホンモクワダ                    </td><td>045-123-4034</td><td>139.6582</td><td>35.42156</td><td>1341</td></tr>\n",
              "\t<tr><td>S14046</td><td>北山田店    </td><td>14</td><td>神奈川県</td><td>神奈川県横浜市都筑区北山田一丁目      </td><td>カナガワケンヨコハマシツヅキクキタヤマタイッチョウメ        </td><td>045-123-4049</td><td>139.5916</td><td>35.56189</td><td> 831</td></tr>\n",
              "\t<tr><td>S14022</td><td>逗子店      </td><td>14</td><td>神奈川県</td><td>神奈川県逗子市逗子一丁目              </td><td>カナガワケンズシシズシイッチョウメ                          </td><td>046-123-4036</td><td>139.5789</td><td>35.29642</td><td>1838</td></tr>\n",
              "\t<tr><td>S14011</td><td>日吉本町店  </td><td>14</td><td>神奈川県</td><td>神奈川県横浜市港北区日吉本町四丁目    </td><td>カナガワケンヨコハマシコウホククヒヨシホンチョウヨンチョウメ</td><td>045-123-4033</td><td>139.6316</td><td>35.54655</td><td> 890</td></tr>\n",
              "\t<tr><td>S13016</td><td>小金井店    </td><td>13</td><td>東京都  </td><td>東京都小金井市本町一丁目              </td><td>トウキョウトコガネイシホンチョウイッチョウメ                </td><td>042-123-4015</td><td>139.5094</td><td>35.70018</td><td>1399</td></tr>\n",
              "\t<tr><td>S14034</td><td>川崎野川店  </td><td>14</td><td>神奈川県</td><td>神奈川県川崎市宮前区野川              </td><td>カナガワケンカワサキシミヤマエクノガワ                      </td><td>044-123-4044</td><td>139.5998</td><td>35.57693</td><td>1318</td></tr>\n",
              "\t<tr><td>S14048</td><td>中川中央店  </td><td>14</td><td>神奈川県</td><td>神奈川県横浜市都筑区中川中央二丁目    </td><td>カナガワケンヨコハマシツヅキクナカガワチュウオウニチョウメ  </td><td>045-123-4051</td><td>139.5758</td><td>35.54912</td><td>1657</td></tr>\n",
              "\t<tr><td>S12007</td><td>佐倉店      </td><td>12</td><td>千葉県  </td><td>千葉県佐倉市上志津                    </td><td>チバケンサクラシカミシヅ                                    </td><td>043-123-4001</td><td>140.1452</td><td>35.71872</td><td>1895</td></tr>\n",
              "\t<tr><td>S14026</td><td>辻堂西海岸店</td><td>14</td><td>神奈川県</td><td>神奈川県藤沢市辻堂西海岸二丁目        </td><td>カナガワケンフジサワシツジドウニシカイガンニチョウメ        </td><td>046-123-4040</td><td>139.4466</td><td>35.32464</td><td>1732</td></tr>\n",
              "\t<tr><td>S13041</td><td>八王子店    </td><td>13</td><td>東京都  </td><td>東京都八王子市大塚                    </td><td>トウキョウトハチオウジシオオツカ                            </td><td>042-123-4026</td><td>139.4235</td><td>35.63787</td><td> 810</td></tr>\n",
              "\t<tr><td>S14049</td><td>川崎大師店  </td><td>14</td><td>神奈川県</td><td>神奈川県川崎市川崎区中瀬三丁目        </td><td>カナガワケンカワサキシカワサキクナカゼサンチョウメ          </td><td>044-123-4052</td><td>139.7327</td><td>35.53759</td><td> 962</td></tr>\n",
              "\t<tr><td>S14023</td><td>川崎店      </td><td>14</td><td>神奈川県</td><td>神奈川県川崎市川崎区本町二丁目        </td><td>カナガワケンカワサキシカワサキクホンチョウニチョウメ        </td><td>044-123-4037</td><td>139.7028</td><td>35.53599</td><td>1804</td></tr>\n",
              "\t<tr><td>S13018</td><td>清瀬店      </td><td>13</td><td>東京都  </td><td>東京都清瀬市松山一丁目                </td><td>トウキョウトキヨセシマツヤマイッチョウメ                    </td><td>042-123-4017</td><td>139.5178</td><td>35.76885</td><td>1220</td></tr>\n",
              "\t<tr><td>S14027</td><td>南藤沢店    </td><td>14</td><td>神奈川県</td><td>神奈川県藤沢市南藤沢                  </td><td>カナガワケンフジサワシミナミフジサワ                        </td><td>046-123-4041</td><td>139.4896</td><td>35.33762</td><td>1521</td></tr>\n",
              "\t<tr><td>S14021</td><td>伊勢原店    </td><td>14</td><td>神奈川県</td><td>神奈川県伊勢原市伊勢原四丁目          </td><td>カナガワケンイセハラシイセハラヨンチョウメ                  </td><td>046-123-4035</td><td>139.3129</td><td>35.40169</td><td> 962</td></tr>\n",
              "\t<tr><td>S14047</td><td>相模原店    </td><td>14</td><td>神奈川県</td><td>神奈川県相模原市千代田六丁目          </td><td>カナガワケンサガミハラシチヨダロクチョウメ                  </td><td>042-123-4050</td><td>139.3748</td><td>35.55959</td><td>1047</td></tr>\n",
              "\t<tr><td>S12013</td><td>習志野店    </td><td>12</td><td>千葉県  </td><td>千葉県習志野市芝園一丁目              </td><td>チバケンナラシノシシバゾノイッチョウメ                      </td><td>047-123-4002</td><td>140.0220</td><td>35.66122</td><td> 808</td></tr>\n",
              "\t<tr><td>S14042</td><td>新山下店    </td><td>14</td><td>神奈川県</td><td>神奈川県横浜市中区新山下二丁目        </td><td>カナガワケンヨコハマシナカクシンヤマシタニチョウメ          </td><td>045-123-4047</td><td>139.6593</td><td>35.43894</td><td>1044</td></tr>\n",
              "\t<tr><td>S12030</td><td>八幡店      </td><td>12</td><td>千葉県  </td><td>千葉県市川市八幡三丁目                </td><td>チバケンイチカワシヤワタサンチョウメ                        </td><td>047-123-4005</td><td>139.9240</td><td>35.72318</td><td>1162</td></tr>\n",
              "\t<tr><td>S14025</td><td>大和店      </td><td>14</td><td>神奈川県</td><td>神奈川県大和市下和田                  </td><td>カナガワケンヤマトシシモワダ                                </td><td>046-123-4039</td><td>139.4680</td><td>35.43414</td><td>1011</td></tr>\n",
              "\t<tr><td>S14045</td><td>厚木店      </td><td>14</td><td>神奈川県</td><td>神奈川県厚木市中町二丁目              </td><td>カナガワケンアツギシナカチョウニチョウメ                    </td><td>046-123-4048</td><td>139.3651</td><td>35.44182</td><td> 980</td></tr>\n",
              "\t<tr><td>S12029</td><td>東野店      </td><td>12</td><td>千葉県  </td><td>千葉県浦安市東野一丁目                </td><td>チバケンウラヤスシヒガシノイッチョウメ                      </td><td>047-123-4004</td><td>139.8968</td><td>35.65086</td><td>1101</td></tr>\n",
              "\t<tr><td>S12053</td><td>高洲店      </td><td>12</td><td>千葉県  </td><td>千葉県浦安市高洲五丁目                </td><td>チバケンウラヤスシタカスゴチョウメ                          </td><td>047-123-4006</td><td>139.9176</td><td>35.63755</td><td>1555</td></tr>\n",
              "\t<tr><td>S14024</td><td>三田店      </td><td>14</td><td>神奈川県</td><td>神奈川県川崎市多摩区三田四丁目        </td><td>カナガワケンカワサキシタマクミタヨンチョウメ                </td><td>044-123-4038</td><td>139.5424</td><td>35.60770</td><td> 972</td></tr>\n",
              "\t<tr><td>S14006</td><td>葛が谷店    </td><td>14</td><td>神奈川県</td><td>神奈川県横浜市都筑区葛が谷            </td><td>カナガワケンヨコハマシツヅキククズガヤ                      </td><td>045-123-4031</td><td>139.5633</td><td>35.53573</td><td>1886</td></tr>\n",
              "</tbody>\n",
              "</table>\n"
            ],
            "text/latex": [
              "A data.frame: 34 × 10\n",
              "\\begin{tabular}{llllllllll}\n",
              " store\\_cd & store\\_name & prefecture\\_cd & prefecture & address & address\\_kana & tel\\_no & longitude & latitude & floor\\_area\\\\\n",
              " <chr> & <chr> & <chr> & <chr> & <chr> & <chr> & <chr> & <dbl> & <dbl> & <dbl>\\\\\n",
              "\\hline\n",
              "\t S12014 & 千草台店     & 12 & 千葉県   & 千葉県千葉市稲毛区千草台一丁目         & チバケンチバシイナゲクチグサダイイッチョウメ                 & 043-123-4003 & 140.1180 & 35.63559 & 1698\\\\\n",
              "\t S13002 & 国分寺店     & 13 & 東京都   & 東京都国分寺市本多二丁目               & トウキョウトコクブンジシホンダニチョウメ                     & 042-123-4008 & 139.4802 & 35.70566 & 1735\\\\\n",
              "\t S14010 & 菊名店       & 14 & 神奈川県 & 神奈川県横浜市港北区菊名一丁目         & カナガワケンヨコハマシコウホククキクナイッチョウメ           & 045-123-4032 & 139.6326 & 35.50049 & 1732\\\\\n",
              "\t S14033 & 阿久和店     & 14 & 神奈川県 & 神奈川県横浜市瀬谷区阿久和西一丁目     & カナガワケンヨコハマシセヤクアクワニシイッチョウメ           & 045-123-4043 & 139.4961 & 35.45918 & 1495\\\\\n",
              "\t S14036 & 相模原中央店 & 14 & 神奈川県 & 神奈川県相模原市中央二丁目             & カナガワケンサガミハラシチュウオウニチョウメ                 & 042-123-4045 & 139.3716 & 35.57327 & 1679\\\\\n",
              "\t S14040 & 長津田店     & 14 & 神奈川県 & 神奈川県横浜市緑区長津田みなみ台五丁目 & カナガワケンヨコハマシミドリクナガツタミナミダイゴチョウメ   & 045-123-4046 & 139.4994 & 35.52398 & 1548\\\\\n",
              "\t S14050 & 阿久和西店   & 14 & 神奈川県 & 神奈川県横浜市瀬谷区阿久和西一丁目     & カナガワケンヨコハマシセヤクアクワニシイッチョウメ           & 045-123-4053 & 139.4961 & 35.45918 & 1830\\\\\n",
              "\t S13052 & 森野店       & 13 & 東京都   & 東京都町田市森野三丁目                 & トウキョウトマチダシモリノサンチョウメ                       & 042-123-4030 & 139.4383 & 35.55293 & 1087\\\\\n",
              "\t S14028 & 二ツ橋店     & 14 & 神奈川県 & 神奈川県横浜市瀬谷区二ツ橋町           & カナガワケンヨコハマシセヤクフタツバシチョウ                 & 045-123-4042 & 139.4963 & 35.46304 & 1574\\\\\n",
              "\t S14012 & 本牧和田店   & 14 & 神奈川県 & 神奈川県横浜市中区本牧和田             & カナガワケンヨコハマシナカクホンモクワダ                     & 045-123-4034 & 139.6582 & 35.42156 & 1341\\\\\n",
              "\t S14046 & 北山田店     & 14 & 神奈川県 & 神奈川県横浜市都筑区北山田一丁目       & カナガワケンヨコハマシツヅキクキタヤマタイッチョウメ         & 045-123-4049 & 139.5916 & 35.56189 &  831\\\\\n",
              "\t S14022 & 逗子店       & 14 & 神奈川県 & 神奈川県逗子市逗子一丁目               & カナガワケンズシシズシイッチョウメ                           & 046-123-4036 & 139.5789 & 35.29642 & 1838\\\\\n",
              "\t S14011 & 日吉本町店   & 14 & 神奈川県 & 神奈川県横浜市港北区日吉本町四丁目     & カナガワケンヨコハマシコウホククヒヨシホンチョウヨンチョウメ & 045-123-4033 & 139.6316 & 35.54655 &  890\\\\\n",
              "\t S13016 & 小金井店     & 13 & 東京都   & 東京都小金井市本町一丁目               & トウキョウトコガネイシホンチョウイッチョウメ                 & 042-123-4015 & 139.5094 & 35.70018 & 1399\\\\\n",
              "\t S14034 & 川崎野川店   & 14 & 神奈川県 & 神奈川県川崎市宮前区野川               & カナガワケンカワサキシミヤマエクノガワ                       & 044-123-4044 & 139.5998 & 35.57693 & 1318\\\\\n",
              "\t S14048 & 中川中央店   & 14 & 神奈川県 & 神奈川県横浜市都筑区中川中央二丁目     & カナガワケンヨコハマシツヅキクナカガワチュウオウニチョウメ   & 045-123-4051 & 139.5758 & 35.54912 & 1657\\\\\n",
              "\t S12007 & 佐倉店       & 12 & 千葉県   & 千葉県佐倉市上志津                     & チバケンサクラシカミシヅ                                     & 043-123-4001 & 140.1452 & 35.71872 & 1895\\\\\n",
              "\t S14026 & 辻堂西海岸店 & 14 & 神奈川県 & 神奈川県藤沢市辻堂西海岸二丁目         & カナガワケンフジサワシツジドウニシカイガンニチョウメ         & 046-123-4040 & 139.4466 & 35.32464 & 1732\\\\\n",
              "\t S13041 & 八王子店     & 13 & 東京都   & 東京都八王子市大塚                     & トウキョウトハチオウジシオオツカ                             & 042-123-4026 & 139.4235 & 35.63787 &  810\\\\\n",
              "\t S14049 & 川崎大師店   & 14 & 神奈川県 & 神奈川県川崎市川崎区中瀬三丁目         & カナガワケンカワサキシカワサキクナカゼサンチョウメ           & 044-123-4052 & 139.7327 & 35.53759 &  962\\\\\n",
              "\t S14023 & 川崎店       & 14 & 神奈川県 & 神奈川県川崎市川崎区本町二丁目         & カナガワケンカワサキシカワサキクホンチョウニチョウメ         & 044-123-4037 & 139.7028 & 35.53599 & 1804\\\\\n",
              "\t S13018 & 清瀬店       & 13 & 東京都   & 東京都清瀬市松山一丁目                 & トウキョウトキヨセシマツヤマイッチョウメ                     & 042-123-4017 & 139.5178 & 35.76885 & 1220\\\\\n",
              "\t S14027 & 南藤沢店     & 14 & 神奈川県 & 神奈川県藤沢市南藤沢                   & カナガワケンフジサワシミナミフジサワ                         & 046-123-4041 & 139.4896 & 35.33762 & 1521\\\\\n",
              "\t S14021 & 伊勢原店     & 14 & 神奈川県 & 神奈川県伊勢原市伊勢原四丁目           & カナガワケンイセハラシイセハラヨンチョウメ                   & 046-123-4035 & 139.3129 & 35.40169 &  962\\\\\n",
              "\t S14047 & 相模原店     & 14 & 神奈川県 & 神奈川県相模原市千代田六丁目           & カナガワケンサガミハラシチヨダロクチョウメ                   & 042-123-4050 & 139.3748 & 35.55959 & 1047\\\\\n",
              "\t S12013 & 習志野店     & 12 & 千葉県   & 千葉県習志野市芝園一丁目               & チバケンナラシノシシバゾノイッチョウメ                       & 047-123-4002 & 140.0220 & 35.66122 &  808\\\\\n",
              "\t S14042 & 新山下店     & 14 & 神奈川県 & 神奈川県横浜市中区新山下二丁目         & カナガワケンヨコハマシナカクシンヤマシタニチョウメ           & 045-123-4047 & 139.6593 & 35.43894 & 1044\\\\\n",
              "\t S12030 & 八幡店       & 12 & 千葉県   & 千葉県市川市八幡三丁目                 & チバケンイチカワシヤワタサンチョウメ                         & 047-123-4005 & 139.9240 & 35.72318 & 1162\\\\\n",
              "\t S14025 & 大和店       & 14 & 神奈川県 & 神奈川県大和市下和田                   & カナガワケンヤマトシシモワダ                                 & 046-123-4039 & 139.4680 & 35.43414 & 1011\\\\\n",
              "\t S14045 & 厚木店       & 14 & 神奈川県 & 神奈川県厚木市中町二丁目               & カナガワケンアツギシナカチョウニチョウメ                     & 046-123-4048 & 139.3651 & 35.44182 &  980\\\\\n",
              "\t S12029 & 東野店       & 12 & 千葉県   & 千葉県浦安市東野一丁目                 & チバケンウラヤスシヒガシノイッチョウメ                       & 047-123-4004 & 139.8968 & 35.65086 & 1101\\\\\n",
              "\t S12053 & 高洲店       & 12 & 千葉県   & 千葉県浦安市高洲五丁目                 & チバケンウラヤスシタカスゴチョウメ                           & 047-123-4006 & 139.9176 & 35.63755 & 1555\\\\\n",
              "\t S14024 & 三田店       & 14 & 神奈川県 & 神奈川県川崎市多摩区三田四丁目         & カナガワケンカワサキシタマクミタヨンチョウメ                 & 044-123-4038 & 139.5424 & 35.60770 &  972\\\\\n",
              "\t S14006 & 葛が谷店     & 14 & 神奈川県 & 神奈川県横浜市都筑区葛が谷             & カナガワケンヨコハマシツヅキククズガヤ                       & 045-123-4031 & 139.5633 & 35.53573 & 1886\\\\\n",
              "\\end{tabular}\n"
            ],
            "text/markdown": [
              "\n",
              "A data.frame: 34 × 10\n",
              "\n",
              "| store_cd &lt;chr&gt; | store_name &lt;chr&gt; | prefecture_cd &lt;chr&gt; | prefecture &lt;chr&gt; | address &lt;chr&gt; | address_kana &lt;chr&gt; | tel_no &lt;chr&gt; | longitude &lt;dbl&gt; | latitude &lt;dbl&gt; | floor_area &lt;dbl&gt; |\n",
              "|---|---|---|---|---|---|---|---|---|---|\n",
              "| S12014 | 千草台店     | 12 | 千葉県   | 千葉県千葉市稲毛区千草台一丁目         | チバケンチバシイナゲクチグサダイイッチョウメ                 | 043-123-4003 | 140.1180 | 35.63559 | 1698 |\n",
              "| S13002 | 国分寺店     | 13 | 東京都   | 東京都国分寺市本多二丁目               | トウキョウトコクブンジシホンダニチョウメ                     | 042-123-4008 | 139.4802 | 35.70566 | 1735 |\n",
              "| S14010 | 菊名店       | 14 | 神奈川県 | 神奈川県横浜市港北区菊名一丁目         | カナガワケンヨコハマシコウホククキクナイッチョウメ           | 045-123-4032 | 139.6326 | 35.50049 | 1732 |\n",
              "| S14033 | 阿久和店     | 14 | 神奈川県 | 神奈川県横浜市瀬谷区阿久和西一丁目     | カナガワケンヨコハマシセヤクアクワニシイッチョウメ           | 045-123-4043 | 139.4961 | 35.45918 | 1495 |\n",
              "| S14036 | 相模原中央店 | 14 | 神奈川県 | 神奈川県相模原市中央二丁目             | カナガワケンサガミハラシチュウオウニチョウメ                 | 042-123-4045 | 139.3716 | 35.57327 | 1679 |\n",
              "| S14040 | 長津田店     | 14 | 神奈川県 | 神奈川県横浜市緑区長津田みなみ台五丁目 | カナガワケンヨコハマシミドリクナガツタミナミダイゴチョウメ   | 045-123-4046 | 139.4994 | 35.52398 | 1548 |\n",
              "| S14050 | 阿久和西店   | 14 | 神奈川県 | 神奈川県横浜市瀬谷区阿久和西一丁目     | カナガワケンヨコハマシセヤクアクワニシイッチョウメ           | 045-123-4053 | 139.4961 | 35.45918 | 1830 |\n",
              "| S13052 | 森野店       | 13 | 東京都   | 東京都町田市森野三丁目                 | トウキョウトマチダシモリノサンチョウメ                       | 042-123-4030 | 139.4383 | 35.55293 | 1087 |\n",
              "| S14028 | 二ツ橋店     | 14 | 神奈川県 | 神奈川県横浜市瀬谷区二ツ橋町           | カナガワケンヨコハマシセヤクフタツバシチョウ                 | 045-123-4042 | 139.4963 | 35.46304 | 1574 |\n",
              "| S14012 | 本牧和田店   | 14 | 神奈川県 | 神奈川県横浜市中区本牧和田             | カナガワケンヨコハマシナカクホンモクワダ                     | 045-123-4034 | 139.6582 | 35.42156 | 1341 |\n",
              "| S14046 | 北山田店     | 14 | 神奈川県 | 神奈川県横浜市都筑区北山田一丁目       | カナガワケンヨコハマシツヅキクキタヤマタイッチョウメ         | 045-123-4049 | 139.5916 | 35.56189 |  831 |\n",
              "| S14022 | 逗子店       | 14 | 神奈川県 | 神奈川県逗子市逗子一丁目               | カナガワケンズシシズシイッチョウメ                           | 046-123-4036 | 139.5789 | 35.29642 | 1838 |\n",
              "| S14011 | 日吉本町店   | 14 | 神奈川県 | 神奈川県横浜市港北区日吉本町四丁目     | カナガワケンヨコハマシコウホククヒヨシホンチョウヨンチョウメ | 045-123-4033 | 139.6316 | 35.54655 |  890 |\n",
              "| S13016 | 小金井店     | 13 | 東京都   | 東京都小金井市本町一丁目               | トウキョウトコガネイシホンチョウイッチョウメ                 | 042-123-4015 | 139.5094 | 35.70018 | 1399 |\n",
              "| S14034 | 川崎野川店   | 14 | 神奈川県 | 神奈川県川崎市宮前区野川               | カナガワケンカワサキシミヤマエクノガワ                       | 044-123-4044 | 139.5998 | 35.57693 | 1318 |\n",
              "| S14048 | 中川中央店   | 14 | 神奈川県 | 神奈川県横浜市都筑区中川中央二丁目     | カナガワケンヨコハマシツヅキクナカガワチュウオウニチョウメ   | 045-123-4051 | 139.5758 | 35.54912 | 1657 |\n",
              "| S12007 | 佐倉店       | 12 | 千葉県   | 千葉県佐倉市上志津                     | チバケンサクラシカミシヅ                                     | 043-123-4001 | 140.1452 | 35.71872 | 1895 |\n",
              "| S14026 | 辻堂西海岸店 | 14 | 神奈川県 | 神奈川県藤沢市辻堂西海岸二丁目         | カナガワケンフジサワシツジドウニシカイガンニチョウメ         | 046-123-4040 | 139.4466 | 35.32464 | 1732 |\n",
              "| S13041 | 八王子店     | 13 | 東京都   | 東京都八王子市大塚                     | トウキョウトハチオウジシオオツカ                             | 042-123-4026 | 139.4235 | 35.63787 |  810 |\n",
              "| S14049 | 川崎大師店   | 14 | 神奈川県 | 神奈川県川崎市川崎区中瀬三丁目         | カナガワケンカワサキシカワサキクナカゼサンチョウメ           | 044-123-4052 | 139.7327 | 35.53759 |  962 |\n",
              "| S14023 | 川崎店       | 14 | 神奈川県 | 神奈川県川崎市川崎区本町二丁目         | カナガワケンカワサキシカワサキクホンチョウニチョウメ         | 044-123-4037 | 139.7028 | 35.53599 | 1804 |\n",
              "| S13018 | 清瀬店       | 13 | 東京都   | 東京都清瀬市松山一丁目                 | トウキョウトキヨセシマツヤマイッチョウメ                     | 042-123-4017 | 139.5178 | 35.76885 | 1220 |\n",
              "| S14027 | 南藤沢店     | 14 | 神奈川県 | 神奈川県藤沢市南藤沢                   | カナガワケンフジサワシミナミフジサワ                         | 046-123-4041 | 139.4896 | 35.33762 | 1521 |\n",
              "| S14021 | 伊勢原店     | 14 | 神奈川県 | 神奈川県伊勢原市伊勢原四丁目           | カナガワケンイセハラシイセハラヨンチョウメ                   | 046-123-4035 | 139.3129 | 35.40169 |  962 |\n",
              "| S14047 | 相模原店     | 14 | 神奈川県 | 神奈川県相模原市千代田六丁目           | カナガワケンサガミハラシチヨダロクチョウメ                   | 042-123-4050 | 139.3748 | 35.55959 | 1047 |\n",
              "| S12013 | 習志野店     | 12 | 千葉県   | 千葉県習志野市芝園一丁目               | チバケンナラシノシシバゾノイッチョウメ                       | 047-123-4002 | 140.0220 | 35.66122 |  808 |\n",
              "| S14042 | 新山下店     | 14 | 神奈川県 | 神奈川県横浜市中区新山下二丁目         | カナガワケンヨコハマシナカクシンヤマシタニチョウメ           | 045-123-4047 | 139.6593 | 35.43894 | 1044 |\n",
              "| S12030 | 八幡店       | 12 | 千葉県   | 千葉県市川市八幡三丁目                 | チバケンイチカワシヤワタサンチョウメ                         | 047-123-4005 | 139.9240 | 35.72318 | 1162 |\n",
              "| S14025 | 大和店       | 14 | 神奈川県 | 神奈川県大和市下和田                   | カナガワケンヤマトシシモワダ                                 | 046-123-4039 | 139.4680 | 35.43414 | 1011 |\n",
              "| S14045 | 厚木店       | 14 | 神奈川県 | 神奈川県厚木市中町二丁目               | カナガワケンアツギシナカチョウニチョウメ                     | 046-123-4048 | 139.3651 | 35.44182 |  980 |\n",
              "| S12029 | 東野店       | 12 | 千葉県   | 千葉県浦安市東野一丁目                 | チバケンウラヤスシヒガシノイッチョウメ                       | 047-123-4004 | 139.8968 | 35.65086 | 1101 |\n",
              "| S12053 | 高洲店       | 12 | 千葉県   | 千葉県浦安市高洲五丁目                 | チバケンウラヤスシタカスゴチョウメ                           | 047-123-4006 | 139.9176 | 35.63755 | 1555 |\n",
              "| S14024 | 三田店       | 14 | 神奈川県 | 神奈川県川崎市多摩区三田四丁目         | カナガワケンカワサキシタマクミタヨンチョウメ                 | 044-123-4038 | 139.5424 | 35.60770 |  972 |\n",
              "| S14006 | 葛が谷店     | 14 | 神奈川県 | 神奈川県横浜市都筑区葛が谷             | カナガワケンヨコハマシツヅキククズガヤ                       | 045-123-4031 | 139.5633 | 35.53573 | 1886 |\n",
              "\n"
            ],
            "text/plain": [
              "   store_cd store_name   prefecture_cd prefecture\n",
              "1  S12014   千草台店     12            千葉県    \n",
              "2  S13002   国分寺店     13            東京都    \n",
              "3  S14010   菊名店       14            神奈川県  \n",
              "4  S14033   阿久和店     14            神奈川県  \n",
              "5  S14036   相模原中央店 14            神奈川県  \n",
              "6  S14040   長津田店     14            神奈川県  \n",
              "7  S14050   阿久和西店   14            神奈川県  \n",
              "8  S13052   森野店       13            東京都    \n",
              "9  S14028   二ツ橋店     14            神奈川県  \n",
              "10 S14012   本牧和田店   14            神奈川県  \n",
              "11 S14046   北山田店     14            神奈川県  \n",
              "12 S14022   逗子店       14            神奈川県  \n",
              "13 S14011   日吉本町店   14            神奈川県  \n",
              "14 S13016   小金井店     13            東京都    \n",
              "15 S14034   川崎野川店   14            神奈川県  \n",
              "16 S14048   中川中央店   14            神奈川県  \n",
              "17 S12007   佐倉店       12            千葉県    \n",
              "18 S14026   辻堂西海岸店 14            神奈川県  \n",
              "19 S13041   八王子店     13            東京都    \n",
              "20 S14049   川崎大師店   14            神奈川県  \n",
              "21 S14023   川崎店       14            神奈川県  \n",
              "22 S13018   清瀬店       13            東京都    \n",
              "23 S14027   南藤沢店     14            神奈川県  \n",
              "24 S14021   伊勢原店     14            神奈川県  \n",
              "25 S14047   相模原店     14            神奈川県  \n",
              "26 S12013   習志野店     12            千葉県    \n",
              "27 S14042   新山下店     14            神奈川県  \n",
              "28 S12030   八幡店       12            千葉県    \n",
              "29 S14025   大和店       14            神奈川県  \n",
              "30 S14045   厚木店       14            神奈川県  \n",
              "31 S12029   東野店       12            千葉県    \n",
              "32 S12053   高洲店       12            千葉県    \n",
              "33 S14024   三田店       14            神奈川県  \n",
              "34 S14006   葛が谷店     14            神奈川県  \n",
              "   address                               \n",
              "1  千葉県千葉市稲毛区千草台一丁目        \n",
              "2  東京都国分寺市本多二丁目              \n",
              "3  神奈川県横浜市港北区菊名一丁目        \n",
              "4  神奈川県横浜市瀬谷区阿久和西一丁目    \n",
              "5  神奈川県相模原市中央二丁目            \n",
              "6  神奈川県横浜市緑区長津田みなみ台五丁目\n",
              "7  神奈川県横浜市瀬谷区阿久和西一丁目    \n",
              "8  東京都町田市森野三丁目                \n",
              "9  神奈川県横浜市瀬谷区二ツ橋町          \n",
              "10 神奈川県横浜市中区本牧和田            \n",
              "11 神奈川県横浜市都筑区北山田一丁目      \n",
              "12 神奈川県逗子市逗子一丁目              \n",
              "13 神奈川県横浜市港北区日吉本町四丁目    \n",
              "14 東京都小金井市本町一丁目              \n",
              "15 神奈川県川崎市宮前区野川              \n",
              "16 神奈川県横浜市都筑区中川中央二丁目    \n",
              "17 千葉県佐倉市上志津                    \n",
              "18 神奈川県藤沢市辻堂西海岸二丁目        \n",
              "19 東京都八王子市大塚                    \n",
              "20 神奈川県川崎市川崎区中瀬三丁目        \n",
              "21 神奈川県川崎市川崎区本町二丁目        \n",
              "22 東京都清瀬市松山一丁目                \n",
              "23 神奈川県藤沢市南藤沢                  \n",
              "24 神奈川県伊勢原市伊勢原四丁目          \n",
              "25 神奈川県相模原市千代田六丁目          \n",
              "26 千葉県習志野市芝園一丁目              \n",
              "27 神奈川県横浜市中区新山下二丁目        \n",
              "28 千葉県市川市八幡三丁目                \n",
              "29 神奈川県大和市下和田                  \n",
              "30 神奈川県厚木市中町二丁目              \n",
              "31 千葉県浦安市東野一丁目                \n",
              "32 千葉県浦安市高洲五丁目                \n",
              "33 神奈川県川崎市多摩区三田四丁目        \n",
              "34 神奈川県横浜市都筑区葛が谷            \n",
              "   address_kana                                                 tel_no      \n",
              "1  チバケンチバシイナゲクチグサダイイッチョウメ                 043-123-4003\n",
              "2  トウキョウトコクブンジシホンダニチョウメ                     042-123-4008\n",
              "3  カナガワケンヨコハマシコウホククキクナイッチョウメ           045-123-4032\n",
              "4  カナガワケンヨコハマシセヤクアクワニシイッチョウメ           045-123-4043\n",
              "5  カナガワケンサガミハラシチュウオウニチョウメ                 042-123-4045\n",
              "6  カナガワケンヨコハマシミドリクナガツタミナミダイゴチョウメ   045-123-4046\n",
              "7  カナガワケンヨコハマシセヤクアクワニシイッチョウメ           045-123-4053\n",
              "8  トウキョウトマチダシモリノサンチョウメ                       042-123-4030\n",
              "9  カナガワケンヨコハマシセヤクフタツバシチョウ                 045-123-4042\n",
              "10 カナガワケンヨコハマシナカクホンモクワダ                     045-123-4034\n",
              "11 カナガワケンヨコハマシツヅキクキタヤマタイッチョウメ         045-123-4049\n",
              "12 カナガワケンズシシズシイッチョウメ                           046-123-4036\n",
              "13 カナガワケンヨコハマシコウホククヒヨシホンチョウヨンチョウメ 045-123-4033\n",
              "14 トウキョウトコガネイシホンチョウイッチョウメ                 042-123-4015\n",
              "15 カナガワケンカワサキシミヤマエクノガワ                       044-123-4044\n",
              "16 カナガワケンヨコハマシツヅキクナカガワチュウオウニチョウメ   045-123-4051\n",
              "17 チバケンサクラシカミシヅ                                     043-123-4001\n",
              "18 カナガワケンフジサワシツジドウニシカイガンニチョウメ         046-123-4040\n",
              "19 トウキョウトハチオウジシオオツカ                             042-123-4026\n",
              "20 カナガワケンカワサキシカワサキクナカゼサンチョウメ           044-123-4052\n",
              "21 カナガワケンカワサキシカワサキクホンチョウニチョウメ         044-123-4037\n",
              "22 トウキョウトキヨセシマツヤマイッチョウメ                     042-123-4017\n",
              "23 カナガワケンフジサワシミナミフジサワ                         046-123-4041\n",
              "24 カナガワケンイセハラシイセハラヨンチョウメ                   046-123-4035\n",
              "25 カナガワケンサガミハラシチヨダロクチョウメ                   042-123-4050\n",
              "26 チバケンナラシノシシバゾノイッチョウメ                       047-123-4002\n",
              "27 カナガワケンヨコハマシナカクシンヤマシタニチョウメ           045-123-4047\n",
              "28 チバケンイチカワシヤワタサンチョウメ                         047-123-4005\n",
              "29 カナガワケンヤマトシシモワダ                                 046-123-4039\n",
              "30 カナガワケンアツギシナカチョウニチョウメ                     046-123-4048\n",
              "31 チバケンウラヤスシヒガシノイッチョウメ                       047-123-4004\n",
              "32 チバケンウラヤスシタカスゴチョウメ                           047-123-4006\n",
              "33 カナガワケンカワサキシタマクミタヨンチョウメ                 044-123-4038\n",
              "34 カナガワケンヨコハマシツヅキククズガヤ                       045-123-4031\n",
              "   longitude latitude floor_area\n",
              "1  140.1180  35.63559 1698      \n",
              "2  139.4802  35.70566 1735      \n",
              "3  139.6326  35.50049 1732      \n",
              "4  139.4961  35.45918 1495      \n",
              "5  139.3716  35.57327 1679      \n",
              "6  139.4994  35.52398 1548      \n",
              "7  139.4961  35.45918 1830      \n",
              "8  139.4383  35.55293 1087      \n",
              "9  139.4963  35.46304 1574      \n",
              "10 139.6582  35.42156 1341      \n",
              "11 139.5916  35.56189  831      \n",
              "12 139.5789  35.29642 1838      \n",
              "13 139.6316  35.54655  890      \n",
              "14 139.5094  35.70018 1399      \n",
              "15 139.5998  35.57693 1318      \n",
              "16 139.5758  35.54912 1657      \n",
              "17 140.1452  35.71872 1895      \n",
              "18 139.4466  35.32464 1732      \n",
              "19 139.4235  35.63787  810      \n",
              "20 139.7327  35.53759  962      \n",
              "21 139.7028  35.53599 1804      \n",
              "22 139.5178  35.76885 1220      \n",
              "23 139.4896  35.33762 1521      \n",
              "24 139.3129  35.40169  962      \n",
              "25 139.3748  35.55959 1047      \n",
              "26 140.0220  35.66122  808      \n",
              "27 139.6593  35.43894 1044      \n",
              "28 139.9240  35.72318 1162      \n",
              "29 139.4680  35.43414 1011      \n",
              "30 139.3651  35.44182  980      \n",
              "31 139.8968  35.65086 1101      \n",
              "32 139.9176  35.63755 1555      \n",
              "33 139.5424  35.60770  972      \n",
              "34 139.5633  35.53573 1886      "
            ]
          },
          "metadata": {},
          "output_type": "display_data"
        }
      ],
      "source": [
        "df_store %>% filter(grepl(\"^[0-9]{3}-[0-9]{3}-[0-9]{4}$\", tel_no))"
      ]
    },
    {
      "cell_type": "markdown",
      "metadata": {
        "id": "MCRm_6QeBJia"
      },
      "source": [
        "---\n",
        "> R-017: 고객 데이터(df_customer)를 생년월일(birth_day)을 기준으로 나이순으로 정렬하고, 맨 위부터 10개의 항목을 모두 표시하라."
      ]
    },
    {
      "cell_type": "code",
      "execution_count": null,
      "metadata": {
        "id": "kLMiVGTjBJia",
        "outputId": "3333c55a-a225-4398-d643-e6cfa231ea77"
      },
      "outputs": [
        {
          "data": {
            "text/html": [
              "<table class=\"dataframe\">\n",
              "<caption>A data.frame: 10 × 11</caption>\n",
              "<thead>\n",
              "\t<tr><th></th><th scope=col>customer_id</th><th scope=col>customer_name</th><th scope=col>gender_cd</th><th scope=col>gender</th><th scope=col>birth_day</th><th scope=col>age</th><th scope=col>postal_cd</th><th scope=col>address</th><th scope=col>application_store_cd</th><th scope=col>application_date</th><th scope=col>status_cd</th></tr>\n",
              "\t<tr><th></th><th scope=col>&lt;chr&gt;</th><th scope=col>&lt;chr&gt;</th><th scope=col>&lt;chr&gt;</th><th scope=col>&lt;chr&gt;</th><th scope=col>&lt;date&gt;</th><th scope=col>&lt;int&gt;</th><th scope=col>&lt;chr&gt;</th><th scope=col>&lt;chr&gt;</th><th scope=col>&lt;chr&gt;</th><th scope=col>&lt;chr&gt;</th><th scope=col>&lt;chr&gt;</th></tr>\n",
              "</thead>\n",
              "<tbody>\n",
              "\t<tr><th scope=row>18818</th><td>CS003813000014</td><td>村山 菜々美</td><td>1</td><td>女性</td><td>1928-11-26</td><td>90</td><td>182-0007</td><td>東京都調布市菊野台**********      </td><td>S13003</td><td>20160214</td><td>0-00000000-0</td></tr>\n",
              "\t<tr><th scope=row>12329</th><td>CS026813000004</td><td>吉村 朝陽  </td><td>1</td><td>女性</td><td>1928-12-14</td><td>90</td><td>251-0043</td><td>神奈川県藤沢市辻堂元町**********  </td><td>S14026</td><td>20150723</td><td>0-00000000-0</td></tr>\n",
              "\t<tr><th scope=row>15683</th><td>CS018811000003</td><td>熊沢 美里  </td><td>1</td><td>女性</td><td>1929-01-07</td><td>90</td><td>204-0004</td><td>東京都清瀬市野塩**********        </td><td>S13018</td><td>20150403</td><td>0-00000000-0</td></tr>\n",
              "\t<tr><th scope=row>15303</th><td>CS027803000004</td><td>内村 拓郎  </td><td>0</td><td>男性</td><td>1929-01-12</td><td>90</td><td>251-0031</td><td>神奈川県藤沢市鵠沼藤が谷**********</td><td>S14027</td><td>20151227</td><td>0-00000000-0</td></tr>\n",
              "\t<tr><th scope=row>1682</th><td>CS013801000003</td><td>天野 拓郎  </td><td>0</td><td>男性</td><td>1929-01-15</td><td>90</td><td>274-0824</td><td>千葉県船橋市前原東**********      </td><td>S12013</td><td>20160120</td><td>0-00000000-0</td></tr>\n",
              "\t<tr><th scope=row>7512</th><td>CS001814000022</td><td>鶴田 里穂  </td><td>1</td><td>女性</td><td>1929-01-28</td><td>90</td><td>144-0045</td><td>東京都大田区南六郷**********      </td><td>S13001</td><td>20161012</td><td>A-20090415-7</td></tr>\n",
              "\t<tr><th scope=row>2379</th><td>CS016815000002</td><td>山元 美紀  </td><td>1</td><td>女性</td><td>1929-02-22</td><td>90</td><td>184-0005</td><td>東京都小金井市桜町**********      </td><td>S13016</td><td>20150629</td><td>C-20090923-C</td></tr>\n",
              "\t<tr><th scope=row>4681</th><td>CS009815000003</td><td>中田 里穂  </td><td>1</td><td>女性</td><td>1929-04-08</td><td>89</td><td>154-0014</td><td>東京都世田谷区新町**********      </td><td>S13009</td><td>20150421</td><td>D-20091021-E</td></tr>\n",
              "\t<tr><th scope=row>6306</th><td>CS012813000013</td><td>宇野 南朋  </td><td>1</td><td>女性</td><td>1929-04-09</td><td>89</td><td>231-0806</td><td>神奈川県横浜市中区本牧町**********</td><td>S14012</td><td>20150712</td><td>0-00000000-0</td></tr>\n",
              "\t<tr><th scope=row>16071</th><td>CS005813000015</td><td>金谷 恵梨香</td><td>1</td><td>女性</td><td>1929-04-09</td><td>89</td><td>165-0032</td><td>東京都中野区鷺宮**********        </td><td>S13005</td><td>20150506</td><td>0-00000000-0</td></tr>\n",
              "</tbody>\n",
              "</table>\n"
            ],
            "text/latex": [
              "A data.frame: 10 × 11\n",
              "\\begin{tabular}{r|lllllllllll}\n",
              "  & customer\\_id & customer\\_name & gender\\_cd & gender & birth\\_day & age & postal\\_cd & address & application\\_store\\_cd & application\\_date & status\\_cd\\\\\n",
              "  & <chr> & <chr> & <chr> & <chr> & <date> & <int> & <chr> & <chr> & <chr> & <chr> & <chr>\\\\\n",
              "\\hline\n",
              "\t18818 & CS003813000014 & 村山 菜々美 & 1 & 女性 & 1928-11-26 & 90 & 182-0007 & 東京都調布市菊野台**********       & S13003 & 20160214 & 0-00000000-0\\\\\n",
              "\t12329 & CS026813000004 & 吉村 朝陽   & 1 & 女性 & 1928-12-14 & 90 & 251-0043 & 神奈川県藤沢市辻堂元町**********   & S14026 & 20150723 & 0-00000000-0\\\\\n",
              "\t15683 & CS018811000003 & 熊沢 美里   & 1 & 女性 & 1929-01-07 & 90 & 204-0004 & 東京都清瀬市野塩**********         & S13018 & 20150403 & 0-00000000-0\\\\\n",
              "\t15303 & CS027803000004 & 内村 拓郎   & 0 & 男性 & 1929-01-12 & 90 & 251-0031 & 神奈川県藤沢市鵠沼藤が谷********** & S14027 & 20151227 & 0-00000000-0\\\\\n",
              "\t1682 & CS013801000003 & 天野 拓郎   & 0 & 男性 & 1929-01-15 & 90 & 274-0824 & 千葉県船橋市前原東**********       & S12013 & 20160120 & 0-00000000-0\\\\\n",
              "\t7512 & CS001814000022 & 鶴田 里穂   & 1 & 女性 & 1929-01-28 & 90 & 144-0045 & 東京都大田区南六郷**********       & S13001 & 20161012 & A-20090415-7\\\\\n",
              "\t2379 & CS016815000002 & 山元 美紀   & 1 & 女性 & 1929-02-22 & 90 & 184-0005 & 東京都小金井市桜町**********       & S13016 & 20150629 & C-20090923-C\\\\\n",
              "\t4681 & CS009815000003 & 中田 里穂   & 1 & 女性 & 1929-04-08 & 89 & 154-0014 & 東京都世田谷区新町**********       & S13009 & 20150421 & D-20091021-E\\\\\n",
              "\t6306 & CS012813000013 & 宇野 南朋   & 1 & 女性 & 1929-04-09 & 89 & 231-0806 & 神奈川県横浜市中区本牧町********** & S14012 & 20150712 & 0-00000000-0\\\\\n",
              "\t16071 & CS005813000015 & 金谷 恵梨香 & 1 & 女性 & 1929-04-09 & 89 & 165-0032 & 東京都中野区鷺宮**********         & S13005 & 20150506 & 0-00000000-0\\\\\n",
              "\\end{tabular}\n"
            ],
            "text/markdown": [
              "\n",
              "A data.frame: 10 × 11\n",
              "\n",
              "| <!--/--> | customer_id &lt;chr&gt; | customer_name &lt;chr&gt; | gender_cd &lt;chr&gt; | gender &lt;chr&gt; | birth_day &lt;date&gt; | age &lt;int&gt; | postal_cd &lt;chr&gt; | address &lt;chr&gt; | application_store_cd &lt;chr&gt; | application_date &lt;chr&gt; | status_cd &lt;chr&gt; |\n",
              "|---|---|---|---|---|---|---|---|---|---|---|---|\n",
              "| 18818 | CS003813000014 | 村山 菜々美 | 1 | 女性 | 1928-11-26 | 90 | 182-0007 | 東京都調布市菊野台**********       | S13003 | 20160214 | 0-00000000-0 |\n",
              "| 12329 | CS026813000004 | 吉村 朝陽   | 1 | 女性 | 1928-12-14 | 90 | 251-0043 | 神奈川県藤沢市辻堂元町**********   | S14026 | 20150723 | 0-00000000-0 |\n",
              "| 15683 | CS018811000003 | 熊沢 美里   | 1 | 女性 | 1929-01-07 | 90 | 204-0004 | 東京都清瀬市野塩**********         | S13018 | 20150403 | 0-00000000-0 |\n",
              "| 15303 | CS027803000004 | 内村 拓郎   | 0 | 男性 | 1929-01-12 | 90 | 251-0031 | 神奈川県藤沢市鵠沼藤が谷********** | S14027 | 20151227 | 0-00000000-0 |\n",
              "| 1682 | CS013801000003 | 天野 拓郎   | 0 | 男性 | 1929-01-15 | 90 | 274-0824 | 千葉県船橋市前原東**********       | S12013 | 20160120 | 0-00000000-0 |\n",
              "| 7512 | CS001814000022 | 鶴田 里穂   | 1 | 女性 | 1929-01-28 | 90 | 144-0045 | 東京都大田区南六郷**********       | S13001 | 20161012 | A-20090415-7 |\n",
              "| 2379 | CS016815000002 | 山元 美紀   | 1 | 女性 | 1929-02-22 | 90 | 184-0005 | 東京都小金井市桜町**********       | S13016 | 20150629 | C-20090923-C |\n",
              "| 4681 | CS009815000003 | 中田 里穂   | 1 | 女性 | 1929-04-08 | 89 | 154-0014 | 東京都世田谷区新町**********       | S13009 | 20150421 | D-20091021-E |\n",
              "| 6306 | CS012813000013 | 宇野 南朋   | 1 | 女性 | 1929-04-09 | 89 | 231-0806 | 神奈川県横浜市中区本牧町********** | S14012 | 20150712 | 0-00000000-0 |\n",
              "| 16071 | CS005813000015 | 金谷 恵梨香 | 1 | 女性 | 1929-04-09 | 89 | 165-0032 | 東京都中野区鷺宮**********         | S13005 | 20150506 | 0-00000000-0 |\n",
              "\n"
            ],
            "text/plain": [
              "      customer_id    customer_name gender_cd gender birth_day  age postal_cd\n",
              "18818 CS003813000014 村山 菜々美   1         女性   1928-11-26 90  182-0007 \n",
              "12329 CS026813000004 吉村 朝陽     1         女性   1928-12-14 90  251-0043 \n",
              "15683 CS018811000003 熊沢 美里     1         女性   1929-01-07 90  204-0004 \n",
              "15303 CS027803000004 内村 拓郎     0         男性   1929-01-12 90  251-0031 \n",
              "1682  CS013801000003 天野 拓郎     0         男性   1929-01-15 90  274-0824 \n",
              "7512  CS001814000022 鶴田 里穂     1         女性   1929-01-28 90  144-0045 \n",
              "2379  CS016815000002 山元 美紀     1         女性   1929-02-22 90  184-0005 \n",
              "4681  CS009815000003 中田 里穂     1         女性   1929-04-08 89  154-0014 \n",
              "6306  CS012813000013 宇野 南朋     1         女性   1929-04-09 89  231-0806 \n",
              "16071 CS005813000015 金谷 恵梨香   1         女性   1929-04-09 89  165-0032 \n",
              "      address                            application_store_cd application_date\n",
              "18818 東京都調布市菊野台**********       S13003               20160214        \n",
              "12329 神奈川県藤沢市辻堂元町**********   S14026               20150723        \n",
              "15683 東京都清瀬市野塩**********         S13018               20150403        \n",
              "15303 神奈川県藤沢市鵠沼藤が谷********** S14027               20151227        \n",
              "1682  千葉県船橋市前原東**********       S12013               20160120        \n",
              "7512  東京都大田区南六郷**********       S13001               20161012        \n",
              "2379  東京都小金井市桜町**********       S13016               20150629        \n",
              "4681  東京都世田谷区新町**********       S13009               20150421        \n",
              "6306  神奈川県横浜市中区本牧町********** S14012               20150712        \n",
              "16071 東京都中野区鷺宮**********         S13005               20150506        \n",
              "      status_cd   \n",
              "18818 0-00000000-0\n",
              "12329 0-00000000-0\n",
              "15683 0-00000000-0\n",
              "15303 0-00000000-0\n",
              "1682  0-00000000-0\n",
              "7512  A-20090415-7\n",
              "2379  C-20090923-C\n",
              "4681  D-20091021-E\n",
              "6306  0-00000000-0\n",
              "16071 0-00000000-0"
            ]
          },
          "metadata": {},
          "output_type": "display_data"
        }
      ],
      "source": [
        "head(\n",
        "    df_customer[order(df_customer$birth_day), ],\n",
        "    n = 10\n",
        ")"
      ]
    },
    {
      "cell_type": "markdown",
      "metadata": {
        "id": "KWHws20dBJib"
      },
      "source": [
        "---\n",
        "> R-018: 고객 데이터(df_customer)를 생년월일(birth_day)을 기준으로 젊은 순서로 정렬하고, 맨 위부터 10개의 항목을 모두 표시하라."
      ]
    },
    {
      "cell_type": "code",
      "execution_count": null,
      "metadata": {
        "id": "Y0tfr18OBJib",
        "outputId": "6d301bc3-3048-45b5-f58f-399dea3d3a13"
      },
      "outputs": [
        {
          "data": {
            "text/html": [
              "<table class=\"dataframe\">\n",
              "<caption>A data.frame: 10 × 11</caption>\n",
              "<thead>\n",
              "\t<tr><th></th><th scope=col>customer_id</th><th scope=col>customer_name</th><th scope=col>gender_cd</th><th scope=col>gender</th><th scope=col>birth_day</th><th scope=col>age</th><th scope=col>postal_cd</th><th scope=col>address</th><th scope=col>application_store_cd</th><th scope=col>application_date</th><th scope=col>status_cd</th></tr>\n",
              "\t<tr><th></th><th scope=col>&lt;chr&gt;</th><th scope=col>&lt;chr&gt;</th><th scope=col>&lt;chr&gt;</th><th scope=col>&lt;chr&gt;</th><th scope=col>&lt;date&gt;</th><th scope=col>&lt;int&gt;</th><th scope=col>&lt;chr&gt;</th><th scope=col>&lt;chr&gt;</th><th scope=col>&lt;chr&gt;</th><th scope=col>&lt;chr&gt;</th><th scope=col>&lt;chr&gt;</th></tr>\n",
              "</thead>\n",
              "<tbody>\n",
              "\t<tr><th scope=row>15640</th><td>CS035114000004</td><td>大村 美里  </td><td>1</td><td>女性</td><td>2007-11-25</td><td>11</td><td>156-0053</td><td>東京都世田谷区桜**********          </td><td>S13035</td><td>20150619</td><td>6-20091205-6</td></tr>\n",
              "\t<tr><th scope=row>7469</th><td>CS022103000002</td><td>福山 はじめ</td><td>9</td><td>不明</td><td>2007-10-02</td><td>11</td><td>249-0006</td><td>神奈川県逗子市逗子**********        </td><td>S14022</td><td>20160909</td><td>0-00000000-0</td></tr>\n",
              "\t<tr><th scope=row>10746</th><td>CS002113000009</td><td>柴田 真悠子</td><td>1</td><td>女性</td><td>2007-09-17</td><td>11</td><td>184-0014</td><td>東京都小金井市貫井南町**********    </td><td>S13002</td><td>20160304</td><td>0-00000000-0</td></tr>\n",
              "\t<tr><th scope=row>19812</th><td>CS004115000014</td><td>松井 京子  </td><td>1</td><td>女性</td><td>2007-08-09</td><td>11</td><td>165-0031</td><td>東京都中野区上鷺宮**********        </td><td>S13004</td><td>20161120</td><td>1-20081231-1</td></tr>\n",
              "\t<tr><th scope=row>7040</th><td>CS002114000010</td><td>山内 遥    </td><td>1</td><td>女性</td><td>2007-06-03</td><td>11</td><td>184-0015</td><td>東京都小金井市貫井北町**********    </td><td>S13002</td><td>20160920</td><td>6-20100510-1</td></tr>\n",
              "\t<tr><th scope=row>3671</th><td>CS025115000002</td><td>小柳 夏希  </td><td>1</td><td>女性</td><td>2007-04-18</td><td>11</td><td>245-0018</td><td>神奈川県横浜市泉区上飯田町**********</td><td>S14025</td><td>20160116</td><td>D-20100913-D</td></tr>\n",
              "\t<tr><th scope=row>12494</th><td>CS002113000025</td><td>広末 まなみ</td><td>1</td><td>女性</td><td>2007-03-30</td><td>12</td><td>184-0015</td><td>東京都小金井市貫井北町**********    </td><td>S13002</td><td>20171030</td><td>0-00000000-0</td></tr>\n",
              "\t<tr><th scope=row>15978</th><td>CS033112000003</td><td>長野 美紀  </td><td>1</td><td>女性</td><td>2007-03-22</td><td>12</td><td>245-0051</td><td>神奈川県横浜市戸塚区名瀬町**********</td><td>S14033</td><td>20150606</td><td>0-00000000-0</td></tr>\n",
              "\t<tr><th scope=row>5717</th><td>CS007115000006</td><td>福岡 瞬    </td><td>1</td><td>女性</td><td>2007-03-10</td><td>12</td><td>285-0845</td><td>千葉県佐倉市西志津**********        </td><td>S12007</td><td>20151118</td><td>F-20101016-F</td></tr>\n",
              "\t<tr><th scope=row>15098</th><td>CS014113000008</td><td>矢口 莉緒  </td><td>1</td><td>女性</td><td>2007-03-05</td><td>12</td><td>260-0041</td><td>千葉県千葉市中央区東千葉**********  </td><td>S12014</td><td>20150622</td><td>3-20091108-6</td></tr>\n",
              "</tbody>\n",
              "</table>\n"
            ],
            "text/latex": [
              "A data.frame: 10 × 11\n",
              "\\begin{tabular}{r|lllllllllll}\n",
              "  & customer\\_id & customer\\_name & gender\\_cd & gender & birth\\_day & age & postal\\_cd & address & application\\_store\\_cd & application\\_date & status\\_cd\\\\\n",
              "  & <chr> & <chr> & <chr> & <chr> & <date> & <int> & <chr> & <chr> & <chr> & <chr> & <chr>\\\\\n",
              "\\hline\n",
              "\t15640 & CS035114000004 & 大村 美里   & 1 & 女性 & 2007-11-25 & 11 & 156-0053 & 東京都世田谷区桜**********           & S13035 & 20150619 & 6-20091205-6\\\\\n",
              "\t7469 & CS022103000002 & 福山 はじめ & 9 & 不明 & 2007-10-02 & 11 & 249-0006 & 神奈川県逗子市逗子**********         & S14022 & 20160909 & 0-00000000-0\\\\\n",
              "\t10746 & CS002113000009 & 柴田 真悠子 & 1 & 女性 & 2007-09-17 & 11 & 184-0014 & 東京都小金井市貫井南町**********     & S13002 & 20160304 & 0-00000000-0\\\\\n",
              "\t19812 & CS004115000014 & 松井 京子   & 1 & 女性 & 2007-08-09 & 11 & 165-0031 & 東京都中野区上鷺宮**********         & S13004 & 20161120 & 1-20081231-1\\\\\n",
              "\t7040 & CS002114000010 & 山内 遥     & 1 & 女性 & 2007-06-03 & 11 & 184-0015 & 東京都小金井市貫井北町**********     & S13002 & 20160920 & 6-20100510-1\\\\\n",
              "\t3671 & CS025115000002 & 小柳 夏希   & 1 & 女性 & 2007-04-18 & 11 & 245-0018 & 神奈川県横浜市泉区上飯田町********** & S14025 & 20160116 & D-20100913-D\\\\\n",
              "\t12494 & CS002113000025 & 広末 まなみ & 1 & 女性 & 2007-03-30 & 12 & 184-0015 & 東京都小金井市貫井北町**********     & S13002 & 20171030 & 0-00000000-0\\\\\n",
              "\t15978 & CS033112000003 & 長野 美紀   & 1 & 女性 & 2007-03-22 & 12 & 245-0051 & 神奈川県横浜市戸塚区名瀬町********** & S14033 & 20150606 & 0-00000000-0\\\\\n",
              "\t5717 & CS007115000006 & 福岡 瞬     & 1 & 女性 & 2007-03-10 & 12 & 285-0845 & 千葉県佐倉市西志津**********         & S12007 & 20151118 & F-20101016-F\\\\\n",
              "\t15098 & CS014113000008 & 矢口 莉緒   & 1 & 女性 & 2007-03-05 & 12 & 260-0041 & 千葉県千葉市中央区東千葉**********   & S12014 & 20150622 & 3-20091108-6\\\\\n",
              "\\end{tabular}\n"
            ],
            "text/markdown": [
              "\n",
              "A data.frame: 10 × 11\n",
              "\n",
              "| <!--/--> | customer_id &lt;chr&gt; | customer_name &lt;chr&gt; | gender_cd &lt;chr&gt; | gender &lt;chr&gt; | birth_day &lt;date&gt; | age &lt;int&gt; | postal_cd &lt;chr&gt; | address &lt;chr&gt; | application_store_cd &lt;chr&gt; | application_date &lt;chr&gt; | status_cd &lt;chr&gt; |\n",
              "|---|---|---|---|---|---|---|---|---|---|---|---|\n",
              "| 15640 | CS035114000004 | 大村 美里   | 1 | 女性 | 2007-11-25 | 11 | 156-0053 | 東京都世田谷区桜**********           | S13035 | 20150619 | 6-20091205-6 |\n",
              "| 7469 | CS022103000002 | 福山 はじめ | 9 | 不明 | 2007-10-02 | 11 | 249-0006 | 神奈川県逗子市逗子**********         | S14022 | 20160909 | 0-00000000-0 |\n",
              "| 10746 | CS002113000009 | 柴田 真悠子 | 1 | 女性 | 2007-09-17 | 11 | 184-0014 | 東京都小金井市貫井南町**********     | S13002 | 20160304 | 0-00000000-0 |\n",
              "| 19812 | CS004115000014 | 松井 京子   | 1 | 女性 | 2007-08-09 | 11 | 165-0031 | 東京都中野区上鷺宮**********         | S13004 | 20161120 | 1-20081231-1 |\n",
              "| 7040 | CS002114000010 | 山内 遥     | 1 | 女性 | 2007-06-03 | 11 | 184-0015 | 東京都小金井市貫井北町**********     | S13002 | 20160920 | 6-20100510-1 |\n",
              "| 3671 | CS025115000002 | 小柳 夏希   | 1 | 女性 | 2007-04-18 | 11 | 245-0018 | 神奈川県横浜市泉区上飯田町********** | S14025 | 20160116 | D-20100913-D |\n",
              "| 12494 | CS002113000025 | 広末 まなみ | 1 | 女性 | 2007-03-30 | 12 | 184-0015 | 東京都小金井市貫井北町**********     | S13002 | 20171030 | 0-00000000-0 |\n",
              "| 15978 | CS033112000003 | 長野 美紀   | 1 | 女性 | 2007-03-22 | 12 | 245-0051 | 神奈川県横浜市戸塚区名瀬町********** | S14033 | 20150606 | 0-00000000-0 |\n",
              "| 5717 | CS007115000006 | 福岡 瞬     | 1 | 女性 | 2007-03-10 | 12 | 285-0845 | 千葉県佐倉市西志津**********         | S12007 | 20151118 | F-20101016-F |\n",
              "| 15098 | CS014113000008 | 矢口 莉緒   | 1 | 女性 | 2007-03-05 | 12 | 260-0041 | 千葉県千葉市中央区東千葉**********   | S12014 | 20150622 | 3-20091108-6 |\n",
              "\n"
            ],
            "text/plain": [
              "      customer_id    customer_name gender_cd gender birth_day  age postal_cd\n",
              "15640 CS035114000004 大村 美里     1         女性   2007-11-25 11  156-0053 \n",
              "7469  CS022103000002 福山 はじめ   9         不明   2007-10-02 11  249-0006 \n",
              "10746 CS002113000009 柴田 真悠子   1         女性   2007-09-17 11  184-0014 \n",
              "19812 CS004115000014 松井 京子     1         女性   2007-08-09 11  165-0031 \n",
              "7040  CS002114000010 山内 遥       1         女性   2007-06-03 11  184-0015 \n",
              "3671  CS025115000002 小柳 夏希     1         女性   2007-04-18 11  245-0018 \n",
              "12494 CS002113000025 広末 まなみ   1         女性   2007-03-30 12  184-0015 \n",
              "15978 CS033112000003 長野 美紀     1         女性   2007-03-22 12  245-0051 \n",
              "5717  CS007115000006 福岡 瞬       1         女性   2007-03-10 12  285-0845 \n",
              "15098 CS014113000008 矢口 莉緒     1         女性   2007-03-05 12  260-0041 \n",
              "      address                              application_store_cd\n",
              "15640 東京都世田谷区桜**********           S13035              \n",
              "7469  神奈川県逗子市逗子**********         S14022              \n",
              "10746 東京都小金井市貫井南町**********     S13002              \n",
              "19812 東京都中野区上鷺宮**********         S13004              \n",
              "7040  東京都小金井市貫井北町**********     S13002              \n",
              "3671  神奈川県横浜市泉区上飯田町********** S14025              \n",
              "12494 東京都小金井市貫井北町**********     S13002              \n",
              "15978 神奈川県横浜市戸塚区名瀬町********** S14033              \n",
              "5717  千葉県佐倉市西志津**********         S12007              \n",
              "15098 千葉県千葉市中央区東千葉**********   S12014              \n",
              "      application_date status_cd   \n",
              "15640 20150619         6-20091205-6\n",
              "7469  20160909         0-00000000-0\n",
              "10746 20160304         0-00000000-0\n",
              "19812 20161120         1-20081231-1\n",
              "7040  20160920         6-20100510-1\n",
              "3671  20160116         D-20100913-D\n",
              "12494 20171030         0-00000000-0\n",
              "15978 20150606         0-00000000-0\n",
              "5717  20151118         F-20101016-F\n",
              "15098 20150622         3-20091108-6"
            ]
          },
          "metadata": {},
          "output_type": "display_data"
        }
      ],
      "source": [
        "head(\n",
        "    df_customer[order(df_customer$birth_day,\n",
        "                      decreasing = TRUE), ],\n",
        "    n = 10\n",
        ")"
      ]
    },
    {
      "cell_type": "markdown",
      "metadata": {
        "id": "lbLlhYgJBJib"
      },
      "source": [
        "---\n",
        "> R-019: 영수증 내역 데이터(df_receipt)에 대해 건당 매출 금액(amount)이 높은 순서대로 순위를 부여하고, 맨 위부터 10건씩 표시한다. 항목은 고객 ID(customer_id), 매출 금액(amount), 부여한 랭크를 표시하도록 한다. 단, 매출액(amount)이 동일한 경우 동일한 순위를 부여한다."
      ]
    },
    {
      "cell_type": "code",
      "execution_count": null,
      "metadata": {
        "id": "G3PjXi9HBJib",
        "outputId": "b235ab37-24a7-4ac3-b3d7-1b2259b67856"
      },
      "outputs": [
        {
          "data": {
            "text/html": [
              "<table class=\"dataframe\">\n",
              "<caption>A data.frame: 10 × 3</caption>\n",
              "<thead>\n",
              "\t<tr><th scope=col>customer_id</th><th scope=col>amount</th><th scope=col>ranking</th></tr>\n",
              "\t<tr><th scope=col>&lt;chr&gt;</th><th scope=col>&lt;int&gt;</th><th scope=col>&lt;int&gt;</th></tr>\n",
              "</thead>\n",
              "<tbody>\n",
              "\t<tr><td>CS011415000006</td><td>10925</td><td>1</td></tr>\n",
              "\t<tr><td>ZZ000000000000</td><td> 6800</td><td>2</td></tr>\n",
              "\t<tr><td>CS028605000002</td><td> 5780</td><td>3</td></tr>\n",
              "\t<tr><td>CS015515000034</td><td> 5480</td><td>4</td></tr>\n",
              "\t<tr><td>ZZ000000000000</td><td> 5480</td><td>4</td></tr>\n",
              "\t<tr><td>ZZ000000000000</td><td> 5480</td><td>4</td></tr>\n",
              "\t<tr><td>ZZ000000000000</td><td> 5440</td><td>7</td></tr>\n",
              "\t<tr><td>CS021515000089</td><td> 5440</td><td>7</td></tr>\n",
              "\t<tr><td>CS015515000083</td><td> 5280</td><td>9</td></tr>\n",
              "\t<tr><td>CS017414000114</td><td> 5280</td><td>9</td></tr>\n",
              "</tbody>\n",
              "</table>\n"
            ],
            "text/latex": [
              "A data.frame: 10 × 3\n",
              "\\begin{tabular}{lll}\n",
              " customer\\_id & amount & ranking\\\\\n",
              " <chr> & <int> & <int>\\\\\n",
              "\\hline\n",
              "\t CS011415000006 & 10925 & 1\\\\\n",
              "\t ZZ000000000000 &  6800 & 2\\\\\n",
              "\t CS028605000002 &  5780 & 3\\\\\n",
              "\t CS015515000034 &  5480 & 4\\\\\n",
              "\t ZZ000000000000 &  5480 & 4\\\\\n",
              "\t ZZ000000000000 &  5480 & 4\\\\\n",
              "\t ZZ000000000000 &  5440 & 7\\\\\n",
              "\t CS021515000089 &  5440 & 7\\\\\n",
              "\t CS015515000083 &  5280 & 9\\\\\n",
              "\t CS017414000114 &  5280 & 9\\\\\n",
              "\\end{tabular}\n"
            ],
            "text/markdown": [
              "\n",
              "A data.frame: 10 × 3\n",
              "\n",
              "| customer_id &lt;chr&gt; | amount &lt;int&gt; | ranking &lt;int&gt; |\n",
              "|---|---|---|\n",
              "| CS011415000006 | 10925 | 1 |\n",
              "| ZZ000000000000 |  6800 | 2 |\n",
              "| CS028605000002 |  5780 | 3 |\n",
              "| CS015515000034 |  5480 | 4 |\n",
              "| ZZ000000000000 |  5480 | 4 |\n",
              "| ZZ000000000000 |  5480 | 4 |\n",
              "| ZZ000000000000 |  5440 | 7 |\n",
              "| CS021515000089 |  5440 | 7 |\n",
              "| CS015515000083 |  5280 | 9 |\n",
              "| CS017414000114 |  5280 | 9 |\n",
              "\n"
            ],
            "text/plain": [
              "   customer_id    amount ranking\n",
              "1  CS011415000006 10925  1      \n",
              "2  ZZ000000000000  6800  2      \n",
              "3  CS028605000002  5780  3      \n",
              "4  CS015515000034  5480  4      \n",
              "5  ZZ000000000000  5480  4      \n",
              "6  ZZ000000000000  5480  4      \n",
              "7  ZZ000000000000  5440  7      \n",
              "8  CS021515000089  5440  7      \n",
              "9  CS015515000083  5280  9      \n",
              "10 CS017414000114  5280  9      "
            ]
          },
          "metadata": {},
          "output_type": "display_data"
        }
      ],
      "source": [
        "df_receipt[c(\"customer_id\", \"amount\")] %>%\n",
        "    mutate(ranking = min_rank(desc(amount))) %>%\n",
        "    arrange(ranking) %>%\n",
        "    slice(1:10)"
      ]
    },
    {
      "cell_type": "markdown",
      "metadata": {
        "id": "Y4i6YyDjBJib"
      },
      "source": [
        "---\n",
        "> R-020: 영수증 내역 데이터(df_receipt)에 대해 건당 매출 금액(amount)이 높은 순서대로 순위를 부여하고, 맨 위부터 10건씩 표시한다. 항목은 고객 ID(customer_id), 매출 금액(amount), 부여한 순위를 표시한다. 단, 매출금액(amount)이 동일한 경우에도 별도의 순위를 부여해야 한다."
      ]
    },
    {
      "cell_type": "code",
      "execution_count": null,
      "metadata": {
        "id": "UJq5Z2pCBJib",
        "outputId": "4b8381ef-a52d-4196-d717-b908985d7507"
      },
      "outputs": [
        {
          "data": {
            "text/html": [
              "<table class=\"dataframe\">\n",
              "<caption>A data.frame: 10 × 3</caption>\n",
              "<thead>\n",
              "\t<tr><th scope=col>customer_id</th><th scope=col>amount</th><th scope=col>ranking</th></tr>\n",
              "\t<tr><th scope=col>&lt;chr&gt;</th><th scope=col>&lt;int&gt;</th><th scope=col>&lt;int&gt;</th></tr>\n",
              "</thead>\n",
              "<tbody>\n",
              "\t<tr><td>CS011415000006</td><td>10925</td><td> 1</td></tr>\n",
              "\t<tr><td>ZZ000000000000</td><td> 6800</td><td> 2</td></tr>\n",
              "\t<tr><td>CS028605000002</td><td> 5780</td><td> 3</td></tr>\n",
              "\t<tr><td>CS015515000034</td><td> 5480</td><td> 4</td></tr>\n",
              "\t<tr><td>ZZ000000000000</td><td> 5480</td><td> 5</td></tr>\n",
              "\t<tr><td>ZZ000000000000</td><td> 5480</td><td> 6</td></tr>\n",
              "\t<tr><td>ZZ000000000000</td><td> 5440</td><td> 7</td></tr>\n",
              "\t<tr><td>CS021515000089</td><td> 5440</td><td> 8</td></tr>\n",
              "\t<tr><td>CS015515000083</td><td> 5280</td><td> 9</td></tr>\n",
              "\t<tr><td>CS017414000114</td><td> 5280</td><td>10</td></tr>\n",
              "</tbody>\n",
              "</table>\n"
            ],
            "text/latex": [
              "A data.frame: 10 × 3\n",
              "\\begin{tabular}{lll}\n",
              " customer\\_id & amount & ranking\\\\\n",
              " <chr> & <int> & <int>\\\\\n",
              "\\hline\n",
              "\t CS011415000006 & 10925 &  1\\\\\n",
              "\t ZZ000000000000 &  6800 &  2\\\\\n",
              "\t CS028605000002 &  5780 &  3\\\\\n",
              "\t CS015515000034 &  5480 &  4\\\\\n",
              "\t ZZ000000000000 &  5480 &  5\\\\\n",
              "\t ZZ000000000000 &  5480 &  6\\\\\n",
              "\t ZZ000000000000 &  5440 &  7\\\\\n",
              "\t CS021515000089 &  5440 &  8\\\\\n",
              "\t CS015515000083 &  5280 &  9\\\\\n",
              "\t CS017414000114 &  5280 & 10\\\\\n",
              "\\end{tabular}\n"
            ],
            "text/markdown": [
              "\n",
              "A data.frame: 10 × 3\n",
              "\n",
              "| customer_id &lt;chr&gt; | amount &lt;int&gt; | ranking &lt;int&gt; |\n",
              "|---|---|---|\n",
              "| CS011415000006 | 10925 |  1 |\n",
              "| ZZ000000000000 |  6800 |  2 |\n",
              "| CS028605000002 |  5780 |  3 |\n",
              "| CS015515000034 |  5480 |  4 |\n",
              "| ZZ000000000000 |  5480 |  5 |\n",
              "| ZZ000000000000 |  5480 |  6 |\n",
              "| ZZ000000000000 |  5440 |  7 |\n",
              "| CS021515000089 |  5440 |  8 |\n",
              "| CS015515000083 |  5280 |  9 |\n",
              "| CS017414000114 |  5280 | 10 |\n",
              "\n"
            ],
            "text/plain": [
              "   customer_id    amount ranking\n",
              "1  CS011415000006 10925   1     \n",
              "2  ZZ000000000000  6800   2     \n",
              "3  CS028605000002  5780   3     \n",
              "4  CS015515000034  5480   4     \n",
              "5  ZZ000000000000  5480   5     \n",
              "6  ZZ000000000000  5480   6     \n",
              "7  ZZ000000000000  5440   7     \n",
              "8  CS021515000089  5440   8     \n",
              "9  CS015515000083  5280   9     \n",
              "10 CS017414000114  5280  10     "
            ]
          },
          "metadata": {},
          "output_type": "display_data"
        }
      ],
      "source": [
        "df_receipt[c(\"customer_id\", \"amount\")] %>%\n",
        "    mutate(ranking = row_number(desc(amount))) %>%\n",
        "    arrange(ranking) %>%\n",
        "    slice(1:10) "
      ]
    },
    {
      "cell_type": "markdown",
      "metadata": {
        "id": "ABaGZ5pUBJib"
      },
      "source": [
        "---\n",
        "> R-021: 영수증 내역 데이터(df_receipt)에 대해 건수를 세어라."
      ]
    },
    {
      "cell_type": "code",
      "execution_count": null,
      "metadata": {
        "id": "-8tS-GBcBJib",
        "outputId": "6e6bb1ab-7a57-474e-e3ca-2661ace104c1"
      },
      "outputs": [
        {
          "data": {
            "text/html": [
              "104681"
            ],
            "text/latex": [
              "104681"
            ],
            "text/markdown": [
              "104681"
            ],
            "text/plain": [
              "[1] 104681"
            ]
          },
          "metadata": {},
          "output_type": "display_data"
        }
      ],
      "source": [
        "nrow(df_receipt)"
      ]
    },
    {
      "cell_type": "markdown",
      "metadata": {
        "id": "EFqL4scuBJib"
      },
      "source": [
        "---\n",
        "> R-022: 영수증 내역 데이터(df_receipt)의 고객 ID(customer_id)에 대해 고유 건수를 세어라."
      ]
    },
    {
      "cell_type": "code",
      "execution_count": null,
      "metadata": {
        "id": "PhREeWkNBJib",
        "outputId": "95eb7f1e-f487-4aca-cfee-72cbc1fb6eeb"
      },
      "outputs": [
        {
          "data": {
            "text/html": [
              "8307"
            ],
            "text/latex": [
              "8307"
            ],
            "text/markdown": [
              "8307"
            ],
            "text/plain": [
              "[1] 8307"
            ]
          },
          "metadata": {},
          "output_type": "display_data"
        }
      ],
      "source": [
        "length(unique(df_receipt$customer_id))"
      ]
    },
    {
      "cell_type": "markdown",
      "metadata": {
        "id": "6ZoLcR0hBJib"
      },
      "source": [
        "---\n",
        "> R-023: 영수증 내역 데이터(df_receipt)에 대해 매장 코드(store_cd)별 판매 금액(amount)과 판매 수량(quantity)을 합산하라."
      ]
    },
    {
      "cell_type": "code",
      "execution_count": null,
      "metadata": {
        "id": "iIQeiqdlBJib",
        "outputId": "bbef19f5-e800-4225-b140-40d1ae606e23"
      },
      "outputs": [
        {
          "data": {
            "text/html": [
              "<table class=\"dataframe\">\n",
              "<caption>A tibble: 52 × 3</caption>\n",
              "<thead>\n",
              "\t<tr><th scope=col>store_cd</th><th scope=col>amount</th><th scope=col>quantity</th></tr>\n",
              "\t<tr><th scope=col>&lt;chr&gt;</th><th scope=col>&lt;int&gt;</th><th scope=col>&lt;int&gt;</th></tr>\n",
              "</thead>\n",
              "<tbody>\n",
              "\t<tr><td>S12007</td><td>638761</td><td>2099</td></tr>\n",
              "\t<tr><td>S12013</td><td>787513</td><td>2425</td></tr>\n",
              "\t<tr><td>S12014</td><td>725167</td><td>2358</td></tr>\n",
              "\t<tr><td>S12029</td><td>794741</td><td>2555</td></tr>\n",
              "\t<tr><td>S12030</td><td>684402</td><td>2403</td></tr>\n",
              "\t<tr><td>S13001</td><td>811936</td><td>2347</td></tr>\n",
              "\t<tr><td>S13002</td><td>727821</td><td>2340</td></tr>\n",
              "\t<tr><td>S13003</td><td>764294</td><td>2197</td></tr>\n",
              "\t<tr><td>S13004</td><td>779373</td><td>2390</td></tr>\n",
              "\t<tr><td>S13005</td><td>629876</td><td>2004</td></tr>\n",
              "\t<tr><td>S13008</td><td>809288</td><td>2491</td></tr>\n",
              "\t<tr><td>S13009</td><td>808870</td><td>2486</td></tr>\n",
              "\t<tr><td>S13015</td><td>780873</td><td>2248</td></tr>\n",
              "\t<tr><td>S13016</td><td>793773</td><td>2432</td></tr>\n",
              "\t<tr><td>S13017</td><td>748221</td><td>2376</td></tr>\n",
              "\t<tr><td>S13018</td><td>790535</td><td>2562</td></tr>\n",
              "\t<tr><td>S13019</td><td>827833</td><td>2541</td></tr>\n",
              "\t<tr><td>S13020</td><td>796383</td><td>2383</td></tr>\n",
              "\t<tr><td>S13031</td><td>705968</td><td>2336</td></tr>\n",
              "\t<tr><td>S13032</td><td>790501</td><td>2491</td></tr>\n",
              "\t<tr><td>S13035</td><td>715869</td><td>2219</td></tr>\n",
              "\t<tr><td>S13037</td><td>693087</td><td>2344</td></tr>\n",
              "\t<tr><td>S13038</td><td>708884</td><td>2337</td></tr>\n",
              "\t<tr><td>S13039</td><td>611888</td><td>1981</td></tr>\n",
              "\t<tr><td>S13041</td><td>728266</td><td>2233</td></tr>\n",
              "\t<tr><td>S13043</td><td>587895</td><td>1881</td></tr>\n",
              "\t<tr><td>S13044</td><td>520764</td><td>1729</td></tr>\n",
              "\t<tr><td>S13051</td><td>107452</td><td> 354</td></tr>\n",
              "\t<tr><td>S13052</td><td>100314</td><td> 250</td></tr>\n",
              "\t<tr><td>S14006</td><td>712839</td><td>2284</td></tr>\n",
              "\t<tr><td>S14010</td><td>790361</td><td>2290</td></tr>\n",
              "\t<tr><td>S14011</td><td>805724</td><td>2434</td></tr>\n",
              "\t<tr><td>S14012</td><td>720600</td><td>2412</td></tr>\n",
              "\t<tr><td>S14021</td><td>699511</td><td>2231</td></tr>\n",
              "\t<tr><td>S14022</td><td>651328</td><td>2047</td></tr>\n",
              "\t<tr><td>S14023</td><td>727630</td><td>2258</td></tr>\n",
              "\t<tr><td>S14024</td><td>736323</td><td>2417</td></tr>\n",
              "\t<tr><td>S14025</td><td>755581</td><td>2394</td></tr>\n",
              "\t<tr><td>S14026</td><td>824537</td><td>2503</td></tr>\n",
              "\t<tr><td>S14027</td><td>714550</td><td>2303</td></tr>\n",
              "\t<tr><td>S14028</td><td>786145</td><td>2458</td></tr>\n",
              "\t<tr><td>S14033</td><td>725318</td><td>2282</td></tr>\n",
              "\t<tr><td>S14034</td><td>653681</td><td>2024</td></tr>\n",
              "\t<tr><td>S14036</td><td>203694</td><td> 635</td></tr>\n",
              "\t<tr><td>S14040</td><td>701858</td><td>2233</td></tr>\n",
              "\t<tr><td>S14042</td><td>534689</td><td>1935</td></tr>\n",
              "\t<tr><td>S14045</td><td>458484</td><td>1398</td></tr>\n",
              "\t<tr><td>S14046</td><td>412646</td><td>1354</td></tr>\n",
              "\t<tr><td>S14047</td><td>338329</td><td>1041</td></tr>\n",
              "\t<tr><td>S14048</td><td>234276</td><td> 769</td></tr>\n",
              "\t<tr><td>S14049</td><td>230808</td><td> 788</td></tr>\n",
              "\t<tr><td>S14050</td><td>167090</td><td> 580</td></tr>\n",
              "</tbody>\n",
              "</table>\n"
            ],
            "text/latex": [
              "A tibble: 52 × 3\n",
              "\\begin{tabular}{lll}\n",
              " store\\_cd & amount & quantity\\\\\n",
              " <chr> & <int> & <int>\\\\\n",
              "\\hline\n",
              "\t S12007 & 638761 & 2099\\\\\n",
              "\t S12013 & 787513 & 2425\\\\\n",
              "\t S12014 & 725167 & 2358\\\\\n",
              "\t S12029 & 794741 & 2555\\\\\n",
              "\t S12030 & 684402 & 2403\\\\\n",
              "\t S13001 & 811936 & 2347\\\\\n",
              "\t S13002 & 727821 & 2340\\\\\n",
              "\t S13003 & 764294 & 2197\\\\\n",
              "\t S13004 & 779373 & 2390\\\\\n",
              "\t S13005 & 629876 & 2004\\\\\n",
              "\t S13008 & 809288 & 2491\\\\\n",
              "\t S13009 & 808870 & 2486\\\\\n",
              "\t S13015 & 780873 & 2248\\\\\n",
              "\t S13016 & 793773 & 2432\\\\\n",
              "\t S13017 & 748221 & 2376\\\\\n",
              "\t S13018 & 790535 & 2562\\\\\n",
              "\t S13019 & 827833 & 2541\\\\\n",
              "\t S13020 & 796383 & 2383\\\\\n",
              "\t S13031 & 705968 & 2336\\\\\n",
              "\t S13032 & 790501 & 2491\\\\\n",
              "\t S13035 & 715869 & 2219\\\\\n",
              "\t S13037 & 693087 & 2344\\\\\n",
              "\t S13038 & 708884 & 2337\\\\\n",
              "\t S13039 & 611888 & 1981\\\\\n",
              "\t S13041 & 728266 & 2233\\\\\n",
              "\t S13043 & 587895 & 1881\\\\\n",
              "\t S13044 & 520764 & 1729\\\\\n",
              "\t S13051 & 107452 &  354\\\\\n",
              "\t S13052 & 100314 &  250\\\\\n",
              "\t S14006 & 712839 & 2284\\\\\n",
              "\t S14010 & 790361 & 2290\\\\\n",
              "\t S14011 & 805724 & 2434\\\\\n",
              "\t S14012 & 720600 & 2412\\\\\n",
              "\t S14021 & 699511 & 2231\\\\\n",
              "\t S14022 & 651328 & 2047\\\\\n",
              "\t S14023 & 727630 & 2258\\\\\n",
              "\t S14024 & 736323 & 2417\\\\\n",
              "\t S14025 & 755581 & 2394\\\\\n",
              "\t S14026 & 824537 & 2503\\\\\n",
              "\t S14027 & 714550 & 2303\\\\\n",
              "\t S14028 & 786145 & 2458\\\\\n",
              "\t S14033 & 725318 & 2282\\\\\n",
              "\t S14034 & 653681 & 2024\\\\\n",
              "\t S14036 & 203694 &  635\\\\\n",
              "\t S14040 & 701858 & 2233\\\\\n",
              "\t S14042 & 534689 & 1935\\\\\n",
              "\t S14045 & 458484 & 1398\\\\\n",
              "\t S14046 & 412646 & 1354\\\\\n",
              "\t S14047 & 338329 & 1041\\\\\n",
              "\t S14048 & 234276 &  769\\\\\n",
              "\t S14049 & 230808 &  788\\\\\n",
              "\t S14050 & 167090 &  580\\\\\n",
              "\\end{tabular}\n"
            ],
            "text/markdown": [
              "\n",
              "A tibble: 52 × 3\n",
              "\n",
              "| store_cd &lt;chr&gt; | amount &lt;int&gt; | quantity &lt;int&gt; |\n",
              "|---|---|---|\n",
              "| S12007 | 638761 | 2099 |\n",
              "| S12013 | 787513 | 2425 |\n",
              "| S12014 | 725167 | 2358 |\n",
              "| S12029 | 794741 | 2555 |\n",
              "| S12030 | 684402 | 2403 |\n",
              "| S13001 | 811936 | 2347 |\n",
              "| S13002 | 727821 | 2340 |\n",
              "| S13003 | 764294 | 2197 |\n",
              "| S13004 | 779373 | 2390 |\n",
              "| S13005 | 629876 | 2004 |\n",
              "| S13008 | 809288 | 2491 |\n",
              "| S13009 | 808870 | 2486 |\n",
              "| S13015 | 780873 | 2248 |\n",
              "| S13016 | 793773 | 2432 |\n",
              "| S13017 | 748221 | 2376 |\n",
              "| S13018 | 790535 | 2562 |\n",
              "| S13019 | 827833 | 2541 |\n",
              "| S13020 | 796383 | 2383 |\n",
              "| S13031 | 705968 | 2336 |\n",
              "| S13032 | 790501 | 2491 |\n",
              "| S13035 | 715869 | 2219 |\n",
              "| S13037 | 693087 | 2344 |\n",
              "| S13038 | 708884 | 2337 |\n",
              "| S13039 | 611888 | 1981 |\n",
              "| S13041 | 728266 | 2233 |\n",
              "| S13043 | 587895 | 1881 |\n",
              "| S13044 | 520764 | 1729 |\n",
              "| S13051 | 107452 |  354 |\n",
              "| S13052 | 100314 |  250 |\n",
              "| S14006 | 712839 | 2284 |\n",
              "| S14010 | 790361 | 2290 |\n",
              "| S14011 | 805724 | 2434 |\n",
              "| S14012 | 720600 | 2412 |\n",
              "| S14021 | 699511 | 2231 |\n",
              "| S14022 | 651328 | 2047 |\n",
              "| S14023 | 727630 | 2258 |\n",
              "| S14024 | 736323 | 2417 |\n",
              "| S14025 | 755581 | 2394 |\n",
              "| S14026 | 824537 | 2503 |\n",
              "| S14027 | 714550 | 2303 |\n",
              "| S14028 | 786145 | 2458 |\n",
              "| S14033 | 725318 | 2282 |\n",
              "| S14034 | 653681 | 2024 |\n",
              "| S14036 | 203694 |  635 |\n",
              "| S14040 | 701858 | 2233 |\n",
              "| S14042 | 534689 | 1935 |\n",
              "| S14045 | 458484 | 1398 |\n",
              "| S14046 | 412646 | 1354 |\n",
              "| S14047 | 338329 | 1041 |\n",
              "| S14048 | 234276 |  769 |\n",
              "| S14049 | 230808 |  788 |\n",
              "| S14050 | 167090 |  580 |\n",
              "\n"
            ],
            "text/plain": [
              "   store_cd amount quantity\n",
              "1  S12007   638761 2099    \n",
              "2  S12013   787513 2425    \n",
              "3  S12014   725167 2358    \n",
              "4  S12029   794741 2555    \n",
              "5  S12030   684402 2403    \n",
              "6  S13001   811936 2347    \n",
              "7  S13002   727821 2340    \n",
              "8  S13003   764294 2197    \n",
              "9  S13004   779373 2390    \n",
              "10 S13005   629876 2004    \n",
              "11 S13008   809288 2491    \n",
              "12 S13009   808870 2486    \n",
              "13 S13015   780873 2248    \n",
              "14 S13016   793773 2432    \n",
              "15 S13017   748221 2376    \n",
              "16 S13018   790535 2562    \n",
              "17 S13019   827833 2541    \n",
              "18 S13020   796383 2383    \n",
              "19 S13031   705968 2336    \n",
              "20 S13032   790501 2491    \n",
              "21 S13035   715869 2219    \n",
              "22 S13037   693087 2344    \n",
              "23 S13038   708884 2337    \n",
              "24 S13039   611888 1981    \n",
              "25 S13041   728266 2233    \n",
              "26 S13043   587895 1881    \n",
              "27 S13044   520764 1729    \n",
              "28 S13051   107452  354    \n",
              "29 S13052   100314  250    \n",
              "30 S14006   712839 2284    \n",
              "31 S14010   790361 2290    \n",
              "32 S14011   805724 2434    \n",
              "33 S14012   720600 2412    \n",
              "34 S14021   699511 2231    \n",
              "35 S14022   651328 2047    \n",
              "36 S14023   727630 2258    \n",
              "37 S14024   736323 2417    \n",
              "38 S14025   755581 2394    \n",
              "39 S14026   824537 2503    \n",
              "40 S14027   714550 2303    \n",
              "41 S14028   786145 2458    \n",
              "42 S14033   725318 2282    \n",
              "43 S14034   653681 2024    \n",
              "44 S14036   203694  635    \n",
              "45 S14040   701858 2233    \n",
              "46 S14042   534689 1935    \n",
              "47 S14045   458484 1398    \n",
              "48 S14046   412646 1354    \n",
              "49 S14047   338329 1041    \n",
              "50 S14048   234276  769    \n",
              "51 S14049   230808  788    \n",
              "52 S14050   167090  580    "
            ]
          },
          "metadata": {},
          "output_type": "display_data"
        }
      ],
      "source": [
        "df_receipt %>%\n",
        "    group_by(store_cd) %>%\n",
        "    summarise(amount = sum(amount),\n",
        "              quantity = sum(quantity), .groups = \"drop\")"
      ]
    },
    {
      "cell_type": "markdown",
      "metadata": {
        "id": "kr7jMEAABJic"
      },
      "source": [
        "---\n",
        "> R-024: 영수증 내역 데이터(df_receipt)에 대해 고객 ID(customer_id)별로 가장 최근 매출 날짜(sales_ymd)를 구하여 10건 표시하라."
      ]
    },
    {
      "cell_type": "code",
      "execution_count": null,
      "metadata": {
        "id": "WCXLYNWrBJic",
        "outputId": "f1c110eb-db23-4015-f342-fa0be0a630de"
      },
      "outputs": [
        {
          "data": {
            "text/html": [
              "<table class=\"dataframe\">\n",
              "<caption>A tibble: 10 × 2</caption>\n",
              "<thead>\n",
              "\t<tr><th scope=col>customer_id</th><th scope=col>max_ymd</th></tr>\n",
              "\t<tr><th scope=col>&lt;chr&gt;</th><th scope=col>&lt;int&gt;</th></tr>\n",
              "</thead>\n",
              "<tbody>\n",
              "\t<tr><td>CS001113000004</td><td>20190308</td></tr>\n",
              "\t<tr><td>CS001114000005</td><td>20190731</td></tr>\n",
              "\t<tr><td>CS001115000010</td><td>20190405</td></tr>\n",
              "\t<tr><td>CS001205000004</td><td>20190625</td></tr>\n",
              "\t<tr><td>CS001205000006</td><td>20190224</td></tr>\n",
              "\t<tr><td>CS001211000025</td><td>20190322</td></tr>\n",
              "\t<tr><td>CS001212000027</td><td>20170127</td></tr>\n",
              "\t<tr><td>CS001212000031</td><td>20180906</td></tr>\n",
              "\t<tr><td>CS001212000046</td><td>20170811</td></tr>\n",
              "\t<tr><td>CS001212000070</td><td>20191018</td></tr>\n",
              "</tbody>\n",
              "</table>\n"
            ],
            "text/latex": [
              "A tibble: 10 × 2\n",
              "\\begin{tabular}{ll}\n",
              " customer\\_id & max\\_ymd\\\\\n",
              " <chr> & <int>\\\\\n",
              "\\hline\n",
              "\t CS001113000004 & 20190308\\\\\n",
              "\t CS001114000005 & 20190731\\\\\n",
              "\t CS001115000010 & 20190405\\\\\n",
              "\t CS001205000004 & 20190625\\\\\n",
              "\t CS001205000006 & 20190224\\\\\n",
              "\t CS001211000025 & 20190322\\\\\n",
              "\t CS001212000027 & 20170127\\\\\n",
              "\t CS001212000031 & 20180906\\\\\n",
              "\t CS001212000046 & 20170811\\\\\n",
              "\t CS001212000070 & 20191018\\\\\n",
              "\\end{tabular}\n"
            ],
            "text/markdown": [
              "\n",
              "A tibble: 10 × 2\n",
              "\n",
              "| customer_id &lt;chr&gt; | max_ymd &lt;int&gt; |\n",
              "|---|---|\n",
              "| CS001113000004 | 20190308 |\n",
              "| CS001114000005 | 20190731 |\n",
              "| CS001115000010 | 20190405 |\n",
              "| CS001205000004 | 20190625 |\n",
              "| CS001205000006 | 20190224 |\n",
              "| CS001211000025 | 20190322 |\n",
              "| CS001212000027 | 20170127 |\n",
              "| CS001212000031 | 20180906 |\n",
              "| CS001212000046 | 20170811 |\n",
              "| CS001212000070 | 20191018 |\n",
              "\n"
            ],
            "text/plain": [
              "   customer_id    max_ymd \n",
              "1  CS001113000004 20190308\n",
              "2  CS001114000005 20190731\n",
              "3  CS001115000010 20190405\n",
              "4  CS001205000004 20190625\n",
              "5  CS001205000006 20190224\n",
              "6  CS001211000025 20190322\n",
              "7  CS001212000027 20170127\n",
              "8  CS001212000031 20180906\n",
              "9  CS001212000046 20170811\n",
              "10 CS001212000070 20191018"
            ]
          },
          "metadata": {},
          "output_type": "display_data"
        }
      ],
      "source": [
        "df_receipt %>%\n",
        "    group_by(customer_id) %>%\n",
        "    summarise(max_ymd = max(sales_ymd), .groups = \"drop\") %>%\n",
        "    slice(1:10)"
      ]
    },
    {
      "cell_type": "markdown",
      "metadata": {
        "id": "ASNFP1NlBJic"
      },
      "source": [
        "---\n",
        "> R-025: 영수증 내역 데이터(df_receipt)에 대해 고객 ID(customer_id)별로 가장 오래된 매출 날짜(sales_ymd)를 구하여 10건 표시하라."
      ]
    },
    {
      "cell_type": "code",
      "execution_count": null,
      "metadata": {
        "tags": [],
        "id": "juwqKg7QBJic",
        "outputId": "0b68d61d-f817-4174-887d-b64181455f6c"
      },
      "outputs": [
        {
          "data": {
            "text/html": [
              "<table class=\"dataframe\">\n",
              "<caption>A tibble: 10 × 2</caption>\n",
              "<thead>\n",
              "\t<tr><th scope=col>customer_id</th><th scope=col>min_ymd</th></tr>\n",
              "\t<tr><th scope=col>&lt;chr&gt;</th><th scope=col>&lt;int&gt;</th></tr>\n",
              "</thead>\n",
              "<tbody>\n",
              "\t<tr><td>CS001113000004</td><td>20190308</td></tr>\n",
              "\t<tr><td>CS001114000005</td><td>20180503</td></tr>\n",
              "\t<tr><td>CS001115000010</td><td>20171228</td></tr>\n",
              "\t<tr><td>CS001205000004</td><td>20170914</td></tr>\n",
              "\t<tr><td>CS001205000006</td><td>20180207</td></tr>\n",
              "\t<tr><td>CS001211000025</td><td>20190322</td></tr>\n",
              "\t<tr><td>CS001212000027</td><td>20170127</td></tr>\n",
              "\t<tr><td>CS001212000031</td><td>20180906</td></tr>\n",
              "\t<tr><td>CS001212000046</td><td>20170811</td></tr>\n",
              "\t<tr><td>CS001212000070</td><td>20191018</td></tr>\n",
              "</tbody>\n",
              "</table>\n"
            ],
            "text/latex": [
              "A tibble: 10 × 2\n",
              "\\begin{tabular}{ll}\n",
              " customer\\_id & min\\_ymd\\\\\n",
              " <chr> & <int>\\\\\n",
              "\\hline\n",
              "\t CS001113000004 & 20190308\\\\\n",
              "\t CS001114000005 & 20180503\\\\\n",
              "\t CS001115000010 & 20171228\\\\\n",
              "\t CS001205000004 & 20170914\\\\\n",
              "\t CS001205000006 & 20180207\\\\\n",
              "\t CS001211000025 & 20190322\\\\\n",
              "\t CS001212000027 & 20170127\\\\\n",
              "\t CS001212000031 & 20180906\\\\\n",
              "\t CS001212000046 & 20170811\\\\\n",
              "\t CS001212000070 & 20191018\\\\\n",
              "\\end{tabular}\n"
            ],
            "text/markdown": [
              "\n",
              "A tibble: 10 × 2\n",
              "\n",
              "| customer_id &lt;chr&gt; | min_ymd &lt;int&gt; |\n",
              "|---|---|\n",
              "| CS001113000004 | 20190308 |\n",
              "| CS001114000005 | 20180503 |\n",
              "| CS001115000010 | 20171228 |\n",
              "| CS001205000004 | 20170914 |\n",
              "| CS001205000006 | 20180207 |\n",
              "| CS001211000025 | 20190322 |\n",
              "| CS001212000027 | 20170127 |\n",
              "| CS001212000031 | 20180906 |\n",
              "| CS001212000046 | 20170811 |\n",
              "| CS001212000070 | 20191018 |\n",
              "\n"
            ],
            "text/plain": [
              "   customer_id    min_ymd \n",
              "1  CS001113000004 20190308\n",
              "2  CS001114000005 20180503\n",
              "3  CS001115000010 20171228\n",
              "4  CS001205000004 20170914\n",
              "5  CS001205000006 20180207\n",
              "6  CS001211000025 20190322\n",
              "7  CS001212000027 20170127\n",
              "8  CS001212000031 20180906\n",
              "9  CS001212000046 20170811\n",
              "10 CS001212000070 20191018"
            ]
          },
          "metadata": {},
          "output_type": "display_data"
        }
      ],
      "source": [
        "df_receipt %>%\n",
        "    group_by(customer_id) %>%\n",
        "    summarise(min_ymd = min(sales_ymd), .groups = \"drop\") %>%\n",
        "    slice(1:10)"
      ]
    },
    {
      "cell_type": "markdown",
      "metadata": {
        "id": "kgDI4c8iBJic"
      },
      "source": [
        "---\n",
        "> R-026: 영수증 내역 데이터(df_receipt)에 대해 고객 ID(customer_id)별로 가장 최근 매출 날짜(sales_ymd)와 가장 오래된 매출 날짜(sales_ymd)를 구하고, 양자가 서로 다른 데이터 10건을 표시하라."
      ]
    },
    {
      "cell_type": "code",
      "execution_count": null,
      "metadata": {
        "id": "7gf-bErqBJic",
        "outputId": "1d763882-2e83-4066-b1e3-c8100cd84318"
      },
      "outputs": [
        {
          "data": {
            "text/html": [
              "<table class=\"dataframe\">\n",
              "<caption>A tibble: 10 × 3</caption>\n",
              "<thead>\n",
              "\t<tr><th scope=col>customer_id</th><th scope=col>max_ymd</th><th scope=col>min_ymd</th></tr>\n",
              "\t<tr><th scope=col>&lt;chr&gt;</th><th scope=col>&lt;int&gt;</th><th scope=col>&lt;int&gt;</th></tr>\n",
              "</thead>\n",
              "<tbody>\n",
              "\t<tr><td>CS001114000005</td><td>20190731</td><td>20180503</td></tr>\n",
              "\t<tr><td>CS001115000010</td><td>20190405</td><td>20171228</td></tr>\n",
              "\t<tr><td>CS001205000004</td><td>20190625</td><td>20170914</td></tr>\n",
              "\t<tr><td>CS001205000006</td><td>20190224</td><td>20180207</td></tr>\n",
              "\t<tr><td>CS001214000009</td><td>20190902</td><td>20170306</td></tr>\n",
              "\t<tr><td>CS001214000017</td><td>20191006</td><td>20180828</td></tr>\n",
              "\t<tr><td>CS001214000048</td><td>20190929</td><td>20171109</td></tr>\n",
              "\t<tr><td>CS001214000052</td><td>20190617</td><td>20180208</td></tr>\n",
              "\t<tr><td>CS001215000005</td><td>20181021</td><td>20170206</td></tr>\n",
              "\t<tr><td>CS001215000040</td><td>20171022</td><td>20170214</td></tr>\n",
              "</tbody>\n",
              "</table>\n"
            ],
            "text/latex": [
              "A tibble: 10 × 3\n",
              "\\begin{tabular}{lll}\n",
              " customer\\_id & max\\_ymd & min\\_ymd\\\\\n",
              " <chr> & <int> & <int>\\\\\n",
              "\\hline\n",
              "\t CS001114000005 & 20190731 & 20180503\\\\\n",
              "\t CS001115000010 & 20190405 & 20171228\\\\\n",
              "\t CS001205000004 & 20190625 & 20170914\\\\\n",
              "\t CS001205000006 & 20190224 & 20180207\\\\\n",
              "\t CS001214000009 & 20190902 & 20170306\\\\\n",
              "\t CS001214000017 & 20191006 & 20180828\\\\\n",
              "\t CS001214000048 & 20190929 & 20171109\\\\\n",
              "\t CS001214000052 & 20190617 & 20180208\\\\\n",
              "\t CS001215000005 & 20181021 & 20170206\\\\\n",
              "\t CS001215000040 & 20171022 & 20170214\\\\\n",
              "\\end{tabular}\n"
            ],
            "text/markdown": [
              "\n",
              "A tibble: 10 × 3\n",
              "\n",
              "| customer_id &lt;chr&gt; | max_ymd &lt;int&gt; | min_ymd &lt;int&gt; |\n",
              "|---|---|---|\n",
              "| CS001114000005 | 20190731 | 20180503 |\n",
              "| CS001115000010 | 20190405 | 20171228 |\n",
              "| CS001205000004 | 20190625 | 20170914 |\n",
              "| CS001205000006 | 20190224 | 20180207 |\n",
              "| CS001214000009 | 20190902 | 20170306 |\n",
              "| CS001214000017 | 20191006 | 20180828 |\n",
              "| CS001214000048 | 20190929 | 20171109 |\n",
              "| CS001214000052 | 20190617 | 20180208 |\n",
              "| CS001215000005 | 20181021 | 20170206 |\n",
              "| CS001215000040 | 20171022 | 20170214 |\n",
              "\n"
            ],
            "text/plain": [
              "   customer_id    max_ymd  min_ymd \n",
              "1  CS001114000005 20190731 20180503\n",
              "2  CS001115000010 20190405 20171228\n",
              "3  CS001205000004 20190625 20170914\n",
              "4  CS001205000006 20190224 20180207\n",
              "5  CS001214000009 20190902 20170306\n",
              "6  CS001214000017 20191006 20180828\n",
              "7  CS001214000048 20190929 20171109\n",
              "8  CS001214000052 20190617 20180208\n",
              "9  CS001215000005 20181021 20170206\n",
              "10 CS001215000040 20171022 20170214"
            ]
          },
          "metadata": {},
          "output_type": "display_data"
        }
      ],
      "source": [
        "df_receipt %>%\n",
        "    group_by(customer_id) %>%\n",
        "    summarise(max_ymd = max(sales_ymd)\n",
        "             ,min_ymd = min(sales_ymd), .groups = \"drop\") %>%\n",
        "    filter(max_ymd != min_ymd) %>%\n",
        "    slice(1:10)"
      ]
    },
    {
      "cell_type": "markdown",
      "metadata": {
        "id": "OokiYjwwBJic"
      },
      "source": [
        "---\n",
        "> R-027: 영수증 내역 데이터(df_receipt)에 대해 매장 코드(store_cd)별 매출 금액(amount)의 평균을 계산하여 내림차순으로 TOP5를 표시하라."
      ]
    },
    {
      "cell_type": "code",
      "execution_count": null,
      "metadata": {
        "id": "XD_7og7JBJic",
        "outputId": "1777fed8-9057-4eeb-b437-8513de17ef82"
      },
      "outputs": [
        {
          "data": {
            "text/html": [
              "<table class=\"dataframe\">\n",
              "<caption>A tibble: 5 × 2</caption>\n",
              "<thead>\n",
              "\t<tr><th scope=col>store_cd</th><th scope=col>mean_amount</th></tr>\n",
              "\t<tr><th scope=col>&lt;chr&gt;</th><th scope=col>&lt;dbl&gt;</th></tr>\n",
              "</thead>\n",
              "<tbody>\n",
              "\t<tr><td>S13052</td><td>402.8675</td></tr>\n",
              "\t<tr><td>S13015</td><td>351.1120</td></tr>\n",
              "\t<tr><td>S13003</td><td>350.9155</td></tr>\n",
              "\t<tr><td>S14010</td><td>348.7913</td></tr>\n",
              "\t<tr><td>S13001</td><td>348.4704</td></tr>\n",
              "</tbody>\n",
              "</table>\n"
            ],
            "text/latex": [
              "A tibble: 5 × 2\n",
              "\\begin{tabular}{ll}\n",
              " store\\_cd & mean\\_amount\\\\\n",
              " <chr> & <dbl>\\\\\n",
              "\\hline\n",
              "\t S13052 & 402.8675\\\\\n",
              "\t S13015 & 351.1120\\\\\n",
              "\t S13003 & 350.9155\\\\\n",
              "\t S14010 & 348.7913\\\\\n",
              "\t S13001 & 348.4704\\\\\n",
              "\\end{tabular}\n"
            ],
            "text/markdown": [
              "\n",
              "A tibble: 5 × 2\n",
              "\n",
              "| store_cd &lt;chr&gt; | mean_amount &lt;dbl&gt; |\n",
              "|---|---|\n",
              "| S13052 | 402.8675 |\n",
              "| S13015 | 351.1120 |\n",
              "| S13003 | 350.9155 |\n",
              "| S14010 | 348.7913 |\n",
              "| S13001 | 348.4704 |\n",
              "\n"
            ],
            "text/plain": [
              "  store_cd mean_amount\n",
              "1 S13052   402.8675   \n",
              "2 S13015   351.1120   \n",
              "3 S13003   350.9155   \n",
              "4 S14010   348.7913   \n",
              "5 S13001   348.4704   "
            ]
          },
          "metadata": {},
          "output_type": "display_data"
        }
      ],
      "source": [
        "df_receipt %>%\n",
        "    group_by(store_cd) %>%\n",
        "    summarise(mean_amount = mean(amount), .groups = \"drop\") %>%\n",
        "    arrange(desc(mean_amount)) %>%\n",
        "    slice(1:5)"
      ]
    },
    {
      "cell_type": "markdown",
      "metadata": {
        "id": "0ZH8X37hBJic"
      },
      "source": [
        "---\n",
        "> R-028: 영수증 내역 데이터(df_receipt)에 대해 매장 코드(store_cd)별 매출 금액(amount)의 중앙값을 계산하여 내림차순으로 TOP5를 표시하라."
      ]
    },
    {
      "cell_type": "code",
      "execution_count": null,
      "metadata": {
        "id": "tmMtosfvBJic",
        "outputId": "0e89c427-21bc-438b-d515-92202966c107"
      },
      "outputs": [
        {
          "data": {
            "text/html": [
              "<table class=\"dataframe\">\n",
              "<caption>A tibble: 5 × 2</caption>\n",
              "<thead>\n",
              "\t<tr><th scope=col>store_cd</th><th scope=col>median_amount</th></tr>\n",
              "\t<tr><th scope=col>&lt;chr&gt;</th><th scope=col>&lt;dbl&gt;</th></tr>\n",
              "</thead>\n",
              "<tbody>\n",
              "\t<tr><td>S13052</td><td>190</td></tr>\n",
              "\t<tr><td>S14010</td><td>188</td></tr>\n",
              "\t<tr><td>S14050</td><td>185</td></tr>\n",
              "\t<tr><td>S13003</td><td>180</td></tr>\n",
              "\t<tr><td>S13018</td><td>180</td></tr>\n",
              "</tbody>\n",
              "</table>\n"
            ],
            "text/latex": [
              "A tibble: 5 × 2\n",
              "\\begin{tabular}{ll}\n",
              " store\\_cd & median\\_amount\\\\\n",
              " <chr> & <dbl>\\\\\n",
              "\\hline\n",
              "\t S13052 & 190\\\\\n",
              "\t S14010 & 188\\\\\n",
              "\t S14050 & 185\\\\\n",
              "\t S13003 & 180\\\\\n",
              "\t S13018 & 180\\\\\n",
              "\\end{tabular}\n"
            ],
            "text/markdown": [
              "\n",
              "A tibble: 5 × 2\n",
              "\n",
              "| store_cd &lt;chr&gt; | median_amount &lt;dbl&gt; |\n",
              "|---|---|\n",
              "| S13052 | 190 |\n",
              "| S14010 | 188 |\n",
              "| S14050 | 185 |\n",
              "| S13003 | 180 |\n",
              "| S13018 | 180 |\n",
              "\n"
            ],
            "text/plain": [
              "  store_cd median_amount\n",
              "1 S13052   190          \n",
              "2 S14010   188          \n",
              "3 S14050   185          \n",
              "4 S13003   180          \n",
              "5 S13018   180          "
            ]
          },
          "metadata": {},
          "output_type": "display_data"
        }
      ],
      "source": [
        "df_receipt %>%\n",
        "    group_by(store_cd) %>%\n",
        "    summarise(median_amount = median(amount), .groups = \"drop\") %>%\n",
        "    arrange(desc(median_amount)) %>%\n",
        "    slice(1:5)"
      ]
    },
    {
      "cell_type": "markdown",
      "metadata": {
        "id": "dP6jMi8EBJic"
      },
      "source": [
        "---\n",
        "> R-029: 영수증 내역 데이터(df_receipt)에 대해 매장 코드(store_cd)별로 상품 코드(product_cd)의 최빈값을 구하여 10건씩 표시하라."
      ]
    },
    {
      "cell_type": "code",
      "execution_count": null,
      "metadata": {
        "id": "N31kadrVBJic",
        "outputId": "dbddaa35-b56c-49ac-9869-17a4205c0f5b"
      },
      "outputs": [
        {
          "data": {
            "text/html": [
              "<table class=\"dataframe\">\n",
              "<caption>A tibble: 10 × 3</caption>\n",
              "<thead>\n",
              "\t<tr><th scope=col>store_cd</th><th scope=col>product_cd</th><th scope=col>cnt</th></tr>\n",
              "\t<tr><th scope=col>&lt;chr&gt;</th><th scope=col>&lt;chr&gt;</th><th scope=col>&lt;int&gt;</th></tr>\n",
              "</thead>\n",
              "<tbody>\n",
              "\t<tr><td>S12007</td><td>P060303001</td><td> 72</td></tr>\n",
              "\t<tr><td>S12013</td><td>P060303001</td><td>107</td></tr>\n",
              "\t<tr><td>S12014</td><td>P060303001</td><td> 65</td></tr>\n",
              "\t<tr><td>S12029</td><td>P060303001</td><td> 92</td></tr>\n",
              "\t<tr><td>S12030</td><td>P060303001</td><td>115</td></tr>\n",
              "\t<tr><td>S13001</td><td>P060303001</td><td> 67</td></tr>\n",
              "\t<tr><td>S13002</td><td>P060303001</td><td> 78</td></tr>\n",
              "\t<tr><td>S13003</td><td>P071401001</td><td> 65</td></tr>\n",
              "\t<tr><td>S13004</td><td>P060303001</td><td> 88</td></tr>\n",
              "\t<tr><td>S13005</td><td>P040503001</td><td> 36</td></tr>\n",
              "</tbody>\n",
              "</table>\n"
            ],
            "text/latex": [
              "A tibble: 10 × 3\n",
              "\\begin{tabular}{lll}\n",
              " store\\_cd & product\\_cd & cnt\\\\\n",
              " <chr> & <chr> & <int>\\\\\n",
              "\\hline\n",
              "\t S12007 & P060303001 &  72\\\\\n",
              "\t S12013 & P060303001 & 107\\\\\n",
              "\t S12014 & P060303001 &  65\\\\\n",
              "\t S12029 & P060303001 &  92\\\\\n",
              "\t S12030 & P060303001 & 115\\\\\n",
              "\t S13001 & P060303001 &  67\\\\\n",
              "\t S13002 & P060303001 &  78\\\\\n",
              "\t S13003 & P071401001 &  65\\\\\n",
              "\t S13004 & P060303001 &  88\\\\\n",
              "\t S13005 & P040503001 &  36\\\\\n",
              "\\end{tabular}\n"
            ],
            "text/markdown": [
              "\n",
              "A tibble: 10 × 3\n",
              "\n",
              "| store_cd &lt;chr&gt; | product_cd &lt;chr&gt; | cnt &lt;int&gt; |\n",
              "|---|---|---|\n",
              "| S12007 | P060303001 |  72 |\n",
              "| S12013 | P060303001 | 107 |\n",
              "| S12014 | P060303001 |  65 |\n",
              "| S12029 | P060303001 |  92 |\n",
              "| S12030 | P060303001 | 115 |\n",
              "| S13001 | P060303001 |  67 |\n",
              "| S13002 | P060303001 |  78 |\n",
              "| S13003 | P071401001 |  65 |\n",
              "| S13004 | P060303001 |  88 |\n",
              "| S13005 | P040503001 |  36 |\n",
              "\n"
            ],
            "text/plain": [
              "   store_cd product_cd cnt\n",
              "1  S12007   P060303001  72\n",
              "2  S12013   P060303001 107\n",
              "3  S12014   P060303001  65\n",
              "4  S12029   P060303001  92\n",
              "5  S12030   P060303001 115\n",
              "6  S13001   P060303001  67\n",
              "7  S13002   P060303001  78\n",
              "8  S13003   P071401001  65\n",
              "9  S13004   P060303001  88\n",
              "10 S13005   P040503001  36"
            ]
          },
          "metadata": {},
          "output_type": "display_data"
        }
      ],
      "source": [
        "# 코드 예시 1\n",
        "df_receipt %>%\n",
        "  group_by(store_cd, product_cd) %>%\n",
        "  summarise(cnt = n(), .groups = \"drop_last\") %>%\n",
        "  filter(cnt == cnt %>% max()) %>%\n",
        "  ungroup() %>%\n",
        "  slice(1:10)"
      ]
    },
    {
      "cell_type": "code",
      "execution_count": null,
      "metadata": {
        "id": "1js0PCX_BJic",
        "outputId": "901d651a-2a1a-4b29-a682-c232e6550b9f"
      },
      "outputs": [
        {
          "data": {
            "text/html": [
              "<table class=\"dataframe\">\n",
              "<caption>A data.frame: 10 × 2</caption>\n",
              "<thead>\n",
              "\t<tr><th scope=col>store_cd</th><th scope=col>product_cd</th></tr>\n",
              "\t<tr><th scope=col>&lt;chr&gt;</th><th scope=col>&lt;chr&gt;</th></tr>\n",
              "</thead>\n",
              "<tbody>\n",
              "\t<tr><td>S12007</td><td>P060303001</td></tr>\n",
              "\t<tr><td>S12013</td><td>P060303001</td></tr>\n",
              "\t<tr><td>S12014</td><td>P060303001</td></tr>\n",
              "\t<tr><td>S12029</td><td>P060303001</td></tr>\n",
              "\t<tr><td>S12030</td><td>P060303001</td></tr>\n",
              "\t<tr><td>S13001</td><td>P060303001</td></tr>\n",
              "\t<tr><td>S13002</td><td>P060303001</td></tr>\n",
              "\t<tr><td>S13003</td><td>P071401001</td></tr>\n",
              "\t<tr><td>S13004</td><td>P060303001</td></tr>\n",
              "\t<tr><td>S13005</td><td>P040503001</td></tr>\n",
              "</tbody>\n",
              "</table>\n"
            ],
            "text/latex": [
              "A data.frame: 10 × 2\n",
              "\\begin{tabular}{ll}\n",
              " store\\_cd & product\\_cd\\\\\n",
              " <chr> & <chr>\\\\\n",
              "\\hline\n",
              "\t S12007 & P060303001\\\\\n",
              "\t S12013 & P060303001\\\\\n",
              "\t S12014 & P060303001\\\\\n",
              "\t S12029 & P060303001\\\\\n",
              "\t S12030 & P060303001\\\\\n",
              "\t S13001 & P060303001\\\\\n",
              "\t S13002 & P060303001\\\\\n",
              "\t S13003 & P071401001\\\\\n",
              "\t S13004 & P060303001\\\\\n",
              "\t S13005 & P040503001\\\\\n",
              "\\end{tabular}\n"
            ],
            "text/markdown": [
              "\n",
              "A data.frame: 10 × 2\n",
              "\n",
              "| store_cd &lt;chr&gt; | product_cd &lt;chr&gt; |\n",
              "|---|---|\n",
              "| S12007 | P060303001 |\n",
              "| S12013 | P060303001 |\n",
              "| S12014 | P060303001 |\n",
              "| S12029 | P060303001 |\n",
              "| S12030 | P060303001 |\n",
              "| S13001 | P060303001 |\n",
              "| S13002 | P060303001 |\n",
              "| S13003 | P071401001 |\n",
              "| S13004 | P060303001 |\n",
              "| S13005 | P040503001 |\n",
              "\n"
            ],
            "text/plain": [
              "   store_cd product_cd\n",
              "1  S12007   P060303001\n",
              "2  S12013   P060303001\n",
              "3  S12014   P060303001\n",
              "4  S12029   P060303001\n",
              "5  S12030   P060303001\n",
              "6  S13001   P060303001\n",
              "7  S13002   P060303001\n",
              "8  S13003   P071401001\n",
              "9  S13004   P060303001\n",
              "10 S13005   P040503001"
            ]
          },
          "metadata": {},
          "output_type": "display_data"
        }
      ],
      "source": [
        "# 코드 예시 2: which.max() 사용 (가장 빈번한 값이 여러 개 발생 시, 어느 한 개로 좁혀짐)\n",
        "# 건수 표시 생략\n",
        "\n",
        "table_product <-table(df_receipt$store_cd, df_receipt$product_cd)\n",
        "\n",
        "store <- names(table_product[,1])\n",
        "\n",
        "mode_product <- c()\n",
        "\n",
        "for (i in 1:length(store)){\n",
        "    mode_product[i] <- names(which.max(table_product[i,]))\n",
        "}\n",
        "\n",
        "data.frame(store_cd = store, product_cd = mode_product) %>%\n",
        "  slice(1:10)"
      ]
    },
    {
      "cell_type": "markdown",
      "metadata": {
        "id": "YHw_zyzxBJid"
      },
      "source": [
        "---\n",
        "> R-030: 영수증 내역 데이터(df_receipt)에 대해 매장 코드(store_cd)별 매출 금액(amount)의 분산을 계산하여 내림차순으로 5개씩 표시하시오."
      ]
    },
    {
      "cell_type": "code",
      "execution_count": null,
      "metadata": {
        "id": "dHjOcSHpBJid",
        "outputId": "38d00a87-514e-4769-cc72-64c2939efb85"
      },
      "outputs": [
        {
          "data": {
            "text/html": [
              "<table class=\"dataframe\">\n",
              "<caption>A tibble: 5 × 2</caption>\n",
              "<thead>\n",
              "\t<tr><th scope=col>store_cd</th><th scope=col>var_amount</th></tr>\n",
              "\t<tr><th scope=col>&lt;chr&gt;</th><th scope=col>&lt;dbl&gt;</th></tr>\n",
              "</thead>\n",
              "<tbody>\n",
              "\t<tr><td>S13052</td><td>440088.7</td></tr>\n",
              "\t<tr><td>S14011</td><td>306314.6</td></tr>\n",
              "\t<tr><td>S14034</td><td>296920.1</td></tr>\n",
              "\t<tr><td>S13001</td><td>295432.0</td></tr>\n",
              "\t<tr><td>S13015</td><td>295294.4</td></tr>\n",
              "</tbody>\n",
              "</table>\n"
            ],
            "text/latex": [
              "A tibble: 5 × 2\n",
              "\\begin{tabular}{ll}\n",
              " store\\_cd & var\\_amount\\\\\n",
              " <chr> & <dbl>\\\\\n",
              "\\hline\n",
              "\t S13052 & 440088.7\\\\\n",
              "\t S14011 & 306314.6\\\\\n",
              "\t S14034 & 296920.1\\\\\n",
              "\t S13001 & 295432.0\\\\\n",
              "\t S13015 & 295294.4\\\\\n",
              "\\end{tabular}\n"
            ],
            "text/markdown": [
              "\n",
              "A tibble: 5 × 2\n",
              "\n",
              "| store_cd &lt;chr&gt; | var_amount &lt;dbl&gt; |\n",
              "|---|---|\n",
              "| S13052 | 440088.7 |\n",
              "| S14011 | 306314.6 |\n",
              "| S14034 | 296920.1 |\n",
              "| S13001 | 295432.0 |\n",
              "| S13015 | 295294.4 |\n",
              "\n"
            ],
            "text/plain": [
              "  store_cd var_amount\n",
              "1 S13052   440088.7  \n",
              "2 S14011   306314.6  \n",
              "3 S14034   296920.1  \n",
              "4 S13001   295432.0  \n",
              "5 S13015   295294.4  "
            ]
          },
          "metadata": {},
          "output_type": "display_data"
        }
      ],
      "source": [
        "var_sample <- function(x){ var(x) * (length(x) - 1) / length(x) }\n",
        "\n",
        "df_receipt %>%\n",
        "    group_by(store_cd) %>%\n",
        "    summarise(var_amount = var_sample(amount), .groups = \"drop\") %>%\n",
        "    arrange(desc(var_amount)) %>%\n",
        "    slice(1:5)"
      ]
    },
    {
      "cell_type": "markdown",
      "metadata": {
        "id": "v7Yaxpb3BJid"
      },
      "source": [
        "---\n",
        "> R-031: 영수증 내역 데이터(df_receipt)에 대해 매장 코드(store_cd)별 매출 금액(amount)의 표준편차를 계산하여 내림차순으로 5건씩 표시하라."
      ]
    },
    {
      "cell_type": "code",
      "execution_count": null,
      "metadata": {
        "id": "uHvWdINTBJid",
        "outputId": "0eb7fbf7-b20f-4892-b16f-4fe558e2b88b"
      },
      "outputs": [
        {
          "data": {
            "text/html": [
              "<table class=\"dataframe\">\n",
              "<caption>A tibble: 5 × 2</caption>\n",
              "<thead>\n",
              "\t<tr><th scope=col>store_cd</th><th scope=col>std_amount</th></tr>\n",
              "\t<tr><th scope=col>&lt;chr&gt;</th><th scope=col>&lt;dbl&gt;</th></tr>\n",
              "</thead>\n",
              "<tbody>\n",
              "\t<tr><td>S13052</td><td>663.3918</td></tr>\n",
              "\t<tr><td>S14011</td><td>553.4569</td></tr>\n",
              "\t<tr><td>S14034</td><td>544.9037</td></tr>\n",
              "\t<tr><td>S13001</td><td>543.5366</td></tr>\n",
              "\t<tr><td>S13015</td><td>543.4099</td></tr>\n",
              "</tbody>\n",
              "</table>\n"
            ],
            "text/latex": [
              "A tibble: 5 × 2\n",
              "\\begin{tabular}{ll}\n",
              " store\\_cd & std\\_amount\\\\\n",
              " <chr> & <dbl>\\\\\n",
              "\\hline\n",
              "\t S13052 & 663.3918\\\\\n",
              "\t S14011 & 553.4569\\\\\n",
              "\t S14034 & 544.9037\\\\\n",
              "\t S13001 & 543.5366\\\\\n",
              "\t S13015 & 543.4099\\\\\n",
              "\\end{tabular}\n"
            ],
            "text/markdown": [
              "\n",
              "A tibble: 5 × 2\n",
              "\n",
              "| store_cd &lt;chr&gt; | std_amount &lt;dbl&gt; |\n",
              "|---|---|\n",
              "| S13052 | 663.3918 |\n",
              "| S14011 | 553.4569 |\n",
              "| S14034 | 544.9037 |\n",
              "| S13001 | 543.5366 |\n",
              "| S13015 | 543.4099 |\n",
              "\n"
            ],
            "text/plain": [
              "  store_cd std_amount\n",
              "1 S13052   663.3918  \n",
              "2 S14011   553.4569  \n",
              "3 S14034   544.9037  \n",
              "4 S13001   543.5366  \n",
              "5 S13015   543.4099  "
            ]
          },
          "metadata": {},
          "output_type": "display_data"
        }
      ],
      "source": [
        "var_sample <- function(x){ var(x)*(length(x)-1)/length(x) }\n",
        "\n",
        "std_sample <- function(x){ sqrt(var_sample(x)) }\n",
        "\n",
        "head(\n",
        "    df_receipt %>%\n",
        "        group_by(store_cd) %>%\n",
        "        summarise(std_amount = std_sample(amount), .groups = \"drop\") %>%\n",
        "        arrange(desc(std_amount))\n",
        "    , n = 5\n",
        ")"
      ]
    },
    {
      "cell_type": "markdown",
      "metadata": {
        "id": "8mBzcNhlBJid"
      },
      "source": [
        "---\n",
        "> R-032: 영수증 내역 데이터(df_receipt)의 매출 금액(amount)에 대해 25% 단위로 백분위수 값을 구하라."
      ]
    },
    {
      "cell_type": "code",
      "execution_count": null,
      "metadata": {
        "id": "PhNN1pdTBJid",
        "outputId": "150b8c4e-ee01-44cd-cdfd-0c3414266e2d"
      },
      "outputs": [
        {
          "data": {
            "text/html": [
              "<table class=\"dataframe\">\n",
              "<caption>A data.frame: 1 × 4</caption>\n",
              "<thead>\n",
              "\t<tr><th scope=col>amount_25per</th><th scope=col>amount_50per</th><th scope=col>amount_75per</th><th scope=col>amount_100per</th></tr>\n",
              "\t<tr><th scope=col>&lt;dbl&gt;</th><th scope=col>&lt;dbl&gt;</th><th scope=col>&lt;dbl&gt;</th><th scope=col>&lt;dbl&gt;</th></tr>\n",
              "</thead>\n",
              "<tbody>\n",
              "\t<tr><td>102</td><td>170</td><td>288</td><td>10925</td></tr>\n",
              "</tbody>\n",
              "</table>\n"
            ],
            "text/latex": [
              "A data.frame: 1 × 4\n",
              "\\begin{tabular}{llll}\n",
              " amount\\_25per & amount\\_50per & amount\\_75per & amount\\_100per\\\\\n",
              " <dbl> & <dbl> & <dbl> & <dbl>\\\\\n",
              "\\hline\n",
              "\t 102 & 170 & 288 & 10925\\\\\n",
              "\\end{tabular}\n"
            ],
            "text/markdown": [
              "\n",
              "A data.frame: 1 × 4\n",
              "\n",
              "| amount_25per &lt;dbl&gt; | amount_50per &lt;dbl&gt; | amount_75per &lt;dbl&gt; | amount_100per &lt;dbl&gt; |\n",
              "|---|---|---|---|\n",
              "| 102 | 170 | 288 | 10925 |\n",
              "\n"
            ],
            "text/plain": [
              "  amount_25per amount_50per amount_75per amount_100per\n",
              "1 102          170          288          10925        "
            ]
          },
          "metadata": {},
          "output_type": "display_data"
        }
      ],
      "source": [
        "df_receipt %>%\n",
        "    summarise(amount_25per = quantile(amount, 0.25),\n",
        "              amount_50per = quantile(amount, 0.5),\n",
        "              amount_75per = quantile(amount, 0.75),\n",
        "              amount_100per = quantile(amount, 1.0))"
      ]
    },
    {
      "cell_type": "markdown",
      "metadata": {
        "id": "uhD-K4YCBJid"
      },
      "source": [
        "---\n",
        "> R-033: 영수증 내역 데이터(df_receipt)에 대해 매장 코드(store_cd)별 매출 금액(amount)의 평균을 계산하여 330개 이상을 추출하라."
      ]
    },
    {
      "cell_type": "code",
      "execution_count": null,
      "metadata": {
        "id": "a9UlWSpYBJid",
        "outputId": "f5855201-e26f-4500-9691-f6e2ae171b19"
      },
      "outputs": [
        {
          "data": {
            "text/html": [
              "<table class=\"dataframe\">\n",
              "<caption>A tibble: 13 × 2</caption>\n",
              "<thead>\n",
              "\t<tr><th scope=col>store_cd</th><th scope=col>mean_amount</th></tr>\n",
              "\t<tr><th scope=col>&lt;chr&gt;</th><th scope=col>&lt;dbl&gt;</th></tr>\n",
              "</thead>\n",
              "<tbody>\n",
              "\t<tr><td>S12013</td><td>330.1941</td></tr>\n",
              "\t<tr><td>S13001</td><td>348.4704</td></tr>\n",
              "\t<tr><td>S13003</td><td>350.9155</td></tr>\n",
              "\t<tr><td>S13004</td><td>330.9439</td></tr>\n",
              "\t<tr><td>S13015</td><td>351.1120</td></tr>\n",
              "\t<tr><td>S13019</td><td>330.2086</td></tr>\n",
              "\t<tr><td>S13020</td><td>337.8799</td></tr>\n",
              "\t<tr><td>S13052</td><td>402.8675</td></tr>\n",
              "\t<tr><td>S14010</td><td>348.7913</td></tr>\n",
              "\t<tr><td>S14011</td><td>335.7183</td></tr>\n",
              "\t<tr><td>S14026</td><td>332.3406</td></tr>\n",
              "\t<tr><td>S14045</td><td>330.0821</td></tr>\n",
              "\t<tr><td>S14047</td><td>330.0771</td></tr>\n",
              "</tbody>\n",
              "</table>\n"
            ],
            "text/latex": [
              "A tibble: 13 × 2\n",
              "\\begin{tabular}{ll}\n",
              " store\\_cd & mean\\_amount\\\\\n",
              " <chr> & <dbl>\\\\\n",
              "\\hline\n",
              "\t S12013 & 330.1941\\\\\n",
              "\t S13001 & 348.4704\\\\\n",
              "\t S13003 & 350.9155\\\\\n",
              "\t S13004 & 330.9439\\\\\n",
              "\t S13015 & 351.1120\\\\\n",
              "\t S13019 & 330.2086\\\\\n",
              "\t S13020 & 337.8799\\\\\n",
              "\t S13052 & 402.8675\\\\\n",
              "\t S14010 & 348.7913\\\\\n",
              "\t S14011 & 335.7183\\\\\n",
              "\t S14026 & 332.3406\\\\\n",
              "\t S14045 & 330.0821\\\\\n",
              "\t S14047 & 330.0771\\\\\n",
              "\\end{tabular}\n"
            ],
            "text/markdown": [
              "\n",
              "A tibble: 13 × 2\n",
              "\n",
              "| store_cd &lt;chr&gt; | mean_amount &lt;dbl&gt; |\n",
              "|---|---|\n",
              "| S12013 | 330.1941 |\n",
              "| S13001 | 348.4704 |\n",
              "| S13003 | 350.9155 |\n",
              "| S13004 | 330.9439 |\n",
              "| S13015 | 351.1120 |\n",
              "| S13019 | 330.2086 |\n",
              "| S13020 | 337.8799 |\n",
              "| S13052 | 402.8675 |\n",
              "| S14010 | 348.7913 |\n",
              "| S14011 | 335.7183 |\n",
              "| S14026 | 332.3406 |\n",
              "| S14045 | 330.0821 |\n",
              "| S14047 | 330.0771 |\n",
              "\n"
            ],
            "text/plain": [
              "   store_cd mean_amount\n",
              "1  S12013   330.1941   \n",
              "2  S13001   348.4704   \n",
              "3  S13003   350.9155   \n",
              "4  S13004   330.9439   \n",
              "5  S13015   351.1120   \n",
              "6  S13019   330.2086   \n",
              "7  S13020   337.8799   \n",
              "8  S13052   402.8675   \n",
              "9  S14010   348.7913   \n",
              "10 S14011   335.7183   \n",
              "11 S14026   332.3406   \n",
              "12 S14045   330.0821   \n",
              "13 S14047   330.0771   "
            ]
          },
          "metadata": {},
          "output_type": "display_data"
        }
      ],
      "source": [
        "df_receipt %>%\n",
        "    group_by(store_cd) %>%\n",
        "    summarise(mean_amount = mean(amount), .groups = \"drop\") %>%\n",
        "    filter(mean_amount >= 330)"
      ]
    },
    {
      "cell_type": "markdown",
      "metadata": {
        "id": "U-N6BgGVBJid"
      },
      "source": [
        "---\n",
        "> R-034: 영수증 내역 데이터(df_receipt)에 대해 고객 ID(customer_id)별로 매출 금액(amount)을 합산하여 전체 고객의 평균을 구하시오. 단, 고객 ID가 \"Z\"로 시작하는 것은 비회원을 의미하므로 제외하여 계산한다."
      ]
    },
    {
      "cell_type": "code",
      "execution_count": null,
      "metadata": {
        "id": "Jc6pSpHdBJid",
        "outputId": "48bd8bdf-fb56-4680-8410-d3c61d05a89b"
      },
      "outputs": [
        {
          "data": {
            "text/html": [
              "2547.74223452926"
            ],
            "text/latex": [
              "2547.74223452926"
            ],
            "text/markdown": [
              "2547.74223452926"
            ],
            "text/plain": [
              "[1] 2547.742"
            ]
          },
          "metadata": {},
          "output_type": "display_data"
        }
      ],
      "source": [
        "df_mean <- df_receipt %>%\n",
        "    filter(!grepl(\"^Z\", customer_id)) %>%\n",
        "    group_by(customer_id) %>%\n",
        "    summarise(sum_amount = sum(amount), .groups = \"drop\") %>%\n",
        "    summarise(mean_amount = mean(sum_amount))\n",
        "\n",
        "df_mean$mean_amount"
      ]
    },
    {
      "cell_type": "markdown",
      "metadata": {
        "id": "Y5aXgkSwBJid"
      },
      "source": [
        "---\n",
        "> R-035: 영수증 내역 데이터(df_receipt)에 대해 고객 ID(customer_id)별로 매출 금액(amount)을 합산하여 전체 고객의 평균을 구하고, 평균 이상 쇼핑을 한 고객을 추출하여 10건씩 표시하시오. 단, 고객 ID가 \"Z\"로 시작하는 것은 비회원을 의미하므로 제외하여 계산한다."
      ]
    },
    {
      "cell_type": "code",
      "execution_count": null,
      "metadata": {
        "id": "OwO-UzXXBJid",
        "outputId": "d40f6b5a-2a9c-459a-d2f0-8019fa2c48ea"
      },
      "outputs": [
        {
          "data": {
            "text/html": [
              "<table class=\"dataframe\">\n",
              "<caption>A tibble: 10 × 2</caption>\n",
              "<thead>\n",
              "\t<tr><th scope=col>customer_id</th><th scope=col>sum_amount</th></tr>\n",
              "\t<tr><th scope=col>&lt;chr&gt;</th><th scope=col>&lt;int&gt;</th></tr>\n",
              "</thead>\n",
              "<tbody>\n",
              "\t<tr><td>CS001115000010</td><td>3044</td></tr>\n",
              "\t<tr><td>CS001205000006</td><td>3337</td></tr>\n",
              "\t<tr><td>CS001214000009</td><td>4685</td></tr>\n",
              "\t<tr><td>CS001214000017</td><td>4132</td></tr>\n",
              "\t<tr><td>CS001214000052</td><td>5639</td></tr>\n",
              "\t<tr><td>CS001215000040</td><td>3496</td></tr>\n",
              "\t<tr><td>CS001304000006</td><td>3726</td></tr>\n",
              "\t<tr><td>CS001305000005</td><td>3485</td></tr>\n",
              "\t<tr><td>CS001305000011</td><td>4370</td></tr>\n",
              "\t<tr><td>CS001315000180</td><td>3300</td></tr>\n",
              "</tbody>\n",
              "</table>\n"
            ],
            "text/latex": [
              "A tibble: 10 × 2\n",
              "\\begin{tabular}{ll}\n",
              " customer\\_id & sum\\_amount\\\\\n",
              " <chr> & <int>\\\\\n",
              "\\hline\n",
              "\t CS001115000010 & 3044\\\\\n",
              "\t CS001205000006 & 3337\\\\\n",
              "\t CS001214000009 & 4685\\\\\n",
              "\t CS001214000017 & 4132\\\\\n",
              "\t CS001214000052 & 5639\\\\\n",
              "\t CS001215000040 & 3496\\\\\n",
              "\t CS001304000006 & 3726\\\\\n",
              "\t CS001305000005 & 3485\\\\\n",
              "\t CS001305000011 & 4370\\\\\n",
              "\t CS001315000180 & 3300\\\\\n",
              "\\end{tabular}\n"
            ],
            "text/markdown": [
              "\n",
              "A tibble: 10 × 2\n",
              "\n",
              "| customer_id &lt;chr&gt; | sum_amount &lt;int&gt; |\n",
              "|---|---|\n",
              "| CS001115000010 | 3044 |\n",
              "| CS001205000006 | 3337 |\n",
              "| CS001214000009 | 4685 |\n",
              "| CS001214000017 | 4132 |\n",
              "| CS001214000052 | 5639 |\n",
              "| CS001215000040 | 3496 |\n",
              "| CS001304000006 | 3726 |\n",
              "| CS001305000005 | 3485 |\n",
              "| CS001305000011 | 4370 |\n",
              "| CS001315000180 | 3300 |\n",
              "\n"
            ],
            "text/plain": [
              "   customer_id    sum_amount\n",
              "1  CS001115000010 3044      \n",
              "2  CS001205000006 3337      \n",
              "3  CS001214000009 4685      \n",
              "4  CS001214000017 4132      \n",
              "5  CS001214000052 5639      \n",
              "6  CS001215000040 3496      \n",
              "7  CS001304000006 3726      \n",
              "8  CS001305000005 3485      \n",
              "9  CS001305000011 4370      \n",
              "10 CS001315000180 3300      "
            ]
          },
          "metadata": {},
          "output_type": "display_data"
        }
      ],
      "source": [
        "df_sum <- df_receipt %>%\n",
        "    filter(!grepl(\"^Z\", customer_id)) %>%\n",
        "    group_by(customer_id) %>%\n",
        "    summarise(sum_amount = sum(amount), .groups = \"drop\")\n",
        "\n",
        "df_mean <- df_sum %>%\n",
        "    summarise(mean_amount = mean(sum_amount))\n",
        "\n",
        "df_sum %>%\n",
        "    filter(sum_amount >= df_mean$mean_amount) %>%\n",
        "    slice(1:10)"
      ]
    },
    {
      "cell_type": "markdown",
      "metadata": {
        "id": "x3elfmjbBJie"
      },
      "source": [
        "---\n",
        "> R-036: 영수증 내역 데이터(df_receipt)와 매장 데이터(df_store)를 내부적으로 결합하여 영수증 내역 데이터의 모든 항목과 매장 데이터의 매장명(store_name)을 10건씩 표시하라."
      ]
    },
    {
      "cell_type": "code",
      "execution_count": null,
      "metadata": {
        "id": "RJ_rXYhCBJie",
        "outputId": "b682dd86-e390-40c6-b764-2c4e0426f66b"
      },
      "outputs": [
        {
          "data": {
            "text/html": [
              "<table class=\"dataframe\">\n",
              "<caption>A data.frame: 10 × 10</caption>\n",
              "<thead>\n",
              "\t<tr><th scope=col>sales_ymd</th><th scope=col>sales_epoch</th><th scope=col>store_cd</th><th scope=col>receipt_no</th><th scope=col>receipt_sub_no</th><th scope=col>customer_id</th><th scope=col>product_cd</th><th scope=col>quantity</th><th scope=col>amount</th><th scope=col>store_name</th></tr>\n",
              "\t<tr><th scope=col>&lt;int&gt;</th><th scope=col>&lt;int&gt;</th><th scope=col>&lt;chr&gt;</th><th scope=col>&lt;int&gt;</th><th scope=col>&lt;int&gt;</th><th scope=col>&lt;chr&gt;</th><th scope=col>&lt;chr&gt;</th><th scope=col>&lt;int&gt;</th><th scope=col>&lt;int&gt;</th><th scope=col>&lt;chr&gt;</th></tr>\n",
              "</thead>\n",
              "<tbody>\n",
              "\t<tr><td>20181103</td><td>1541203200</td><td>S14006</td><td> 112</td><td>1</td><td>CS006214000001</td><td>P070305012</td><td>1</td><td>158</td><td>葛が谷店  </td></tr>\n",
              "\t<tr><td>20181118</td><td>1542499200</td><td>S13008</td><td>1132</td><td>2</td><td>CS008415000097</td><td>P070701017</td><td>1</td><td> 81</td><td>成城店    </td></tr>\n",
              "\t<tr><td>20170712</td><td>1499817600</td><td>S14028</td><td>1102</td><td>1</td><td>CS028414000014</td><td>P060101005</td><td>1</td><td>170</td><td>二ツ橋店  </td></tr>\n",
              "\t<tr><td>20190205</td><td>1549324800</td><td>S14042</td><td>1132</td><td>1</td><td>ZZ000000000000</td><td>P050301001</td><td>1</td><td> 25</td><td>新山下店  </td></tr>\n",
              "\t<tr><td>20180821</td><td>1534809600</td><td>S14025</td><td>1102</td><td>2</td><td>CS025415000050</td><td>P060102007</td><td>1</td><td> 90</td><td>大和店    </td></tr>\n",
              "\t<tr><td>20190605</td><td>1559692800</td><td>S13003</td><td>1112</td><td>1</td><td>CS003515000195</td><td>P050102002</td><td>1</td><td>138</td><td>狛江店    </td></tr>\n",
              "\t<tr><td>20181205</td><td>1543968000</td><td>S14024</td><td>1102</td><td>2</td><td>CS024514000042</td><td>P080101005</td><td>1</td><td> 30</td><td>三田店    </td></tr>\n",
              "\t<tr><td>20190922</td><td>1569110400</td><td>S14040</td><td>1102</td><td>1</td><td>CS040415000178</td><td>P070501004</td><td>1</td><td>128</td><td>長津田店  </td></tr>\n",
              "\t<tr><td>20170504</td><td>1493856000</td><td>S13020</td><td>1112</td><td>2</td><td>ZZ000000000000</td><td>P071302010</td><td>1</td><td>770</td><td>十条仲原店</td></tr>\n",
              "\t<tr><td>20191010</td><td>1570665600</td><td>S14027</td><td>1102</td><td>1</td><td>CS027514000015</td><td>P071101003</td><td>1</td><td>680</td><td>南藤沢店  </td></tr>\n",
              "</tbody>\n",
              "</table>\n"
            ],
            "text/latex": [
              "A data.frame: 10 × 10\n",
              "\\begin{tabular}{llllllllll}\n",
              " sales\\_ymd & sales\\_epoch & store\\_cd & receipt\\_no & receipt\\_sub\\_no & customer\\_id & product\\_cd & quantity & amount & store\\_name\\\\\n",
              " <int> & <int> & <chr> & <int> & <int> & <chr> & <chr> & <int> & <int> & <chr>\\\\\n",
              "\\hline\n",
              "\t 20181103 & 1541203200 & S14006 &  112 & 1 & CS006214000001 & P070305012 & 1 & 158 & 葛が谷店  \\\\\n",
              "\t 20181118 & 1542499200 & S13008 & 1132 & 2 & CS008415000097 & P070701017 & 1 &  81 & 成城店    \\\\\n",
              "\t 20170712 & 1499817600 & S14028 & 1102 & 1 & CS028414000014 & P060101005 & 1 & 170 & 二ツ橋店  \\\\\n",
              "\t 20190205 & 1549324800 & S14042 & 1132 & 1 & ZZ000000000000 & P050301001 & 1 &  25 & 新山下店  \\\\\n",
              "\t 20180821 & 1534809600 & S14025 & 1102 & 2 & CS025415000050 & P060102007 & 1 &  90 & 大和店    \\\\\n",
              "\t 20190605 & 1559692800 & S13003 & 1112 & 1 & CS003515000195 & P050102002 & 1 & 138 & 狛江店    \\\\\n",
              "\t 20181205 & 1543968000 & S14024 & 1102 & 2 & CS024514000042 & P080101005 & 1 &  30 & 三田店    \\\\\n",
              "\t 20190922 & 1569110400 & S14040 & 1102 & 1 & CS040415000178 & P070501004 & 1 & 128 & 長津田店  \\\\\n",
              "\t 20170504 & 1493856000 & S13020 & 1112 & 2 & ZZ000000000000 & P071302010 & 1 & 770 & 十条仲原店\\\\\n",
              "\t 20191010 & 1570665600 & S14027 & 1102 & 1 & CS027514000015 & P071101003 & 1 & 680 & 南藤沢店  \\\\\n",
              "\\end{tabular}\n"
            ],
            "text/markdown": [
              "\n",
              "A data.frame: 10 × 10\n",
              "\n",
              "| sales_ymd &lt;int&gt; | sales_epoch &lt;int&gt; | store_cd &lt;chr&gt; | receipt_no &lt;int&gt; | receipt_sub_no &lt;int&gt; | customer_id &lt;chr&gt; | product_cd &lt;chr&gt; | quantity &lt;int&gt; | amount &lt;int&gt; | store_name &lt;chr&gt; |\n",
              "|---|---|---|---|---|---|---|---|---|---|\n",
              "| 20181103 | 1541203200 | S14006 |  112 | 1 | CS006214000001 | P070305012 | 1 | 158 | 葛が谷店   |\n",
              "| 20181118 | 1542499200 | S13008 | 1132 | 2 | CS008415000097 | P070701017 | 1 |  81 | 成城店     |\n",
              "| 20170712 | 1499817600 | S14028 | 1102 | 1 | CS028414000014 | P060101005 | 1 | 170 | 二ツ橋店   |\n",
              "| 20190205 | 1549324800 | S14042 | 1132 | 1 | ZZ000000000000 | P050301001 | 1 |  25 | 新山下店   |\n",
              "| 20180821 | 1534809600 | S14025 | 1102 | 2 | CS025415000050 | P060102007 | 1 |  90 | 大和店     |\n",
              "| 20190605 | 1559692800 | S13003 | 1112 | 1 | CS003515000195 | P050102002 | 1 | 138 | 狛江店     |\n",
              "| 20181205 | 1543968000 | S14024 | 1102 | 2 | CS024514000042 | P080101005 | 1 |  30 | 三田店     |\n",
              "| 20190922 | 1569110400 | S14040 | 1102 | 1 | CS040415000178 | P070501004 | 1 | 128 | 長津田店   |\n",
              "| 20170504 | 1493856000 | S13020 | 1112 | 2 | ZZ000000000000 | P071302010 | 1 | 770 | 十条仲原店 |\n",
              "| 20191010 | 1570665600 | S14027 | 1102 | 1 | CS027514000015 | P071101003 | 1 | 680 | 南藤沢店   |\n",
              "\n"
            ],
            "text/plain": [
              "   sales_ymd sales_epoch store_cd receipt_no receipt_sub_no customer_id   \n",
              "1  20181103  1541203200  S14006    112       1              CS006214000001\n",
              "2  20181118  1542499200  S13008   1132       2              CS008415000097\n",
              "3  20170712  1499817600  S14028   1102       1              CS028414000014\n",
              "4  20190205  1549324800  S14042   1132       1              ZZ000000000000\n",
              "5  20180821  1534809600  S14025   1102       2              CS025415000050\n",
              "6  20190605  1559692800  S13003   1112       1              CS003515000195\n",
              "7  20181205  1543968000  S14024   1102       2              CS024514000042\n",
              "8  20190922  1569110400  S14040   1102       1              CS040415000178\n",
              "9  20170504  1493856000  S13020   1112       2              ZZ000000000000\n",
              "10 20191010  1570665600  S14027   1102       1              CS027514000015\n",
              "   product_cd quantity amount store_name\n",
              "1  P070305012 1        158    葛が谷店  \n",
              "2  P070701017 1         81    成城店    \n",
              "3  P060101005 1        170    二ツ橋店  \n",
              "4  P050301001 1         25    新山下店  \n",
              "5  P060102007 1         90    大和店    \n",
              "6  P050102002 1        138    狛江店    \n",
              "7  P080101005 1         30    三田店    \n",
              "8  P070501004 1        128    長津田店  \n",
              "9  P071302010 1        770    十条仲原店\n",
              "10 P071101003 1        680    南藤沢店  "
            ]
          },
          "metadata": {},
          "output_type": "display_data"
        }
      ],
      "source": [
        "inner_join(df_receipt, \n",
        "           df_store[c(\"store_cd\", \"store_name\")], by = \"store_cd\") %>%\n",
        "    slice(1:10)"
      ]
    },
    {
      "cell_type": "markdown",
      "metadata": {
        "id": "1m6YfI9kBJie"
      },
      "source": [
        "---\n",
        "> R-037: 상품 데이터(df_product)와 카테고리 데이터(df_category)를 내부적으로 결합하여 상품 데이터의 전체 항목과 카테고리 데이터의 카테고리 소분류 이름(category_small_name) 10개를 표시하라."
      ]
    },
    {
      "cell_type": "code",
      "execution_count": null,
      "metadata": {
        "id": "zz0xnwu3BJie",
        "outputId": "4e060e3c-43ce-4c67-8094-ca21861183c4"
      },
      "outputs": [
        {
          "data": {
            "text/html": [
              "<table class=\"dataframe\">\n",
              "<caption>A data.frame: 10 × 7</caption>\n",
              "<thead>\n",
              "\t<tr><th scope=col>product_cd</th><th scope=col>category_major_cd</th><th scope=col>category_medium_cd</th><th scope=col>category_small_cd</th><th scope=col>unit_price</th><th scope=col>unit_cost</th><th scope=col>category_small_name</th></tr>\n",
              "\t<tr><th scope=col>&lt;chr&gt;</th><th scope=col>&lt;chr&gt;</th><th scope=col>&lt;chr&gt;</th><th scope=col>&lt;chr&gt;</th><th scope=col>&lt;int&gt;</th><th scope=col>&lt;int&gt;</th><th scope=col>&lt;chr&gt;</th></tr>\n",
              "</thead>\n",
              "<tbody>\n",
              "\t<tr><td>P040101001</td><td>04</td><td>0401</td><td>040101</td><td>198</td><td>149</td><td>弁当類</td></tr>\n",
              "\t<tr><td>P040101002</td><td>04</td><td>0401</td><td>040101</td><td>218</td><td>164</td><td>弁当類</td></tr>\n",
              "\t<tr><td>P040101003</td><td>04</td><td>0401</td><td>040101</td><td>230</td><td>173</td><td>弁当類</td></tr>\n",
              "\t<tr><td>P040101004</td><td>04</td><td>0401</td><td>040101</td><td>248</td><td>186</td><td>弁当類</td></tr>\n",
              "\t<tr><td>P040101005</td><td>04</td><td>0401</td><td>040101</td><td>268</td><td>201</td><td>弁当類</td></tr>\n",
              "\t<tr><td>P040101006</td><td>04</td><td>0401</td><td>040101</td><td>298</td><td>224</td><td>弁当類</td></tr>\n",
              "\t<tr><td>P040101007</td><td>04</td><td>0401</td><td>040101</td><td>338</td><td>254</td><td>弁当類</td></tr>\n",
              "\t<tr><td>P040101008</td><td>04</td><td>0401</td><td>040101</td><td>420</td><td>315</td><td>弁当類</td></tr>\n",
              "\t<tr><td>P040101009</td><td>04</td><td>0401</td><td>040101</td><td>498</td><td>374</td><td>弁当類</td></tr>\n",
              "\t<tr><td>P040101010</td><td>04</td><td>0401</td><td>040101</td><td>580</td><td>435</td><td>弁当類</td></tr>\n",
              "</tbody>\n",
              "</table>\n"
            ],
            "text/latex": [
              "A data.frame: 10 × 7\n",
              "\\begin{tabular}{lllllll}\n",
              " product\\_cd & category\\_major\\_cd & category\\_medium\\_cd & category\\_small\\_cd & unit\\_price & unit\\_cost & category\\_small\\_name\\\\\n",
              " <chr> & <chr> & <chr> & <chr> & <int> & <int> & <chr>\\\\\n",
              "\\hline\n",
              "\t P040101001 & 04 & 0401 & 040101 & 198 & 149 & 弁当類\\\\\n",
              "\t P040101002 & 04 & 0401 & 040101 & 218 & 164 & 弁当類\\\\\n",
              "\t P040101003 & 04 & 0401 & 040101 & 230 & 173 & 弁当類\\\\\n",
              "\t P040101004 & 04 & 0401 & 040101 & 248 & 186 & 弁当類\\\\\n",
              "\t P040101005 & 04 & 0401 & 040101 & 268 & 201 & 弁当類\\\\\n",
              "\t P040101006 & 04 & 0401 & 040101 & 298 & 224 & 弁当類\\\\\n",
              "\t P040101007 & 04 & 0401 & 040101 & 338 & 254 & 弁当類\\\\\n",
              "\t P040101008 & 04 & 0401 & 040101 & 420 & 315 & 弁当類\\\\\n",
              "\t P040101009 & 04 & 0401 & 040101 & 498 & 374 & 弁当類\\\\\n",
              "\t P040101010 & 04 & 0401 & 040101 & 580 & 435 & 弁当類\\\\\n",
              "\\end{tabular}\n"
            ],
            "text/markdown": [
              "\n",
              "A data.frame: 10 × 7\n",
              "\n",
              "| product_cd &lt;chr&gt; | category_major_cd &lt;chr&gt; | category_medium_cd &lt;chr&gt; | category_small_cd &lt;chr&gt; | unit_price &lt;int&gt; | unit_cost &lt;int&gt; | category_small_name &lt;chr&gt; |\n",
              "|---|---|---|---|---|---|---|\n",
              "| P040101001 | 04 | 0401 | 040101 | 198 | 149 | 弁当類 |\n",
              "| P040101002 | 04 | 0401 | 040101 | 218 | 164 | 弁当類 |\n",
              "| P040101003 | 04 | 0401 | 040101 | 230 | 173 | 弁当類 |\n",
              "| P040101004 | 04 | 0401 | 040101 | 248 | 186 | 弁当類 |\n",
              "| P040101005 | 04 | 0401 | 040101 | 268 | 201 | 弁当類 |\n",
              "| P040101006 | 04 | 0401 | 040101 | 298 | 224 | 弁当類 |\n",
              "| P040101007 | 04 | 0401 | 040101 | 338 | 254 | 弁当類 |\n",
              "| P040101008 | 04 | 0401 | 040101 | 420 | 315 | 弁当類 |\n",
              "| P040101009 | 04 | 0401 | 040101 | 498 | 374 | 弁当類 |\n",
              "| P040101010 | 04 | 0401 | 040101 | 580 | 435 | 弁当類 |\n",
              "\n"
            ],
            "text/plain": [
              "   product_cd category_major_cd category_medium_cd category_small_cd unit_price\n",
              "1  P040101001 04                0401               040101            198       \n",
              "2  P040101002 04                0401               040101            218       \n",
              "3  P040101003 04                0401               040101            230       \n",
              "4  P040101004 04                0401               040101            248       \n",
              "5  P040101005 04                0401               040101            268       \n",
              "6  P040101006 04                0401               040101            298       \n",
              "7  P040101007 04                0401               040101            338       \n",
              "8  P040101008 04                0401               040101            420       \n",
              "9  P040101009 04                0401               040101            498       \n",
              "10 P040101010 04                0401               040101            580       \n",
              "   unit_cost category_small_name\n",
              "1  149       弁当類             \n",
              "2  164       弁当類             \n",
              "3  173       弁当類             \n",
              "4  186       弁当類             \n",
              "5  201       弁当類             \n",
              "6  224       弁当類             \n",
              "7  254       弁当類             \n",
              "8  315       弁当類             \n",
              "9  374       弁当類             \n",
              "10 435       弁当類             "
            ]
          },
          "metadata": {},
          "output_type": "display_data"
        }
      ],
      "source": [
        "inner_join(df_product,\n",
        "           df_category[c(\"category_small_cd\", \"category_small_name\")],\n",
        "           by = \"category_small_cd\") %>%\n",
        "    slice(1:10)"
      ]
    },
    {
      "cell_type": "markdown",
      "metadata": {
        "id": "RsriXSgHBJie"
      },
      "source": [
        "---\n",
        "> R-038: 고객 데이터(df_customer)와 영수증 내역 데이터(df_receipt)에서 고객별 매출 금액의 총합을 구하여 10건을 표시하시오. 단, 판매 실적이 없는 고객에 대해서는 판매금액을 0으로 표시한다. 또한, 고객은 성별 코드(gender_cd)가 여성(1)인 고객을 대상으로 하며, 비회원(고객 ID가 \"Z\"로 시작하는 고객)은 제외한다."
      ]
    },
    {
      "cell_type": "code",
      "execution_count": null,
      "metadata": {
        "id": "PaRCsIvwBJie",
        "outputId": "6f1177ab-a375-4440-aef5-9a35061de750"
      },
      "outputs": [
        {
          "data": {
            "text/html": [
              "<table class=\"dataframe\">\n",
              "<caption>A data.frame: 10 × 2</caption>\n",
              "<thead>\n",
              "\t<tr><th scope=col>customer_id</th><th scope=col>sum_amount</th></tr>\n",
              "\t<tr><th scope=col>&lt;chr&gt;</th><th scope=col>&lt;dbl&gt;</th></tr>\n",
              "</thead>\n",
              "<tbody>\n",
              "\t<tr><td>CS021313000114</td><td>   0</td></tr>\n",
              "\t<tr><td>CS031415000172</td><td>5088</td></tr>\n",
              "\t<tr><td>CS028811000001</td><td>   0</td></tr>\n",
              "\t<tr><td>CS001215000145</td><td> 875</td></tr>\n",
              "\t<tr><td>CS015414000103</td><td>3122</td></tr>\n",
              "\t<tr><td>CS033513000180</td><td> 868</td></tr>\n",
              "\t<tr><td>CS035614000014</td><td>   0</td></tr>\n",
              "\t<tr><td>CS011215000048</td><td>3444</td></tr>\n",
              "\t<tr><td>CS009413000079</td><td>   0</td></tr>\n",
              "\t<tr><td>CS040412000191</td><td> 210</td></tr>\n",
              "</tbody>\n",
              "</table>\n"
            ],
            "text/latex": [
              "A data.frame: 10 × 2\n",
              "\\begin{tabular}{ll}\n",
              " customer\\_id & sum\\_amount\\\\\n",
              " <chr> & <dbl>\\\\\n",
              "\\hline\n",
              "\t CS021313000114 &    0\\\\\n",
              "\t CS031415000172 & 5088\\\\\n",
              "\t CS028811000001 &    0\\\\\n",
              "\t CS001215000145 &  875\\\\\n",
              "\t CS015414000103 & 3122\\\\\n",
              "\t CS033513000180 &  868\\\\\n",
              "\t CS035614000014 &    0\\\\\n",
              "\t CS011215000048 & 3444\\\\\n",
              "\t CS009413000079 &    0\\\\\n",
              "\t CS040412000191 &  210\\\\\n",
              "\\end{tabular}\n"
            ],
            "text/markdown": [
              "\n",
              "A data.frame: 10 × 2\n",
              "\n",
              "| customer_id &lt;chr&gt; | sum_amount &lt;dbl&gt; |\n",
              "|---|---|\n",
              "| CS021313000114 |    0 |\n",
              "| CS031415000172 | 5088 |\n",
              "| CS028811000001 |    0 |\n",
              "| CS001215000145 |  875 |\n",
              "| CS015414000103 | 3122 |\n",
              "| CS033513000180 |  868 |\n",
              "| CS035614000014 |    0 |\n",
              "| CS011215000048 | 3444 |\n",
              "| CS009413000079 |    0 |\n",
              "| CS040412000191 |  210 |\n",
              "\n"
            ],
            "text/plain": [
              "   customer_id    sum_amount\n",
              "1  CS021313000114    0      \n",
              "2  CS031415000172 5088      \n",
              "3  CS028811000001    0      \n",
              "4  CS001215000145  875      \n",
              "5  CS015414000103 3122      \n",
              "6  CS033513000180  868      \n",
              "7  CS035614000014    0      \n",
              "8  CS011215000048 3444      \n",
              "9  CS009413000079    0      \n",
              "10 CS040412000191  210      "
            ]
          },
          "metadata": {},
          "output_type": "display_data"
        }
      ],
      "source": [
        "df_sum <- df_receipt %>%\n",
        "    group_by(customer_id) %>%\n",
        "    summarise(sum_amount = sum(amount), .groups = \"drop\")\n",
        "\n",
        "df_target <- df_customer %>%\n",
        "    filter(gender_cd == \"1\" & !grepl(\"^Z\", customer_id))\n",
        "\n",
        "left_join(df_target[\"customer_id\"], df_sum, by = \"customer_id\") %>%\n",
        "    replace_na(list(sum_amount = 0)) %>%\n",
        "    slice(1:10)"
      ]
    },
    {
      "cell_type": "markdown",
      "metadata": {
        "id": "qkPf1XUKBJie"
      },
      "source": [
        "---\n",
        "> R-039: 영수증 내역 데이터(df_receipt)에서 매출 일수가 많은 고객 상위 20건을 추출한 데이터와 매출 금액 합계가 많은 고객 상위 20건을 추출한 데이터를 각각 생성하고, 이 두 가지를 완전히 외부 결합하라. 단, 비회원(고객 ID가 \"Z\"로 시작하는 고객)은 제외한다."
      ]
    },
    {
      "cell_type": "code",
      "execution_count": null,
      "metadata": {
        "id": "uhuEmOXJBJie",
        "outputId": "430796c0-0295-4317-e36b-a7803f0ce9f2"
      },
      "outputs": [
        {
          "data": {
            "text/html": [
              "<table class=\"dataframe\">\n",
              "<caption>A tibble: 34 × 3</caption>\n",
              "<thead>\n",
              "\t<tr><th scope=col>customer_id</th><th scope=col>come_days</th><th scope=col>sum_amount</th></tr>\n",
              "\t<tr><th scope=col>&lt;chr&gt;</th><th scope=col>&lt;int&gt;</th><th scope=col>&lt;int&gt;</th></tr>\n",
              "</thead>\n",
              "<tbody>\n",
              "\t<tr><td>CS040214000008</td><td>23</td><td>   NA</td></tr>\n",
              "\t<tr><td>CS010214000010</td><td>22</td><td>18585</td></tr>\n",
              "\t<tr><td>CS015415000185</td><td>22</td><td>20153</td></tr>\n",
              "\t<tr><td>CS010214000002</td><td>21</td><td>   NA</td></tr>\n",
              "\t<tr><td>CS028415000007</td><td>21</td><td>19127</td></tr>\n",
              "\t<tr><td>CS016415000141</td><td>20</td><td>18372</td></tr>\n",
              "\t<tr><td>CS017415000097</td><td>20</td><td>23086</td></tr>\n",
              "\t<tr><td>CS014214000023</td><td>19</td><td>   NA</td></tr>\n",
              "\t<tr><td>CS021514000045</td><td>19</td><td>   NA</td></tr>\n",
              "\t<tr><td>CS021515000172</td><td>19</td><td>   NA</td></tr>\n",
              "\t<tr><td>CS022515000226</td><td>19</td><td>   NA</td></tr>\n",
              "\t<tr><td>CS031414000051</td><td>19</td><td>19202</td></tr>\n",
              "\t<tr><td>CS039414000052</td><td>19</td><td>   NA</td></tr>\n",
              "\t<tr><td>CS007515000107</td><td>18</td><td>   NA</td></tr>\n",
              "\t<tr><td>CS014415000077</td><td>18</td><td>   NA</td></tr>\n",
              "\t<tr><td>CS021515000056</td><td>18</td><td>   NA</td></tr>\n",
              "\t<tr><td>CS021515000211</td><td>18</td><td>   NA</td></tr>\n",
              "\t<tr><td>CS022515000028</td><td>18</td><td>   NA</td></tr>\n",
              "\t<tr><td>CS030214000008</td><td>18</td><td>   NA</td></tr>\n",
              "\t<tr><td>CS031414000073</td><td>18</td><td>   NA</td></tr>\n",
              "\t<tr><td>CS001605000009</td><td>NA</td><td>18925</td></tr>\n",
              "\t<tr><td>CS006515000023</td><td>NA</td><td>18372</td></tr>\n",
              "\t<tr><td>CS011414000106</td><td>NA</td><td>18338</td></tr>\n",
              "\t<tr><td>CS038415000104</td><td>NA</td><td>17847</td></tr>\n",
              "\t<tr><td>CS035414000024</td><td>NA</td><td>17615</td></tr>\n",
              "\t<tr><td>CS021515000089</td><td>NA</td><td>17580</td></tr>\n",
              "\t<tr><td>CS032414000072</td><td>NA</td><td>16563</td></tr>\n",
              "\t<tr><td>CS016415000101</td><td>NA</td><td>16348</td></tr>\n",
              "\t<tr><td>CS011415000006</td><td>NA</td><td>16094</td></tr>\n",
              "\t<tr><td>CS034415000047</td><td>NA</td><td>16083</td></tr>\n",
              "\t<tr><td>CS007514000094</td><td>NA</td><td>15735</td></tr>\n",
              "\t<tr><td>CS009414000059</td><td>NA</td><td>15492</td></tr>\n",
              "\t<tr><td>CS030415000034</td><td>NA</td><td>15468</td></tr>\n",
              "\t<tr><td>CS015515000034</td><td>NA</td><td>15300</td></tr>\n",
              "</tbody>\n",
              "</table>\n"
            ],
            "text/latex": [
              "A tibble: 34 × 3\n",
              "\\begin{tabular}{lll}\n",
              " customer\\_id & come\\_days & sum\\_amount\\\\\n",
              " <chr> & <int> & <int>\\\\\n",
              "\\hline\n",
              "\t CS040214000008 & 23 &    NA\\\\\n",
              "\t CS010214000010 & 22 & 18585\\\\\n",
              "\t CS015415000185 & 22 & 20153\\\\\n",
              "\t CS010214000002 & 21 &    NA\\\\\n",
              "\t CS028415000007 & 21 & 19127\\\\\n",
              "\t CS016415000141 & 20 & 18372\\\\\n",
              "\t CS017415000097 & 20 & 23086\\\\\n",
              "\t CS014214000023 & 19 &    NA\\\\\n",
              "\t CS021514000045 & 19 &    NA\\\\\n",
              "\t CS021515000172 & 19 &    NA\\\\\n",
              "\t CS022515000226 & 19 &    NA\\\\\n",
              "\t CS031414000051 & 19 & 19202\\\\\n",
              "\t CS039414000052 & 19 &    NA\\\\\n",
              "\t CS007515000107 & 18 &    NA\\\\\n",
              "\t CS014415000077 & 18 &    NA\\\\\n",
              "\t CS021515000056 & 18 &    NA\\\\\n",
              "\t CS021515000211 & 18 &    NA\\\\\n",
              "\t CS022515000028 & 18 &    NA\\\\\n",
              "\t CS030214000008 & 18 &    NA\\\\\n",
              "\t CS031414000073 & 18 &    NA\\\\\n",
              "\t CS001605000009 & NA & 18925\\\\\n",
              "\t CS006515000023 & NA & 18372\\\\\n",
              "\t CS011414000106 & NA & 18338\\\\\n",
              "\t CS038415000104 & NA & 17847\\\\\n",
              "\t CS035414000024 & NA & 17615\\\\\n",
              "\t CS021515000089 & NA & 17580\\\\\n",
              "\t CS032414000072 & NA & 16563\\\\\n",
              "\t CS016415000101 & NA & 16348\\\\\n",
              "\t CS011415000006 & NA & 16094\\\\\n",
              "\t CS034415000047 & NA & 16083\\\\\n",
              "\t CS007514000094 & NA & 15735\\\\\n",
              "\t CS009414000059 & NA & 15492\\\\\n",
              "\t CS030415000034 & NA & 15468\\\\\n",
              "\t CS015515000034 & NA & 15300\\\\\n",
              "\\end{tabular}\n"
            ],
            "text/markdown": [
              "\n",
              "A tibble: 34 × 3\n",
              "\n",
              "| customer_id &lt;chr&gt; | come_days &lt;int&gt; | sum_amount &lt;int&gt; |\n",
              "|---|---|---|\n",
              "| CS040214000008 | 23 |    NA |\n",
              "| CS010214000010 | 22 | 18585 |\n",
              "| CS015415000185 | 22 | 20153 |\n",
              "| CS010214000002 | 21 |    NA |\n",
              "| CS028415000007 | 21 | 19127 |\n",
              "| CS016415000141 | 20 | 18372 |\n",
              "| CS017415000097 | 20 | 23086 |\n",
              "| CS014214000023 | 19 |    NA |\n",
              "| CS021514000045 | 19 |    NA |\n",
              "| CS021515000172 | 19 |    NA |\n",
              "| CS022515000226 | 19 |    NA |\n",
              "| CS031414000051 | 19 | 19202 |\n",
              "| CS039414000052 | 19 |    NA |\n",
              "| CS007515000107 | 18 |    NA |\n",
              "| CS014415000077 | 18 |    NA |\n",
              "| CS021515000056 | 18 |    NA |\n",
              "| CS021515000211 | 18 |    NA |\n",
              "| CS022515000028 | 18 |    NA |\n",
              "| CS030214000008 | 18 |    NA |\n",
              "| CS031414000073 | 18 |    NA |\n",
              "| CS001605000009 | NA | 18925 |\n",
              "| CS006515000023 | NA | 18372 |\n",
              "| CS011414000106 | NA | 18338 |\n",
              "| CS038415000104 | NA | 17847 |\n",
              "| CS035414000024 | NA | 17615 |\n",
              "| CS021515000089 | NA | 17580 |\n",
              "| CS032414000072 | NA | 16563 |\n",
              "| CS016415000101 | NA | 16348 |\n",
              "| CS011415000006 | NA | 16094 |\n",
              "| CS034415000047 | NA | 16083 |\n",
              "| CS007514000094 | NA | 15735 |\n",
              "| CS009414000059 | NA | 15492 |\n",
              "| CS030415000034 | NA | 15468 |\n",
              "| CS015515000034 | NA | 15300 |\n",
              "\n"
            ],
            "text/plain": [
              "   customer_id    come_days sum_amount\n",
              "1  CS040214000008 23           NA     \n",
              "2  CS010214000010 22        18585     \n",
              "3  CS015415000185 22        20153     \n",
              "4  CS010214000002 21           NA     \n",
              "5  CS028415000007 21        19127     \n",
              "6  CS016415000141 20        18372     \n",
              "7  CS017415000097 20        23086     \n",
              "8  CS014214000023 19           NA     \n",
              "9  CS021514000045 19           NA     \n",
              "10 CS021515000172 19           NA     \n",
              "11 CS022515000226 19           NA     \n",
              "12 CS031414000051 19        19202     \n",
              "13 CS039414000052 19           NA     \n",
              "14 CS007515000107 18           NA     \n",
              "15 CS014415000077 18           NA     \n",
              "16 CS021515000056 18           NA     \n",
              "17 CS021515000211 18           NA     \n",
              "18 CS022515000028 18           NA     \n",
              "19 CS030214000008 18           NA     \n",
              "20 CS031414000073 18           NA     \n",
              "21 CS001605000009 NA        18925     \n",
              "22 CS006515000023 NA        18372     \n",
              "23 CS011414000106 NA        18338     \n",
              "24 CS038415000104 NA        17847     \n",
              "25 CS035414000024 NA        17615     \n",
              "26 CS021515000089 NA        17580     \n",
              "27 CS032414000072 NA        16563     \n",
              "28 CS016415000101 NA        16348     \n",
              "29 CS011415000006 NA        16094     \n",
              "30 CS034415000047 NA        16083     \n",
              "31 CS007514000094 NA        15735     \n",
              "32 CS009414000059 NA        15492     \n",
              "33 CS030415000034 NA        15468     \n",
              "34 CS015515000034 NA        15300     "
            ]
          },
          "metadata": {},
          "output_type": "display_data"
        }
      ],
      "source": [
        "# 코그 예시 1\n",
        "df_data <- df_receipt %>%\n",
        "    filter(!grepl(\"^Z\", customer_id)) %>%\n",
        "    group_by(customer_id)\n",
        "\n",
        "df_cnt <- df_data %>%\n",
        "    summarise(come_days = n_distinct(sales_ymd), .groups = \"drop\") %>%\n",
        "    arrange(desc(come_days), customer_id) %>%\n",
        "    slice(1:20)\n",
        "\n",
        "df_sum <- df_data %>%\n",
        "    summarise(sum_amount = sum(amount), .groups = \"drop\") %>%\n",
        "    arrange(desc(sum_amount)) %>%\n",
        "    slice(1:20)\n",
        "\n",
        "full_join(df_cnt, df_sum, by = \"customer_id\")"
      ]
    },
    {
      "cell_type": "code",
      "execution_count": null,
      "metadata": {
        "id": "Kg4qYG4FBJie",
        "outputId": "dbba8299-56c9-4ebf-a7a6-0a78ea5500eb"
      },
      "outputs": [
        {
          "data": {
            "text/html": [
              "<table class=\"dataframe\">\n",
              "<caption>A tibble: 34 × 3</caption>\n",
              "<thead>\n",
              "\t<tr><th scope=col>customer_id</th><th scope=col>come_days</th><th scope=col>sum_amount</th></tr>\n",
              "\t<tr><th scope=col>&lt;chr&gt;</th><th scope=col>&lt;int&gt;</th><th scope=col>&lt;int&gt;</th></tr>\n",
              "</thead>\n",
              "<tbody>\n",
              "\t<tr><td>CS040214000008</td><td>23</td><td>   NA</td></tr>\n",
              "\t<tr><td>CS010214000010</td><td>22</td><td>18585</td></tr>\n",
              "\t<tr><td>CS015415000185</td><td>22</td><td>20153</td></tr>\n",
              "\t<tr><td>CS010214000002</td><td>21</td><td>   NA</td></tr>\n",
              "\t<tr><td>CS028415000007</td><td>21</td><td>19127</td></tr>\n",
              "\t<tr><td>CS016415000141</td><td>20</td><td>18372</td></tr>\n",
              "\t<tr><td>CS017415000097</td><td>20</td><td>23086</td></tr>\n",
              "\t<tr><td>CS014214000023</td><td>19</td><td>   NA</td></tr>\n",
              "\t<tr><td>CS021514000045</td><td>19</td><td>   NA</td></tr>\n",
              "\t<tr><td>CS021515000172</td><td>19</td><td>   NA</td></tr>\n",
              "\t<tr><td>CS022515000226</td><td>19</td><td>   NA</td></tr>\n",
              "\t<tr><td>CS031414000051</td><td>19</td><td>19202</td></tr>\n",
              "\t<tr><td>CS039414000052</td><td>19</td><td>   NA</td></tr>\n",
              "\t<tr><td>CS007515000107</td><td>18</td><td>   NA</td></tr>\n",
              "\t<tr><td>CS014415000077</td><td>18</td><td>   NA</td></tr>\n",
              "\t<tr><td>CS021515000056</td><td>18</td><td>   NA</td></tr>\n",
              "\t<tr><td>CS021515000211</td><td>18</td><td>   NA</td></tr>\n",
              "\t<tr><td>CS022515000028</td><td>18</td><td>   NA</td></tr>\n",
              "\t<tr><td>CS030214000008</td><td>18</td><td>   NA</td></tr>\n",
              "\t<tr><td>CS031414000073</td><td>18</td><td>   NA</td></tr>\n",
              "\t<tr><td>CS001605000009</td><td>NA</td><td>18925</td></tr>\n",
              "\t<tr><td>CS006515000023</td><td>NA</td><td>18372</td></tr>\n",
              "\t<tr><td>CS011414000106</td><td>NA</td><td>18338</td></tr>\n",
              "\t<tr><td>CS038415000104</td><td>NA</td><td>17847</td></tr>\n",
              "\t<tr><td>CS035414000024</td><td>NA</td><td>17615</td></tr>\n",
              "\t<tr><td>CS021515000089</td><td>NA</td><td>17580</td></tr>\n",
              "\t<tr><td>CS032414000072</td><td>NA</td><td>16563</td></tr>\n",
              "\t<tr><td>CS016415000101</td><td>NA</td><td>16348</td></tr>\n",
              "\t<tr><td>CS011415000006</td><td>NA</td><td>16094</td></tr>\n",
              "\t<tr><td>CS034415000047</td><td>NA</td><td>16083</td></tr>\n",
              "\t<tr><td>CS007514000094</td><td>NA</td><td>15735</td></tr>\n",
              "\t<tr><td>CS009414000059</td><td>NA</td><td>15492</td></tr>\n",
              "\t<tr><td>CS030415000034</td><td>NA</td><td>15468</td></tr>\n",
              "\t<tr><td>CS015515000034</td><td>NA</td><td>15300</td></tr>\n",
              "</tbody>\n",
              "</table>\n"
            ],
            "text/latex": [
              "A tibble: 34 × 3\n",
              "\\begin{tabular}{lll}\n",
              " customer\\_id & come\\_days & sum\\_amount\\\\\n",
              " <chr> & <int> & <int>\\\\\n",
              "\\hline\n",
              "\t CS040214000008 & 23 &    NA\\\\\n",
              "\t CS010214000010 & 22 & 18585\\\\\n",
              "\t CS015415000185 & 22 & 20153\\\\\n",
              "\t CS010214000002 & 21 &    NA\\\\\n",
              "\t CS028415000007 & 21 & 19127\\\\\n",
              "\t CS016415000141 & 20 & 18372\\\\\n",
              "\t CS017415000097 & 20 & 23086\\\\\n",
              "\t CS014214000023 & 19 &    NA\\\\\n",
              "\t CS021514000045 & 19 &    NA\\\\\n",
              "\t CS021515000172 & 19 &    NA\\\\\n",
              "\t CS022515000226 & 19 &    NA\\\\\n",
              "\t CS031414000051 & 19 & 19202\\\\\n",
              "\t CS039414000052 & 19 &    NA\\\\\n",
              "\t CS007515000107 & 18 &    NA\\\\\n",
              "\t CS014415000077 & 18 &    NA\\\\\n",
              "\t CS021515000056 & 18 &    NA\\\\\n",
              "\t CS021515000211 & 18 &    NA\\\\\n",
              "\t CS022515000028 & 18 &    NA\\\\\n",
              "\t CS030214000008 & 18 &    NA\\\\\n",
              "\t CS031414000073 & 18 &    NA\\\\\n",
              "\t CS001605000009 & NA & 18925\\\\\n",
              "\t CS006515000023 & NA & 18372\\\\\n",
              "\t CS011414000106 & NA & 18338\\\\\n",
              "\t CS038415000104 & NA & 17847\\\\\n",
              "\t CS035414000024 & NA & 17615\\\\\n",
              "\t CS021515000089 & NA & 17580\\\\\n",
              "\t CS032414000072 & NA & 16563\\\\\n",
              "\t CS016415000101 & NA & 16348\\\\\n",
              "\t CS011415000006 & NA & 16094\\\\\n",
              "\t CS034415000047 & NA & 16083\\\\\n",
              "\t CS007514000094 & NA & 15735\\\\\n",
              "\t CS009414000059 & NA & 15492\\\\\n",
              "\t CS030415000034 & NA & 15468\\\\\n",
              "\t CS015515000034 & NA & 15300\\\\\n",
              "\\end{tabular}\n"
            ],
            "text/markdown": [
              "\n",
              "A tibble: 34 × 3\n",
              "\n",
              "| customer_id &lt;chr&gt; | come_days &lt;int&gt; | sum_amount &lt;int&gt; |\n",
              "|---|---|---|\n",
              "| CS040214000008 | 23 |    NA |\n",
              "| CS010214000010 | 22 | 18585 |\n",
              "| CS015415000185 | 22 | 20153 |\n",
              "| CS010214000002 | 21 |    NA |\n",
              "| CS028415000007 | 21 | 19127 |\n",
              "| CS016415000141 | 20 | 18372 |\n",
              "| CS017415000097 | 20 | 23086 |\n",
              "| CS014214000023 | 19 |    NA |\n",
              "| CS021514000045 | 19 |    NA |\n",
              "| CS021515000172 | 19 |    NA |\n",
              "| CS022515000226 | 19 |    NA |\n",
              "| CS031414000051 | 19 | 19202 |\n",
              "| CS039414000052 | 19 |    NA |\n",
              "| CS007515000107 | 18 |    NA |\n",
              "| CS014415000077 | 18 |    NA |\n",
              "| CS021515000056 | 18 |    NA |\n",
              "| CS021515000211 | 18 |    NA |\n",
              "| CS022515000028 | 18 |    NA |\n",
              "| CS030214000008 | 18 |    NA |\n",
              "| CS031414000073 | 18 |    NA |\n",
              "| CS001605000009 | NA | 18925 |\n",
              "| CS006515000023 | NA | 18372 |\n",
              "| CS011414000106 | NA | 18338 |\n",
              "| CS038415000104 | NA | 17847 |\n",
              "| CS035414000024 | NA | 17615 |\n",
              "| CS021515000089 | NA | 17580 |\n",
              "| CS032414000072 | NA | 16563 |\n",
              "| CS016415000101 | NA | 16348 |\n",
              "| CS011415000006 | NA | 16094 |\n",
              "| CS034415000047 | NA | 16083 |\n",
              "| CS007514000094 | NA | 15735 |\n",
              "| CS009414000059 | NA | 15492 |\n",
              "| CS030415000034 | NA | 15468 |\n",
              "| CS015515000034 | NA | 15300 |\n",
              "\n"
            ],
            "text/plain": [
              "   customer_id    come_days sum_amount\n",
              "1  CS040214000008 23           NA     \n",
              "2  CS010214000010 22        18585     \n",
              "3  CS015415000185 22        20153     \n",
              "4  CS010214000002 21           NA     \n",
              "5  CS028415000007 21        19127     \n",
              "6  CS016415000141 20        18372     \n",
              "7  CS017415000097 20        23086     \n",
              "8  CS014214000023 19           NA     \n",
              "9  CS021514000045 19           NA     \n",
              "10 CS021515000172 19           NA     \n",
              "11 CS022515000226 19           NA     \n",
              "12 CS031414000051 19        19202     \n",
              "13 CS039414000052 19           NA     \n",
              "14 CS007515000107 18           NA     \n",
              "15 CS014415000077 18           NA     \n",
              "16 CS021515000056 18           NA     \n",
              "17 CS021515000211 18           NA     \n",
              "18 CS022515000028 18           NA     \n",
              "19 CS030214000008 18           NA     \n",
              "20 CS031414000073 18           NA     \n",
              "21 CS001605000009 NA        18925     \n",
              "22 CS006515000023 NA        18372     \n",
              "23 CS011414000106 NA        18338     \n",
              "24 CS038415000104 NA        17847     \n",
              "25 CS035414000024 NA        17615     \n",
              "26 CS021515000089 NA        17580     \n",
              "27 CS032414000072 NA        16563     \n",
              "28 CS016415000101 NA        16348     \n",
              "29 CS011415000006 NA        16094     \n",
              "30 CS034415000047 NA        16083     \n",
              "31 CS007514000094 NA        15735     \n",
              "32 CS009414000059 NA        15492     \n",
              "33 CS030415000034 NA        15468     \n",
              "34 CS015515000034 NA        15300     "
            ]
          },
          "metadata": {},
          "output_type": "display_data"
        }
      ],
      "source": [
        "# 코그 예시 2\n",
        "# slice_max를 사용한 코드 예시.\n",
        "# with_ties = FALSE를 with_ties = TRUE로 다시 작성하여 동일한 등급을 포함하도록 양식을 변경합니다.\n",
        "\n",
        "df_data <- df_receipt %>%\n",
        "    filter(!grepl(\"^Z\", customer_id)) %>%\n",
        "    group_by(customer_id)\n",
        "\n",
        "df_cnt <- df_data %>%\n",
        "    summarise(come_days = n_distinct(sales_ymd)) %>%\n",
        "    slice_max(come_days, n = 20, with_ties = FALSE)\n",
        "\n",
        "df_sum <- df_data %>%\n",
        "    summarise(sum_amount = sum(amount)) %>%\n",
        "    slice_max(sum_amount, n = 20, with_ties = FALSE)\n",
        "\n",
        "full_join(df_cnt, df_sum, by = \"customer_id\")"
      ]
    },
    {
      "cell_type": "markdown",
      "metadata": {
        "id": "BMspUZV8BJie"
      },
      "source": [
        "---\n",
        "> R-040: 모든 매장과 모든 상품을 조합한 데이터를 생성하고 싶다. 매장 데이터(df_store)와 상품 데이터(df_product)를 직적분하여 건수를 계산하라."
      ]
    },
    {
      "cell_type": "code",
      "execution_count": null,
      "metadata": {
        "id": "6tlvFK-7BJie",
        "outputId": "0f83dadf-745d-4956-cec9-121ee91ea249"
      },
      "outputs": [
        {
          "data": {
            "text/html": [
              "531590"
            ],
            "text/latex": [
              "531590"
            ],
            "text/markdown": [
              "531590"
            ],
            "text/plain": [
              "[1] 531590"
            ]
          },
          "metadata": {},
          "output_type": "display_data"
        }
      ],
      "source": [
        "df_store_tmp <- df_store\n",
        "\n",
        "df_product_tmp <- df_product\n",
        "\n",
        "df_store_tmp[\"key\"] <- 0\n",
        "\n",
        "df_product_tmp[\"key\"] <- 0\n",
        "\n",
        "nrow(full_join(df_store_tmp, df_product_tmp, by = \"key\"))"
      ]
    },
    {
      "cell_type": "markdown",
      "metadata": {
        "id": "5_FDXBuSBJie"
      },
      "source": [
        "---\n",
        "> R-041: 영수증 내역 데이터(df_receipt)의 매출 금액(amount)을 날짜(sales_ymd)별로 집계하여, 지난번 매출이 있었던 날로부터의 매출 금액 증감을 계산하라. 그리고 결과를 10건 표시하라."
      ]
    },
    {
      "cell_type": "code",
      "execution_count": null,
      "metadata": {
        "id": "lkmPMH_JBJie",
        "outputId": "3a638933-793d-41e2-edaa-9965f22893d9"
      },
      "outputs": [
        {
          "data": {
            "text/html": [
              "<table class=\"dataframe\">\n",
              "<caption>A tibble: 10 × 5</caption>\n",
              "<thead>\n",
              "\t<tr><th scope=col>sales_ymd</th><th scope=col>sum_amount</th><th scope=col>lag_ymd</th><th scope=col>lag_amount</th><th scope=col>diff_amount</th></tr>\n",
              "\t<tr><th scope=col>&lt;int&gt;</th><th scope=col>&lt;int&gt;</th><th scope=col>&lt;int&gt;</th><th scope=col>&lt;int&gt;</th><th scope=col>&lt;int&gt;</th></tr>\n",
              "</thead>\n",
              "<tbody>\n",
              "\t<tr><td>20170101</td><td>33723</td><td>      NA</td><td>   NA</td><td>   NA</td></tr>\n",
              "\t<tr><td>20170102</td><td>24165</td><td>20170101</td><td>33723</td><td>-9558</td></tr>\n",
              "\t<tr><td>20170103</td><td>27503</td><td>20170102</td><td>24165</td><td> 3338</td></tr>\n",
              "\t<tr><td>20170104</td><td>36165</td><td>20170103</td><td>27503</td><td> 8662</td></tr>\n",
              "\t<tr><td>20170105</td><td>37830</td><td>20170104</td><td>36165</td><td> 1665</td></tr>\n",
              "\t<tr><td>20170106</td><td>32387</td><td>20170105</td><td>37830</td><td>-5443</td></tr>\n",
              "\t<tr><td>20170107</td><td>23415</td><td>20170106</td><td>32387</td><td>-8972</td></tr>\n",
              "\t<tr><td>20170108</td><td>24737</td><td>20170107</td><td>23415</td><td> 1322</td></tr>\n",
              "\t<tr><td>20170109</td><td>26718</td><td>20170108</td><td>24737</td><td> 1981</td></tr>\n",
              "\t<tr><td>20170110</td><td>20143</td><td>20170109</td><td>26718</td><td>-6575</td></tr>\n",
              "</tbody>\n",
              "</table>\n"
            ],
            "text/latex": [
              "A tibble: 10 × 5\n",
              "\\begin{tabular}{lllll}\n",
              " sales\\_ymd & sum\\_amount & lag\\_ymd & lag\\_amount & diff\\_amount\\\\\n",
              " <int> & <int> & <int> & <int> & <int>\\\\\n",
              "\\hline\n",
              "\t 20170101 & 33723 &       NA &    NA &    NA\\\\\n",
              "\t 20170102 & 24165 & 20170101 & 33723 & -9558\\\\\n",
              "\t 20170103 & 27503 & 20170102 & 24165 &  3338\\\\\n",
              "\t 20170104 & 36165 & 20170103 & 27503 &  8662\\\\\n",
              "\t 20170105 & 37830 & 20170104 & 36165 &  1665\\\\\n",
              "\t 20170106 & 32387 & 20170105 & 37830 & -5443\\\\\n",
              "\t 20170107 & 23415 & 20170106 & 32387 & -8972\\\\\n",
              "\t 20170108 & 24737 & 20170107 & 23415 &  1322\\\\\n",
              "\t 20170109 & 26718 & 20170108 & 24737 &  1981\\\\\n",
              "\t 20170110 & 20143 & 20170109 & 26718 & -6575\\\\\n",
              "\\end{tabular}\n"
            ],
            "text/markdown": [
              "\n",
              "A tibble: 10 × 5\n",
              "\n",
              "| sales_ymd &lt;int&gt; | sum_amount &lt;int&gt; | lag_ymd &lt;int&gt; | lag_amount &lt;int&gt; | diff_amount &lt;int&gt; |\n",
              "|---|---|---|---|---|\n",
              "| 20170101 | 33723 |       NA |    NA |    NA |\n",
              "| 20170102 | 24165 | 20170101 | 33723 | -9558 |\n",
              "| 20170103 | 27503 | 20170102 | 24165 |  3338 |\n",
              "| 20170104 | 36165 | 20170103 | 27503 |  8662 |\n",
              "| 20170105 | 37830 | 20170104 | 36165 |  1665 |\n",
              "| 20170106 | 32387 | 20170105 | 37830 | -5443 |\n",
              "| 20170107 | 23415 | 20170106 | 32387 | -8972 |\n",
              "| 20170108 | 24737 | 20170107 | 23415 |  1322 |\n",
              "| 20170109 | 26718 | 20170108 | 24737 |  1981 |\n",
              "| 20170110 | 20143 | 20170109 | 26718 | -6575 |\n",
              "\n"
            ],
            "text/plain": [
              "   sales_ymd sum_amount lag_ymd  lag_amount diff_amount\n",
              "1  20170101  33723            NA    NA         NA      \n",
              "2  20170102  24165      20170101 33723      -9558      \n",
              "3  20170103  27503      20170102 24165       3338      \n",
              "4  20170104  36165      20170103 27503       8662      \n",
              "5  20170105  37830      20170104 36165       1665      \n",
              "6  20170106  32387      20170105 37830      -5443      \n",
              "7  20170107  23415      20170106 32387      -8972      \n",
              "8  20170108  24737      20170107 23415       1322      \n",
              "9  20170109  26718      20170108 24737       1981      \n",
              "10 20170110  20143      20170109 26718      -6575      "
            ]
          },
          "metadata": {},
          "output_type": "display_data"
        }
      ],
      "source": [
        "df_receipt %>%\n",
        "    group_by(sales_ymd) %>%\n",
        "    summarise(sum_amount = sum(amount), .groups = \"drop\") %>%\n",
        "    mutate(lag_ymd = lag(sales_ymd), \n",
        "           lag_amount = lag(sum_amount), \n",
        "           diff_amount = sum_amount - lag_amount) %>%\n",
        "    slice(1:10)"
      ]
    },
    {
      "cell_type": "markdown",
      "metadata": {
        "id": "iOuBFWKJBJif"
      },
      "source": [
        "---\n",
        "> R-042: 영수증 내역 데이터(df_receipt)의 매출 금액(amount)을 날짜(sales_ymd)별로 집계하고, 각 날짜의 데이터에 대해 이전, 전전, 3회 전에 매출이 있었던 날의 데이터를 결합하라. 그리고 결과를 10건 표시하라."
      ]
    },
    {
      "cell_type": "code",
      "execution_count": null,
      "metadata": {
        "id": "sg4owUFeBJif",
        "outputId": "d3ad4f9a-6b22-45bf-d460-ebce62649334"
      },
      "outputs": [
        {
          "data": {
            "text/html": [
              "<table class=\"dataframe\">\n",
              "<caption>A tibble: 10 × 4</caption>\n",
              "<thead>\n",
              "\t<tr><th scope=col>sales_ymd</th><th scope=col>sum_amount</th><th scope=col>lag_ymd</th><th scope=col>lag_amount</th></tr>\n",
              "\t<tr><th scope=col>&lt;int&gt;</th><th scope=col>&lt;int&gt;</th><th scope=col>&lt;int&gt;</th><th scope=col>&lt;int&gt;</th></tr>\n",
              "</thead>\n",
              "<tbody>\n",
              "\t<tr><td>20170102</td><td>24165</td><td>20170101</td><td>33723</td></tr>\n",
              "\t<tr><td>20170103</td><td>27503</td><td>20170101</td><td>33723</td></tr>\n",
              "\t<tr><td>20170103</td><td>27503</td><td>20170102</td><td>24165</td></tr>\n",
              "\t<tr><td>20170104</td><td>36165</td><td>20170101</td><td>33723</td></tr>\n",
              "\t<tr><td>20170104</td><td>36165</td><td>20170102</td><td>24165</td></tr>\n",
              "\t<tr><td>20170104</td><td>36165</td><td>20170103</td><td>27503</td></tr>\n",
              "\t<tr><td>20170105</td><td>37830</td><td>20170102</td><td>24165</td></tr>\n",
              "\t<tr><td>20170105</td><td>37830</td><td>20170103</td><td>27503</td></tr>\n",
              "\t<tr><td>20170105</td><td>37830</td><td>20170104</td><td>36165</td></tr>\n",
              "\t<tr><td>20170106</td><td>32387</td><td>20170103</td><td>27503</td></tr>\n",
              "</tbody>\n",
              "</table>\n"
            ],
            "text/latex": [
              "A tibble: 10 × 4\n",
              "\\begin{tabular}{llll}\n",
              " sales\\_ymd & sum\\_amount & lag\\_ymd & lag\\_amount\\\\\n",
              " <int> & <int> & <int> & <int>\\\\\n",
              "\\hline\n",
              "\t 20170102 & 24165 & 20170101 & 33723\\\\\n",
              "\t 20170103 & 27503 & 20170101 & 33723\\\\\n",
              "\t 20170103 & 27503 & 20170102 & 24165\\\\\n",
              "\t 20170104 & 36165 & 20170101 & 33723\\\\\n",
              "\t 20170104 & 36165 & 20170102 & 24165\\\\\n",
              "\t 20170104 & 36165 & 20170103 & 27503\\\\\n",
              "\t 20170105 & 37830 & 20170102 & 24165\\\\\n",
              "\t 20170105 & 37830 & 20170103 & 27503\\\\\n",
              "\t 20170105 & 37830 & 20170104 & 36165\\\\\n",
              "\t 20170106 & 32387 & 20170103 & 27503\\\\\n",
              "\\end{tabular}\n"
            ],
            "text/markdown": [
              "\n",
              "A tibble: 10 × 4\n",
              "\n",
              "| sales_ymd &lt;int&gt; | sum_amount &lt;int&gt; | lag_ymd &lt;int&gt; | lag_amount &lt;int&gt; |\n",
              "|---|---|---|---|\n",
              "| 20170102 | 24165 | 20170101 | 33723 |\n",
              "| 20170103 | 27503 | 20170101 | 33723 |\n",
              "| 20170103 | 27503 | 20170102 | 24165 |\n",
              "| 20170104 | 36165 | 20170101 | 33723 |\n",
              "| 20170104 | 36165 | 20170102 | 24165 |\n",
              "| 20170104 | 36165 | 20170103 | 27503 |\n",
              "| 20170105 | 37830 | 20170102 | 24165 |\n",
              "| 20170105 | 37830 | 20170103 | 27503 |\n",
              "| 20170105 | 37830 | 20170104 | 36165 |\n",
              "| 20170106 | 32387 | 20170103 | 27503 |\n",
              "\n"
            ],
            "text/plain": [
              "   sales_ymd sum_amount lag_ymd  lag_amount\n",
              "1  20170102  24165      20170101 33723     \n",
              "2  20170103  27503      20170101 33723     \n",
              "3  20170103  27503      20170102 24165     \n",
              "4  20170104  36165      20170101 33723     \n",
              "5  20170104  36165      20170102 24165     \n",
              "6  20170104  36165      20170103 27503     \n",
              "7  20170105  37830      20170102 24165     \n",
              "8  20170105  37830      20170103 27503     \n",
              "9  20170105  37830      20170104 36165     \n",
              "10 20170106  32387      20170103 27503     "
            ]
          },
          "metadata": {},
          "output_type": "display_data"
        }
      ],
      "source": [
        "# 코드 예시 1: 세로형 케이스\n",
        "df_sum <-df_receipt %>%\n",
        "    group_by(sales_ymd) %>%\n",
        "    summarise(sum_amount = sum(amount), .groups = \"drop\")\n",
        "\n",
        "for (i in 1:3) {\n",
        "    df_tmp <- df_sum %>%\n",
        "        mutate(lag_ymd = lag(sales_ymd, n = i), \n",
        "               lag_amount = lag(sum_amount, n = i))\n",
        "    if (i == 1) {\n",
        "        df_lag <- df_tmp\n",
        "    }\n",
        "    else {\n",
        "        df_lag <- rbind(df_lag, df_tmp)\n",
        "    }\n",
        "}\n",
        "\n",
        "df_lag %>%\n",
        "    drop_na(everything()) %>%\n",
        "    arrange(sales_ymd, lag_ymd) %>%\n",
        "    slice(1:10)"
      ]
    },
    {
      "cell_type": "code",
      "execution_count": null,
      "metadata": {
        "id": "9ZPj4Ts1BJif",
        "outputId": "a1d4bde9-6f46-4085-c9e2-000f7afba907"
      },
      "outputs": [
        {
          "data": {
            "text/html": [
              "<table class=\"dataframe\">\n",
              "<caption>A data.frame: 10 × 8</caption>\n",
              "<thead>\n",
              "\t<tr><th scope=col>sales_ymd</th><th scope=col>sum_amount</th><th scope=col>lag_ymd__1</th><th scope=col>lag_amount_1</th><th scope=col>lag_ymd__2</th><th scope=col>lag_amount_2</th><th scope=col>lag_ymd__3</th><th scope=col>lag_amount_3</th></tr>\n",
              "\t<tr><th scope=col>&lt;int&gt;</th><th scope=col>&lt;int&gt;</th><th scope=col>&lt;int&gt;</th><th scope=col>&lt;int&gt;</th><th scope=col>&lt;int&gt;</th><th scope=col>&lt;int&gt;</th><th scope=col>&lt;int&gt;</th><th scope=col>&lt;int&gt;</th></tr>\n",
              "</thead>\n",
              "<tbody>\n",
              "\t<tr><td>20170104</td><td>36165</td><td>20170103</td><td>27503</td><td>20170102</td><td>24165</td><td>20170101</td><td>33723</td></tr>\n",
              "\t<tr><td>20170105</td><td>37830</td><td>20170104</td><td>36165</td><td>20170103</td><td>27503</td><td>20170102</td><td>24165</td></tr>\n",
              "\t<tr><td>20170106</td><td>32387</td><td>20170105</td><td>37830</td><td>20170104</td><td>36165</td><td>20170103</td><td>27503</td></tr>\n",
              "\t<tr><td>20170107</td><td>23415</td><td>20170106</td><td>32387</td><td>20170105</td><td>37830</td><td>20170104</td><td>36165</td></tr>\n",
              "\t<tr><td>20170108</td><td>24737</td><td>20170107</td><td>23415</td><td>20170106</td><td>32387</td><td>20170105</td><td>37830</td></tr>\n",
              "\t<tr><td>20170109</td><td>26718</td><td>20170108</td><td>24737</td><td>20170107</td><td>23415</td><td>20170106</td><td>32387</td></tr>\n",
              "\t<tr><td>20170110</td><td>20143</td><td>20170109</td><td>26718</td><td>20170108</td><td>24737</td><td>20170107</td><td>23415</td></tr>\n",
              "\t<tr><td>20170111</td><td>24287</td><td>20170110</td><td>20143</td><td>20170109</td><td>26718</td><td>20170108</td><td>24737</td></tr>\n",
              "\t<tr><td>20170112</td><td>23526</td><td>20170111</td><td>24287</td><td>20170110</td><td>20143</td><td>20170109</td><td>26718</td></tr>\n",
              "\t<tr><td>20170113</td><td>28004</td><td>20170112</td><td>23526</td><td>20170111</td><td>24287</td><td>20170110</td><td>20143</td></tr>\n",
              "</tbody>\n",
              "</table>\n"
            ],
            "text/latex": [
              "A data.frame: 10 × 8\n",
              "\\begin{tabular}{llllllll}\n",
              " sales\\_ymd & sum\\_amount & lag\\_ymd\\_\\_1 & lag\\_amount\\_1 & lag\\_ymd\\_\\_2 & lag\\_amount\\_2 & lag\\_ymd\\_\\_3 & lag\\_amount\\_3\\\\\n",
              " <int> & <int> & <int> & <int> & <int> & <int> & <int> & <int>\\\\\n",
              "\\hline\n",
              "\t 20170104 & 36165 & 20170103 & 27503 & 20170102 & 24165 & 20170101 & 33723\\\\\n",
              "\t 20170105 & 37830 & 20170104 & 36165 & 20170103 & 27503 & 20170102 & 24165\\\\\n",
              "\t 20170106 & 32387 & 20170105 & 37830 & 20170104 & 36165 & 20170103 & 27503\\\\\n",
              "\t 20170107 & 23415 & 20170106 & 32387 & 20170105 & 37830 & 20170104 & 36165\\\\\n",
              "\t 20170108 & 24737 & 20170107 & 23415 & 20170106 & 32387 & 20170105 & 37830\\\\\n",
              "\t 20170109 & 26718 & 20170108 & 24737 & 20170107 & 23415 & 20170106 & 32387\\\\\n",
              "\t 20170110 & 20143 & 20170109 & 26718 & 20170108 & 24737 & 20170107 & 23415\\\\\n",
              "\t 20170111 & 24287 & 20170110 & 20143 & 20170109 & 26718 & 20170108 & 24737\\\\\n",
              "\t 20170112 & 23526 & 20170111 & 24287 & 20170110 & 20143 & 20170109 & 26718\\\\\n",
              "\t 20170113 & 28004 & 20170112 & 23526 & 20170111 & 24287 & 20170110 & 20143\\\\\n",
              "\\end{tabular}\n"
            ],
            "text/markdown": [
              "\n",
              "A data.frame: 10 × 8\n",
              "\n",
              "| sales_ymd &lt;int&gt; | sum_amount &lt;int&gt; | lag_ymd__1 &lt;int&gt; | lag_amount_1 &lt;int&gt; | lag_ymd__2 &lt;int&gt; | lag_amount_2 &lt;int&gt; | lag_ymd__3 &lt;int&gt; | lag_amount_3 &lt;int&gt; |\n",
              "|---|---|---|---|---|---|---|---|\n",
              "| 20170104 | 36165 | 20170103 | 27503 | 20170102 | 24165 | 20170101 | 33723 |\n",
              "| 20170105 | 37830 | 20170104 | 36165 | 20170103 | 27503 | 20170102 | 24165 |\n",
              "| 20170106 | 32387 | 20170105 | 37830 | 20170104 | 36165 | 20170103 | 27503 |\n",
              "| 20170107 | 23415 | 20170106 | 32387 | 20170105 | 37830 | 20170104 | 36165 |\n",
              "| 20170108 | 24737 | 20170107 | 23415 | 20170106 | 32387 | 20170105 | 37830 |\n",
              "| 20170109 | 26718 | 20170108 | 24737 | 20170107 | 23415 | 20170106 | 32387 |\n",
              "| 20170110 | 20143 | 20170109 | 26718 | 20170108 | 24737 | 20170107 | 23415 |\n",
              "| 20170111 | 24287 | 20170110 | 20143 | 20170109 | 26718 | 20170108 | 24737 |\n",
              "| 20170112 | 23526 | 20170111 | 24287 | 20170110 | 20143 | 20170109 | 26718 |\n",
              "| 20170113 | 28004 | 20170112 | 23526 | 20170111 | 24287 | 20170110 | 20143 |\n",
              "\n"
            ],
            "text/plain": [
              "   sales_ymd sum_amount lag_ymd__1 lag_amount_1 lag_ymd__2 lag_amount_2\n",
              "1  20170104  36165      20170103   27503        20170102   24165       \n",
              "2  20170105  37830      20170104   36165        20170103   27503       \n",
              "3  20170106  32387      20170105   37830        20170104   36165       \n",
              "4  20170107  23415      20170106   32387        20170105   37830       \n",
              "5  20170108  24737      20170107   23415        20170106   32387       \n",
              "6  20170109  26718      20170108   24737        20170107   23415       \n",
              "7  20170110  20143      20170109   26718        20170108   24737       \n",
              "8  20170111  24287      20170110   20143        20170109   26718       \n",
              "9  20170112  23526      20170111   24287        20170110   20143       \n",
              "10 20170113  28004      20170112   23526        20170111   24287       \n",
              "   lag_ymd__3 lag_amount_3\n",
              "1  20170101   33723       \n",
              "2  20170102   24165       \n",
              "3  20170103   27503       \n",
              "4  20170104   36165       \n",
              "5  20170105   37830       \n",
              "6  20170106   32387       \n",
              "7  20170107   23415       \n",
              "8  20170108   24737       \n",
              "9  20170109   26718       \n",
              "10 20170110   20143       "
            ]
          },
          "metadata": {},
          "output_type": "display_data"
        }
      ],
      "source": [
        "# 코드 예시 2: 가로형 케이스\n",
        "df_sum <-df_receipt %>%\n",
        "    group_by(sales_ymd) %>%\n",
        "    summarise(sum_amount = sum(amount), .groups = \"drop\")\n",
        "\n",
        "for (i in 1:3) {\n",
        "    col_name_1 <- paste(\"lag_ymd_\", i , sep=\"_\")\n",
        "    col_name_2 <- paste(\"lag_amount\", i , sep=\"_\")\n",
        "    df_tmp <- df_sum %>%\n",
        "        mutate(!!col_name_1 := lag(sales_ymd, n　=　i), \n",
        "               !!col_name_2 := lag(sum_amount, n　=　i))\n",
        "    if (i == 1)　{\n",
        "        df_lag <- df_tmp\n",
        "    }\n",
        "    else {\n",
        "        df_lag <- cbind(df_lag, df_tmp[c(col_name_1, col_name_2)])\n",
        "    }\n",
        "}\n",
        "\n",
        "df_lag %>%\n",
        "    drop_na(everything()) %>%\n",
        "    arrange(sales_ymd) %>%\n",
        "    slice(1:10)"
      ]
    },
    {
      "cell_type": "markdown",
      "metadata": {
        "id": "_P5sgs5hBJif"
      },
      "source": [
        "---\n",
        "> R-043: 영수증 내역 데이터(receipt)와 고객 데이터(customer)를 결합하여 성별 코드(gender_cd)와 연령(age에서 계산)별 매출 금액(amount)을 합산한 매출 요약 데이터를 생성한다. 성별 코드는 0은 남성, 1은 여성, 9는 알 수 없음을 나타낸다.\n",
        ">\n",
        "> 단, 항목 구성은 연령, 여성 매출금액, 남성 매출금액, 여성 매출금액, 성별 미상 매출금액의 4개 항목으로 구성한다(세로로 연령, 가로로 성별 교차집계). 또한 연령은 10세 단위의 계급으로 한다."
      ]
    },
    {
      "cell_type": "code",
      "execution_count": null,
      "metadata": {
        "id": "W15-fHKVBJif",
        "outputId": "5d2e5667-a621-45dc-d332-9f6cff829fa2"
      },
      "outputs": [
        {
          "data": {
            "text/html": [
              "<table class=\"dataframe\">\n",
              "<caption>A tibble: 9 × 4</caption>\n",
              "<thead>\n",
              "\t<tr><th scope=col>era</th><th scope=col>male</th><th scope=col>female</th><th scope=col>unknown</th></tr>\n",
              "\t<tr><th scope=col>&lt;dbl&gt;</th><th scope=col>&lt;dbl&gt;</th><th scope=col>&lt;dbl&gt;</th><th scope=col>&lt;dbl&gt;</th></tr>\n",
              "</thead>\n",
              "<tbody>\n",
              "\t<tr><td>10</td><td>  1591</td><td> 149836</td><td>  4317</td></tr>\n",
              "\t<tr><td>20</td><td> 72940</td><td>1363724</td><td> 44328</td></tr>\n",
              "\t<tr><td>30</td><td>177322</td><td> 693047</td><td> 50441</td></tr>\n",
              "\t<tr><td>40</td><td> 19355</td><td>9320791</td><td>483512</td></tr>\n",
              "\t<tr><td>50</td><td> 54320</td><td>6685192</td><td>342923</td></tr>\n",
              "\t<tr><td>60</td><td>272469</td><td> 987741</td><td> 71418</td></tr>\n",
              "\t<tr><td>70</td><td> 13435</td><td>  29764</td><td>  2427</td></tr>\n",
              "\t<tr><td>80</td><td> 46360</td><td> 262923</td><td>  5111</td></tr>\n",
              "\t<tr><td>90</td><td>     0</td><td>   6260</td><td>     0</td></tr>\n",
              "</tbody>\n",
              "</table>\n"
            ],
            "text/latex": [
              "A tibble: 9 × 4\n",
              "\\begin{tabular}{llll}\n",
              " era & male & female & unknown\\\\\n",
              " <dbl> & <dbl> & <dbl> & <dbl>\\\\\n",
              "\\hline\n",
              "\t 10 &   1591 &  149836 &   4317\\\\\n",
              "\t 20 &  72940 & 1363724 &  44328\\\\\n",
              "\t 30 & 177322 &  693047 &  50441\\\\\n",
              "\t 40 &  19355 & 9320791 & 483512\\\\\n",
              "\t 50 &  54320 & 6685192 & 342923\\\\\n",
              "\t 60 & 272469 &  987741 &  71418\\\\\n",
              "\t 70 &  13435 &   29764 &   2427\\\\\n",
              "\t 80 &  46360 &  262923 &   5111\\\\\n",
              "\t 90 &      0 &    6260 &      0\\\\\n",
              "\\end{tabular}\n"
            ],
            "text/markdown": [
              "\n",
              "A tibble: 9 × 4\n",
              "\n",
              "| era &lt;dbl&gt; | male &lt;dbl&gt; | female &lt;dbl&gt; | unknown &lt;dbl&gt; |\n",
              "|---|---|---|---|\n",
              "| 10 |   1591 |  149836 |   4317 |\n",
              "| 20 |  72940 | 1363724 |  44328 |\n",
              "| 30 | 177322 |  693047 |  50441 |\n",
              "| 40 |  19355 | 9320791 | 483512 |\n",
              "| 50 |  54320 | 6685192 | 342923 |\n",
              "| 60 | 272469 |  987741 |  71418 |\n",
              "| 70 |  13435 |   29764 |   2427 |\n",
              "| 80 |  46360 |  262923 |   5111 |\n",
              "| 90 |      0 |    6260 |      0 |\n",
              "\n"
            ],
            "text/plain": [
              "  era male   female  unknown\n",
              "1 10    1591  149836   4317 \n",
              "2 20   72940 1363724  44328 \n",
              "3 30  177322  693047  50441 \n",
              "4 40   19355 9320791 483512 \n",
              "5 50   54320 6685192 342923 \n",
              "6 60  272469  987741  71418 \n",
              "7 70   13435   29764   2427 \n",
              "8 80   46360  262923   5111 \n",
              "9 90       0    6260      0 "
            ]
          },
          "metadata": {},
          "output_type": "display_data"
        }
      ],
      "source": [
        "df_sales_summary <- df_customer[c(\"customer_id\", \"gender_cd\", \"age\")] %>%\n",
        "    mutate(era = trunc(age / 10) * 10) %>%\n",
        "    inner_join(df_receipt, by = \"customer_id\") %>%\n",
        "    group_by(gender_cd, era) %>%\n",
        "    summarise(sum_amount = sum(amount), .groups = \"drop\") %>%\n",
        "    spread(\n",
        "        gender_cd, \n",
        "        sum_amount, \n",
        "        fill = 0) %>%\n",
        "    rename(male = \"0\", female = \"1\", unknown = \"9\")\n",
        "\n",
        "df_sales_summary"
      ]
    },
    {
      "cell_type": "markdown",
      "metadata": {
        "id": "3SOG8PbPBJif"
      },
      "source": [
        "---\n",
        "> R-044: 043에서 만든 매출 요약 데이터(df_sales_summary)는 성별 매출을 가로로 나열한 데이터였다. 이 데이터에서 성별을 세로로 가져와서 연령, 성별 코드, 매출 금액의 세 가지 항목으로 변환하라. 단, 성별 코드는 남성을 '00', 여성을 '01', 알 수 없음을 '99'로 한다."
      ]
    },
    {
      "cell_type": "code",
      "execution_count": null,
      "metadata": {
        "id": "u8hIbrJCBJif",
        "outputId": "08686a00-3cbf-4139-a99a-5ceef83f8466"
      },
      "outputs": [
        {
          "data": {
            "text/html": [
              "<table class=\"dataframe\">\n",
              "<caption>A tibble: 27 × 3</caption>\n",
              "<thead>\n",
              "\t<tr><th scope=col>era</th><th scope=col>gender_cd</th><th scope=col>sum_amount</th></tr>\n",
              "\t<tr><th scope=col>&lt;dbl&gt;</th><th scope=col>&lt;chr&gt;</th><th scope=col>&lt;dbl&gt;</th></tr>\n",
              "</thead>\n",
              "<tbody>\n",
              "\t<tr><td>10</td><td>00</td><td>   1591</td></tr>\n",
              "\t<tr><td>20</td><td>00</td><td>  72940</td></tr>\n",
              "\t<tr><td>30</td><td>00</td><td> 177322</td></tr>\n",
              "\t<tr><td>40</td><td>00</td><td>  19355</td></tr>\n",
              "\t<tr><td>50</td><td>00</td><td>  54320</td></tr>\n",
              "\t<tr><td>60</td><td>00</td><td> 272469</td></tr>\n",
              "\t<tr><td>70</td><td>00</td><td>  13435</td></tr>\n",
              "\t<tr><td>80</td><td>00</td><td>  46360</td></tr>\n",
              "\t<tr><td>90</td><td>00</td><td>      0</td></tr>\n",
              "\t<tr><td>10</td><td>01</td><td> 149836</td></tr>\n",
              "\t<tr><td>20</td><td>01</td><td>1363724</td></tr>\n",
              "\t<tr><td>30</td><td>01</td><td> 693047</td></tr>\n",
              "\t<tr><td>40</td><td>01</td><td>9320791</td></tr>\n",
              "\t<tr><td>50</td><td>01</td><td>6685192</td></tr>\n",
              "\t<tr><td>60</td><td>01</td><td> 987741</td></tr>\n",
              "\t<tr><td>70</td><td>01</td><td>  29764</td></tr>\n",
              "\t<tr><td>80</td><td>01</td><td> 262923</td></tr>\n",
              "\t<tr><td>90</td><td>01</td><td>   6260</td></tr>\n",
              "\t<tr><td>10</td><td>99</td><td>   4317</td></tr>\n",
              "\t<tr><td>20</td><td>99</td><td>  44328</td></tr>\n",
              "\t<tr><td>30</td><td>99</td><td>  50441</td></tr>\n",
              "\t<tr><td>40</td><td>99</td><td> 483512</td></tr>\n",
              "\t<tr><td>50</td><td>99</td><td> 342923</td></tr>\n",
              "\t<tr><td>60</td><td>99</td><td>  71418</td></tr>\n",
              "\t<tr><td>70</td><td>99</td><td>   2427</td></tr>\n",
              "\t<tr><td>80</td><td>99</td><td>   5111</td></tr>\n",
              "\t<tr><td>90</td><td>99</td><td>      0</td></tr>\n",
              "</tbody>\n",
              "</table>\n"
            ],
            "text/latex": [
              "A tibble: 27 × 3\n",
              "\\begin{tabular}{lll}\n",
              " era & gender\\_cd & sum\\_amount\\\\\n",
              " <dbl> & <chr> & <dbl>\\\\\n",
              "\\hline\n",
              "\t 10 & 00 &    1591\\\\\n",
              "\t 20 & 00 &   72940\\\\\n",
              "\t 30 & 00 &  177322\\\\\n",
              "\t 40 & 00 &   19355\\\\\n",
              "\t 50 & 00 &   54320\\\\\n",
              "\t 60 & 00 &  272469\\\\\n",
              "\t 70 & 00 &   13435\\\\\n",
              "\t 80 & 00 &   46360\\\\\n",
              "\t 90 & 00 &       0\\\\\n",
              "\t 10 & 01 &  149836\\\\\n",
              "\t 20 & 01 & 1363724\\\\\n",
              "\t 30 & 01 &  693047\\\\\n",
              "\t 40 & 01 & 9320791\\\\\n",
              "\t 50 & 01 & 6685192\\\\\n",
              "\t 60 & 01 &  987741\\\\\n",
              "\t 70 & 01 &   29764\\\\\n",
              "\t 80 & 01 &  262923\\\\\n",
              "\t 90 & 01 &    6260\\\\\n",
              "\t 10 & 99 &    4317\\\\\n",
              "\t 20 & 99 &   44328\\\\\n",
              "\t 30 & 99 &   50441\\\\\n",
              "\t 40 & 99 &  483512\\\\\n",
              "\t 50 & 99 &  342923\\\\\n",
              "\t 60 & 99 &   71418\\\\\n",
              "\t 70 & 99 &    2427\\\\\n",
              "\t 80 & 99 &    5111\\\\\n",
              "\t 90 & 99 &       0\\\\\n",
              "\\end{tabular}\n"
            ],
            "text/markdown": [
              "\n",
              "A tibble: 27 × 3\n",
              "\n",
              "| era &lt;dbl&gt; | gender_cd &lt;chr&gt; | sum_amount &lt;dbl&gt; |\n",
              "|---|---|---|\n",
              "| 10 | 00 |    1591 |\n",
              "| 20 | 00 |   72940 |\n",
              "| 30 | 00 |  177322 |\n",
              "| 40 | 00 |   19355 |\n",
              "| 50 | 00 |   54320 |\n",
              "| 60 | 00 |  272469 |\n",
              "| 70 | 00 |   13435 |\n",
              "| 80 | 00 |   46360 |\n",
              "| 90 | 00 |       0 |\n",
              "| 10 | 01 |  149836 |\n",
              "| 20 | 01 | 1363724 |\n",
              "| 30 | 01 |  693047 |\n",
              "| 40 | 01 | 9320791 |\n",
              "| 50 | 01 | 6685192 |\n",
              "| 60 | 01 |  987741 |\n",
              "| 70 | 01 |   29764 |\n",
              "| 80 | 01 |  262923 |\n",
              "| 90 | 01 |    6260 |\n",
              "| 10 | 99 |    4317 |\n",
              "| 20 | 99 |   44328 |\n",
              "| 30 | 99 |   50441 |\n",
              "| 40 | 99 |  483512 |\n",
              "| 50 | 99 |  342923 |\n",
              "| 60 | 99 |   71418 |\n",
              "| 70 | 99 |    2427 |\n",
              "| 80 | 99 |    5111 |\n",
              "| 90 | 99 |       0 |\n",
              "\n"
            ],
            "text/plain": [
              "   era gender_cd sum_amount\n",
              "1  10  00           1591   \n",
              "2  20  00          72940   \n",
              "3  30  00         177322   \n",
              "4  40  00          19355   \n",
              "5  50  00          54320   \n",
              "6  60  00         272469   \n",
              "7  70  00          13435   \n",
              "8  80  00          46360   \n",
              "9  90  00              0   \n",
              "10 10  01         149836   \n",
              "11 20  01        1363724   \n",
              "12 30  01         693047   \n",
              "13 40  01        9320791   \n",
              "14 50  01        6685192   \n",
              "15 60  01         987741   \n",
              "16 70  01          29764   \n",
              "17 80  01         262923   \n",
              "18 90  01           6260   \n",
              "19 10  99           4317   \n",
              "20 20  99          44328   \n",
              "21 30  99          50441   \n",
              "22 40  99         483512   \n",
              "23 50  99         342923   \n",
              "24 60  99          71418   \n",
              "25 70  99           2427   \n",
              "26 80  99           5111   \n",
              "27 90  99              0   "
            ]
          },
          "metadata": {},
          "output_type": "display_data"
        }
      ],
      "source": [
        "df_sales_summary　%>%\n",
        "    gather(key = gender_cd, \n",
        "        value = sum_amount, male, female, unknown) %>%\n",
        "    mutate(gender_cd = case_when(\n",
        "        gender_cd == \"male\"  ~ \"00\",\n",
        "        gender_cd == \"female\"  ~ \"01\",\n",
        "        gender_cd == \"unknown\"  ~ \"99\",\n",
        "    ))"
      ]
    },
    {
      "cell_type": "markdown",
      "metadata": {
        "id": "Nmv0SOg9BJii"
      },
      "source": [
        "---\n",
        "> R-045: 고객 데이터(df_customer)의 생년월일(birth_day)은 날짜형으로 데이터를 보유하고 있다. 이를 YYYYMMDD 형식의 문자열로 변환하여 고객 ID(customer_id)와 함께 10건 표시하라."
      ]
    },
    {
      "cell_type": "code",
      "execution_count": null,
      "metadata": {
        "id": "JqU0w0erBJii",
        "outputId": "8650f89a-c85b-412e-ac61-80e4d4b391c9"
      },
      "outputs": [
        {
          "data": {
            "text/html": [
              "<table class=\"dataframe\">\n",
              "<caption>A data.frame: 10 × 2</caption>\n",
              "<thead>\n",
              "\t<tr><th></th><th scope=col>customer_id</th><th scope=col>birth_day</th></tr>\n",
              "\t<tr><th></th><th scope=col>&lt;chr&gt;</th><th scope=col>&lt;chr&gt;</th></tr>\n",
              "</thead>\n",
              "<tbody>\n",
              "\t<tr><th scope=row>1</th><td>CS021313000114</td><td>19810429</td></tr>\n",
              "\t<tr><th scope=row>2</th><td>CS037613000071</td><td>19520401</td></tr>\n",
              "\t<tr><th scope=row>3</th><td>CS031415000172</td><td>19761004</td></tr>\n",
              "\t<tr><th scope=row>4</th><td>CS028811000001</td><td>19330327</td></tr>\n",
              "\t<tr><th scope=row>5</th><td>CS001215000145</td><td>19950329</td></tr>\n",
              "\t<tr><th scope=row>6</th><td>CS020401000016</td><td>19740915</td></tr>\n",
              "\t<tr><th scope=row>7</th><td>CS015414000103</td><td>19770809</td></tr>\n",
              "\t<tr><th scope=row>8</th><td>CS029403000008</td><td>19730817</td></tr>\n",
              "\t<tr><th scope=row>9</th><td>CS015804000004</td><td>19310502</td></tr>\n",
              "\t<tr><th scope=row>10</th><td>CS033513000180</td><td>19620711</td></tr>\n",
              "</tbody>\n",
              "</table>\n"
            ],
            "text/latex": [
              "A data.frame: 10 × 2\n",
              "\\begin{tabular}{r|ll}\n",
              "  & customer\\_id & birth\\_day\\\\\n",
              "  & <chr> & <chr>\\\\\n",
              "\\hline\n",
              "\t1 & CS021313000114 & 19810429\\\\\n",
              "\t2 & CS037613000071 & 19520401\\\\\n",
              "\t3 & CS031415000172 & 19761004\\\\\n",
              "\t4 & CS028811000001 & 19330327\\\\\n",
              "\t5 & CS001215000145 & 19950329\\\\\n",
              "\t6 & CS020401000016 & 19740915\\\\\n",
              "\t7 & CS015414000103 & 19770809\\\\\n",
              "\t8 & CS029403000008 & 19730817\\\\\n",
              "\t9 & CS015804000004 & 19310502\\\\\n",
              "\t10 & CS033513000180 & 19620711\\\\\n",
              "\\end{tabular}\n"
            ],
            "text/markdown": [
              "\n",
              "A data.frame: 10 × 2\n",
              "\n",
              "| <!--/--> | customer_id &lt;chr&gt; | birth_day &lt;chr&gt; |\n",
              "|---|---|---|\n",
              "| 1 | CS021313000114 | 19810429 |\n",
              "| 2 | CS037613000071 | 19520401 |\n",
              "| 3 | CS031415000172 | 19761004 |\n",
              "| 4 | CS028811000001 | 19330327 |\n",
              "| 5 | CS001215000145 | 19950329 |\n",
              "| 6 | CS020401000016 | 19740915 |\n",
              "| 7 | CS015414000103 | 19770809 |\n",
              "| 8 | CS029403000008 | 19730817 |\n",
              "| 9 | CS015804000004 | 19310502 |\n",
              "| 10 | CS033513000180 | 19620711 |\n",
              "\n"
            ],
            "text/plain": [
              "   customer_id    birth_day\n",
              "1  CS021313000114 19810429 \n",
              "2  CS037613000071 19520401 \n",
              "3  CS031415000172 19761004 \n",
              "4  CS028811000001 19330327 \n",
              "5  CS001215000145 19950329 \n",
              "6  CS020401000016 19740915 \n",
              "7  CS015414000103 19770809 \n",
              "8  CS029403000008 19730817 \n",
              "9  CS015804000004 19310502 \n",
              "10 CS033513000180 19620711 "
            ]
          },
          "metadata": {},
          "output_type": "display_data"
        }
      ],
      "source": [
        "df_tmp <- cbind(df_customer[\"customer_id\"], \n",
        "                strftime(\n",
        "                    df_customer$birth_day,\n",
        "                    format = \"%Y%m%d\"\n",
        "                ))\n",
        "\n",
        "colnames(df_tmp) <- c(\"customer_id\", \"birth_day\")\n",
        "\n",
        "head(df_tmp,10)"
      ]
    },
    {
      "cell_type": "markdown",
      "metadata": {
        "id": "OAKKZ-4WBJii"
      },
      "source": [
        "---\n",
        "> R-046: 고객 데이터(df_customer)의 신청일(application_date)은 YYYYMMDD 형식의 문자열 형태로 데이터를 보유하고 있다. 이를 날짜형으로 변환하여 고객 ID(customer_id)와 함께 10건씩 표시하라."
      ]
    },
    {
      "cell_type": "code",
      "execution_count": null,
      "metadata": {
        "id": "QbkmMyo7BJii",
        "outputId": "486260ce-a0c3-4a5f-849a-b520e8757cb0"
      },
      "outputs": [
        {
          "data": {
            "text/html": [
              "<table class=\"dataframe\">\n",
              "<caption>A data.frame: 10 × 2</caption>\n",
              "<thead>\n",
              "\t<tr><th></th><th scope=col>customer_id</th><th scope=col>application_date</th></tr>\n",
              "\t<tr><th></th><th scope=col>&lt;chr&gt;</th><th scope=col>&lt;dttm&gt;</th></tr>\n",
              "</thead>\n",
              "<tbody>\n",
              "\t<tr><th scope=row>1</th><td>CS021313000114</td><td>2015-09-05</td></tr>\n",
              "\t<tr><th scope=row>2</th><td>CS037613000071</td><td>2015-04-14</td></tr>\n",
              "\t<tr><th scope=row>3</th><td>CS031415000172</td><td>2015-05-29</td></tr>\n",
              "\t<tr><th scope=row>4</th><td>CS028811000001</td><td>2016-01-15</td></tr>\n",
              "\t<tr><th scope=row>5</th><td>CS001215000145</td><td>2017-06-05</td></tr>\n",
              "\t<tr><th scope=row>6</th><td>CS020401000016</td><td>2015-02-25</td></tr>\n",
              "\t<tr><th scope=row>7</th><td>CS015414000103</td><td>2015-07-22</td></tr>\n",
              "\t<tr><th scope=row>8</th><td>CS029403000008</td><td>2015-05-15</td></tr>\n",
              "\t<tr><th scope=row>9</th><td>CS015804000004</td><td>2015-06-07</td></tr>\n",
              "\t<tr><th scope=row>10</th><td>CS033513000180</td><td>2015-07-28</td></tr>\n",
              "</tbody>\n",
              "</table>\n"
            ],
            "text/latex": [
              "A data.frame: 10 × 2\n",
              "\\begin{tabular}{r|ll}\n",
              "  & customer\\_id & application\\_date\\\\\n",
              "  & <chr> & <dttm>\\\\\n",
              "\\hline\n",
              "\t1 & CS021313000114 & 2015-09-05\\\\\n",
              "\t2 & CS037613000071 & 2015-04-14\\\\\n",
              "\t3 & CS031415000172 & 2015-05-29\\\\\n",
              "\t4 & CS028811000001 & 2016-01-15\\\\\n",
              "\t5 & CS001215000145 & 2017-06-05\\\\\n",
              "\t6 & CS020401000016 & 2015-02-25\\\\\n",
              "\t7 & CS015414000103 & 2015-07-22\\\\\n",
              "\t8 & CS029403000008 & 2015-05-15\\\\\n",
              "\t9 & CS015804000004 & 2015-06-07\\\\\n",
              "\t10 & CS033513000180 & 2015-07-28\\\\\n",
              "\\end{tabular}\n"
            ],
            "text/markdown": [
              "\n",
              "A data.frame: 10 × 2\n",
              "\n",
              "| <!--/--> | customer_id &lt;chr&gt; | application_date &lt;dttm&gt; |\n",
              "|---|---|---|\n",
              "| 1 | CS021313000114 | 2015-09-05 |\n",
              "| 2 | CS037613000071 | 2015-04-14 |\n",
              "| 3 | CS031415000172 | 2015-05-29 |\n",
              "| 4 | CS028811000001 | 2016-01-15 |\n",
              "| 5 | CS001215000145 | 2017-06-05 |\n",
              "| 6 | CS020401000016 | 2015-02-25 |\n",
              "| 7 | CS015414000103 | 2015-07-22 |\n",
              "| 8 | CS029403000008 | 2015-05-15 |\n",
              "| 9 | CS015804000004 | 2015-06-07 |\n",
              "| 10 | CS033513000180 | 2015-07-28 |\n",
              "\n"
            ],
            "text/plain": [
              "   customer_id    application_date\n",
              "1  CS021313000114 2015-09-05      \n",
              "2  CS037613000071 2015-04-14      \n",
              "3  CS031415000172 2015-05-29      \n",
              "4  CS028811000001 2016-01-15      \n",
              "5  CS001215000145 2017-06-05      \n",
              "6  CS020401000016 2015-02-25      \n",
              "7  CS015414000103 2015-07-22      \n",
              "8  CS029403000008 2015-05-15      \n",
              "9  CS015804000004 2015-06-07      \n",
              "10 CS033513000180 2015-07-28      "
            ]
          },
          "metadata": {},
          "output_type": "display_data"
        }
      ],
      "source": [
        "df_tmp <- cbind(df_customer[\"customer_id\"], \n",
        "                strptime(df_customer$application_date, \"%Y%m%d\"))\n",
        "\n",
        "colnames(df_tmp) <- c(\"customer_id\", \"application_date\")\n",
        "\n",
        "head(df_tmp, 10)"
      ]
    },
    {
      "cell_type": "markdown",
      "metadata": {
        "id": "zTT_r0LTBJii"
      },
      "source": [
        "---\n",
        "> R-047: 영수증 내역 데이터(df_receipt)의 매출일(sales_ymd)은 YYYYMMDD 형식의 숫자형으로 데이터를 보유하고 있다. 이를 날짜형으로 변환하여 영수증 번호(receipt_no), 영수증 하위번호(receipt_sub_no)와 함께 10건씩 표시하라."
      ]
    },
    {
      "cell_type": "code",
      "execution_count": null,
      "metadata": {
        "id": "5Mb54NkZBJii",
        "outputId": "399f7ad2-40f3-495e-f081-b404c40f5f14"
      },
      "outputs": [
        {
          "data": {
            "text/html": [
              "<table class=\"dataframe\">\n",
              "<caption>A data.frame: 10 × 3</caption>\n",
              "<thead>\n",
              "\t<tr><th></th><th scope=col>receipt_no</th><th scope=col>receipt_sub_no</th><th scope=col>sales_ymd</th></tr>\n",
              "\t<tr><th></th><th scope=col>&lt;int&gt;</th><th scope=col>&lt;int&gt;</th><th scope=col>&lt;dttm&gt;</th></tr>\n",
              "</thead>\n",
              "<tbody>\n",
              "\t<tr><th scope=row>1</th><td> 112</td><td>1</td><td>2018-11-03</td></tr>\n",
              "\t<tr><th scope=row>2</th><td>1132</td><td>2</td><td>2018-11-18</td></tr>\n",
              "\t<tr><th scope=row>3</th><td>1102</td><td>1</td><td>2017-07-12</td></tr>\n",
              "\t<tr><th scope=row>4</th><td>1132</td><td>1</td><td>2019-02-05</td></tr>\n",
              "\t<tr><th scope=row>5</th><td>1102</td><td>2</td><td>2018-08-21</td></tr>\n",
              "\t<tr><th scope=row>6</th><td>1112</td><td>1</td><td>2019-06-05</td></tr>\n",
              "\t<tr><th scope=row>7</th><td>1102</td><td>2</td><td>2018-12-05</td></tr>\n",
              "\t<tr><th scope=row>8</th><td>1102</td><td>1</td><td>2019-09-22</td></tr>\n",
              "\t<tr><th scope=row>9</th><td>1112</td><td>2</td><td>2017-05-04</td></tr>\n",
              "\t<tr><th scope=row>10</th><td>1102</td><td>1</td><td>2019-10-10</td></tr>\n",
              "</tbody>\n",
              "</table>\n"
            ],
            "text/latex": [
              "A data.frame: 10 × 3\n",
              "\\begin{tabular}{r|lll}\n",
              "  & receipt\\_no & receipt\\_sub\\_no & sales\\_ymd\\\\\n",
              "  & <int> & <int> & <dttm>\\\\\n",
              "\\hline\n",
              "\t1 &  112 & 1 & 2018-11-03\\\\\n",
              "\t2 & 1132 & 2 & 2018-11-18\\\\\n",
              "\t3 & 1102 & 1 & 2017-07-12\\\\\n",
              "\t4 & 1132 & 1 & 2019-02-05\\\\\n",
              "\t5 & 1102 & 2 & 2018-08-21\\\\\n",
              "\t6 & 1112 & 1 & 2019-06-05\\\\\n",
              "\t7 & 1102 & 2 & 2018-12-05\\\\\n",
              "\t8 & 1102 & 1 & 2019-09-22\\\\\n",
              "\t9 & 1112 & 2 & 2017-05-04\\\\\n",
              "\t10 & 1102 & 1 & 2019-10-10\\\\\n",
              "\\end{tabular}\n"
            ],
            "text/markdown": [
              "\n",
              "A data.frame: 10 × 3\n",
              "\n",
              "| <!--/--> | receipt_no &lt;int&gt; | receipt_sub_no &lt;int&gt; | sales_ymd &lt;dttm&gt; |\n",
              "|---|---|---|---|\n",
              "| 1 |  112 | 1 | 2018-11-03 |\n",
              "| 2 | 1132 | 2 | 2018-11-18 |\n",
              "| 3 | 1102 | 1 | 2017-07-12 |\n",
              "| 4 | 1132 | 1 | 2019-02-05 |\n",
              "| 5 | 1102 | 2 | 2018-08-21 |\n",
              "| 6 | 1112 | 1 | 2019-06-05 |\n",
              "| 7 | 1102 | 2 | 2018-12-05 |\n",
              "| 8 | 1102 | 1 | 2019-09-22 |\n",
              "| 9 | 1112 | 2 | 2017-05-04 |\n",
              "| 10 | 1102 | 1 | 2019-10-10 |\n",
              "\n"
            ],
            "text/plain": [
              "   receipt_no receipt_sub_no sales_ymd \n",
              "1   112       1              2018-11-03\n",
              "2  1132       2              2018-11-18\n",
              "3  1102       1              2017-07-12\n",
              "4  1132       1              2019-02-05\n",
              "5  1102       2              2018-08-21\n",
              "6  1112       1              2019-06-05\n",
              "7  1102       2              2018-12-05\n",
              "8  1102       1              2019-09-22\n",
              "9  1112       2              2017-05-04\n",
              "10 1102       1              2019-10-10"
            ]
          },
          "metadata": {},
          "output_type": "display_data"
        }
      ],
      "source": [
        "df_tmp <- cbind(df_receipt[c(\"receipt_no\", \"receipt_sub_no\")], \n",
        "                strptime(as.character(df_receipt$sales_ymd), \"%Y%m%d\"))\n",
        "\n",
        "colnames(df_tmp) <- c(\"receipt_no\", \"receipt_sub_no\", \"sales_ymd\")\n",
        "\n",
        "head(df_tmp, 10)"
      ]
    },
    {
      "cell_type": "markdown",
      "metadata": {
        "id": "z8ksKjwjBJij"
      },
      "source": [
        "---\n",
        "> R-048: 영수증 내역 데이터(df_receipt)의 매출 에포크 초(sales_epoch)는 숫자형 UNIX 초로 데이터를 보유하고 있다. 이를 날짜형으로 변환하여 영수증 번호(receipt_no), 영수증 서브번호(receipt_sub_no)와 함께 10건을 표시하라."
      ]
    },
    {
      "cell_type": "code",
      "execution_count": null,
      "metadata": {
        "id": "48cBWuK-BJij",
        "outputId": "d37eea91-32b5-4a98-956c-17bc229280e4"
      },
      "outputs": [
        {
          "data": {
            "text/html": [
              "<table class=\"dataframe\">\n",
              "<caption>A data.frame: 10 × 3</caption>\n",
              "<thead>\n",
              "\t<tr><th></th><th scope=col>receipt_no</th><th scope=col>receipt_sub_no</th><th scope=col>sales_ymd</th></tr>\n",
              "\t<tr><th></th><th scope=col>&lt;int&gt;</th><th scope=col>&lt;int&gt;</th><th scope=col>&lt;dttm&gt;</th></tr>\n",
              "</thead>\n",
              "<tbody>\n",
              "\t<tr><th scope=row>1</th><td> 112</td><td>1</td><td>2018-11-03</td></tr>\n",
              "\t<tr><th scope=row>2</th><td>1132</td><td>2</td><td>2018-11-18</td></tr>\n",
              "\t<tr><th scope=row>3</th><td>1102</td><td>1</td><td>2017-07-12</td></tr>\n",
              "\t<tr><th scope=row>4</th><td>1132</td><td>1</td><td>2019-02-05</td></tr>\n",
              "\t<tr><th scope=row>5</th><td>1102</td><td>2</td><td>2018-08-21</td></tr>\n",
              "\t<tr><th scope=row>6</th><td>1112</td><td>1</td><td>2019-06-05</td></tr>\n",
              "\t<tr><th scope=row>7</th><td>1102</td><td>2</td><td>2018-12-05</td></tr>\n",
              "\t<tr><th scope=row>8</th><td>1102</td><td>1</td><td>2019-09-22</td></tr>\n",
              "\t<tr><th scope=row>9</th><td>1112</td><td>2</td><td>2017-05-04</td></tr>\n",
              "\t<tr><th scope=row>10</th><td>1102</td><td>1</td><td>2019-10-10</td></tr>\n",
              "</tbody>\n",
              "</table>\n"
            ],
            "text/latex": [
              "A data.frame: 10 × 3\n",
              "\\begin{tabular}{r|lll}\n",
              "  & receipt\\_no & receipt\\_sub\\_no & sales\\_ymd\\\\\n",
              "  & <int> & <int> & <dttm>\\\\\n",
              "\\hline\n",
              "\t1 &  112 & 1 & 2018-11-03\\\\\n",
              "\t2 & 1132 & 2 & 2018-11-18\\\\\n",
              "\t3 & 1102 & 1 & 2017-07-12\\\\\n",
              "\t4 & 1132 & 1 & 2019-02-05\\\\\n",
              "\t5 & 1102 & 2 & 2018-08-21\\\\\n",
              "\t6 & 1112 & 1 & 2019-06-05\\\\\n",
              "\t7 & 1102 & 2 & 2018-12-05\\\\\n",
              "\t8 & 1102 & 1 & 2019-09-22\\\\\n",
              "\t9 & 1112 & 2 & 2017-05-04\\\\\n",
              "\t10 & 1102 & 1 & 2019-10-10\\\\\n",
              "\\end{tabular}\n"
            ],
            "text/markdown": [
              "\n",
              "A data.frame: 10 × 3\n",
              "\n",
              "| <!--/--> | receipt_no &lt;int&gt; | receipt_sub_no &lt;int&gt; | sales_ymd &lt;dttm&gt; |\n",
              "|---|---|---|---|\n",
              "| 1 |  112 | 1 | 2018-11-03 |\n",
              "| 2 | 1132 | 2 | 2018-11-18 |\n",
              "| 3 | 1102 | 1 | 2017-07-12 |\n",
              "| 4 | 1132 | 1 | 2019-02-05 |\n",
              "| 5 | 1102 | 2 | 2018-08-21 |\n",
              "| 6 | 1112 | 1 | 2019-06-05 |\n",
              "| 7 | 1102 | 2 | 2018-12-05 |\n",
              "| 8 | 1102 | 1 | 2019-09-22 |\n",
              "| 9 | 1112 | 2 | 2017-05-04 |\n",
              "| 10 | 1102 | 1 | 2019-10-10 |\n",
              "\n"
            ],
            "text/plain": [
              "   receipt_no receipt_sub_no sales_ymd \n",
              "1   112       1              2018-11-03\n",
              "2  1132       2              2018-11-18\n",
              "3  1102       1              2017-07-12\n",
              "4  1132       1              2019-02-05\n",
              "5  1102       2              2018-08-21\n",
              "6  1112       1              2019-06-05\n",
              "7  1102       2              2018-12-05\n",
              "8  1102       1              2019-09-22\n",
              "9  1112       2              2017-05-04\n",
              "10 1102       1              2019-10-10"
            ]
          },
          "metadata": {},
          "output_type": "display_data"
        }
      ],
      "source": [
        "df_tmp <- cbind(df_receipt[c(\"receipt_no\", \"receipt_sub_no\")], \n",
        "                as.POSIXct(df_receipt$sales_epoch, origin=\"1970-01-01\"))\n",
        "\n",
        "colnames(df_tmp) <- c(\"receipt_no\", \"receipt_sub_no\", \"sales_ymd\")\n",
        "\n",
        "head(df_tmp, 10)"
      ]
    },
    {
      "cell_type": "markdown",
      "metadata": {
        "id": "kd4Og5U_BJij"
      },
      "source": [
        "---\n",
        "> R-049: 영수증 내역 데이터(df_receipt)의 매출 에포크 초(sales_epoch)를 날짜형으로 변환하여 '연도'만 추출하여 영수증 번호(receipt_no), 영수증 하위 번호(receipt_sub_no)와 함께 10건 표시하라."
      ]
    },
    {
      "cell_type": "code",
      "execution_count": null,
      "metadata": {
        "id": "Z3I9rA_xBJij",
        "outputId": "2a33f3ab-b664-4837-fd32-d4a51e2dfbf9"
      },
      "outputs": [
        {
          "data": {
            "text/html": [
              "<table class=\"dataframe\">\n",
              "<caption>A data.frame: 10 × 3</caption>\n",
              "<thead>\n",
              "\t<tr><th></th><th scope=col>receipt_no</th><th scope=col>receipt_sub_no</th><th scope=col>sales_year</th></tr>\n",
              "\t<tr><th></th><th scope=col>&lt;int&gt;</th><th scope=col>&lt;int&gt;</th><th scope=col>&lt;chr&gt;</th></tr>\n",
              "</thead>\n",
              "<tbody>\n",
              "\t<tr><th scope=row>1</th><td> 112</td><td>1</td><td>2018</td></tr>\n",
              "\t<tr><th scope=row>2</th><td>1132</td><td>2</td><td>2018</td></tr>\n",
              "\t<tr><th scope=row>3</th><td>1102</td><td>1</td><td>2017</td></tr>\n",
              "\t<tr><th scope=row>4</th><td>1132</td><td>1</td><td>2019</td></tr>\n",
              "\t<tr><th scope=row>5</th><td>1102</td><td>2</td><td>2018</td></tr>\n",
              "\t<tr><th scope=row>6</th><td>1112</td><td>1</td><td>2019</td></tr>\n",
              "\t<tr><th scope=row>7</th><td>1102</td><td>2</td><td>2018</td></tr>\n",
              "\t<tr><th scope=row>8</th><td>1102</td><td>1</td><td>2019</td></tr>\n",
              "\t<tr><th scope=row>9</th><td>1112</td><td>2</td><td>2017</td></tr>\n",
              "\t<tr><th scope=row>10</th><td>1102</td><td>1</td><td>2019</td></tr>\n",
              "</tbody>\n",
              "</table>\n"
            ],
            "text/latex": [
              "A data.frame: 10 × 3\n",
              "\\begin{tabular}{r|lll}\n",
              "  & receipt\\_no & receipt\\_sub\\_no & sales\\_year\\\\\n",
              "  & <int> & <int> & <chr>\\\\\n",
              "\\hline\n",
              "\t1 &  112 & 1 & 2018\\\\\n",
              "\t2 & 1132 & 2 & 2018\\\\\n",
              "\t3 & 1102 & 1 & 2017\\\\\n",
              "\t4 & 1132 & 1 & 2019\\\\\n",
              "\t5 & 1102 & 2 & 2018\\\\\n",
              "\t6 & 1112 & 1 & 2019\\\\\n",
              "\t7 & 1102 & 2 & 2018\\\\\n",
              "\t8 & 1102 & 1 & 2019\\\\\n",
              "\t9 & 1112 & 2 & 2017\\\\\n",
              "\t10 & 1102 & 1 & 2019\\\\\n",
              "\\end{tabular}\n"
            ],
            "text/markdown": [
              "\n",
              "A data.frame: 10 × 3\n",
              "\n",
              "| <!--/--> | receipt_no &lt;int&gt; | receipt_sub_no &lt;int&gt; | sales_year &lt;chr&gt; |\n",
              "|---|---|---|---|\n",
              "| 1 |  112 | 1 | 2018 |\n",
              "| 2 | 1132 | 2 | 2018 |\n",
              "| 3 | 1102 | 1 | 2017 |\n",
              "| 4 | 1132 | 1 | 2019 |\n",
              "| 5 | 1102 | 2 | 2018 |\n",
              "| 6 | 1112 | 1 | 2019 |\n",
              "| 7 | 1102 | 2 | 2018 |\n",
              "| 8 | 1102 | 1 | 2019 |\n",
              "| 9 | 1112 | 2 | 2017 |\n",
              "| 10 | 1102 | 1 | 2019 |\n",
              "\n"
            ],
            "text/plain": [
              "   receipt_no receipt_sub_no sales_year\n",
              "1   112       1              2018      \n",
              "2  1132       2              2018      \n",
              "3  1102       1              2017      \n",
              "4  1132       1              2019      \n",
              "5  1102       2              2018      \n",
              "6  1112       1              2019      \n",
              "7  1102       2              2018      \n",
              "8  1102       1              2019      \n",
              "9  1112       2              2017      \n",
              "10 1102       1              2019      "
            ]
          },
          "metadata": {},
          "output_type": "display_data"
        }
      ],
      "source": [
        "df_tmp <- cbind(df_receipt[c(\"receipt_no\", \"receipt_sub_no\")], \n",
        "                substring(as.POSIXct(df_receipt$sales_epoch, \n",
        "                                     origin = \"1970-01-01\"), 1, 4))\n",
        "\n",
        "colnames(df_tmp) <- c(\"receipt_no\", \"receipt_sub_no\", \"sales_year\")\n",
        "\n",
        "head(df_tmp, 10)"
      ]
    },
    {
      "cell_type": "markdown",
      "metadata": {
        "id": "pTgEN2syBJij"
      },
      "source": [
        "---\n",
        "> R-050: 영수증 내역 데이터(df_receipt)의 매출 에포크 초(sales_epoch)를 날짜형으로 변환하여 '월'만 추출하여 영수증 번호(receipt_no), 영수증 하위 번호(receipt_sub_no)와 함께 10건을 표시한다. 단, '월'은 0으로 채워진 2자리로 추출한다."
      ]
    },
    {
      "cell_type": "code",
      "execution_count": null,
      "metadata": {
        "id": "BTtt6VlSBJij",
        "outputId": "d0f61c1f-8c9e-4afb-c07f-0eddf8b7f923"
      },
      "outputs": [
        {
          "data": {
            "text/html": [
              "<table class=\"dataframe\">\n",
              "<caption>A data.frame: 10 × 3</caption>\n",
              "<thead>\n",
              "\t<tr><th></th><th scope=col>receipt_no</th><th scope=col>receipt_sub_no</th><th scope=col>sales_ymd</th></tr>\n",
              "\t<tr><th></th><th scope=col>&lt;int&gt;</th><th scope=col>&lt;int&gt;</th><th scope=col>&lt;chr&gt;</th></tr>\n",
              "</thead>\n",
              "<tbody>\n",
              "\t<tr><th scope=row>1</th><td> 112</td><td>1</td><td>11</td></tr>\n",
              "\t<tr><th scope=row>2</th><td>1132</td><td>2</td><td>11</td></tr>\n",
              "\t<tr><th scope=row>3</th><td>1102</td><td>1</td><td>07</td></tr>\n",
              "\t<tr><th scope=row>4</th><td>1132</td><td>1</td><td>02</td></tr>\n",
              "\t<tr><th scope=row>5</th><td>1102</td><td>2</td><td>08</td></tr>\n",
              "\t<tr><th scope=row>6</th><td>1112</td><td>1</td><td>06</td></tr>\n",
              "\t<tr><th scope=row>7</th><td>1102</td><td>2</td><td>12</td></tr>\n",
              "\t<tr><th scope=row>8</th><td>1102</td><td>1</td><td>09</td></tr>\n",
              "\t<tr><th scope=row>9</th><td>1112</td><td>2</td><td>05</td></tr>\n",
              "\t<tr><th scope=row>10</th><td>1102</td><td>1</td><td>10</td></tr>\n",
              "</tbody>\n",
              "</table>\n"
            ],
            "text/latex": [
              "A data.frame: 10 × 3\n",
              "\\begin{tabular}{r|lll}\n",
              "  & receipt\\_no & receipt\\_sub\\_no & sales\\_ymd\\\\\n",
              "  & <int> & <int> & <chr>\\\\\n",
              "\\hline\n",
              "\t1 &  112 & 1 & 11\\\\\n",
              "\t2 & 1132 & 2 & 11\\\\\n",
              "\t3 & 1102 & 1 & 07\\\\\n",
              "\t4 & 1132 & 1 & 02\\\\\n",
              "\t5 & 1102 & 2 & 08\\\\\n",
              "\t6 & 1112 & 1 & 06\\\\\n",
              "\t7 & 1102 & 2 & 12\\\\\n",
              "\t8 & 1102 & 1 & 09\\\\\n",
              "\t9 & 1112 & 2 & 05\\\\\n",
              "\t10 & 1102 & 1 & 10\\\\\n",
              "\\end{tabular}\n"
            ],
            "text/markdown": [
              "\n",
              "A data.frame: 10 × 3\n",
              "\n",
              "| <!--/--> | receipt_no &lt;int&gt; | receipt_sub_no &lt;int&gt; | sales_ymd &lt;chr&gt; |\n",
              "|---|---|---|---|\n",
              "| 1 |  112 | 1 | 11 |\n",
              "| 2 | 1132 | 2 | 11 |\n",
              "| 3 | 1102 | 1 | 07 |\n",
              "| 4 | 1132 | 1 | 02 |\n",
              "| 5 | 1102 | 2 | 08 |\n",
              "| 6 | 1112 | 1 | 06 |\n",
              "| 7 | 1102 | 2 | 12 |\n",
              "| 8 | 1102 | 1 | 09 |\n",
              "| 9 | 1112 | 2 | 05 |\n",
              "| 10 | 1102 | 1 | 10 |\n",
              "\n"
            ],
            "text/plain": [
              "   receipt_no receipt_sub_no sales_ymd\n",
              "1   112       1              11       \n",
              "2  1132       2              11       \n",
              "3  1102       1              07       \n",
              "4  1132       1              02       \n",
              "5  1102       2              08       \n",
              "6  1112       1              06       \n",
              "7  1102       2              12       \n",
              "8  1102       1              09       \n",
              "9  1112       2              05       \n",
              "10 1102       1              10       "
            ]
          },
          "metadata": {},
          "output_type": "display_data"
        }
      ],
      "source": [
        "df_tmp <- cbind(df_receipt[c(\"receipt_no\", \"receipt_sub_no\")], \n",
        "                substring(as.POSIXct(df_receipt$sales_epoch, \n",
        "                                     origin = \"1970-01-01\"), 6, 7))\n",
        "\n",
        "colnames(df_tmp) <- c(\"receipt_no\", \"receipt_sub_no\", \"sales_ymd\")\n",
        "\n",
        "head(df_tmp, 10)"
      ]
    },
    {
      "cell_type": "markdown",
      "metadata": {
        "id": "XTq_B99-BJij"
      },
      "source": [
        "---\n",
        "> R-051: 영수증 내역 데이터(df_receipt)의 매출 에포크 초를 날짜형으로 변환하여 '일'만 추출하여 영수증 번호(receipt_no), 영수증 하위 번호(receipt_sub_no)와 함께 10건 표시한다. 단, '일'은 0으로 채워진 2자리로 추출한다."
      ]
    },
    {
      "cell_type": "code",
      "execution_count": null,
      "metadata": {
        "id": "rcqSZO4nBJij",
        "outputId": "0b4462ef-a3a9-406b-e03f-690f4c380cea"
      },
      "outputs": [
        {
          "data": {
            "text/html": [
              "<table class=\"dataframe\">\n",
              "<caption>A data.frame: 10 × 3</caption>\n",
              "<thead>\n",
              "\t<tr><th></th><th scope=col>receipt_no</th><th scope=col>receipt_sub_no</th><th scope=col>sales_day</th></tr>\n",
              "\t<tr><th></th><th scope=col>&lt;int&gt;</th><th scope=col>&lt;int&gt;</th><th scope=col>&lt;chr&gt;</th></tr>\n",
              "</thead>\n",
              "<tbody>\n",
              "\t<tr><th scope=row>1</th><td> 112</td><td>1</td><td>03</td></tr>\n",
              "\t<tr><th scope=row>2</th><td>1132</td><td>2</td><td>18</td></tr>\n",
              "\t<tr><th scope=row>3</th><td>1102</td><td>1</td><td>12</td></tr>\n",
              "\t<tr><th scope=row>4</th><td>1132</td><td>1</td><td>05</td></tr>\n",
              "\t<tr><th scope=row>5</th><td>1102</td><td>2</td><td>21</td></tr>\n",
              "\t<tr><th scope=row>6</th><td>1112</td><td>1</td><td>05</td></tr>\n",
              "\t<tr><th scope=row>7</th><td>1102</td><td>2</td><td>05</td></tr>\n",
              "\t<tr><th scope=row>8</th><td>1102</td><td>1</td><td>22</td></tr>\n",
              "\t<tr><th scope=row>9</th><td>1112</td><td>2</td><td>04</td></tr>\n",
              "\t<tr><th scope=row>10</th><td>1102</td><td>1</td><td>10</td></tr>\n",
              "</tbody>\n",
              "</table>\n"
            ],
            "text/latex": [
              "A data.frame: 10 × 3\n",
              "\\begin{tabular}{r|lll}\n",
              "  & receipt\\_no & receipt\\_sub\\_no & sales\\_day\\\\\n",
              "  & <int> & <int> & <chr>\\\\\n",
              "\\hline\n",
              "\t1 &  112 & 1 & 03\\\\\n",
              "\t2 & 1132 & 2 & 18\\\\\n",
              "\t3 & 1102 & 1 & 12\\\\\n",
              "\t4 & 1132 & 1 & 05\\\\\n",
              "\t5 & 1102 & 2 & 21\\\\\n",
              "\t6 & 1112 & 1 & 05\\\\\n",
              "\t7 & 1102 & 2 & 05\\\\\n",
              "\t8 & 1102 & 1 & 22\\\\\n",
              "\t9 & 1112 & 2 & 04\\\\\n",
              "\t10 & 1102 & 1 & 10\\\\\n",
              "\\end{tabular}\n"
            ],
            "text/markdown": [
              "\n",
              "A data.frame: 10 × 3\n",
              "\n",
              "| <!--/--> | receipt_no &lt;int&gt; | receipt_sub_no &lt;int&gt; | sales_day &lt;chr&gt; |\n",
              "|---|---|---|---|\n",
              "| 1 |  112 | 1 | 03 |\n",
              "| 2 | 1132 | 2 | 18 |\n",
              "| 3 | 1102 | 1 | 12 |\n",
              "| 4 | 1132 | 1 | 05 |\n",
              "| 5 | 1102 | 2 | 21 |\n",
              "| 6 | 1112 | 1 | 05 |\n",
              "| 7 | 1102 | 2 | 05 |\n",
              "| 8 | 1102 | 1 | 22 |\n",
              "| 9 | 1112 | 2 | 04 |\n",
              "| 10 | 1102 | 1 | 10 |\n",
              "\n"
            ],
            "text/plain": [
              "   receipt_no receipt_sub_no sales_day\n",
              "1   112       1              03       \n",
              "2  1132       2              18       \n",
              "3  1102       1              12       \n",
              "4  1132       1              05       \n",
              "5  1102       2              21       \n",
              "6  1112       1              05       \n",
              "7  1102       2              05       \n",
              "8  1102       1              22       \n",
              "9  1112       2              04       \n",
              "10 1102       1              10       "
            ]
          },
          "metadata": {},
          "output_type": "display_data"
        }
      ],
      "source": [
        "df_tmp <- cbind(df_receipt[c(\"receipt_no\", \"receipt_sub_no\")], \n",
        "                substring(as.POSIXct(df_receipt$sales_epoch, \n",
        "                                     origin = \"1970-01-01\"), 9, 10))\n",
        "\n",
        "colnames(df_tmp) <- c(\"receipt_no\", \"receipt_sub_no\", \"sales_day\")\n",
        "\n",
        "head(df_tmp, 10)"
      ]
    },
    {
      "cell_type": "markdown",
      "metadata": {
        "id": "sik7Hr5cBJij"
      },
      "source": [
        "---\n",
        "> R-052: 영수증 내역 데이터(df_receipt)의 매출 금액(amount)을 고객 ID(customer_id)별로 합산한 후, 매출 금액 총합에 대해 2,000원 이하를 0, 2,000원보다 큰 금액을 1로 이분화하여 고객 ID, 매출 금액 총합과 함께 10건씩 표시한다. 단, 고객 ID가 \"Z\"로 시작하는 것은 비회원을 의미하므로 제외하여 계산한다."
      ]
    },
    {
      "cell_type": "code",
      "execution_count": null,
      "metadata": {
        "id": "OSf83lOIBJij",
        "outputId": "d6275c08-2ced-417b-8e92-d469a56e2ffb"
      },
      "outputs": [
        {
          "data": {
            "text/html": [
              "<table class=\"dataframe\">\n",
              "<caption>A tibble: 10 × 3</caption>\n",
              "<thead>\n",
              "\t<tr><th scope=col>customer_id</th><th scope=col>sum_amount</th><th scope=col>sales_flg</th></tr>\n",
              "\t<tr><th scope=col>&lt;chr&gt;</th><th scope=col>&lt;int&gt;</th><th scope=col>&lt;dbl&gt;</th></tr>\n",
              "</thead>\n",
              "<tbody>\n",
              "\t<tr><td>CS001113000004</td><td>1298</td><td>0</td></tr>\n",
              "\t<tr><td>CS001114000005</td><td> 626</td><td>0</td></tr>\n",
              "\t<tr><td>CS001115000010</td><td>3044</td><td>1</td></tr>\n",
              "\t<tr><td>CS001205000004</td><td>1988</td><td>0</td></tr>\n",
              "\t<tr><td>CS001205000006</td><td>3337</td><td>1</td></tr>\n",
              "\t<tr><td>CS001211000025</td><td> 456</td><td>0</td></tr>\n",
              "\t<tr><td>CS001212000027</td><td> 448</td><td>0</td></tr>\n",
              "\t<tr><td>CS001212000031</td><td> 296</td><td>0</td></tr>\n",
              "\t<tr><td>CS001212000046</td><td> 228</td><td>0</td></tr>\n",
              "\t<tr><td>CS001212000070</td><td> 456</td><td>0</td></tr>\n",
              "</tbody>\n",
              "</table>\n"
            ],
            "text/latex": [
              "A tibble: 10 × 3\n",
              "\\begin{tabular}{lll}\n",
              " customer\\_id & sum\\_amount & sales\\_flg\\\\\n",
              " <chr> & <int> & <dbl>\\\\\n",
              "\\hline\n",
              "\t CS001113000004 & 1298 & 0\\\\\n",
              "\t CS001114000005 &  626 & 0\\\\\n",
              "\t CS001115000010 & 3044 & 1\\\\\n",
              "\t CS001205000004 & 1988 & 0\\\\\n",
              "\t CS001205000006 & 3337 & 1\\\\\n",
              "\t CS001211000025 &  456 & 0\\\\\n",
              "\t CS001212000027 &  448 & 0\\\\\n",
              "\t CS001212000031 &  296 & 0\\\\\n",
              "\t CS001212000046 &  228 & 0\\\\\n",
              "\t CS001212000070 &  456 & 0\\\\\n",
              "\\end{tabular}\n"
            ],
            "text/markdown": [
              "\n",
              "A tibble: 10 × 3\n",
              "\n",
              "| customer_id &lt;chr&gt; | sum_amount &lt;int&gt; | sales_flg &lt;dbl&gt; |\n",
              "|---|---|---|\n",
              "| CS001113000004 | 1298 | 0 |\n",
              "| CS001114000005 |  626 | 0 |\n",
              "| CS001115000010 | 3044 | 1 |\n",
              "| CS001205000004 | 1988 | 0 |\n",
              "| CS001205000006 | 3337 | 1 |\n",
              "| CS001211000025 |  456 | 0 |\n",
              "| CS001212000027 |  448 | 0 |\n",
              "| CS001212000031 |  296 | 0 |\n",
              "| CS001212000046 |  228 | 0 |\n",
              "| CS001212000070 |  456 | 0 |\n",
              "\n"
            ],
            "text/plain": [
              "   customer_id    sum_amount sales_flg\n",
              "1  CS001113000004 1298       0        \n",
              "2  CS001114000005  626       0        \n",
              "3  CS001115000010 3044       1        \n",
              "4  CS001205000004 1988       0        \n",
              "5  CS001205000006 3337       1        \n",
              "6  CS001211000025  456       0        \n",
              "7  CS001212000027  448       0        \n",
              "8  CS001212000031  296       0        \n",
              "9  CS001212000046  228       0        \n",
              "10 CS001212000070  456       0        "
            ]
          },
          "metadata": {},
          "output_type": "display_data"
        }
      ],
      "source": [
        "df_receipt %>%\n",
        "    filter(!grepl(\"^Z\", customer_id)) %>%\n",
        "    group_by(customer_id) %>%\n",
        "    summarise(sum_amount=sum(amount), .groups = \"drop\") %>%\n",
        "    mutate(sales_flg = ifelse(sum_amount > 2000, 1, 0))　%>%\n",
        "    slice(1:10)"
      ]
    },
    {
      "cell_type": "markdown",
      "metadata": {
        "id": "BgSryyAXBJij"
      },
      "source": [
        "---\n",
        "> R-053: 고객 데이터(df_customer)의 우편번호(postal_cd)에 대해 도쿄(앞 3자리가 100~209인 것)를 1, 그 외의 것을 0으로 이진화하라. 또한 영수증 내역 데이터(df_receipt)와 결합하여 전체 기간 동안 매출 실적이 있는 고객 수를 생성한 이항대수별로 계산하라."
      ]
    },
    {
      "cell_type": "code",
      "execution_count": null,
      "metadata": {
        "id": "28LOTeTLBJij",
        "outputId": "696648f0-1c01-4a5f-da4b-a65f4f2e68b0"
      },
      "outputs": [
        {
          "data": {
            "text/html": [
              "<table class=\"dataframe\">\n",
              "<caption>A tibble: 2 × 2</caption>\n",
              "<thead>\n",
              "\t<tr><th scope=col>postal_flg</th><th scope=col>customer_cnt</th></tr>\n",
              "\t<tr><th scope=col>&lt;dbl&gt;</th><th scope=col>&lt;int&gt;</th></tr>\n",
              "</thead>\n",
              "<tbody>\n",
              "\t<tr><td>0</td><td>3906</td></tr>\n",
              "\t<tr><td>1</td><td>4400</td></tr>\n",
              "</tbody>\n",
              "</table>\n"
            ],
            "text/latex": [
              "A tibble: 2 × 2\n",
              "\\begin{tabular}{ll}\n",
              " postal\\_flg & customer\\_cnt\\\\\n",
              " <dbl> & <int>\\\\\n",
              "\\hline\n",
              "\t 0 & 3906\\\\\n",
              "\t 1 & 4400\\\\\n",
              "\\end{tabular}\n"
            ],
            "text/markdown": [
              "\n",
              "A tibble: 2 × 2\n",
              "\n",
              "| postal_flg &lt;dbl&gt; | customer_cnt &lt;int&gt; |\n",
              "|---|---|\n",
              "| 0 | 3906 |\n",
              "| 1 | 4400 |\n",
              "\n"
            ],
            "text/plain": [
              "  postal_flg customer_cnt\n",
              "1 0          3906        \n",
              "2 1          4400        "
            ]
          },
          "metadata": {},
          "output_type": "display_data"
        }
      ],
      "source": [
        "df_customer[c(\"customer_id\", \"postal_cd\")] %>%\n",
        "    mutate(postal_flg = \n",
        "           ifelse(100 <= as.integer(str_sub(postal_cd, start = 1, end = 3)) \n",
        "                  & as.integer(str_sub(postal_cd, start = 1, end = 3)) <= 209, \n",
        "                  1, 0)) %>%\n",
        "    inner_join(df_receipt, by = \"customer_id\") %>%\n",
        "    group_by(postal_flg) %>%\n",
        "    summarise(customer_cnt = n_distinct(customer_id), .groups = \"drop\")"
      ]
    },
    {
      "cell_type": "markdown",
      "metadata": {
        "id": "z4BiZ5-iBJij"
      },
      "source": [
        "---\n",
        "> R-054: 고객 데이터(df_customer)의 주소(address)는 사이타마현, 지바현, 도쿄도, 가나가와현 중 하나이다. 도도부현별로 코드 값을 생성하여 고객 ID, 주소와 함께 10건씩 표시하라. 값은 사이타마현을 11, 지바현을 12, 도쿄도를 13, 가나가와현을 14로 한다."
      ]
    },
    {
      "cell_type": "code",
      "execution_count": null,
      "metadata": {
        "id": "3fVJxEleBJij",
        "outputId": "6d6d2943-5361-419a-aaa7-0c6c8137c365"
      },
      "outputs": [
        {
          "data": {
            "text/html": [
              "<table class=\"dataframe\">\n",
              "<caption>A data.frame: 10 × 3</caption>\n",
              "<thead>\n",
              "\t<tr><th scope=col>customer_id</th><th scope=col>address</th><th scope=col>prefecture_cd</th></tr>\n",
              "\t<tr><th scope=col>&lt;chr&gt;</th><th scope=col>&lt;chr&gt;</th><th scope=col>&lt;chr&gt;</th></tr>\n",
              "</thead>\n",
              "<tbody>\n",
              "\t<tr><td>CS021313000114</td><td>神奈川県伊勢原市粟窪**********    </td><td>14</td></tr>\n",
              "\t<tr><td>CS037613000071</td><td>東京都江東区南砂**********        </td><td>13</td></tr>\n",
              "\t<tr><td>CS031415000172</td><td>東京都渋谷区代々木**********      </td><td>13</td></tr>\n",
              "\t<tr><td>CS028811000001</td><td>神奈川県横浜市泉区和泉町**********</td><td>14</td></tr>\n",
              "\t<tr><td>CS001215000145</td><td>東京都大田区仲六郷**********      </td><td>13</td></tr>\n",
              "\t<tr><td>CS020401000016</td><td>東京都板橋区若木**********        </td><td>13</td></tr>\n",
              "\t<tr><td>CS015414000103</td><td>東京都江東区北砂**********        </td><td>13</td></tr>\n",
              "\t<tr><td>CS029403000008</td><td>千葉県浦安市海楽**********        </td><td>12</td></tr>\n",
              "\t<tr><td>CS015804000004</td><td>東京都江東区北砂**********        </td><td>13</td></tr>\n",
              "\t<tr><td>CS033513000180</td><td>神奈川県横浜市旭区善部町**********</td><td>14</td></tr>\n",
              "</tbody>\n",
              "</table>\n"
            ],
            "text/latex": [
              "A data.frame: 10 × 3\n",
              "\\begin{tabular}{lll}\n",
              " customer\\_id & address & prefecture\\_cd\\\\\n",
              " <chr> & <chr> & <chr>\\\\\n",
              "\\hline\n",
              "\t CS021313000114 & 神奈川県伊勢原市粟窪**********     & 14\\\\\n",
              "\t CS037613000071 & 東京都江東区南砂**********         & 13\\\\\n",
              "\t CS031415000172 & 東京都渋谷区代々木**********       & 13\\\\\n",
              "\t CS028811000001 & 神奈川県横浜市泉区和泉町********** & 14\\\\\n",
              "\t CS001215000145 & 東京都大田区仲六郷**********       & 13\\\\\n",
              "\t CS020401000016 & 東京都板橋区若木**********         & 13\\\\\n",
              "\t CS015414000103 & 東京都江東区北砂**********         & 13\\\\\n",
              "\t CS029403000008 & 千葉県浦安市海楽**********         & 12\\\\\n",
              "\t CS015804000004 & 東京都江東区北砂**********         & 13\\\\\n",
              "\t CS033513000180 & 神奈川県横浜市旭区善部町********** & 14\\\\\n",
              "\\end{tabular}\n"
            ],
            "text/markdown": [
              "\n",
              "A data.frame: 10 × 3\n",
              "\n",
              "| customer_id &lt;chr&gt; | address &lt;chr&gt; | prefecture_cd &lt;chr&gt; |\n",
              "|---|---|---|\n",
              "| CS021313000114 | 神奈川県伊勢原市粟窪**********     | 14 |\n",
              "| CS037613000071 | 東京都江東区南砂**********         | 13 |\n",
              "| CS031415000172 | 東京都渋谷区代々木**********       | 13 |\n",
              "| CS028811000001 | 神奈川県横浜市泉区和泉町********** | 14 |\n",
              "| CS001215000145 | 東京都大田区仲六郷**********       | 13 |\n",
              "| CS020401000016 | 東京都板橋区若木**********         | 13 |\n",
              "| CS015414000103 | 東京都江東区北砂**********         | 13 |\n",
              "| CS029403000008 | 千葉県浦安市海楽**********         | 12 |\n",
              "| CS015804000004 | 東京都江東区北砂**********         | 13 |\n",
              "| CS033513000180 | 神奈川県横浜市旭区善部町********** | 14 |\n",
              "\n"
            ],
            "text/plain": [
              "   customer_id    address                            prefecture_cd\n",
              "1  CS021313000114 神奈川県伊勢原市粟窪**********     14           \n",
              "2  CS037613000071 東京都江東区南砂**********         13           \n",
              "3  CS031415000172 東京都渋谷区代々木**********       13           \n",
              "4  CS028811000001 神奈川県横浜市泉区和泉町********** 14           \n",
              "5  CS001215000145 東京都大田区仲六郷**********       13           \n",
              "6  CS020401000016 東京都板橋区若木**********         13           \n",
              "7  CS015414000103 東京都江東区北砂**********         13           \n",
              "8  CS029403000008 千葉県浦安市海楽**********         12           \n",
              "9  CS015804000004 東京都江東区北砂**********         13           \n",
              "10 CS033513000180 神奈川県横浜市旭区善部町********** 14           "
            ]
          },
          "metadata": {},
          "output_type": "display_data"
        }
      ],
      "source": [
        "# 코드 예제 1(고정에서 잘라내기)\n",
        "df_customer %>%\n",
        "    mutate(prefecture_cd = \n",
        "           case_when(\n",
        "               str_sub(address, start = 1, end = 3) == \"埼玉県\" ~ \"11\",\n",
        "               str_sub(address, start = 1, end = 3) == \"千葉県\" ~ \"12\",\n",
        "               str_sub(address, start = 1, end = 3) == \"東京都\" ~ \"13\",\n",
        "               str_sub(address, start = 1, end = 3) == \"神奈川\" ~ \"14\")) %>%\n",
        "    select(customer_id, address, prefecture_cd) %>%\n",
        "    slice(1:10)"
      ]
    },
    {
      "cell_type": "code",
      "execution_count": null,
      "metadata": {
        "id": "2vyVr1WABJik",
        "outputId": "5dbfb13c-b839-4094-a42a-00d101642d99"
      },
      "outputs": [
        {
          "data": {
            "text/html": [
              "<table class=\"dataframe\">\n",
              "<caption>A data.frame: 10 × 3</caption>\n",
              "<thead>\n",
              "\t<tr><th scope=col>customer_id</th><th scope=col>address</th><th scope=col>prefecture_cd</th></tr>\n",
              "\t<tr><th scope=col>&lt;chr&gt;</th><th scope=col>&lt;chr&gt;</th><th scope=col>&lt;chr&gt;</th></tr>\n",
              "</thead>\n",
              "<tbody>\n",
              "\t<tr><td>CS021313000114</td><td>神奈川県伊勢原市粟窪**********    </td><td>14</td></tr>\n",
              "\t<tr><td>CS037613000071</td><td>東京都江東区南砂**********        </td><td>13</td></tr>\n",
              "\t<tr><td>CS031415000172</td><td>東京都渋谷区代々木**********      </td><td>13</td></tr>\n",
              "\t<tr><td>CS028811000001</td><td>神奈川県横浜市泉区和泉町**********</td><td>14</td></tr>\n",
              "\t<tr><td>CS001215000145</td><td>東京都大田区仲六郷**********      </td><td>13</td></tr>\n",
              "\t<tr><td>CS020401000016</td><td>東京都板橋区若木**********        </td><td>13</td></tr>\n",
              "\t<tr><td>CS015414000103</td><td>東京都江東区北砂**********        </td><td>13</td></tr>\n",
              "\t<tr><td>CS029403000008</td><td>千葉県浦安市海楽**********        </td><td>12</td></tr>\n",
              "\t<tr><td>CS015804000004</td><td>東京都江東区北砂**********        </td><td>13</td></tr>\n",
              "\t<tr><td>CS033513000180</td><td>神奈川県横浜市旭区善部町**********</td><td>14</td></tr>\n",
              "</tbody>\n",
              "</table>\n"
            ],
            "text/latex": [
              "A data.frame: 10 × 3\n",
              "\\begin{tabular}{lll}\n",
              " customer\\_id & address & prefecture\\_cd\\\\\n",
              " <chr> & <chr> & <chr>\\\\\n",
              "\\hline\n",
              "\t CS021313000114 & 神奈川県伊勢原市粟窪**********     & 14\\\\\n",
              "\t CS037613000071 & 東京都江東区南砂**********         & 13\\\\\n",
              "\t CS031415000172 & 東京都渋谷区代々木**********       & 13\\\\\n",
              "\t CS028811000001 & 神奈川県横浜市泉区和泉町********** & 14\\\\\n",
              "\t CS001215000145 & 東京都大田区仲六郷**********       & 13\\\\\n",
              "\t CS020401000016 & 東京都板橋区若木**********         & 13\\\\\n",
              "\t CS015414000103 & 東京都江東区北砂**********         & 13\\\\\n",
              "\t CS029403000008 & 千葉県浦安市海楽**********         & 12\\\\\n",
              "\t CS015804000004 & 東京都江東区北砂**********         & 13\\\\\n",
              "\t CS033513000180 & 神奈川県横浜市旭区善部町********** & 14\\\\\n",
              "\\end{tabular}\n"
            ],
            "text/markdown": [
              "\n",
              "A data.frame: 10 × 3\n",
              "\n",
              "| customer_id &lt;chr&gt; | address &lt;chr&gt; | prefecture_cd &lt;chr&gt; |\n",
              "|---|---|---|\n",
              "| CS021313000114 | 神奈川県伊勢原市粟窪**********     | 14 |\n",
              "| CS037613000071 | 東京都江東区南砂**********         | 13 |\n",
              "| CS031415000172 | 東京都渋谷区代々木**********       | 13 |\n",
              "| CS028811000001 | 神奈川県横浜市泉区和泉町********** | 14 |\n",
              "| CS001215000145 | 東京都大田区仲六郷**********       | 13 |\n",
              "| CS020401000016 | 東京都板橋区若木**********         | 13 |\n",
              "| CS015414000103 | 東京都江東区北砂**********         | 13 |\n",
              "| CS029403000008 | 千葉県浦安市海楽**********         | 12 |\n",
              "| CS015804000004 | 東京都江東区北砂**********         | 13 |\n",
              "| CS033513000180 | 神奈川県横浜市旭区善部町********** | 14 |\n",
              "\n"
            ],
            "text/plain": [
              "   customer_id    address                            prefecture_cd\n",
              "1  CS021313000114 神奈川県伊勢原市粟窪**********     14           \n",
              "2  CS037613000071 東京都江東区南砂**********         13           \n",
              "3  CS031415000172 東京都渋谷区代々木**********       13           \n",
              "4  CS028811000001 神奈川県横浜市泉区和泉町********** 14           \n",
              "5  CS001215000145 東京都大田区仲六郷**********       13           \n",
              "6  CS020401000016 東京都板橋区若木**********         13           \n",
              "7  CS015414000103 東京都江東区北砂**********         13           \n",
              "8  CS029403000008 千葉県浦安市海楽**********         12           \n",
              "9  CS015804000004 東京都江東区北砂**********         13           \n",
              "10 CS033513000180 神奈川県横浜市旭区善部町********** 14           "
            ]
          },
          "metadata": {},
          "output_type": "display_data"
        }
      ],
      "source": [
        "# 코드 예제 2(정규식 사용)\n",
        "df_customer %>%\n",
        "  mutate(prefecture_cd = \n",
        "    case_when(\n",
        "      str_extract(address, pattern = \"^.*?[都道府県]\") == \"埼玉県\" ~ \"11\",\n",
        "      str_extract(address, pattern = \"^.*?[都道府県]\") == \"千葉県\" ~ \"12\",\n",
        "      str_extract(address, pattern = \"^.*?[都道府県]\") == \"東京都\" ~ \"13\",\n",
        "      str_extract(address, pattern = \"^.*?[都道府県]\") == \"神奈川県\" ~ \"14\")) %>%\n",
        "    select(customer_id, address, prefecture_cd) %>%\n",
        "    slice(1:10)"
      ]
    },
    {
      "cell_type": "markdown",
      "metadata": {
        "id": "AYh7HMrQBJik"
      },
      "source": [
        "---\n",
        "> R-055: 영수증 명세서(df_receipt) 데이터의 매출 금액(amount)을 고객 ID(customer_id)별로 합산하고, 그 합산 금액의 사분위수를 구하시오. 그 후, 고객별 매출금액 합계에 대해 아래 기준으로 카테고리 값을 생성하여 고객 ID, 매출금액 합계와 함께 10건씩 표시하라. 카테고리 값은 순서대로 1~4로 한다.\n",
        "> \n",
        "> - 최소값 이상 1사분위수 미만 ・・・ 1을 부여\n",
        "> - 1사분위 이상 2사분위 미만 ・・・ 2를 부여\n",
        "> - 2사분위 이상 3사분위 미만 ・・・ 3을 부여\n",
        "> - 3사분위 이상 ・・・ 4 부여"
      ]
    },
    {
      "cell_type": "code",
      "execution_count": null,
      "metadata": {
        "id": "w2Ntn9JdBJik",
        "outputId": "22a56eb1-2bbb-4931-9520-9c789fa15b5a"
      },
      "outputs": [
        {
          "data": {
            "text/html": [
              "<table class=\"dataframe\">\n",
              "<caption>A tibble: 10 × 3</caption>\n",
              "<thead>\n",
              "\t<tr><th scope=col>customer_id</th><th scope=col>sum_amount</th><th scope=col>pct_group</th></tr>\n",
              "\t<tr><th scope=col>&lt;chr&gt;</th><th scope=col>&lt;int&gt;</th><th scope=col>&lt;chr&gt;</th></tr>\n",
              "</thead>\n",
              "<tbody>\n",
              "\t<tr><td>CS001113000004</td><td>1298</td><td>2</td></tr>\n",
              "\t<tr><td>CS001114000005</td><td> 626</td><td>2</td></tr>\n",
              "\t<tr><td>CS001115000010</td><td>3044</td><td>3</td></tr>\n",
              "\t<tr><td>CS001205000004</td><td>1988</td><td>3</td></tr>\n",
              "\t<tr><td>CS001205000006</td><td>3337</td><td>3</td></tr>\n",
              "\t<tr><td>CS001211000025</td><td> 456</td><td>1</td></tr>\n",
              "\t<tr><td>CS001212000027</td><td> 448</td><td>1</td></tr>\n",
              "\t<tr><td>CS001212000031</td><td> 296</td><td>1</td></tr>\n",
              "\t<tr><td>CS001212000046</td><td> 228</td><td>1</td></tr>\n",
              "\t<tr><td>CS001212000070</td><td> 456</td><td>1</td></tr>\n",
              "</tbody>\n",
              "</table>\n"
            ],
            "text/latex": [
              "A tibble: 10 × 3\n",
              "\\begin{tabular}{lll}\n",
              " customer\\_id & sum\\_amount & pct\\_group\\\\\n",
              " <chr> & <int> & <chr>\\\\\n",
              "\\hline\n",
              "\t CS001113000004 & 1298 & 2\\\\\n",
              "\t CS001114000005 &  626 & 2\\\\\n",
              "\t CS001115000010 & 3044 & 3\\\\\n",
              "\t CS001205000004 & 1988 & 3\\\\\n",
              "\t CS001205000006 & 3337 & 3\\\\\n",
              "\t CS001211000025 &  456 & 1\\\\\n",
              "\t CS001212000027 &  448 & 1\\\\\n",
              "\t CS001212000031 &  296 & 1\\\\\n",
              "\t CS001212000046 &  228 & 1\\\\\n",
              "\t CS001212000070 &  456 & 1\\\\\n",
              "\\end{tabular}\n"
            ],
            "text/markdown": [
              "\n",
              "A tibble: 10 × 3\n",
              "\n",
              "| customer_id &lt;chr&gt; | sum_amount &lt;int&gt; | pct_group &lt;chr&gt; |\n",
              "|---|---|---|\n",
              "| CS001113000004 | 1298 | 2 |\n",
              "| CS001114000005 |  626 | 2 |\n",
              "| CS001115000010 | 3044 | 3 |\n",
              "| CS001205000004 | 1988 | 3 |\n",
              "| CS001205000006 | 3337 | 3 |\n",
              "| CS001211000025 |  456 | 1 |\n",
              "| CS001212000027 |  448 | 1 |\n",
              "| CS001212000031 |  296 | 1 |\n",
              "| CS001212000046 |  228 | 1 |\n",
              "| CS001212000070 |  456 | 1 |\n",
              "\n"
            ],
            "text/plain": [
              "   customer_id    sum_amount pct_group\n",
              "1  CS001113000004 1298       2        \n",
              "2  CS001114000005  626       2        \n",
              "3  CS001115000010 3044       3        \n",
              "4  CS001205000004 1988       3        \n",
              "5  CS001205000006 3337       3        \n",
              "6  CS001211000025  456       1        \n",
              "7  CS001212000027  448       1        \n",
              "8  CS001212000031  296       1        \n",
              "9  CS001212000046  228       1        \n",
              "10 CS001212000070  456       1        "
            ]
          },
          "metadata": {},
          "output_type": "display_data"
        }
      ],
      "source": [
        "df_receipt %>%\n",
        "    group_by(customer_id) %>%\n",
        "    summarise(sum_amount = sum(amount), .groups = \"drop\") %>%\n",
        "    mutate(pct_group = case_when(\n",
        "        sum_amount < quantile(sum_amount)[2]  ~ \"1\",\n",
        "        sum_amount < quantile(sum_amount)[3]  ~ \"2\",\n",
        "        sum_amount < quantile(sum_amount)[4]  ~ \"3\",\n",
        "        quantile(sum_amount)[4] <= sum_amount ~ \"4\"\n",
        "    )) %>%\n",
        "    slice(1:10)"
      ]
    },
    {
      "cell_type": "markdown",
      "metadata": {
        "id": "OmkFLnPVBJik"
      },
      "source": [
        "---\n",
        "> R-056: 고객 데이터(df_customer)의 나이(age)를 기준으로 10세 단위로 연령을 계산하여 고객 ID(customer_id), 생년월일(birth_day)과 함께 10건씩 표시한다. 단, 60세 이상은 모두 60대 이상으로 한다. 연령을 나타내는 카테고리 명칭은 임의대로 한다."
      ]
    },
    {
      "cell_type": "code",
      "execution_count": null,
      "metadata": {
        "id": "-St6fbMSBJik",
        "outputId": "9f156611-5765-4f61-93a4-5f555638d14a"
      },
      "outputs": [
        {
          "data": {
            "text/html": [
              "<table class=\"dataframe\">\n",
              "<caption>A data.frame: 10 × 4</caption>\n",
              "<thead>\n",
              "\t<tr><th scope=col>customer_id</th><th scope=col>birth_day</th><th scope=col>age</th><th scope=col>era</th></tr>\n",
              "\t<tr><th scope=col>&lt;chr&gt;</th><th scope=col>&lt;date&gt;</th><th scope=col>&lt;int&gt;</th><th scope=col>&lt;dbl&gt;</th></tr>\n",
              "</thead>\n",
              "<tbody>\n",
              "\t<tr><td>CS021313000114</td><td>1981-04-29</td><td>37</td><td>30</td></tr>\n",
              "\t<tr><td>CS037613000071</td><td>1952-04-01</td><td>66</td><td>60</td></tr>\n",
              "\t<tr><td>CS031415000172</td><td>1976-10-04</td><td>42</td><td>40</td></tr>\n",
              "\t<tr><td>CS028811000001</td><td>1933-03-27</td><td>86</td><td>60</td></tr>\n",
              "\t<tr><td>CS001215000145</td><td>1995-03-29</td><td>24</td><td>20</td></tr>\n",
              "\t<tr><td>CS020401000016</td><td>1974-09-15</td><td>44</td><td>40</td></tr>\n",
              "\t<tr><td>CS015414000103</td><td>1977-08-09</td><td>41</td><td>40</td></tr>\n",
              "\t<tr><td>CS029403000008</td><td>1973-08-17</td><td>45</td><td>40</td></tr>\n",
              "\t<tr><td>CS015804000004</td><td>1931-05-02</td><td>87</td><td>60</td></tr>\n",
              "\t<tr><td>CS033513000180</td><td>1962-07-11</td><td>56</td><td>50</td></tr>\n",
              "</tbody>\n",
              "</table>\n"
            ],
            "text/latex": [
              "A data.frame: 10 × 4\n",
              "\\begin{tabular}{llll}\n",
              " customer\\_id & birth\\_day & age & era\\\\\n",
              " <chr> & <date> & <int> & <dbl>\\\\\n",
              "\\hline\n",
              "\t CS021313000114 & 1981-04-29 & 37 & 30\\\\\n",
              "\t CS037613000071 & 1952-04-01 & 66 & 60\\\\\n",
              "\t CS031415000172 & 1976-10-04 & 42 & 40\\\\\n",
              "\t CS028811000001 & 1933-03-27 & 86 & 60\\\\\n",
              "\t CS001215000145 & 1995-03-29 & 24 & 20\\\\\n",
              "\t CS020401000016 & 1974-09-15 & 44 & 40\\\\\n",
              "\t CS015414000103 & 1977-08-09 & 41 & 40\\\\\n",
              "\t CS029403000008 & 1973-08-17 & 45 & 40\\\\\n",
              "\t CS015804000004 & 1931-05-02 & 87 & 60\\\\\n",
              "\t CS033513000180 & 1962-07-11 & 56 & 50\\\\\n",
              "\\end{tabular}\n"
            ],
            "text/markdown": [
              "\n",
              "A data.frame: 10 × 4\n",
              "\n",
              "| customer_id &lt;chr&gt; | birth_day &lt;date&gt; | age &lt;int&gt; | era &lt;dbl&gt; |\n",
              "|---|---|---|---|\n",
              "| CS021313000114 | 1981-04-29 | 37 | 30 |\n",
              "| CS037613000071 | 1952-04-01 | 66 | 60 |\n",
              "| CS031415000172 | 1976-10-04 | 42 | 40 |\n",
              "| CS028811000001 | 1933-03-27 | 86 | 60 |\n",
              "| CS001215000145 | 1995-03-29 | 24 | 20 |\n",
              "| CS020401000016 | 1974-09-15 | 44 | 40 |\n",
              "| CS015414000103 | 1977-08-09 | 41 | 40 |\n",
              "| CS029403000008 | 1973-08-17 | 45 | 40 |\n",
              "| CS015804000004 | 1931-05-02 | 87 | 60 |\n",
              "| CS033513000180 | 1962-07-11 | 56 | 50 |\n",
              "\n"
            ],
            "text/plain": [
              "   customer_id    birth_day  age era\n",
              "1  CS021313000114 1981-04-29 37  30 \n",
              "2  CS037613000071 1952-04-01 66  60 \n",
              "3  CS031415000172 1976-10-04 42  40 \n",
              "4  CS028811000001 1933-03-27 86  60 \n",
              "5  CS001215000145 1995-03-29 24  20 \n",
              "6  CS020401000016 1974-09-15 44  40 \n",
              "7  CS015414000103 1977-08-09 41  40 \n",
              "8  CS029403000008 1973-08-17 45  40 \n",
              "9  CS015804000004 1931-05-02 87  60 \n",
              "10 CS033513000180 1962-07-11 56  50 "
            ]
          },
          "metadata": {},
          "output_type": "display_data"
        }
      ],
      "source": [
        "# 코드 예시 1\n",
        "\n",
        "df_customer[c(\"customer_id\", \"birth_day\", \"age\")] %>%\n",
        "    mutate(era = trunc(age / 10) * 10) %>%\n",
        "    mutate(era = case_when(\n",
        "        era < 60 ~ era,\n",
        "        era >= 60 ~　60\n",
        "    )) %>%\n",
        "    slice(1:10)"
      ]
    },
    {
      "cell_type": "code",
      "execution_count": null,
      "metadata": {
        "id": "aDIrfFMABJik",
        "outputId": "922326cb-461e-4d00-f8e2-a6e028fead0c"
      },
      "outputs": [
        {
          "data": {
            "text/html": [
              "<table class=\"dataframe\">\n",
              "<caption>A data.frame: 10 × 4</caption>\n",
              "<thead>\n",
              "\t<tr><th scope=col>customer_id</th><th scope=col>birth_day</th><th scope=col>age</th><th scope=col>era</th></tr>\n",
              "\t<tr><th scope=col>&lt;chr&gt;</th><th scope=col>&lt;date&gt;</th><th scope=col>&lt;int&gt;</th><th scope=col>&lt;dbl&gt;</th></tr>\n",
              "</thead>\n",
              "<tbody>\n",
              "\t<tr><td>CS021313000114</td><td>1981-04-29</td><td>37</td><td>30</td></tr>\n",
              "\t<tr><td>CS037613000071</td><td>1952-04-01</td><td>66</td><td>60</td></tr>\n",
              "\t<tr><td>CS031415000172</td><td>1976-10-04</td><td>42</td><td>40</td></tr>\n",
              "\t<tr><td>CS028811000001</td><td>1933-03-27</td><td>86</td><td>60</td></tr>\n",
              "\t<tr><td>CS001215000145</td><td>1995-03-29</td><td>24</td><td>20</td></tr>\n",
              "\t<tr><td>CS020401000016</td><td>1974-09-15</td><td>44</td><td>40</td></tr>\n",
              "\t<tr><td>CS015414000103</td><td>1977-08-09</td><td>41</td><td>40</td></tr>\n",
              "\t<tr><td>CS029403000008</td><td>1973-08-17</td><td>45</td><td>40</td></tr>\n",
              "\t<tr><td>CS015804000004</td><td>1931-05-02</td><td>87</td><td>60</td></tr>\n",
              "\t<tr><td>CS033513000180</td><td>1962-07-11</td><td>56</td><td>50</td></tr>\n",
              "</tbody>\n",
              "</table>\n"
            ],
            "text/latex": [
              "A data.frame: 10 × 4\n",
              "\\begin{tabular}{llll}\n",
              " customer\\_id & birth\\_day & age & era\\\\\n",
              " <chr> & <date> & <int> & <dbl>\\\\\n",
              "\\hline\n",
              "\t CS021313000114 & 1981-04-29 & 37 & 30\\\\\n",
              "\t CS037613000071 & 1952-04-01 & 66 & 60\\\\\n",
              "\t CS031415000172 & 1976-10-04 & 42 & 40\\\\\n",
              "\t CS028811000001 & 1933-03-27 & 86 & 60\\\\\n",
              "\t CS001215000145 & 1995-03-29 & 24 & 20\\\\\n",
              "\t CS020401000016 & 1974-09-15 & 44 & 40\\\\\n",
              "\t CS015414000103 & 1977-08-09 & 41 & 40\\\\\n",
              "\t CS029403000008 & 1973-08-17 & 45 & 40\\\\\n",
              "\t CS015804000004 & 1931-05-02 & 87 & 60\\\\\n",
              "\t CS033513000180 & 1962-07-11 & 56 & 50\\\\\n",
              "\\end{tabular}\n"
            ],
            "text/markdown": [
              "\n",
              "A data.frame: 10 × 4\n",
              "\n",
              "| customer_id &lt;chr&gt; | birth_day &lt;date&gt; | age &lt;int&gt; | era &lt;dbl&gt; |\n",
              "|---|---|---|---|\n",
              "| CS021313000114 | 1981-04-29 | 37 | 30 |\n",
              "| CS037613000071 | 1952-04-01 | 66 | 60 |\n",
              "| CS031415000172 | 1976-10-04 | 42 | 40 |\n",
              "| CS028811000001 | 1933-03-27 | 86 | 60 |\n",
              "| CS001215000145 | 1995-03-29 | 24 | 20 |\n",
              "| CS020401000016 | 1974-09-15 | 44 | 40 |\n",
              "| CS015414000103 | 1977-08-09 | 41 | 40 |\n",
              "| CS029403000008 | 1973-08-17 | 45 | 40 |\n",
              "| CS015804000004 | 1931-05-02 | 87 | 60 |\n",
              "| CS033513000180 | 1962-07-11 | 56 | 50 |\n",
              "\n"
            ],
            "text/plain": [
              "   customer_id    birth_day  age era\n",
              "1  CS021313000114 1981-04-29 37  30 \n",
              "2  CS037613000071 1952-04-01 66  60 \n",
              "3  CS031415000172 1976-10-04 42  40 \n",
              "4  CS028811000001 1933-03-27 86  60 \n",
              "5  CS001215000145 1995-03-29 24  20 \n",
              "6  CS020401000016 1974-09-15 44  40 \n",
              "7  CS015414000103 1977-08-09 41  40 \n",
              "8  CS029403000008 1973-08-17 45  40 \n",
              "9  CS015804000004 1931-05-02 87  60 \n",
              "10 CS033513000180 1962-07-11 56  50 "
            ]
          },
          "metadata": {},
          "output_type": "display_data"
        }
      ],
      "source": [
        "# 코드 예제 2(min 사용 시)\n",
        "\n",
        "df_customer[c(\"customer_id\", \"birth_day\",\"age\")] %>%\n",
        "    mutate(era = sapply(1:nrow(df_customer), \n",
        "                function(x){\n",
        "                    return (min(trunc(.[x, 3] / 10) * 10, 60))\n",
        "                })) %>%\n",
        "    slice(1:10)"
      ]
    },
    {
      "cell_type": "markdown",
      "metadata": {
        "id": "yP4m-UajBJik"
      },
      "source": [
        "---\n",
        "> R-057: 056의 추출 결과와 성별 코드(gender_cd)에 따라 성별×연령의 조합을 나타내는 카테고리 데이터를 새로 만들어 10개를 표시하라. 조합을 나타내는 카테고리의 값은 임의로 정한다."
      ]
    },
    {
      "cell_type": "code",
      "execution_count": null,
      "metadata": {
        "id": "hUnlomBhBJik",
        "outputId": "59ae2c08-f829-4a05-9bf6-d0e9e387916f"
      },
      "outputs": [
        {
          "data": {
            "text/html": [
              "<table class=\"dataframe\">\n",
              "<caption>A data.frame: 10 × 6</caption>\n",
              "<thead>\n",
              "\t<tr><th scope=col>customer_id</th><th scope=col>gender_cd</th><th scope=col>birth_day</th><th scope=col>age</th><th scope=col>era</th><th scope=col>gender_era</th></tr>\n",
              "\t<tr><th scope=col>&lt;chr&gt;</th><th scope=col>&lt;chr&gt;</th><th scope=col>&lt;date&gt;</th><th scope=col>&lt;int&gt;</th><th scope=col>&lt;chr&gt;</th><th scope=col>&lt;chr&gt;</th></tr>\n",
              "</thead>\n",
              "<tbody>\n",
              "\t<tr><td>CS021313000114</td><td>1</td><td>1981-04-29</td><td>37</td><td>30</td><td>130</td></tr>\n",
              "\t<tr><td>CS037613000071</td><td>9</td><td>1952-04-01</td><td>66</td><td>60</td><td>960</td></tr>\n",
              "\t<tr><td>CS031415000172</td><td>1</td><td>1976-10-04</td><td>42</td><td>40</td><td>140</td></tr>\n",
              "\t<tr><td>CS028811000001</td><td>1</td><td>1933-03-27</td><td>86</td><td>60</td><td>160</td></tr>\n",
              "\t<tr><td>CS001215000145</td><td>1</td><td>1995-03-29</td><td>24</td><td>20</td><td>120</td></tr>\n",
              "\t<tr><td>CS020401000016</td><td>0</td><td>1974-09-15</td><td>44</td><td>40</td><td>040</td></tr>\n",
              "\t<tr><td>CS015414000103</td><td>1</td><td>1977-08-09</td><td>41</td><td>40</td><td>140</td></tr>\n",
              "\t<tr><td>CS029403000008</td><td>0</td><td>1973-08-17</td><td>45</td><td>40</td><td>040</td></tr>\n",
              "\t<tr><td>CS015804000004</td><td>0</td><td>1931-05-02</td><td>87</td><td>60</td><td>060</td></tr>\n",
              "\t<tr><td>CS033513000180</td><td>1</td><td>1962-07-11</td><td>56</td><td>50</td><td>150</td></tr>\n",
              "</tbody>\n",
              "</table>\n"
            ],
            "text/latex": [
              "A data.frame: 10 × 6\n",
              "\\begin{tabular}{llllll}\n",
              " customer\\_id & gender\\_cd & birth\\_day & age & era & gender\\_era\\\\\n",
              " <chr> & <chr> & <date> & <int> & <chr> & <chr>\\\\\n",
              "\\hline\n",
              "\t CS021313000114 & 1 & 1981-04-29 & 37 & 30 & 130\\\\\n",
              "\t CS037613000071 & 9 & 1952-04-01 & 66 & 60 & 960\\\\\n",
              "\t CS031415000172 & 1 & 1976-10-04 & 42 & 40 & 140\\\\\n",
              "\t CS028811000001 & 1 & 1933-03-27 & 86 & 60 & 160\\\\\n",
              "\t CS001215000145 & 1 & 1995-03-29 & 24 & 20 & 120\\\\\n",
              "\t CS020401000016 & 0 & 1974-09-15 & 44 & 40 & 040\\\\\n",
              "\t CS015414000103 & 1 & 1977-08-09 & 41 & 40 & 140\\\\\n",
              "\t CS029403000008 & 0 & 1973-08-17 & 45 & 40 & 040\\\\\n",
              "\t CS015804000004 & 0 & 1931-05-02 & 87 & 60 & 060\\\\\n",
              "\t CS033513000180 & 1 & 1962-07-11 & 56 & 50 & 150\\\\\n",
              "\\end{tabular}\n"
            ],
            "text/markdown": [
              "\n",
              "A data.frame: 10 × 6\n",
              "\n",
              "| customer_id &lt;chr&gt; | gender_cd &lt;chr&gt; | birth_day &lt;date&gt; | age &lt;int&gt; | era &lt;chr&gt; | gender_era &lt;chr&gt; |\n",
              "|---|---|---|---|---|---|\n",
              "| CS021313000114 | 1 | 1981-04-29 | 37 | 30 | 130 |\n",
              "| CS037613000071 | 9 | 1952-04-01 | 66 | 60 | 960 |\n",
              "| CS031415000172 | 1 | 1976-10-04 | 42 | 40 | 140 |\n",
              "| CS028811000001 | 1 | 1933-03-27 | 86 | 60 | 160 |\n",
              "| CS001215000145 | 1 | 1995-03-29 | 24 | 20 | 120 |\n",
              "| CS020401000016 | 0 | 1974-09-15 | 44 | 40 | 040 |\n",
              "| CS015414000103 | 1 | 1977-08-09 | 41 | 40 | 140 |\n",
              "| CS029403000008 | 0 | 1973-08-17 | 45 | 40 | 040 |\n",
              "| CS015804000004 | 0 | 1931-05-02 | 87 | 60 | 060 |\n",
              "| CS033513000180 | 1 | 1962-07-11 | 56 | 50 | 150 |\n",
              "\n"
            ],
            "text/plain": [
              "   customer_id    gender_cd birth_day  age era gender_era\n",
              "1  CS021313000114 1         1981-04-29 37  30  130       \n",
              "2  CS037613000071 9         1952-04-01 66  60  960       \n",
              "3  CS031415000172 1         1976-10-04 42  40  140       \n",
              "4  CS028811000001 1         1933-03-27 86  60  160       \n",
              "5  CS001215000145 1         1995-03-29 24  20  120       \n",
              "6  CS020401000016 0         1974-09-15 44  40  040       \n",
              "7  CS015414000103 1         1977-08-09 41  40  140       \n",
              "8  CS029403000008 0         1973-08-17 45  40  040       \n",
              "9  CS015804000004 0         1931-05-02 87  60  060       \n",
              "10 CS033513000180 1         1962-07-11 56  50  150       "
            ]
          },
          "metadata": {},
          "output_type": "display_data"
        }
      ],
      "source": [
        "# 성별 코드 1자리와 연대 코드 2자리를 연결한 성연령 코드를 생성한다.\n",
        "\n",
        "df_customer[c(\"customer_id\", \"gender_cd\", \"birth_day\", \"age\")] %>%\n",
        "    mutate(era = trunc(age / 10) * 10) %>%\n",
        "    mutate(era = case_when(\n",
        "        era < 60 ~ formatC(era, width = 2,flag = \"0\"),\n",
        "        era >= 60 ~　formatC(60, width = 2,flag = \"0\"))) %>%\n",
        "    mutate(gender_era = paste(gender_cd, era, sep = \"\")) %>%\n",
        "    slice(1:10)"
      ]
    },
    {
      "cell_type": "markdown",
      "metadata": {
        "id": "6YqXj291BJik"
      },
      "source": [
        "---\n",
        "> R-058: 고객 데이터(df_customer)의 성별 코드(gender_cd)를 더미 변수로 만들어 고객 ID(customer_id)와 함께 10건 표시하라."
      ]
    },
    {
      "cell_type": "code",
      "execution_count": null,
      "metadata": {
        "id": "DJE-h1YsBJik",
        "outputId": "c279aeff-6b92-46a4-c2f8-b80d736074e9"
      },
      "outputs": [
        {
          "data": {
            "text/html": [
              "<table class=\"dataframe\">\n",
              "<caption>A data.frame: 10 × 4</caption>\n",
              "<thead>\n",
              "\t<tr><th></th><th scope=col>customer_id</th><th scope=col>gender_cd0</th><th scope=col>gender_cd1</th><th scope=col>gender_cd9</th></tr>\n",
              "\t<tr><th></th><th scope=col>&lt;chr&gt;</th><th scope=col>&lt;dbl&gt;</th><th scope=col>&lt;dbl&gt;</th><th scope=col>&lt;dbl&gt;</th></tr>\n",
              "</thead>\n",
              "<tbody>\n",
              "\t<tr><th scope=row>1</th><td>CS021313000114</td><td>0</td><td>1</td><td>0</td></tr>\n",
              "\t<tr><th scope=row>2</th><td>CS037613000071</td><td>0</td><td>0</td><td>1</td></tr>\n",
              "\t<tr><th scope=row>3</th><td>CS031415000172</td><td>0</td><td>1</td><td>0</td></tr>\n",
              "\t<tr><th scope=row>4</th><td>CS028811000001</td><td>0</td><td>1</td><td>0</td></tr>\n",
              "\t<tr><th scope=row>5</th><td>CS001215000145</td><td>0</td><td>1</td><td>0</td></tr>\n",
              "\t<tr><th scope=row>6</th><td>CS020401000016</td><td>1</td><td>0</td><td>0</td></tr>\n",
              "\t<tr><th scope=row>7</th><td>CS015414000103</td><td>0</td><td>1</td><td>0</td></tr>\n",
              "\t<tr><th scope=row>8</th><td>CS029403000008</td><td>1</td><td>0</td><td>0</td></tr>\n",
              "\t<tr><th scope=row>9</th><td>CS015804000004</td><td>1</td><td>0</td><td>0</td></tr>\n",
              "\t<tr><th scope=row>10</th><td>CS033513000180</td><td>0</td><td>1</td><td>0</td></tr>\n",
              "</tbody>\n",
              "</table>\n"
            ],
            "text/latex": [
              "A data.frame: 10 × 4\n",
              "\\begin{tabular}{r|llll}\n",
              "  & customer\\_id & gender\\_cd0 & gender\\_cd1 & gender\\_cd9\\\\\n",
              "  & <chr> & <dbl> & <dbl> & <dbl>\\\\\n",
              "\\hline\n",
              "\t1 & CS021313000114 & 0 & 1 & 0\\\\\n",
              "\t2 & CS037613000071 & 0 & 0 & 1\\\\\n",
              "\t3 & CS031415000172 & 0 & 1 & 0\\\\\n",
              "\t4 & CS028811000001 & 0 & 1 & 0\\\\\n",
              "\t5 & CS001215000145 & 0 & 1 & 0\\\\\n",
              "\t6 & CS020401000016 & 1 & 0 & 0\\\\\n",
              "\t7 & CS015414000103 & 0 & 1 & 0\\\\\n",
              "\t8 & CS029403000008 & 1 & 0 & 0\\\\\n",
              "\t9 & CS015804000004 & 1 & 0 & 0\\\\\n",
              "\t10 & CS033513000180 & 0 & 1 & 0\\\\\n",
              "\\end{tabular}\n"
            ],
            "text/markdown": [
              "\n",
              "A data.frame: 10 × 4\n",
              "\n",
              "| <!--/--> | customer_id &lt;chr&gt; | gender_cd0 &lt;dbl&gt; | gender_cd1 &lt;dbl&gt; | gender_cd9 &lt;dbl&gt; |\n",
              "|---|---|---|---|---|\n",
              "| 1 | CS021313000114 | 0 | 1 | 0 |\n",
              "| 2 | CS037613000071 | 0 | 0 | 1 |\n",
              "| 3 | CS031415000172 | 0 | 1 | 0 |\n",
              "| 4 | CS028811000001 | 0 | 1 | 0 |\n",
              "| 5 | CS001215000145 | 0 | 1 | 0 |\n",
              "| 6 | CS020401000016 | 1 | 0 | 0 |\n",
              "| 7 | CS015414000103 | 0 | 1 | 0 |\n",
              "| 8 | CS029403000008 | 1 | 0 | 0 |\n",
              "| 9 | CS015804000004 | 1 | 0 | 0 |\n",
              "| 10 | CS033513000180 | 0 | 1 | 0 |\n",
              "\n"
            ],
            "text/plain": [
              "   customer_id    gender_cd0 gender_cd1 gender_cd9\n",
              "1  CS021313000114 0          1          0         \n",
              "2  CS037613000071 0          0          1         \n",
              "3  CS031415000172 0          1          0         \n",
              "4  CS028811000001 0          1          0         \n",
              "5  CS001215000145 0          1          0         \n",
              "6  CS020401000016 1          0          0         \n",
              "7  CS015414000103 0          1          0         \n",
              "8  CS029403000008 1          0          0         \n",
              "9  CS015804000004 1          0          0         \n",
              "10 CS033513000180 0          1          0         "
            ]
          },
          "metadata": {},
          "output_type": "display_data"
        }
      ],
      "source": [
        "# 코드 예시 1 (모든 코드 값을 항목화)\n",
        "dummy_gender_model <- dummyVars(~gender_cd, \n",
        "                                data = df_customer, fullRank = FALSE)\n",
        "\n",
        "dummy_gender <- predict(dummy_gender_model, df_customer)\n",
        "\n",
        "head(cbind(df_customer[\"customer_id\"], dummy_gender), 10)"
      ]
    },
    {
      "cell_type": "code",
      "execution_count": null,
      "metadata": {
        "id": "N637EEI0BJik",
        "outputId": "1db19efd-8415-4e7c-8d51-19dc0653fb24"
      },
      "outputs": [
        {
          "data": {
            "text/html": [
              "<table class=\"dataframe\">\n",
              "<caption>A data.frame: 3 × 3</caption>\n",
              "<thead>\n",
              "\t<tr><th></th><th scope=col>customer_id</th><th scope=col>gender_cd1</th><th scope=col>gender_cd9</th></tr>\n",
              "\t<tr><th></th><th scope=col>&lt;chr&gt;</th><th scope=col>&lt;dbl&gt;</th><th scope=col>&lt;dbl&gt;</th></tr>\n",
              "</thead>\n",
              "<tbody>\n",
              "\t<tr><th scope=row>1</th><td>CS021313000114</td><td>1</td><td>0</td></tr>\n",
              "\t<tr><th scope=row>2</th><td>CS037613000071</td><td>0</td><td>1</td></tr>\n",
              "\t<tr><th scope=row>3</th><td>CS031415000172</td><td>1</td><td>0</td></tr>\n",
              "</tbody>\n",
              "</table>\n"
            ],
            "text/latex": [
              "A data.frame: 3 × 3\n",
              "\\begin{tabular}{r|lll}\n",
              "  & customer\\_id & gender\\_cd1 & gender\\_cd9\\\\\n",
              "  & <chr> & <dbl> & <dbl>\\\\\n",
              "\\hline\n",
              "\t1 & CS021313000114 & 1 & 0\\\\\n",
              "\t2 & CS037613000071 & 0 & 1\\\\\n",
              "\t3 & CS031415000172 & 1 & 0\\\\\n",
              "\\end{tabular}\n"
            ],
            "text/markdown": [
              "\n",
              "A data.frame: 3 × 3\n",
              "\n",
              "| <!--/--> | customer_id &lt;chr&gt; | gender_cd1 &lt;dbl&gt; | gender_cd9 &lt;dbl&gt; |\n",
              "|---|---|---|---|\n",
              "| 1 | CS021313000114 | 1 | 0 |\n",
              "| 2 | CS037613000071 | 0 | 1 |\n",
              "| 3 | CS031415000172 | 1 | 0 |\n",
              "\n"
            ],
            "text/plain": [
              "  customer_id    gender_cd1 gender_cd9\n",
              "1 CS021313000114 1          0         \n",
              "2 CS037613000071 0          1         \n",
              "3 CS031415000172 1          0         "
            ]
          },
          "metadata": {},
          "output_type": "display_data"
        }
      ],
      "source": [
        "# 코드 예시 2 (fullRank=TRUE로 설정하여 항목을 하나 깎을 수 있음)\n",
        "dummy_gender_model <- dummyVars(~gender_cd, \n",
        "                                data = df_customer, fullRank = TRUE)\n",
        "\n",
        "dummy_gender <- predict(dummy_gender_model, df_customer)\n",
        "\n",
        "head(cbind(df_customer[\"customer_id\"], dummy_gender), 3)"
      ]
    },
    {
      "cell_type": "markdown",
      "metadata": {
        "id": "6X5QOrCgBJik"
      },
      "source": [
        "---\n",
        "> R-059: 영수증 내역 데이터(df_receipt)의 매출 금액(amount)을 고객 ID(customer_id)별로 합산하고, 매출 금액 합계를 평균 0, 표준편차 1로 표준화하여 고객 ID, 매출 금액 합계와 함께 10건씩 표시하라. 표준화에 사용하는 표준편차는 분산 제곱근 또는 불균형 분산 제곱근 중 어느 것이든 상관없다. 단, 고객 ID가 \"Z\"로 시작하는 것은 비회원을 의미하므로 제외하여 계산한다."
      ]
    },
    {
      "cell_type": "code",
      "execution_count": null,
      "metadata": {
        "id": "USQwNeylBJik",
        "outputId": "dc9d4f72-1f05-4c44-a126-1fe7da38a0a6"
      },
      "outputs": [
        {
          "data": {
            "text/html": [
              "<table class=\"dataframe\">\n",
              "<caption>A tibble: 10 × 3</caption>\n",
              "<thead>\n",
              "\t<tr><th scope=col>customer_id</th><th scope=col>sum_amount</th><th scope=col>std_amount</th></tr>\n",
              "\t<tr><th scope=col>&lt;chr&gt;</th><th scope=col>&lt;int&gt;</th><th scope=col>&lt;dbl[,1]&gt;</th></tr>\n",
              "</thead>\n",
              "<tbody>\n",
              "\t<tr><td>CS001113000004</td><td>1298</td><td>-0.4593502</td></tr>\n",
              "\t<tr><td>CS001114000005</td><td> 626</td><td>-0.7063478</td></tr>\n",
              "\t<tr><td>CS001115000010</td><td>3044</td><td> 0.1824025</td></tr>\n",
              "\t<tr><td>CS001205000004</td><td>1988</td><td>-0.2057366</td></tr>\n",
              "\t<tr><td>CS001205000006</td><td>3337</td><td> 0.2900964</td></tr>\n",
              "\t<tr><td>CS001211000025</td><td> 456</td><td>-0.7688324</td></tr>\n",
              "\t<tr><td>CS001212000027</td><td> 448</td><td>-0.7717728</td></tr>\n",
              "\t<tr><td>CS001212000031</td><td> 296</td><td>-0.8276413</td></tr>\n",
              "\t<tr><td>CS001212000046</td><td> 228</td><td>-0.8526351</td></tr>\n",
              "\t<tr><td>CS001212000070</td><td> 456</td><td>-0.7688324</td></tr>\n",
              "</tbody>\n",
              "</table>\n"
            ],
            "text/latex": [
              "A tibble: 10 × 3\n",
              "\\begin{tabular}{lll}\n",
              " customer\\_id & sum\\_amount & std\\_amount\\\\\n",
              " <chr> & <int> & <dbl{[},1{]}>\\\\\n",
              "\\hline\n",
              "\t CS001113000004 & 1298 & -0.4593502\\\\\n",
              "\t CS001114000005 &  626 & -0.7063478\\\\\n",
              "\t CS001115000010 & 3044 &  0.1824025\\\\\n",
              "\t CS001205000004 & 1988 & -0.2057366\\\\\n",
              "\t CS001205000006 & 3337 &  0.2900964\\\\\n",
              "\t CS001211000025 &  456 & -0.7688324\\\\\n",
              "\t CS001212000027 &  448 & -0.7717728\\\\\n",
              "\t CS001212000031 &  296 & -0.8276413\\\\\n",
              "\t CS001212000046 &  228 & -0.8526351\\\\\n",
              "\t CS001212000070 &  456 & -0.7688324\\\\\n",
              "\\end{tabular}\n"
            ],
            "text/markdown": [
              "\n",
              "A tibble: 10 × 3\n",
              "\n",
              "| customer_id &lt;chr&gt; | sum_amount &lt;int&gt; | std_amount &lt;dbl[,1]&gt; |\n",
              "|---|---|---|\n",
              "| CS001113000004 | 1298 | -0.4593502 |\n",
              "| CS001114000005 |  626 | -0.7063478 |\n",
              "| CS001115000010 | 3044 |  0.1824025 |\n",
              "| CS001205000004 | 1988 | -0.2057366 |\n",
              "| CS001205000006 | 3337 |  0.2900964 |\n",
              "| CS001211000025 |  456 | -0.7688324 |\n",
              "| CS001212000027 |  448 | -0.7717728 |\n",
              "| CS001212000031 |  296 | -0.8276413 |\n",
              "| CS001212000046 |  228 | -0.8526351 |\n",
              "| CS001212000070 |  456 | -0.7688324 |\n",
              "\n"
            ],
            "text/plain": [
              "   customer_id    sum_amount std_amount\n",
              "1  CS001113000004 1298       -0.4593502\n",
              "2  CS001114000005  626       -0.7063478\n",
              "3  CS001115000010 3044        0.1824025\n",
              "4  CS001205000004 1988       -0.2057366\n",
              "5  CS001205000006 3337        0.2900964\n",
              "6  CS001211000025  456       -0.7688324\n",
              "7  CS001212000027  448       -0.7717728\n",
              "8  CS001212000031  296       -0.8276413\n",
              "9  CS001212000046  228       -0.8526351\n",
              "10 CS001212000070  456       -0.7688324"
            ]
          },
          "metadata": {},
          "output_type": "display_data"
        }
      ],
      "source": [
        "# R의 scale을 사용하기 때문에 불균등분산의 제곱근에 의한 표준편차로 표준화됨\n",
        "df_receipt %>%\n",
        "    filter(!grepl(\"^Z\", customer_id)) %>%\n",
        "    group_by(customer_id) %>%\n",
        "    summarise(sum_amount = sum(amount), .groups = \"drop\") %>%\n",
        "    mutate(std_amount = scale(sum_amount, \n",
        "                              center = TRUE, scale = TRUE)) %>%\n",
        "    slice(1:10)"
      ]
    },
    {
      "cell_type": "markdown",
      "metadata": {
        "id": "lGW1IRYEBJil"
      },
      "source": [
        "---\n",
        "> R-060: 영수증 내역 데이터(df_receipt)의 매출 금액(amount)을 고객 ID(customer_id)별로 합산하여 매출 금액 합계를 최소값 0, 최대값 1로 정규화하여 고객 ID, 매출 금액 합계와 함께 10건씩 표시한다. 단, 고객 ID가 \"Z\"로 시작하는 것은 비회원을 의미하므로 제외하여 계산한다."
      ]
    },
    {
      "cell_type": "code",
      "execution_count": null,
      "metadata": {
        "id": "7LZxM3BVBJil",
        "outputId": "1473e1e1-b03e-42a0-d142-8ceaddf7d5d9"
      },
      "outputs": [
        {
          "data": {
            "text/html": [
              "<table class=\"dataframe\">\n",
              "<caption>A tibble: 10 × 3</caption>\n",
              "<thead>\n",
              "\t<tr><th scope=col>customer_id</th><th scope=col>sum_amount</th><th scope=col>scale_amount</th></tr>\n",
              "\t<tr><th scope=col>&lt;chr&gt;</th><th scope=col>&lt;int&gt;</th><th scope=col>&lt;dbl[,1]&gt;</th></tr>\n",
              "</thead>\n",
              "<tbody>\n",
              "\t<tr><td>CS001113000004</td><td>1298</td><td>0.053354188</td></tr>\n",
              "\t<tr><td>CS001114000005</td><td> 626</td><td>0.024157108</td></tr>\n",
              "\t<tr><td>CS001115000010</td><td>3044</td><td>0.129214460</td></tr>\n",
              "\t<tr><td>CS001205000004</td><td>1988</td><td>0.083333333</td></tr>\n",
              "\t<tr><td>CS001205000006</td><td>3337</td><td>0.141944734</td></tr>\n",
              "\t<tr><td>CS001211000025</td><td> 456</td><td>0.016770942</td></tr>\n",
              "\t<tr><td>CS001212000027</td><td> 448</td><td>0.016423358</td></tr>\n",
              "\t<tr><td>CS001212000031</td><td> 296</td><td>0.009819256</td></tr>\n",
              "\t<tr><td>CS001212000046</td><td> 228</td><td>0.006864790</td></tr>\n",
              "\t<tr><td>CS001212000070</td><td> 456</td><td>0.016770942</td></tr>\n",
              "</tbody>\n",
              "</table>\n"
            ],
            "text/latex": [
              "A tibble: 10 × 3\n",
              "\\begin{tabular}{lll}\n",
              " customer\\_id & sum\\_amount & scale\\_amount\\\\\n",
              " <chr> & <int> & <dbl{[},1{]}>\\\\\n",
              "\\hline\n",
              "\t CS001113000004 & 1298 & 0.053354188\\\\\n",
              "\t CS001114000005 &  626 & 0.024157108\\\\\n",
              "\t CS001115000010 & 3044 & 0.129214460\\\\\n",
              "\t CS001205000004 & 1988 & 0.083333333\\\\\n",
              "\t CS001205000006 & 3337 & 0.141944734\\\\\n",
              "\t CS001211000025 &  456 & 0.016770942\\\\\n",
              "\t CS001212000027 &  448 & 0.016423358\\\\\n",
              "\t CS001212000031 &  296 & 0.009819256\\\\\n",
              "\t CS001212000046 &  228 & 0.006864790\\\\\n",
              "\t CS001212000070 &  456 & 0.016770942\\\\\n",
              "\\end{tabular}\n"
            ],
            "text/markdown": [
              "\n",
              "A tibble: 10 × 3\n",
              "\n",
              "| customer_id &lt;chr&gt; | sum_amount &lt;int&gt; | scale_amount &lt;dbl[,1]&gt; |\n",
              "|---|---|---|\n",
              "| CS001113000004 | 1298 | 0.053354188 |\n",
              "| CS001114000005 |  626 | 0.024157108 |\n",
              "| CS001115000010 | 3044 | 0.129214460 |\n",
              "| CS001205000004 | 1988 | 0.083333333 |\n",
              "| CS001205000006 | 3337 | 0.141944734 |\n",
              "| CS001211000025 |  456 | 0.016770942 |\n",
              "| CS001212000027 |  448 | 0.016423358 |\n",
              "| CS001212000031 |  296 | 0.009819256 |\n",
              "| CS001212000046 |  228 | 0.006864790 |\n",
              "| CS001212000070 |  456 | 0.016770942 |\n",
              "\n"
            ],
            "text/plain": [
              "   customer_id    sum_amount scale_amount\n",
              "1  CS001113000004 1298       0.053354188 \n",
              "2  CS001114000005  626       0.024157108 \n",
              "3  CS001115000010 3044       0.129214460 \n",
              "4  CS001205000004 1988       0.083333333 \n",
              "5  CS001205000006 3337       0.141944734 \n",
              "6  CS001211000025  456       0.016770942 \n",
              "7  CS001212000027  448       0.016423358 \n",
              "8  CS001212000031  296       0.009819256 \n",
              "9  CS001212000046  228       0.006864790 \n",
              "10 CS001212000070  456       0.016770942 "
            ]
          },
          "metadata": {},
          "output_type": "display_data"
        }
      ],
      "source": [
        "df_receipt %>%\n",
        "    filter(!grepl(\"^Z\", customer_id)) %>%\n",
        "    group_by(customer_id) %>%\n",
        "    summarise(sum_amount = sum(amount), .groups = \"drop\") %>%\n",
        "    mutate(\n",
        "        scale_amount = scale(sum_amount, \n",
        "                             center = min(sum_amount), \n",
        "                             scale = max(sum_amount) - min(sum_amount)))%>%\n",
        "    slice(1:10)"
      ]
    },
    {
      "cell_type": "markdown",
      "metadata": {
        "id": "HbQXephfBJil"
      },
      "source": [
        "---\n",
        "> R-061: 영수증 내역 데이터(df_receipt)의 매출 금액(amount)을 고객 ID(customer_id)별로 합산하고, 매출 금액 합계를 상수 대수화(하단 10)하여 고객 ID, 매출 금액 합계와 함께 10건씩 표시한다. 단, 고객 ID가 \"Z\"로 시작하는 것은 비회원을 의미하므로 제외하여 계산한다."
      ]
    },
    {
      "cell_type": "code",
      "execution_count": null,
      "metadata": {
        "id": "3_jJe7r5BJil",
        "outputId": "9c163619-f40a-47d5-be6b-1267a6c9ba9a"
      },
      "outputs": [
        {
          "data": {
            "text/html": [
              "<table class=\"dataframe\">\n",
              "<caption>A tibble: 10 × 3</caption>\n",
              "<thead>\n",
              "\t<tr><th scope=col>customer_id</th><th scope=col>sum_amount</th><th scope=col>log_amount</th></tr>\n",
              "\t<tr><th scope=col>&lt;chr&gt;</th><th scope=col>&lt;int&gt;</th><th scope=col>&lt;dbl&gt;</th></tr>\n",
              "</thead>\n",
              "<tbody>\n",
              "\t<tr><td>CS001113000004</td><td>1298</td><td>3.113442</td></tr>\n",
              "\t<tr><td>CS001114000005</td><td> 626</td><td>2.796921</td></tr>\n",
              "\t<tr><td>CS001115000010</td><td>3044</td><td>3.483516</td></tr>\n",
              "\t<tr><td>CS001205000004</td><td>1988</td><td>3.298526</td></tr>\n",
              "\t<tr><td>CS001205000006</td><td>3337</td><td>3.523421</td></tr>\n",
              "\t<tr><td>CS001211000025</td><td> 456</td><td>2.659441</td></tr>\n",
              "\t<tr><td>CS001212000027</td><td> 448</td><td>2.651762</td></tr>\n",
              "\t<tr><td>CS001212000031</td><td> 296</td><td>2.472025</td></tr>\n",
              "\t<tr><td>CS001212000046</td><td> 228</td><td>2.358886</td></tr>\n",
              "\t<tr><td>CS001212000070</td><td> 456</td><td>2.659441</td></tr>\n",
              "</tbody>\n",
              "</table>\n"
            ],
            "text/latex": [
              "A tibble: 10 × 3\n",
              "\\begin{tabular}{lll}\n",
              " customer\\_id & sum\\_amount & log\\_amount\\\\\n",
              " <chr> & <int> & <dbl>\\\\\n",
              "\\hline\n",
              "\t CS001113000004 & 1298 & 3.113442\\\\\n",
              "\t CS001114000005 &  626 & 2.796921\\\\\n",
              "\t CS001115000010 & 3044 & 3.483516\\\\\n",
              "\t CS001205000004 & 1988 & 3.298526\\\\\n",
              "\t CS001205000006 & 3337 & 3.523421\\\\\n",
              "\t CS001211000025 &  456 & 2.659441\\\\\n",
              "\t CS001212000027 &  448 & 2.651762\\\\\n",
              "\t CS001212000031 &  296 & 2.472025\\\\\n",
              "\t CS001212000046 &  228 & 2.358886\\\\\n",
              "\t CS001212000070 &  456 & 2.659441\\\\\n",
              "\\end{tabular}\n"
            ],
            "text/markdown": [
              "\n",
              "A tibble: 10 × 3\n",
              "\n",
              "| customer_id &lt;chr&gt; | sum_amount &lt;int&gt; | log_amount &lt;dbl&gt; |\n",
              "|---|---|---|\n",
              "| CS001113000004 | 1298 | 3.113442 |\n",
              "| CS001114000005 |  626 | 2.796921 |\n",
              "| CS001115000010 | 3044 | 3.483516 |\n",
              "| CS001205000004 | 1988 | 3.298526 |\n",
              "| CS001205000006 | 3337 | 3.523421 |\n",
              "| CS001211000025 |  456 | 2.659441 |\n",
              "| CS001212000027 |  448 | 2.651762 |\n",
              "| CS001212000031 |  296 | 2.472025 |\n",
              "| CS001212000046 |  228 | 2.358886 |\n",
              "| CS001212000070 |  456 | 2.659441 |\n",
              "\n"
            ],
            "text/plain": [
              "   customer_id    sum_amount log_amount\n",
              "1  CS001113000004 1298       3.113442  \n",
              "2  CS001114000005  626       2.796921  \n",
              "3  CS001115000010 3044       3.483516  \n",
              "4  CS001205000004 1988       3.298526  \n",
              "5  CS001205000006 3337       3.523421  \n",
              "6  CS001211000025  456       2.659441  \n",
              "7  CS001212000027  448       2.651762  \n",
              "8  CS001212000031  296       2.472025  \n",
              "9  CS001212000046  228       2.358886  \n",
              "10 CS001212000070  456       2.659441  "
            ]
          },
          "metadata": {},
          "output_type": "display_data"
        }
      ],
      "source": [
        "df_receipt %>%\n",
        "    filter(!grepl(\"^Z\", customer_id)) %>%\n",
        "    group_by(customer_id) %>%\n",
        "    summarise(sum_amount = sum(amount), .groups = \"drop\") %>%\n",
        "    mutate(log_amount = log((sum_amount + 0.5), base = 10)) %>%\n",
        "    slice(1:10)"
      ]
    },
    {
      "cell_type": "markdown",
      "metadata": {
        "id": "OwozMMuUBJil"
      },
      "source": [
        "---\n",
        "> R-062: 영수증 내역 데이터(df_receipt)의 매출금액(amount)을 고객ID(customer_id)별로 합산하고, 매출금액 합계를 자연대수화(하단 e)하여 고객ID, 매출금액 합계와 함께 10건씩 표시한다. 단, 고객 ID가 \"Z\"로 시작하는 것은 비회원을 의미하므로 제외하여 계산한다."
      ]
    },
    {
      "cell_type": "code",
      "execution_count": null,
      "metadata": {
        "id": "zKe13ZIaBJil",
        "outputId": "573d081d-ba31-4e24-a368-abb6e4dcba77"
      },
      "outputs": [
        {
          "data": {
            "text/html": [
              "<table class=\"dataframe\">\n",
              "<caption>A tibble: 10 × 3</caption>\n",
              "<thead>\n",
              "\t<tr><th scope=col>customer_id</th><th scope=col>sum_amount</th><th scope=col>log_amount</th></tr>\n",
              "\t<tr><th scope=col>&lt;chr&gt;</th><th scope=col>&lt;int&gt;</th><th scope=col>&lt;dbl&gt;</th></tr>\n",
              "</thead>\n",
              "<tbody>\n",
              "\t<tr><td>CS001113000004</td><td>1298</td><td>7.168965</td></tr>\n",
              "\t<tr><td>CS001114000005</td><td> 626</td><td>6.440149</td></tr>\n",
              "\t<tr><td>CS001115000010</td><td>3044</td><td>8.021092</td></tr>\n",
              "\t<tr><td>CS001205000004</td><td>1988</td><td>7.595136</td></tr>\n",
              "\t<tr><td>CS001205000006</td><td>3337</td><td>8.112977</td></tr>\n",
              "\t<tr><td>CS001211000025</td><td> 456</td><td>6.123589</td></tr>\n",
              "\t<tr><td>CS001212000027</td><td> 448</td><td>6.105909</td></tr>\n",
              "\t<tr><td>CS001212000031</td><td> 296</td><td>5.692047</td></tr>\n",
              "\t<tr><td>CS001212000046</td><td> 228</td><td>5.431536</td></tr>\n",
              "\t<tr><td>CS001212000070</td><td> 456</td><td>6.123589</td></tr>\n",
              "</tbody>\n",
              "</table>\n"
            ],
            "text/latex": [
              "A tibble: 10 × 3\n",
              "\\begin{tabular}{lll}\n",
              " customer\\_id & sum\\_amount & log\\_amount\\\\\n",
              " <chr> & <int> & <dbl>\\\\\n",
              "\\hline\n",
              "\t CS001113000004 & 1298 & 7.168965\\\\\n",
              "\t CS001114000005 &  626 & 6.440149\\\\\n",
              "\t CS001115000010 & 3044 & 8.021092\\\\\n",
              "\t CS001205000004 & 1988 & 7.595136\\\\\n",
              "\t CS001205000006 & 3337 & 8.112977\\\\\n",
              "\t CS001211000025 &  456 & 6.123589\\\\\n",
              "\t CS001212000027 &  448 & 6.105909\\\\\n",
              "\t CS001212000031 &  296 & 5.692047\\\\\n",
              "\t CS001212000046 &  228 & 5.431536\\\\\n",
              "\t CS001212000070 &  456 & 6.123589\\\\\n",
              "\\end{tabular}\n"
            ],
            "text/markdown": [
              "\n",
              "A tibble: 10 × 3\n",
              "\n",
              "| customer_id &lt;chr&gt; | sum_amount &lt;int&gt; | log_amount &lt;dbl&gt; |\n",
              "|---|---|---|\n",
              "| CS001113000004 | 1298 | 7.168965 |\n",
              "| CS001114000005 |  626 | 6.440149 |\n",
              "| CS001115000010 | 3044 | 8.021092 |\n",
              "| CS001205000004 | 1988 | 7.595136 |\n",
              "| CS001205000006 | 3337 | 8.112977 |\n",
              "| CS001211000025 |  456 | 6.123589 |\n",
              "| CS001212000027 |  448 | 6.105909 |\n",
              "| CS001212000031 |  296 | 5.692047 |\n",
              "| CS001212000046 |  228 | 5.431536 |\n",
              "| CS001212000070 |  456 | 6.123589 |\n",
              "\n"
            ],
            "text/plain": [
              "   customer_id    sum_amount log_amount\n",
              "1  CS001113000004 1298       7.168965  \n",
              "2  CS001114000005  626       6.440149  \n",
              "3  CS001115000010 3044       8.021092  \n",
              "4  CS001205000004 1988       7.595136  \n",
              "5  CS001205000006 3337       8.112977  \n",
              "6  CS001211000025  456       6.123589  \n",
              "7  CS001212000027  448       6.105909  \n",
              "8  CS001212000031  296       5.692047  \n",
              "9  CS001212000046  228       5.431536  \n",
              "10 CS001212000070  456       6.123589  "
            ]
          },
          "metadata": {},
          "output_type": "display_data"
        }
      ],
      "source": [
        "df_receipt %>%\n",
        "    filter(!grepl(\"^Z\", customer_id)) %>%\n",
        "    group_by(customer_id) %>%\n",
        "    summarise(sum_amount = sum(amount), .groups = \"drop\") %>%\n",
        "    mutate(log_amount = log(sum_amount + 0.5)) %>%\n",
        "    slice(1:10)"
      ]
    },
    {
      "cell_type": "markdown",
      "metadata": {
        "id": "gG3r1746BJil"
      },
      "source": [
        "---\n",
        "> R-063: 상품 데이터(df_product)의 단가(unit_price)와 원가(unit_cost)로부터 각 상품의 이익액을 산출하고, 그 결과를 10건 표시하시오."
      ]
    },
    {
      "cell_type": "code",
      "execution_count": null,
      "metadata": {
        "id": "4-Qz_R2cBJil",
        "outputId": "e08a47b0-ef5f-4a04-d49d-9e250b760f5a"
      },
      "outputs": [
        {
          "data": {
            "text/html": [
              "<table class=\"dataframe\">\n",
              "<caption>A data.frame: 10 × 7</caption>\n",
              "<thead>\n",
              "\t<tr><th scope=col>product_cd</th><th scope=col>category_major_cd</th><th scope=col>category_medium_cd</th><th scope=col>category_small_cd</th><th scope=col>unit_price</th><th scope=col>unit_cost</th><th scope=col>unit_profit</th></tr>\n",
              "\t<tr><th scope=col>&lt;chr&gt;</th><th scope=col>&lt;chr&gt;</th><th scope=col>&lt;chr&gt;</th><th scope=col>&lt;chr&gt;</th><th scope=col>&lt;int&gt;</th><th scope=col>&lt;int&gt;</th><th scope=col>&lt;int&gt;</th></tr>\n",
              "</thead>\n",
              "<tbody>\n",
              "\t<tr><td>P040101001</td><td>04</td><td>0401</td><td>040101</td><td>198</td><td>149</td><td> 49</td></tr>\n",
              "\t<tr><td>P040101002</td><td>04</td><td>0401</td><td>040101</td><td>218</td><td>164</td><td> 54</td></tr>\n",
              "\t<tr><td>P040101003</td><td>04</td><td>0401</td><td>040101</td><td>230</td><td>173</td><td> 57</td></tr>\n",
              "\t<tr><td>P040101004</td><td>04</td><td>0401</td><td>040101</td><td>248</td><td>186</td><td> 62</td></tr>\n",
              "\t<tr><td>P040101005</td><td>04</td><td>0401</td><td>040101</td><td>268</td><td>201</td><td> 67</td></tr>\n",
              "\t<tr><td>P040101006</td><td>04</td><td>0401</td><td>040101</td><td>298</td><td>224</td><td> 74</td></tr>\n",
              "\t<tr><td>P040101007</td><td>04</td><td>0401</td><td>040101</td><td>338</td><td>254</td><td> 84</td></tr>\n",
              "\t<tr><td>P040101008</td><td>04</td><td>0401</td><td>040101</td><td>420</td><td>315</td><td>105</td></tr>\n",
              "\t<tr><td>P040101009</td><td>04</td><td>0401</td><td>040101</td><td>498</td><td>374</td><td>124</td></tr>\n",
              "\t<tr><td>P040101010</td><td>04</td><td>0401</td><td>040101</td><td>580</td><td>435</td><td>145</td></tr>\n",
              "</tbody>\n",
              "</table>\n"
            ],
            "text/latex": [
              "A data.frame: 10 × 7\n",
              "\\begin{tabular}{lllllll}\n",
              " product\\_cd & category\\_major\\_cd & category\\_medium\\_cd & category\\_small\\_cd & unit\\_price & unit\\_cost & unit\\_profit\\\\\n",
              " <chr> & <chr> & <chr> & <chr> & <int> & <int> & <int>\\\\\n",
              "\\hline\n",
              "\t P040101001 & 04 & 0401 & 040101 & 198 & 149 &  49\\\\\n",
              "\t P040101002 & 04 & 0401 & 040101 & 218 & 164 &  54\\\\\n",
              "\t P040101003 & 04 & 0401 & 040101 & 230 & 173 &  57\\\\\n",
              "\t P040101004 & 04 & 0401 & 040101 & 248 & 186 &  62\\\\\n",
              "\t P040101005 & 04 & 0401 & 040101 & 268 & 201 &  67\\\\\n",
              "\t P040101006 & 04 & 0401 & 040101 & 298 & 224 &  74\\\\\n",
              "\t P040101007 & 04 & 0401 & 040101 & 338 & 254 &  84\\\\\n",
              "\t P040101008 & 04 & 0401 & 040101 & 420 & 315 & 105\\\\\n",
              "\t P040101009 & 04 & 0401 & 040101 & 498 & 374 & 124\\\\\n",
              "\t P040101010 & 04 & 0401 & 040101 & 580 & 435 & 145\\\\\n",
              "\\end{tabular}\n"
            ],
            "text/markdown": [
              "\n",
              "A data.frame: 10 × 7\n",
              "\n",
              "| product_cd &lt;chr&gt; | category_major_cd &lt;chr&gt; | category_medium_cd &lt;chr&gt; | category_small_cd &lt;chr&gt; | unit_price &lt;int&gt; | unit_cost &lt;int&gt; | unit_profit &lt;int&gt; |\n",
              "|---|---|---|---|---|---|---|\n",
              "| P040101001 | 04 | 0401 | 040101 | 198 | 149 |  49 |\n",
              "| P040101002 | 04 | 0401 | 040101 | 218 | 164 |  54 |\n",
              "| P040101003 | 04 | 0401 | 040101 | 230 | 173 |  57 |\n",
              "| P040101004 | 04 | 0401 | 040101 | 248 | 186 |  62 |\n",
              "| P040101005 | 04 | 0401 | 040101 | 268 | 201 |  67 |\n",
              "| P040101006 | 04 | 0401 | 040101 | 298 | 224 |  74 |\n",
              "| P040101007 | 04 | 0401 | 040101 | 338 | 254 |  84 |\n",
              "| P040101008 | 04 | 0401 | 040101 | 420 | 315 | 105 |\n",
              "| P040101009 | 04 | 0401 | 040101 | 498 | 374 | 124 |\n",
              "| P040101010 | 04 | 0401 | 040101 | 580 | 435 | 145 |\n",
              "\n"
            ],
            "text/plain": [
              "   product_cd category_major_cd category_medium_cd category_small_cd unit_price\n",
              "1  P040101001 04                0401               040101            198       \n",
              "2  P040101002 04                0401               040101            218       \n",
              "3  P040101003 04                0401               040101            230       \n",
              "4  P040101004 04                0401               040101            248       \n",
              "5  P040101005 04                0401               040101            268       \n",
              "6  P040101006 04                0401               040101            298       \n",
              "7  P040101007 04                0401               040101            338       \n",
              "8  P040101008 04                0401               040101            420       \n",
              "9  P040101009 04                0401               040101            498       \n",
              "10 P040101010 04                0401               040101            580       \n",
              "   unit_cost unit_profit\n",
              "1  149        49        \n",
              "2  164        54        \n",
              "3  173        57        \n",
              "4  186        62        \n",
              "5  201        67        \n",
              "6  224        74        \n",
              "7  254        84        \n",
              "8  315       105        \n",
              "9  374       124        \n",
              "10 435       145        "
            ]
          },
          "metadata": {},
          "output_type": "display_data"
        }
      ],
      "source": [
        "df_product %>%\n",
        "    mutate(unit_profit = unit_price - unit_cost) %>%\n",
        "    slice(1:10)"
      ]
    },
    {
      "cell_type": "markdown",
      "metadata": {
        "id": "8jtYhrW1BJil"
      },
      "source": [
        "---\n",
        "> R-064: 상품 데이터(df_product)의 단가(unit_price)와 원가(unit_cost)에서 각 상품의 전체 평균 수익률을 계산하시오. 단, 단가와 원가에는 결손이 발생한다는 점에 유의하라."
      ]
    },
    {
      "cell_type": "code",
      "execution_count": null,
      "metadata": {
        "id": "3XkglayJBJil",
        "outputId": "a3a72605-6401-4112-d5e7-2c45cf5d4a04"
      },
      "outputs": [
        {
          "data": {
            "text/html": [
              "<table class=\"dataframe\">\n",
              "<caption>A data.frame: 1 × 1</caption>\n",
              "<thead>\n",
              "\t<tr><th scope=col>total_mean</th></tr>\n",
              "\t<tr><th scope=col>&lt;dbl&gt;</th></tr>\n",
              "</thead>\n",
              "<tbody>\n",
              "\t<tr><td>0.2491139</td></tr>\n",
              "</tbody>\n",
              "</table>\n"
            ],
            "text/latex": [
              "A data.frame: 1 × 1\n",
              "\\begin{tabular}{l}\n",
              " total\\_mean\\\\\n",
              " <dbl>\\\\\n",
              "\\hline\n",
              "\t 0.2491139\\\\\n",
              "\\end{tabular}\n"
            ],
            "text/markdown": [
              "\n",
              "A data.frame: 1 × 1\n",
              "\n",
              "| total_mean &lt;dbl&gt; |\n",
              "|---|\n",
              "| 0.2491139 |\n",
              "\n"
            ],
            "text/plain": [
              "  total_mean\n",
              "1 0.2491139 "
            ]
          },
          "metadata": {},
          "output_type": "display_data"
        }
      ],
      "source": [
        "df_product %>%\n",
        "    mutate(unit_profit_rate = (unit_price - unit_cost) / unit_price) %>%\n",
        "    summarise(total_mean = mean(unit_profit_rate, na.rm = TRUE))"
      ]
    },
    {
      "cell_type": "markdown",
      "metadata": {
        "id": "gxwOM1AqBJil"
      },
      "source": [
        "---\n",
        "> R-065: 상품 데이터(df_product)의 각 상품에 대해 수익률이 30%가 되는 새로운 단가를 구하시오. 단, 1원 미만은 반올림한다. 그리고 10개의 결과를 표시하고, 수익률이 대략 30% 정도인 것을 확인하라. 단, 단가(unit_price)와 원가(unit_cost)에는 적자가 발생한다는 점에 유의하라."
      ]
    },
    {
      "cell_type": "code",
      "execution_count": null,
      "metadata": {
        "id": "D_EV9CWQBJil",
        "outputId": "5492b3f4-19ac-45a3-efa4-546fbf7c3844"
      },
      "outputs": [
        {
          "data": {
            "text/html": [
              "<table class=\"dataframe\">\n",
              "<caption>A data.frame: 10 × 5</caption>\n",
              "<thead>\n",
              "\t<tr><th scope=col>product_cd</th><th scope=col>unit_price</th><th scope=col>unit_cost</th><th scope=col>new_price</th><th scope=col>new_profit_rate</th></tr>\n",
              "\t<tr><th scope=col>&lt;chr&gt;</th><th scope=col>&lt;int&gt;</th><th scope=col>&lt;int&gt;</th><th scope=col>&lt;dbl&gt;</th><th scope=col>&lt;dbl&gt;</th></tr>\n",
              "</thead>\n",
              "<tbody>\n",
              "\t<tr><td>P040101001</td><td>198</td><td>149</td><td>212</td><td>0.2971698</td></tr>\n",
              "\t<tr><td>P040101002</td><td>218</td><td>164</td><td>234</td><td>0.2991453</td></tr>\n",
              "\t<tr><td>P040101003</td><td>230</td><td>173</td><td>247</td><td>0.2995951</td></tr>\n",
              "\t<tr><td>P040101004</td><td>248</td><td>186</td><td>265</td><td>0.2981132</td></tr>\n",
              "\t<tr><td>P040101005</td><td>268</td><td>201</td><td>287</td><td>0.2996516</td></tr>\n",
              "\t<tr><td>P040101006</td><td>298</td><td>224</td><td>320</td><td>0.3000000</td></tr>\n",
              "\t<tr><td>P040101007</td><td>338</td><td>254</td><td>362</td><td>0.2983425</td></tr>\n",
              "\t<tr><td>P040101008</td><td>420</td><td>315</td><td>450</td><td>0.3000000</td></tr>\n",
              "\t<tr><td>P040101009</td><td>498</td><td>374</td><td>534</td><td>0.2996255</td></tr>\n",
              "\t<tr><td>P040101010</td><td>580</td><td>435</td><td>621</td><td>0.2995169</td></tr>\n",
              "</tbody>\n",
              "</table>\n"
            ],
            "text/latex": [
              "A data.frame: 10 × 5\n",
              "\\begin{tabular}{lllll}\n",
              " product\\_cd & unit\\_price & unit\\_cost & new\\_price & new\\_profit\\_rate\\\\\n",
              " <chr> & <int> & <int> & <dbl> & <dbl>\\\\\n",
              "\\hline\n",
              "\t P040101001 & 198 & 149 & 212 & 0.2971698\\\\\n",
              "\t P040101002 & 218 & 164 & 234 & 0.2991453\\\\\n",
              "\t P040101003 & 230 & 173 & 247 & 0.2995951\\\\\n",
              "\t P040101004 & 248 & 186 & 265 & 0.2981132\\\\\n",
              "\t P040101005 & 268 & 201 & 287 & 0.2996516\\\\\n",
              "\t P040101006 & 298 & 224 & 320 & 0.3000000\\\\\n",
              "\t P040101007 & 338 & 254 & 362 & 0.2983425\\\\\n",
              "\t P040101008 & 420 & 315 & 450 & 0.3000000\\\\\n",
              "\t P040101009 & 498 & 374 & 534 & 0.2996255\\\\\n",
              "\t P040101010 & 580 & 435 & 621 & 0.2995169\\\\\n",
              "\\end{tabular}\n"
            ],
            "text/markdown": [
              "\n",
              "A data.frame: 10 × 5\n",
              "\n",
              "| product_cd &lt;chr&gt; | unit_price &lt;int&gt; | unit_cost &lt;int&gt; | new_price &lt;dbl&gt; | new_profit_rate &lt;dbl&gt; |\n",
              "|---|---|---|---|---|\n",
              "| P040101001 | 198 | 149 | 212 | 0.2971698 |\n",
              "| P040101002 | 218 | 164 | 234 | 0.2991453 |\n",
              "| P040101003 | 230 | 173 | 247 | 0.2995951 |\n",
              "| P040101004 | 248 | 186 | 265 | 0.2981132 |\n",
              "| P040101005 | 268 | 201 | 287 | 0.2996516 |\n",
              "| P040101006 | 298 | 224 | 320 | 0.3000000 |\n",
              "| P040101007 | 338 | 254 | 362 | 0.2983425 |\n",
              "| P040101008 | 420 | 315 | 450 | 0.3000000 |\n",
              "| P040101009 | 498 | 374 | 534 | 0.2996255 |\n",
              "| P040101010 | 580 | 435 | 621 | 0.2995169 |\n",
              "\n"
            ],
            "text/plain": [
              "   product_cd unit_price unit_cost new_price new_profit_rate\n",
              "1  P040101001 198        149       212       0.2971698      \n",
              "2  P040101002 218        164       234       0.2991453      \n",
              "3  P040101003 230        173       247       0.2995951      \n",
              "4  P040101004 248        186       265       0.2981132      \n",
              "5  P040101005 268        201       287       0.2996516      \n",
              "6  P040101006 298        224       320       0.3000000      \n",
              "7  P040101007 338        254       362       0.2983425      \n",
              "8  P040101008 420        315       450       0.3000000      \n",
              "9  P040101009 498        374       534       0.2996255      \n",
              "10 P040101010 580        435       621       0.2995169      "
            ]
          },
          "metadata": {},
          "output_type": "display_data"
        }
      ],
      "source": [
        "df_product[c(\"product_cd\", \"unit_price\", \"unit_cost\")] %>%\n",
        "    mutate(new_price = trunc(unit_cost / 0.7)) %>%\n",
        "    mutate(new_profit_rate = (new_price - unit_cost)/ new_price) %>%\n",
        "    slice(1:10)"
      ]
    },
    {
      "cell_type": "markdown",
      "metadata": {
        "id": "V9jWb8wPBJil"
      },
      "source": [
        "---\n",
        "> R-066: 상품 데이터(df_product)의 각 상품에 대해 수익률이 30%가 되는 새로운 단가를 구하시오. 이번에는 1원 미만은 반올림한다(반올림 또는 짝수로 반올림해도 무방하다). 그리고 10개의 결과를 표시하게 하고, 수익률이 대략 30% 정도인 것을 확인하라. 단, 단가(unit_price)와 원가(unit_cost)에는 결손이 발생한다는 점에 유의한다."
      ]
    },
    {
      "cell_type": "code",
      "execution_count": null,
      "metadata": {
        "id": "lqcjES6cBJil",
        "outputId": "96c79d5b-e53d-44bb-8a0d-1e696b913df7"
      },
      "outputs": [
        {
          "data": {
            "text/html": [
              "<table class=\"dataframe\">\n",
              "<caption>A data.frame: 10 × 5</caption>\n",
              "<thead>\n",
              "\t<tr><th scope=col>product_cd</th><th scope=col>unit_price</th><th scope=col>unit_cost</th><th scope=col>new_price</th><th scope=col>new_profit_rate</th></tr>\n",
              "\t<tr><th scope=col>&lt;chr&gt;</th><th scope=col>&lt;int&gt;</th><th scope=col>&lt;int&gt;</th><th scope=col>&lt;dbl&gt;</th><th scope=col>&lt;dbl&gt;</th></tr>\n",
              "</thead>\n",
              "<tbody>\n",
              "\t<tr><td>P040101001</td><td>198</td><td>149</td><td>213</td><td>0.3004695</td></tr>\n",
              "\t<tr><td>P040101002</td><td>218</td><td>164</td><td>234</td><td>0.2991453</td></tr>\n",
              "\t<tr><td>P040101003</td><td>230</td><td>173</td><td>247</td><td>0.2995951</td></tr>\n",
              "\t<tr><td>P040101004</td><td>248</td><td>186</td><td>266</td><td>0.3007519</td></tr>\n",
              "\t<tr><td>P040101005</td><td>268</td><td>201</td><td>287</td><td>0.2996516</td></tr>\n",
              "\t<tr><td>P040101006</td><td>298</td><td>224</td><td>320</td><td>0.3000000</td></tr>\n",
              "\t<tr><td>P040101007</td><td>338</td><td>254</td><td>363</td><td>0.3002755</td></tr>\n",
              "\t<tr><td>P040101008</td><td>420</td><td>315</td><td>450</td><td>0.3000000</td></tr>\n",
              "\t<tr><td>P040101009</td><td>498</td><td>374</td><td>534</td><td>0.2996255</td></tr>\n",
              "\t<tr><td>P040101010</td><td>580</td><td>435</td><td>621</td><td>0.2995169</td></tr>\n",
              "</tbody>\n",
              "</table>\n"
            ],
            "text/latex": [
              "A data.frame: 10 × 5\n",
              "\\begin{tabular}{lllll}\n",
              " product\\_cd & unit\\_price & unit\\_cost & new\\_price & new\\_profit\\_rate\\\\\n",
              " <chr> & <int> & <int> & <dbl> & <dbl>\\\\\n",
              "\\hline\n",
              "\t P040101001 & 198 & 149 & 213 & 0.3004695\\\\\n",
              "\t P040101002 & 218 & 164 & 234 & 0.2991453\\\\\n",
              "\t P040101003 & 230 & 173 & 247 & 0.2995951\\\\\n",
              "\t P040101004 & 248 & 186 & 266 & 0.3007519\\\\\n",
              "\t P040101005 & 268 & 201 & 287 & 0.2996516\\\\\n",
              "\t P040101006 & 298 & 224 & 320 & 0.3000000\\\\\n",
              "\t P040101007 & 338 & 254 & 363 & 0.3002755\\\\\n",
              "\t P040101008 & 420 & 315 & 450 & 0.3000000\\\\\n",
              "\t P040101009 & 498 & 374 & 534 & 0.2996255\\\\\n",
              "\t P040101010 & 580 & 435 & 621 & 0.2995169\\\\\n",
              "\\end{tabular}\n"
            ],
            "text/markdown": [
              "\n",
              "A data.frame: 10 × 5\n",
              "\n",
              "| product_cd &lt;chr&gt; | unit_price &lt;int&gt; | unit_cost &lt;int&gt; | new_price &lt;dbl&gt; | new_profit_rate &lt;dbl&gt; |\n",
              "|---|---|---|---|---|\n",
              "| P040101001 | 198 | 149 | 213 | 0.3004695 |\n",
              "| P040101002 | 218 | 164 | 234 | 0.2991453 |\n",
              "| P040101003 | 230 | 173 | 247 | 0.2995951 |\n",
              "| P040101004 | 248 | 186 | 266 | 0.3007519 |\n",
              "| P040101005 | 268 | 201 | 287 | 0.2996516 |\n",
              "| P040101006 | 298 | 224 | 320 | 0.3000000 |\n",
              "| P040101007 | 338 | 254 | 363 | 0.3002755 |\n",
              "| P040101008 | 420 | 315 | 450 | 0.3000000 |\n",
              "| P040101009 | 498 | 374 | 534 | 0.2996255 |\n",
              "| P040101010 | 580 | 435 | 621 | 0.2995169 |\n",
              "\n"
            ],
            "text/plain": [
              "   product_cd unit_price unit_cost new_price new_profit_rate\n",
              "1  P040101001 198        149       213       0.3004695      \n",
              "2  P040101002 218        164       234       0.2991453      \n",
              "3  P040101003 230        173       247       0.2995951      \n",
              "4  P040101004 248        186       266       0.3007519      \n",
              "5  P040101005 268        201       287       0.2996516      \n",
              "6  P040101006 298        224       320       0.3000000      \n",
              "7  P040101007 338        254       363       0.3002755      \n",
              "8  P040101008 420        315       450       0.3000000      \n",
              "9  P040101009 498        374       534       0.2996255      \n",
              "10 P040101010 580        435       621       0.2995169      "
            ]
          },
          "metadata": {},
          "output_type": "display_data"
        }
      ],
      "source": [
        "df_product[c(\"product_cd\", \"unit_price\", \"unit_cost\")] %>%\n",
        "    mutate(new_price = round(unit_cost / 0.7)) %>%\n",
        "    mutate(new_profit_rate = (new_price - unit_cost) / new_price) %>%\n",
        "    slice(1:10)"
      ]
    },
    {
      "cell_type": "markdown",
      "metadata": {
        "id": "Vf76OyaLBJim"
      },
      "source": [
        "---\n",
        "> R-067: 상품 데이터(df_product)의 각 상품에 대해 수익률이 30%가 되는 새로운 단가를 구하시오. 이번에는 1원 미만은 반올림한다. 그리고 10개의 결과를 표시하고, 수익률이 대략 30% 정도인 것을 확인하라. 단, 단가(unit_price)와 원가(unit_cost)에는 적자가 발생하고 있다는 점에 유의하라."
      ]
    },
    {
      "cell_type": "code",
      "execution_count": null,
      "metadata": {
        "id": "90kKKOIDBJim",
        "outputId": "8b4e8ff0-cf8b-4c92-8954-71bf89c83a98"
      },
      "outputs": [
        {
          "data": {
            "text/html": [
              "<table class=\"dataframe\">\n",
              "<caption>A data.frame: 10 × 5</caption>\n",
              "<thead>\n",
              "\t<tr><th scope=col>product_cd</th><th scope=col>unit_price</th><th scope=col>unit_cost</th><th scope=col>new_price</th><th scope=col>new_profit_rate</th></tr>\n",
              "\t<tr><th scope=col>&lt;chr&gt;</th><th scope=col>&lt;int&gt;</th><th scope=col>&lt;int&gt;</th><th scope=col>&lt;dbl&gt;</th><th scope=col>&lt;dbl&gt;</th></tr>\n",
              "</thead>\n",
              "<tbody>\n",
              "\t<tr><td>P040101001</td><td>198</td><td>149</td><td>213</td><td>0.3004695</td></tr>\n",
              "\t<tr><td>P040101002</td><td>218</td><td>164</td><td>235</td><td>0.3021277</td></tr>\n",
              "\t<tr><td>P040101003</td><td>230</td><td>173</td><td>248</td><td>0.3024194</td></tr>\n",
              "\t<tr><td>P040101004</td><td>248</td><td>186</td><td>266</td><td>0.3007519</td></tr>\n",
              "\t<tr><td>P040101005</td><td>268</td><td>201</td><td>288</td><td>0.3020833</td></tr>\n",
              "\t<tr><td>P040101006</td><td>298</td><td>224</td><td>320</td><td>0.3000000</td></tr>\n",
              "\t<tr><td>P040101007</td><td>338</td><td>254</td><td>363</td><td>0.3002755</td></tr>\n",
              "\t<tr><td>P040101008</td><td>420</td><td>315</td><td>451</td><td>0.3015521</td></tr>\n",
              "\t<tr><td>P040101009</td><td>498</td><td>374</td><td>535</td><td>0.3009346</td></tr>\n",
              "\t<tr><td>P040101010</td><td>580</td><td>435</td><td>622</td><td>0.3006431</td></tr>\n",
              "</tbody>\n",
              "</table>\n"
            ],
            "text/latex": [
              "A data.frame: 10 × 5\n",
              "\\begin{tabular}{lllll}\n",
              " product\\_cd & unit\\_price & unit\\_cost & new\\_price & new\\_profit\\_rate\\\\\n",
              " <chr> & <int> & <int> & <dbl> & <dbl>\\\\\n",
              "\\hline\n",
              "\t P040101001 & 198 & 149 & 213 & 0.3004695\\\\\n",
              "\t P040101002 & 218 & 164 & 235 & 0.3021277\\\\\n",
              "\t P040101003 & 230 & 173 & 248 & 0.3024194\\\\\n",
              "\t P040101004 & 248 & 186 & 266 & 0.3007519\\\\\n",
              "\t P040101005 & 268 & 201 & 288 & 0.3020833\\\\\n",
              "\t P040101006 & 298 & 224 & 320 & 0.3000000\\\\\n",
              "\t P040101007 & 338 & 254 & 363 & 0.3002755\\\\\n",
              "\t P040101008 & 420 & 315 & 451 & 0.3015521\\\\\n",
              "\t P040101009 & 498 & 374 & 535 & 0.3009346\\\\\n",
              "\t P040101010 & 580 & 435 & 622 & 0.3006431\\\\\n",
              "\\end{tabular}\n"
            ],
            "text/markdown": [
              "\n",
              "A data.frame: 10 × 5\n",
              "\n",
              "| product_cd &lt;chr&gt; | unit_price &lt;int&gt; | unit_cost &lt;int&gt; | new_price &lt;dbl&gt; | new_profit_rate &lt;dbl&gt; |\n",
              "|---|---|---|---|---|\n",
              "| P040101001 | 198 | 149 | 213 | 0.3004695 |\n",
              "| P040101002 | 218 | 164 | 235 | 0.3021277 |\n",
              "| P040101003 | 230 | 173 | 248 | 0.3024194 |\n",
              "| P040101004 | 248 | 186 | 266 | 0.3007519 |\n",
              "| P040101005 | 268 | 201 | 288 | 0.3020833 |\n",
              "| P040101006 | 298 | 224 | 320 | 0.3000000 |\n",
              "| P040101007 | 338 | 254 | 363 | 0.3002755 |\n",
              "| P040101008 | 420 | 315 | 451 | 0.3015521 |\n",
              "| P040101009 | 498 | 374 | 535 | 0.3009346 |\n",
              "| P040101010 | 580 | 435 | 622 | 0.3006431 |\n",
              "\n"
            ],
            "text/plain": [
              "   product_cd unit_price unit_cost new_price new_profit_rate\n",
              "1  P040101001 198        149       213       0.3004695      \n",
              "2  P040101002 218        164       235       0.3021277      \n",
              "3  P040101003 230        173       248       0.3024194      \n",
              "4  P040101004 248        186       266       0.3007519      \n",
              "5  P040101005 268        201       288       0.3020833      \n",
              "6  P040101006 298        224       320       0.3000000      \n",
              "7  P040101007 338        254       363       0.3002755      \n",
              "8  P040101008 420        315       451       0.3015521      \n",
              "9  P040101009 498        374       535       0.3009346      \n",
              "10 P040101010 580        435       622       0.3006431      "
            ]
          },
          "metadata": {},
          "output_type": "display_data"
        }
      ],
      "source": [
        "df_product[c(\"product_cd\", \"unit_price\", \"unit_cost\")] %>%\n",
        "    mutate(new_price = ceiling(unit_cost / 0.7)) %>%\n",
        "    mutate(new_profit_rate = (new_price - unit_cost) / new_price) %>%\n",
        "    slice(1:10)"
      ]
    },
    {
      "cell_type": "markdown",
      "metadata": {
        "id": "7N_hwVRzBJim"
      },
      "source": [
        "---\n",
        "> R-068: 상품 데이터(df_product)의 각 상품에 대해 소비세율 10%의 부가세 포함 금액을 구하고, 1원 미만의 단수는 절사하여 10개의 결과를 표시하시오. 단, 단가(unit_price)에는 결손이 발생한다는 점에 유의하라."
      ]
    },
    {
      "cell_type": "code",
      "execution_count": null,
      "metadata": {
        "id": "-6ti5wz2BJim",
        "outputId": "5c31c107-4b23-4ddf-c212-b0d3cc5dcc7d"
      },
      "outputs": [
        {
          "data": {
            "text/html": [
              "<table class=\"dataframe\">\n",
              "<caption>A matrix: 10 × 3 of type chr</caption>\n",
              "<thead>\n",
              "\t<tr><th scope=col>product_cd</th><th scope=col>unit_price</th><th scope=col>tax_price</th></tr>\n",
              "</thead>\n",
              "<tbody>\n",
              "\t<tr><td>P040101001</td><td>198</td><td>217</td></tr>\n",
              "\t<tr><td>P040101002</td><td>218</td><td>239</td></tr>\n",
              "\t<tr><td>P040101003</td><td>230</td><td>253</td></tr>\n",
              "\t<tr><td>P040101004</td><td>248</td><td>272</td></tr>\n",
              "\t<tr><td>P040101005</td><td>268</td><td>294</td></tr>\n",
              "\t<tr><td>P040101006</td><td>298</td><td>327</td></tr>\n",
              "\t<tr><td>P040101007</td><td>338</td><td>371</td></tr>\n",
              "\t<tr><td>P040101008</td><td>420</td><td>462</td></tr>\n",
              "\t<tr><td>P040101009</td><td>498</td><td>547</td></tr>\n",
              "\t<tr><td>P040101010</td><td>580</td><td>638</td></tr>\n",
              "</tbody>\n",
              "</table>\n"
            ],
            "text/latex": [
              "A matrix: 10 × 3 of type chr\n",
              "\\begin{tabular}{lll}\n",
              " product\\_cd & unit\\_price & tax\\_price\\\\\n",
              "\\hline\n",
              "\t P040101001 & 198 & 217\\\\\n",
              "\t P040101002 & 218 & 239\\\\\n",
              "\t P040101003 & 230 & 253\\\\\n",
              "\t P040101004 & 248 & 272\\\\\n",
              "\t P040101005 & 268 & 294\\\\\n",
              "\t P040101006 & 298 & 327\\\\\n",
              "\t P040101007 & 338 & 371\\\\\n",
              "\t P040101008 & 420 & 462\\\\\n",
              "\t P040101009 & 498 & 547\\\\\n",
              "\t P040101010 & 580 & 638\\\\\n",
              "\\end{tabular}\n"
            ],
            "text/markdown": [
              "\n",
              "A matrix: 10 × 3 of type chr\n",
              "\n",
              "| product_cd | unit_price | tax_price |\n",
              "|---|---|---|\n",
              "| P040101001 | 198 | 217 |\n",
              "| P040101002 | 218 | 239 |\n",
              "| P040101003 | 230 | 253 |\n",
              "| P040101004 | 248 | 272 |\n",
              "| P040101005 | 268 | 294 |\n",
              "| P040101006 | 298 | 327 |\n",
              "| P040101007 | 338 | 371 |\n",
              "| P040101008 | 420 | 462 |\n",
              "| P040101009 | 498 | 547 |\n",
              "| P040101010 | 580 | 638 |\n",
              "\n"
            ],
            "text/plain": [
              "      product_cd unit_price tax_price\n",
              " [1,] P040101001 198        217      \n",
              " [2,] P040101002 218        239      \n",
              " [3,] P040101003 230        253      \n",
              " [4,] P040101004 248        272      \n",
              " [5,] P040101005 268        294      \n",
              " [6,] P040101006 298        327      \n",
              " [7,] P040101007 338        371      \n",
              " [8,] P040101008 420        462      \n",
              " [9,] P040101009 498        547      \n",
              "[10,] P040101010 580        638      "
            ]
          },
          "metadata": {},
          "output_type": "display_data"
        }
      ],
      "source": [
        "head(cbind(product_cd = df_product$product_cd,\n",
        "           unit_price = df_product$unit_price,\n",
        "           tax_price = trunc(df_product$unit_price * 1.1)), 10)"
      ]
    },
    {
      "cell_type": "markdown",
      "metadata": {
        "id": "5ctNvCmgBJim"
      },
      "source": [
        "---\n",
        "> R-069: 영수증 내역 데이터(df_receipt)와 상품 데이터(df_product)를 결합하여 고객별 전체 상품 판매금액 합계와 카테고리 대분류 코드(category_major_cd)가 \"07\"(병조림 통조림)인 상품의 판매금액 합계를 계산한 후, 양자의 비율을 구하시오. 추출 대상은 카테고리 대분류 코드 \"07\"(병조림 통조림)의 판매 실적이 있는 고객으로 한정하고, 결과를 10건만 표시한다."
      ]
    },
    {
      "cell_type": "code",
      "execution_count": null,
      "metadata": {
        "id": "tM64GjfLBJim",
        "outputId": "3ac97814-2fae-4fc0-9dd5-df3b36ce63b1"
      },
      "outputs": [
        {
          "data": {
            "text/html": [
              "<table class=\"dataframe\">\n",
              "<caption>A tibble: 10 × 4</caption>\n",
              "<thead>\n",
              "\t<tr><th scope=col>customer_id</th><th scope=col>sum_all</th><th scope=col>sum_07</th><th scope=col>sales_rate</th></tr>\n",
              "\t<tr><th scope=col>&lt;chr&gt;</th><th scope=col>&lt;int&gt;</th><th scope=col>&lt;int&gt;</th><th scope=col>&lt;dbl&gt;</th></tr>\n",
              "</thead>\n",
              "<tbody>\n",
              "\t<tr><td>CS001113000004</td><td>1298</td><td>1298</td><td>1.0000000</td></tr>\n",
              "\t<tr><td>CS001114000005</td><td> 626</td><td> 486</td><td>0.7763578</td></tr>\n",
              "\t<tr><td>CS001115000010</td><td>3044</td><td>2694</td><td>0.8850197</td></tr>\n",
              "\t<tr><td>CS001205000004</td><td>1988</td><td> 346</td><td>0.1740443</td></tr>\n",
              "\t<tr><td>CS001205000006</td><td>3337</td><td>2004</td><td>0.6005394</td></tr>\n",
              "\t<tr><td>CS001212000027</td><td> 448</td><td> 200</td><td>0.4464286</td></tr>\n",
              "\t<tr><td>CS001212000031</td><td> 296</td><td> 296</td><td>1.0000000</td></tr>\n",
              "\t<tr><td>CS001212000046</td><td> 228</td><td> 108</td><td>0.4736842</td></tr>\n",
              "\t<tr><td>CS001212000070</td><td> 456</td><td> 308</td><td>0.6754386</td></tr>\n",
              "\t<tr><td>CS001213000018</td><td> 243</td><td> 145</td><td>0.5967078</td></tr>\n",
              "</tbody>\n",
              "</table>\n"
            ],
            "text/latex": [
              "A tibble: 10 × 4\n",
              "\\begin{tabular}{llll}\n",
              " customer\\_id & sum\\_all & sum\\_07 & sales\\_rate\\\\\n",
              " <chr> & <int> & <int> & <dbl>\\\\\n",
              "\\hline\n",
              "\t CS001113000004 & 1298 & 1298 & 1.0000000\\\\\n",
              "\t CS001114000005 &  626 &  486 & 0.7763578\\\\\n",
              "\t CS001115000010 & 3044 & 2694 & 0.8850197\\\\\n",
              "\t CS001205000004 & 1988 &  346 & 0.1740443\\\\\n",
              "\t CS001205000006 & 3337 & 2004 & 0.6005394\\\\\n",
              "\t CS001212000027 &  448 &  200 & 0.4464286\\\\\n",
              "\t CS001212000031 &  296 &  296 & 1.0000000\\\\\n",
              "\t CS001212000046 &  228 &  108 & 0.4736842\\\\\n",
              "\t CS001212000070 &  456 &  308 & 0.6754386\\\\\n",
              "\t CS001213000018 &  243 &  145 & 0.5967078\\\\\n",
              "\\end{tabular}\n"
            ],
            "text/markdown": [
              "\n",
              "A tibble: 10 × 4\n",
              "\n",
              "| customer_id &lt;chr&gt; | sum_all &lt;int&gt; | sum_07 &lt;int&gt; | sales_rate &lt;dbl&gt; |\n",
              "|---|---|---|---|\n",
              "| CS001113000004 | 1298 | 1298 | 1.0000000 |\n",
              "| CS001114000005 |  626 |  486 | 0.7763578 |\n",
              "| CS001115000010 | 3044 | 2694 | 0.8850197 |\n",
              "| CS001205000004 | 1988 |  346 | 0.1740443 |\n",
              "| CS001205000006 | 3337 | 2004 | 0.6005394 |\n",
              "| CS001212000027 |  448 |  200 | 0.4464286 |\n",
              "| CS001212000031 |  296 |  296 | 1.0000000 |\n",
              "| CS001212000046 |  228 |  108 | 0.4736842 |\n",
              "| CS001212000070 |  456 |  308 | 0.6754386 |\n",
              "| CS001213000018 |  243 |  145 | 0.5967078 |\n",
              "\n"
            ],
            "text/plain": [
              "   customer_id    sum_all sum_07 sales_rate\n",
              "1  CS001113000004 1298    1298   1.0000000 \n",
              "2  CS001114000005  626     486   0.7763578 \n",
              "3  CS001115000010 3044    2694   0.8850197 \n",
              "4  CS001205000004 1988     346   0.1740443 \n",
              "5  CS001205000006 3337    2004   0.6005394 \n",
              "6  CS001212000027  448     200   0.4464286 \n",
              "7  CS001212000031  296     296   1.0000000 \n",
              "8  CS001212000046  228     108   0.4736842 \n",
              "9  CS001212000070  456     308   0.6754386 \n",
              "10 CS001213000018  243     145   0.5967078 "
            ]
          },
          "metadata": {},
          "output_type": "display_data"
        }
      ],
      "source": [
        "# 코드 예제 1\n",
        "df_tmp_1 <- df_receipt %>%\n",
        "    group_by(customer_id) %>%\n",
        "    summarise(sum_all=sum(amount))\n",
        "\n",
        "df_tmp_2 <- inner_join(df_receipt, \n",
        "                       df_product[c(\"product_cd\",\"category_major_cd\")], \n",
        "                       by=\"product_cd\") %>% \n",
        "    filter(category_major_cd == \"07\") %>%\n",
        "    group_by(customer_id) %>%\n",
        "    summarise(sum_07 = sum(amount), .groups = \"drop\")\n",
        "\n",
        "inner_join(df_tmp_1, df_tmp_2, by = \"customer_id\") %>%\n",
        "    mutate(sales_rate = sum_07 / sum_all) %>%\n",
        "    slice(1:10)"
      ]
    },
    {
      "cell_type": "code",
      "execution_count": null,
      "metadata": {
        "id": "Ud2-t3pLBJim",
        "outputId": "4b9d5b16-a543-4623-ceee-9c4d35e9645d"
      },
      "outputs": [
        {
          "data": {
            "text/html": [
              "<table class=\"dataframe\">\n",
              "<caption>A tibble: 10 × 4</caption>\n",
              "<thead>\n",
              "\t<tr><th scope=col>customer_id</th><th scope=col>sum_all</th><th scope=col>sum_07</th><th scope=col>sales_rate</th></tr>\n",
              "\t<tr><th scope=col>&lt;chr&gt;</th><th scope=col>&lt;int&gt;</th><th scope=col>&lt;int&gt;</th><th scope=col>&lt;dbl&gt;</th></tr>\n",
              "</thead>\n",
              "<tbody>\n",
              "\t<tr><td>CS001113000004</td><td>1298</td><td>1298</td><td>1.0000000</td></tr>\n",
              "\t<tr><td>CS001114000005</td><td> 626</td><td> 486</td><td>0.7763578</td></tr>\n",
              "\t<tr><td>CS001115000010</td><td>3044</td><td>2694</td><td>0.8850197</td></tr>\n",
              "\t<tr><td>CS001205000004</td><td>1988</td><td> 346</td><td>0.1740443</td></tr>\n",
              "\t<tr><td>CS001205000006</td><td>3337</td><td>2004</td><td>0.6005394</td></tr>\n",
              "\t<tr><td>CS001212000027</td><td> 448</td><td> 200</td><td>0.4464286</td></tr>\n",
              "\t<tr><td>CS001212000031</td><td> 296</td><td> 296</td><td>1.0000000</td></tr>\n",
              "\t<tr><td>CS001212000046</td><td> 228</td><td> 108</td><td>0.4736842</td></tr>\n",
              "\t<tr><td>CS001212000070</td><td> 456</td><td> 308</td><td>0.6754386</td></tr>\n",
              "\t<tr><td>CS001213000018</td><td> 243</td><td> 145</td><td>0.5967078</td></tr>\n",
              "</tbody>\n",
              "</table>\n"
            ],
            "text/latex": [
              "A tibble: 10 × 4\n",
              "\\begin{tabular}{llll}\n",
              " customer\\_id & sum\\_all & sum\\_07 & sales\\_rate\\\\\n",
              " <chr> & <int> & <int> & <dbl>\\\\\n",
              "\\hline\n",
              "\t CS001113000004 & 1298 & 1298 & 1.0000000\\\\\n",
              "\t CS001114000005 &  626 &  486 & 0.7763578\\\\\n",
              "\t CS001115000010 & 3044 & 2694 & 0.8850197\\\\\n",
              "\t CS001205000004 & 1988 &  346 & 0.1740443\\\\\n",
              "\t CS001205000006 & 3337 & 2004 & 0.6005394\\\\\n",
              "\t CS001212000027 &  448 &  200 & 0.4464286\\\\\n",
              "\t CS001212000031 &  296 &  296 & 1.0000000\\\\\n",
              "\t CS001212000046 &  228 &  108 & 0.4736842\\\\\n",
              "\t CS001212000070 &  456 &  308 & 0.6754386\\\\\n",
              "\t CS001213000018 &  243 &  145 & 0.5967078\\\\\n",
              "\\end{tabular}\n"
            ],
            "text/markdown": [
              "\n",
              "A tibble: 10 × 4\n",
              "\n",
              "| customer_id &lt;chr&gt; | sum_all &lt;int&gt; | sum_07 &lt;int&gt; | sales_rate &lt;dbl&gt; |\n",
              "|---|---|---|---|\n",
              "| CS001113000004 | 1298 | 1298 | 1.0000000 |\n",
              "| CS001114000005 |  626 |  486 | 0.7763578 |\n",
              "| CS001115000010 | 3044 | 2694 | 0.8850197 |\n",
              "| CS001205000004 | 1988 |  346 | 0.1740443 |\n",
              "| CS001205000006 | 3337 | 2004 | 0.6005394 |\n",
              "| CS001212000027 |  448 |  200 | 0.4464286 |\n",
              "| CS001212000031 |  296 |  296 | 1.0000000 |\n",
              "| CS001212000046 |  228 |  108 | 0.4736842 |\n",
              "| CS001212000070 |  456 |  308 | 0.6754386 |\n",
              "| CS001213000018 |  243 |  145 | 0.5967078 |\n",
              "\n"
            ],
            "text/plain": [
              "   customer_id    sum_all sum_07 sales_rate\n",
              "1  CS001113000004 1298    1298   1.0000000 \n",
              "2  CS001114000005  626     486   0.7763578 \n",
              "3  CS001115000010 3044    2694   0.8850197 \n",
              "4  CS001205000004 1988     346   0.1740443 \n",
              "5  CS001205000006 3337    2004   0.6005394 \n",
              "6  CS001212000027  448     200   0.4464286 \n",
              "7  CS001212000031  296     296   1.0000000 \n",
              "8  CS001212000046  228     108   0.4736842 \n",
              "9  CS001212000070  456     308   0.6754386 \n",
              "10 CS001213000018  243     145   0.5967078 "
            ]
          },
          "metadata": {},
          "output_type": "display_data"
        }
      ],
      "source": [
        "# 코드 예시 2 (%>%로 모든 처리 연결)\n",
        "\n",
        "inner_join(df_receipt, df_product[c(\"product_cd\",\"category_major_cd\")], \n",
        "           by=\"product_cd\") %>%\n",
        "    filter(category_major_cd == \"07\") %>%\n",
        "    group_by(customer_id) %>%\n",
        "    summarise(sum_07 = sum(amount), .groups = \"drop\") %>%\n",
        "    inner_join(df_receipt, by=\"customer_id\") %>%\n",
        "    group_by(customer_id) %>%\n",
        "    summarise(sum_all=sum(amount), \n",
        "              sum_07=max(sum_07), .groups = \"drop\") %>%\n",
        "    mutate(sales_rate = sum_07 / sum_all) %>%\n",
        "    slice(1:10)"
      ]
    },
    {
      "cell_type": "markdown",
      "metadata": {
        "id": "LvL6op6FBJim"
      },
      "source": [
        "---\n",
        "> R-070: 영수증 내역 데이터(df_receipt)의 매출일(sales_ymd)에 대해 고객 데이터(df_customer)의 회원가입일(application_date)로부터의 경과일수를 계산하여 고객 ID(customer_id), 매출일, 회원가입일과 함께 10건을 표시하라(sales_ymd는 수치, application_date는 문자열로 데이터를 보관하고 있다는 점에 유의)."
      ]
    },
    {
      "cell_type": "code",
      "execution_count": null,
      "metadata": {
        "id": "cZruNQJIBJim",
        "outputId": "85d4d42d-f0d6-443d-f499-7ac48421a939"
      },
      "outputs": [
        {
          "data": {
            "text/html": [
              "<table class=\"dataframe\">\n",
              "<caption>A data.frame: 10 × 4</caption>\n",
              "<thead>\n",
              "\t<tr><th scope=col>customer_id</th><th scope=col>sales_ymd</th><th scope=col>application_date</th><th scope=col>elapsed_days</th></tr>\n",
              "\t<tr><th scope=col>&lt;chr&gt;</th><th scope=col>&lt;int&gt;</th><th scope=col>&lt;chr&gt;</th><th scope=col>&lt;int&gt;</th></tr>\n",
              "</thead>\n",
              "<tbody>\n",
              "\t<tr><td>CS006214000001</td><td>20181103</td><td>20150201</td><td>1371</td></tr>\n",
              "\t<tr><td>CS008415000097</td><td>20181118</td><td>20150322</td><td>1337</td></tr>\n",
              "\t<tr><td>CS028414000014</td><td>20170712</td><td>20150711</td><td> 732</td></tr>\n",
              "\t<tr><td>CS025415000050</td><td>20180821</td><td>20160131</td><td> 933</td></tr>\n",
              "\t<tr><td>CS003515000195</td><td>20190605</td><td>20150306</td><td>1552</td></tr>\n",
              "\t<tr><td>CS024514000042</td><td>20181205</td><td>20151010</td><td>1152</td></tr>\n",
              "\t<tr><td>CS040415000178</td><td>20190922</td><td>20150627</td><td>1548</td></tr>\n",
              "\t<tr><td>CS027514000015</td><td>20191010</td><td>20151101</td><td>1439</td></tr>\n",
              "\t<tr><td>CS025415000134</td><td>20190918</td><td>20150720</td><td>1521</td></tr>\n",
              "\t<tr><td>CS021515000126</td><td>20171010</td><td>20150508</td><td> 886</td></tr>\n",
              "</tbody>\n",
              "</table>\n"
            ],
            "text/latex": [
              "A data.frame: 10 × 4\n",
              "\\begin{tabular}{llll}\n",
              " customer\\_id & sales\\_ymd & application\\_date & elapsed\\_days\\\\\n",
              " <chr> & <int> & <chr> & <int>\\\\\n",
              "\\hline\n",
              "\t CS006214000001 & 20181103 & 20150201 & 1371\\\\\n",
              "\t CS008415000097 & 20181118 & 20150322 & 1337\\\\\n",
              "\t CS028414000014 & 20170712 & 20150711 &  732\\\\\n",
              "\t CS025415000050 & 20180821 & 20160131 &  933\\\\\n",
              "\t CS003515000195 & 20190605 & 20150306 & 1552\\\\\n",
              "\t CS024514000042 & 20181205 & 20151010 & 1152\\\\\n",
              "\t CS040415000178 & 20190922 & 20150627 & 1548\\\\\n",
              "\t CS027514000015 & 20191010 & 20151101 & 1439\\\\\n",
              "\t CS025415000134 & 20190918 & 20150720 & 1521\\\\\n",
              "\t CS021515000126 & 20171010 & 20150508 &  886\\\\\n",
              "\\end{tabular}\n"
            ],
            "text/markdown": [
              "\n",
              "A data.frame: 10 × 4\n",
              "\n",
              "| customer_id &lt;chr&gt; | sales_ymd &lt;int&gt; | application_date &lt;chr&gt; | elapsed_days &lt;int&gt; |\n",
              "|---|---|---|---|\n",
              "| CS006214000001 | 20181103 | 20150201 | 1371 |\n",
              "| CS008415000097 | 20181118 | 20150322 | 1337 |\n",
              "| CS028414000014 | 20170712 | 20150711 |  732 |\n",
              "| CS025415000050 | 20180821 | 20160131 |  933 |\n",
              "| CS003515000195 | 20190605 | 20150306 | 1552 |\n",
              "| CS024514000042 | 20181205 | 20151010 | 1152 |\n",
              "| CS040415000178 | 20190922 | 20150627 | 1548 |\n",
              "| CS027514000015 | 20191010 | 20151101 | 1439 |\n",
              "| CS025415000134 | 20190918 | 20150720 | 1521 |\n",
              "| CS021515000126 | 20171010 | 20150508 |  886 |\n",
              "\n"
            ],
            "text/plain": [
              "   customer_id    sales_ymd application_date elapsed_days\n",
              "1  CS006214000001 20181103  20150201         1371        \n",
              "2  CS008415000097 20181118  20150322         1337        \n",
              "3  CS028414000014 20170712  20150711          732        \n",
              "4  CS025415000050 20180821  20160131          933        \n",
              "5  CS003515000195 20190605  20150306         1552        \n",
              "6  CS024514000042 20181205  20151010         1152        \n",
              "7  CS040415000178 20190922  20150627         1548        \n",
              "8  CS027514000015 20191010  20151101         1439        \n",
              "9  CS025415000134 20190918  20150720         1521        \n",
              "10 CS021515000126 20171010  20150508          886        "
            ]
          },
          "metadata": {},
          "output_type": "display_data"
        }
      ],
      "source": [
        "df_receipt[c(\"customer_id\", \"sales_ymd\")] %>%\n",
        "    distinct(.,.keep_all=TRUE) %>%\n",
        "    inner_join(df_customer[c(\"customer_id\",\"application_date\")], \n",
        "                            by=\"customer_id\") %>%\n",
        "    mutate(elapsed_days = as.integer(\n",
        "                        strptime(as.character(sales_ymd), \"%Y%m%d\")\n",
        "                                - strptime(application_date, \"%Y%m%d\"))) %>%\n",
        "    select(customer_id, sales_ymd, application_date, elapsed_days) %>%\n",
        "    slice(1:10)"
      ]
    },
    {
      "cell_type": "markdown",
      "metadata": {
        "id": "PqpgyqLpBJim"
      },
      "source": [
        "---\n",
        "> R-071: 영수증 내역 데이터(df_receipt)의 매출일(sales_ymd)에 대해 고객 데이터(df_customer)의 회원가입일(application_date)로부터의 경과 개월 수를 계산하여 고객 ID(customer_id), 매출일, 회원가입일과 함께 10건 표시 (sales_ymd는 숫자, application_date는 문자열로 데이터를 보관하는 점에 유의) 1개월 미만은 반올림한다."
      ]
    },
    {
      "cell_type": "code",
      "execution_count": null,
      "metadata": {
        "id": "PLwLaMQMBJim",
        "outputId": "3f43957a-5224-44ab-e938-31c12454dfa1"
      },
      "outputs": [
        {
          "data": {
            "text/html": [
              "<table class=\"dataframe\">\n",
              "<caption>A data.frame: 10 × 4</caption>\n",
              "<thead>\n",
              "\t<tr><th scope=col>customer_id</th><th scope=col>sales_ymd</th><th scope=col>application_date</th><th scope=col>elapsed_months</th></tr>\n",
              "\t<tr><th scope=col>&lt;chr&gt;</th><th scope=col>&lt;int&gt;</th><th scope=col>&lt;chr&gt;</th><th scope=col>&lt;dbl&gt;</th></tr>\n",
              "</thead>\n",
              "<tbody>\n",
              "\t<tr><td>CS006214000001</td><td>20181103</td><td>20150201</td><td>45</td></tr>\n",
              "\t<tr><td>CS008415000097</td><td>20181118</td><td>20150322</td><td>43</td></tr>\n",
              "\t<tr><td>CS028414000014</td><td>20170712</td><td>20150711</td><td>24</td></tr>\n",
              "\t<tr><td>CS025415000050</td><td>20180821</td><td>20160131</td><td>30</td></tr>\n",
              "\t<tr><td>CS003515000195</td><td>20190605</td><td>20150306</td><td>50</td></tr>\n",
              "\t<tr><td>CS024514000042</td><td>20181205</td><td>20151010</td><td>37</td></tr>\n",
              "\t<tr><td>CS040415000178</td><td>20190922</td><td>20150627</td><td>50</td></tr>\n",
              "\t<tr><td>CS027514000015</td><td>20191010</td><td>20151101</td><td>47</td></tr>\n",
              "\t<tr><td>CS025415000134</td><td>20190918</td><td>20150720</td><td>49</td></tr>\n",
              "\t<tr><td>CS021515000126</td><td>20171010</td><td>20150508</td><td>29</td></tr>\n",
              "</tbody>\n",
              "</table>\n"
            ],
            "text/latex": [
              "A data.frame: 10 × 4\n",
              "\\begin{tabular}{llll}\n",
              " customer\\_id & sales\\_ymd & application\\_date & elapsed\\_months\\\\\n",
              " <chr> & <int> & <chr> & <dbl>\\\\\n",
              "\\hline\n",
              "\t CS006214000001 & 20181103 & 20150201 & 45\\\\\n",
              "\t CS008415000097 & 20181118 & 20150322 & 43\\\\\n",
              "\t CS028414000014 & 20170712 & 20150711 & 24\\\\\n",
              "\t CS025415000050 & 20180821 & 20160131 & 30\\\\\n",
              "\t CS003515000195 & 20190605 & 20150306 & 50\\\\\n",
              "\t CS024514000042 & 20181205 & 20151010 & 37\\\\\n",
              "\t CS040415000178 & 20190922 & 20150627 & 50\\\\\n",
              "\t CS027514000015 & 20191010 & 20151101 & 47\\\\\n",
              "\t CS025415000134 & 20190918 & 20150720 & 49\\\\\n",
              "\t CS021515000126 & 20171010 & 20150508 & 29\\\\\n",
              "\\end{tabular}\n"
            ],
            "text/markdown": [
              "\n",
              "A data.frame: 10 × 4\n",
              "\n",
              "| customer_id &lt;chr&gt; | sales_ymd &lt;int&gt; | application_date &lt;chr&gt; | elapsed_months &lt;dbl&gt; |\n",
              "|---|---|---|---|\n",
              "| CS006214000001 | 20181103 | 20150201 | 45 |\n",
              "| CS008415000097 | 20181118 | 20150322 | 43 |\n",
              "| CS028414000014 | 20170712 | 20150711 | 24 |\n",
              "| CS025415000050 | 20180821 | 20160131 | 30 |\n",
              "| CS003515000195 | 20190605 | 20150306 | 50 |\n",
              "| CS024514000042 | 20181205 | 20151010 | 37 |\n",
              "| CS040415000178 | 20190922 | 20150627 | 50 |\n",
              "| CS027514000015 | 20191010 | 20151101 | 47 |\n",
              "| CS025415000134 | 20190918 | 20150720 | 49 |\n",
              "| CS021515000126 | 20171010 | 20150508 | 29 |\n",
              "\n"
            ],
            "text/plain": [
              "   customer_id    sales_ymd application_date elapsed_months\n",
              "1  CS006214000001 20181103  20150201         45            \n",
              "2  CS008415000097 20181118  20150322         43            \n",
              "3  CS028414000014 20170712  20150711         24            \n",
              "4  CS025415000050 20180821  20160131         30            \n",
              "5  CS003515000195 20190605  20150306         50            \n",
              "6  CS024514000042 20181205  20151010         37            \n",
              "7  CS040415000178 20190922  20150627         50            \n",
              "8  CS027514000015 20191010  20151101         47            \n",
              "9  CS025415000134 20190918  20150720         49            \n",
              "10 CS021515000126 20171010  20150508         29            "
            ]
          },
          "metadata": {},
          "output_type": "display_data"
        }
      ],
      "source": [
        "df_receipt[c(\"customer_id\", \"sales_ymd\")] %>%\n",
        "    distinct(., .keep_all = TRUE) %>%\n",
        "    inner_join(df_customer[c(\"customer_id\", \"application_date\")], by = \"customer_id\") %>%\n",
        "    mutate(elapsed_months = \n",
        "           trunc(time_length(\n",
        "               interval(\n",
        "                   strptime(application_date, \"%Y%m%d\"),\n",
        "                   strptime(as.character(sales_ymd), \"%Y%m%d\")\n",
        "               ), \"month\"))) %>%\n",
        "    select(customer_id, sales_ymd, application_date, elapsed_months) %>%\n",
        "    slice(1:10)"
      ]
    },
    {
      "cell_type": "markdown",
      "metadata": {
        "id": "_Aj3SXx4BJim"
      },
      "source": [
        "---\n",
        "> R-072: 영수증 내역 데이터(df_receipt)의 매출일(df_customer)에 대해 고객 데이터(df_customer)의 회원가입 신청일(application_date)로부터의 경과년수를 계산하여 고객 ID(customer_id), 매출일, 회원가입 신청일과 함께 10건 (sales_ymd는 수치, application_date는 문자열로 데이터를 보관하고 있다는 점에 유의) 1년 미만은 반올림한다."
      ]
    },
    {
      "cell_type": "code",
      "execution_count": null,
      "metadata": {
        "id": "p4FjtsHuBJim",
        "outputId": "b8d91466-0735-41bc-ff43-a749bff14e5d"
      },
      "outputs": [
        {
          "data": {
            "text/html": [
              "<table class=\"dataframe\">\n",
              "<caption>A data.frame: 10 × 4</caption>\n",
              "<thead>\n",
              "\t<tr><th scope=col>customer_id</th><th scope=col>sales_ymd</th><th scope=col>application_date</th><th scope=col>elapsed_years</th></tr>\n",
              "\t<tr><th scope=col>&lt;chr&gt;</th><th scope=col>&lt;int&gt;</th><th scope=col>&lt;chr&gt;</th><th scope=col>&lt;dbl&gt;</th></tr>\n",
              "</thead>\n",
              "<tbody>\n",
              "\t<tr><td>CS006214000001</td><td>20181103</td><td>20150201</td><td>3</td></tr>\n",
              "\t<tr><td>CS008415000097</td><td>20181118</td><td>20150322</td><td>3</td></tr>\n",
              "\t<tr><td>CS028414000014</td><td>20170712</td><td>20150711</td><td>2</td></tr>\n",
              "\t<tr><td>CS025415000050</td><td>20180821</td><td>20160131</td><td>2</td></tr>\n",
              "\t<tr><td>CS003515000195</td><td>20190605</td><td>20150306</td><td>4</td></tr>\n",
              "\t<tr><td>CS024514000042</td><td>20181205</td><td>20151010</td><td>3</td></tr>\n",
              "\t<tr><td>CS040415000178</td><td>20190922</td><td>20150627</td><td>4</td></tr>\n",
              "\t<tr><td>CS027514000015</td><td>20191010</td><td>20151101</td><td>3</td></tr>\n",
              "\t<tr><td>CS025415000134</td><td>20190918</td><td>20150720</td><td>4</td></tr>\n",
              "\t<tr><td>CS021515000126</td><td>20171010</td><td>20150508</td><td>2</td></tr>\n",
              "</tbody>\n",
              "</table>\n"
            ],
            "text/latex": [
              "A data.frame: 10 × 4\n",
              "\\begin{tabular}{llll}\n",
              " customer\\_id & sales\\_ymd & application\\_date & elapsed\\_years\\\\\n",
              " <chr> & <int> & <chr> & <dbl>\\\\\n",
              "\\hline\n",
              "\t CS006214000001 & 20181103 & 20150201 & 3\\\\\n",
              "\t CS008415000097 & 20181118 & 20150322 & 3\\\\\n",
              "\t CS028414000014 & 20170712 & 20150711 & 2\\\\\n",
              "\t CS025415000050 & 20180821 & 20160131 & 2\\\\\n",
              "\t CS003515000195 & 20190605 & 20150306 & 4\\\\\n",
              "\t CS024514000042 & 20181205 & 20151010 & 3\\\\\n",
              "\t CS040415000178 & 20190922 & 20150627 & 4\\\\\n",
              "\t CS027514000015 & 20191010 & 20151101 & 3\\\\\n",
              "\t CS025415000134 & 20190918 & 20150720 & 4\\\\\n",
              "\t CS021515000126 & 20171010 & 20150508 & 2\\\\\n",
              "\\end{tabular}\n"
            ],
            "text/markdown": [
              "\n",
              "A data.frame: 10 × 4\n",
              "\n",
              "| customer_id &lt;chr&gt; | sales_ymd &lt;int&gt; | application_date &lt;chr&gt; | elapsed_years &lt;dbl&gt; |\n",
              "|---|---|---|---|\n",
              "| CS006214000001 | 20181103 | 20150201 | 3 |\n",
              "| CS008415000097 | 20181118 | 20150322 | 3 |\n",
              "| CS028414000014 | 20170712 | 20150711 | 2 |\n",
              "| CS025415000050 | 20180821 | 20160131 | 2 |\n",
              "| CS003515000195 | 20190605 | 20150306 | 4 |\n",
              "| CS024514000042 | 20181205 | 20151010 | 3 |\n",
              "| CS040415000178 | 20190922 | 20150627 | 4 |\n",
              "| CS027514000015 | 20191010 | 20151101 | 3 |\n",
              "| CS025415000134 | 20190918 | 20150720 | 4 |\n",
              "| CS021515000126 | 20171010 | 20150508 | 2 |\n",
              "\n"
            ],
            "text/plain": [
              "   customer_id    sales_ymd application_date elapsed_years\n",
              "1  CS006214000001 20181103  20150201         3            \n",
              "2  CS008415000097 20181118  20150322         3            \n",
              "3  CS028414000014 20170712  20150711         2            \n",
              "4  CS025415000050 20180821  20160131         2            \n",
              "5  CS003515000195 20190605  20150306         4            \n",
              "6  CS024514000042 20181205  20151010         3            \n",
              "7  CS040415000178 20190922  20150627         4            \n",
              "8  CS027514000015 20191010  20151101         3            \n",
              "9  CS025415000134 20190918  20150720         4            \n",
              "10 CS021515000126 20171010  20150508         2            "
            ]
          },
          "metadata": {},
          "output_type": "display_data"
        }
      ],
      "source": [
        "df_receipt[c(\"customer_id\", \"sales_ymd\")] %>%\n",
        "    distinct(., .keep_all = TRUE) %>%\n",
        "    inner_join(df_customer[c(\"customer_id\", \"application_date\")], by = \"customer_id\") %>%\n",
        "    mutate(elapsed_years = \n",
        "           trunc(time_length(interval(\n",
        "               strptime(application_date, \"%Y%m%d\"),\n",
        "               strptime(as.character(sales_ymd), \"%Y%m%d\")), \"year\")))%>%\n",
        "    select(customer_id, sales_ymd, application_date, elapsed_years) %>%\n",
        "    slice(1:10)"
      ]
    },
    {
      "cell_type": "markdown",
      "metadata": {
        "id": "zHcYgraDBJin"
      },
      "source": [
        "---\n",
        "> R-073: 영수증 내역 데이터(df_receipt)의 매출일(sales_ymd)에 대해 고객 데이터(df_customer)의 회원가입일(application_date)로부터의 에포크 초 단위의 경과 시간을 계산하여 고객 ID(customer_id), 매출일, 회원가입일과 함께 10건을 표시한다. 과 함께 10건을 표시하라(단, sales_ymd는 수치, application_date는 문자열로 데이터를 보유하고 있다는 점에 유의). 단, 시간 정보는 보유하지 않으므로 각 날짜는 0시 0분 0초로 표시한다."
      ]
    },
    {
      "cell_type": "code",
      "execution_count": null,
      "metadata": {
        "id": "lC2ZognMBJin",
        "outputId": "94170735-7a88-4bf6-f0dd-12750671fefb"
      },
      "outputs": [
        {
          "data": {
            "text/html": [
              "<table class=\"dataframe\">\n",
              "<caption>A data.frame: 10 × 4</caption>\n",
              "<thead>\n",
              "\t<tr><th scope=col>customer_id</th><th scope=col>sales_ymd</th><th scope=col>application_date</th><th scope=col>elapsed_epoch</th></tr>\n",
              "\t<tr><th scope=col>&lt;chr&gt;</th><th scope=col>&lt;int&gt;</th><th scope=col>&lt;chr&gt;</th><th scope=col>&lt;dbl&gt;</th></tr>\n",
              "</thead>\n",
              "<tbody>\n",
              "\t<tr><td>CS006214000001</td><td>20181103</td><td>20150201</td><td>118454400</td></tr>\n",
              "\t<tr><td>CS008415000097</td><td>20181118</td><td>20150322</td><td>115516800</td></tr>\n",
              "\t<tr><td>CS028414000014</td><td>20170712</td><td>20150711</td><td> 63244800</td></tr>\n",
              "\t<tr><td>CS025415000050</td><td>20180821</td><td>20160131</td><td> 80611200</td></tr>\n",
              "\t<tr><td>CS003515000195</td><td>20190605</td><td>20150306</td><td>134092800</td></tr>\n",
              "\t<tr><td>CS024514000042</td><td>20181205</td><td>20151010</td><td> 99532800</td></tr>\n",
              "\t<tr><td>CS040415000178</td><td>20190922</td><td>20150627</td><td>133747200</td></tr>\n",
              "\t<tr><td>CS027514000015</td><td>20191010</td><td>20151101</td><td>124329600</td></tr>\n",
              "\t<tr><td>CS025415000134</td><td>20190918</td><td>20150720</td><td>131414400</td></tr>\n",
              "\t<tr><td>CS021515000126</td><td>20171010</td><td>20150508</td><td> 76550400</td></tr>\n",
              "</tbody>\n",
              "</table>\n"
            ],
            "text/latex": [
              "A data.frame: 10 × 4\n",
              "\\begin{tabular}{llll}\n",
              " customer\\_id & sales\\_ymd & application\\_date & elapsed\\_epoch\\\\\n",
              " <chr> & <int> & <chr> & <dbl>\\\\\n",
              "\\hline\n",
              "\t CS006214000001 & 20181103 & 20150201 & 118454400\\\\\n",
              "\t CS008415000097 & 20181118 & 20150322 & 115516800\\\\\n",
              "\t CS028414000014 & 20170712 & 20150711 &  63244800\\\\\n",
              "\t CS025415000050 & 20180821 & 20160131 &  80611200\\\\\n",
              "\t CS003515000195 & 20190605 & 20150306 & 134092800\\\\\n",
              "\t CS024514000042 & 20181205 & 20151010 &  99532800\\\\\n",
              "\t CS040415000178 & 20190922 & 20150627 & 133747200\\\\\n",
              "\t CS027514000015 & 20191010 & 20151101 & 124329600\\\\\n",
              "\t CS025415000134 & 20190918 & 20150720 & 131414400\\\\\n",
              "\t CS021515000126 & 20171010 & 20150508 &  76550400\\\\\n",
              "\\end{tabular}\n"
            ],
            "text/markdown": [
              "\n",
              "A data.frame: 10 × 4\n",
              "\n",
              "| customer_id &lt;chr&gt; | sales_ymd &lt;int&gt; | application_date &lt;chr&gt; | elapsed_epoch &lt;dbl&gt; |\n",
              "|---|---|---|---|\n",
              "| CS006214000001 | 20181103 | 20150201 | 118454400 |\n",
              "| CS008415000097 | 20181118 | 20150322 | 115516800 |\n",
              "| CS028414000014 | 20170712 | 20150711 |  63244800 |\n",
              "| CS025415000050 | 20180821 | 20160131 |  80611200 |\n",
              "| CS003515000195 | 20190605 | 20150306 | 134092800 |\n",
              "| CS024514000042 | 20181205 | 20151010 |  99532800 |\n",
              "| CS040415000178 | 20190922 | 20150627 | 133747200 |\n",
              "| CS027514000015 | 20191010 | 20151101 | 124329600 |\n",
              "| CS025415000134 | 20190918 | 20150720 | 131414400 |\n",
              "| CS021515000126 | 20171010 | 20150508 |  76550400 |\n",
              "\n"
            ],
            "text/plain": [
              "   customer_id    sales_ymd application_date elapsed_epoch\n",
              "1  CS006214000001 20181103  20150201         118454400    \n",
              "2  CS008415000097 20181118  20150322         115516800    \n",
              "3  CS028414000014 20170712  20150711          63244800    \n",
              "4  CS025415000050 20180821  20160131          80611200    \n",
              "5  CS003515000195 20190605  20150306         134092800    \n",
              "6  CS024514000042 20181205  20151010          99532800    \n",
              "7  CS040415000178 20190922  20150627         133747200    \n",
              "8  CS027514000015 20191010  20151101         124329600    \n",
              "9  CS025415000134 20190918  20150720         131414400    \n",
              "10 CS021515000126 20171010  20150508          76550400    "
            ]
          },
          "metadata": {},
          "output_type": "display_data"
        }
      ],
      "source": [
        "df_receipt[c(\"customer_id\", \"sales_ymd\")] %>%\n",
        "    distinct(., .keep_all = TRUE) %>%\n",
        "    inner_join(df_customer[c(\"customer_id\",\"application_date\")],\n",
        "               by=\"customer_id\") %>%\n",
        "    mutate(elapsed_epoch = \n",
        "           as.numeric(strptime(as.character(sales_ymd), \"%Y%m%d\")) \n",
        "            - as.numeric(strptime(application_date, \"%Y%m%d\"))) %>%\n",
        "    select(customer_id, sales_ymd, application_date, elapsed_epoch) %>%\n",
        "    slice(1:10)"
      ]
    },
    {
      "cell_type": "markdown",
      "metadata": {
        "id": "7zQHAE1cBJin"
      },
      "source": [
        "---\n",
        "> R-074: 영수증 내역 데이터(df_receipt)의 매출일(sales_ymd)에 대해 해당 주 월요일부터의 경과일수를 계산하여 매출일, 직전 월요일까지 10건씩 표시하라(sales_ymd는 수치로 데이터를 보관하고 있다는 점에 유의)."
      ]
    },
    {
      "cell_type": "code",
      "execution_count": null,
      "metadata": {
        "id": "3yX3A396BJin",
        "outputId": "23c8c4be-e762-42c0-dbc5-78826fa10064"
      },
      "outputs": [
        {
          "data": {
            "text/html": [
              "<table class=\"dataframe\">\n",
              "<caption>A data.frame: 10 × 3</caption>\n",
              "<thead>\n",
              "\t<tr><th scope=col>sales_ymd</th><th scope=col>elapsed_days</th><th scope=col>monday</th></tr>\n",
              "\t<tr><th scope=col>&lt;int&gt;</th><th scope=col>&lt;int&gt;</th><th scope=col>&lt;date&gt;</th></tr>\n",
              "</thead>\n",
              "<tbody>\n",
              "\t<tr><td>20181103</td><td>5</td><td>2018-10-29</td></tr>\n",
              "\t<tr><td>20181118</td><td>6</td><td>2018-11-12</td></tr>\n",
              "\t<tr><td>20170712</td><td>2</td><td>2017-07-10</td></tr>\n",
              "\t<tr><td>20190205</td><td>1</td><td>2019-02-04</td></tr>\n",
              "\t<tr><td>20180821</td><td>1</td><td>2018-08-20</td></tr>\n",
              "\t<tr><td>20190605</td><td>2</td><td>2019-06-03</td></tr>\n",
              "\t<tr><td>20181205</td><td>2</td><td>2018-12-03</td></tr>\n",
              "\t<tr><td>20190922</td><td>6</td><td>2019-09-16</td></tr>\n",
              "\t<tr><td>20170504</td><td>3</td><td>2017-05-01</td></tr>\n",
              "\t<tr><td>20191010</td><td>3</td><td>2019-10-07</td></tr>\n",
              "</tbody>\n",
              "</table>\n"
            ],
            "text/latex": [
              "A data.frame: 10 × 3\n",
              "\\begin{tabular}{lll}\n",
              " sales\\_ymd & elapsed\\_days & monday\\\\\n",
              " <int> & <int> & <date>\\\\\n",
              "\\hline\n",
              "\t 20181103 & 5 & 2018-10-29\\\\\n",
              "\t 20181118 & 6 & 2018-11-12\\\\\n",
              "\t 20170712 & 2 & 2017-07-10\\\\\n",
              "\t 20190205 & 1 & 2019-02-04\\\\\n",
              "\t 20180821 & 1 & 2018-08-20\\\\\n",
              "\t 20190605 & 2 & 2019-06-03\\\\\n",
              "\t 20181205 & 2 & 2018-12-03\\\\\n",
              "\t 20190922 & 6 & 2019-09-16\\\\\n",
              "\t 20170504 & 3 & 2017-05-01\\\\\n",
              "\t 20191010 & 3 & 2019-10-07\\\\\n",
              "\\end{tabular}\n"
            ],
            "text/markdown": [
              "\n",
              "A data.frame: 10 × 3\n",
              "\n",
              "| sales_ymd &lt;int&gt; | elapsed_days &lt;int&gt; | monday &lt;date&gt; |\n",
              "|---|---|---|\n",
              "| 20181103 | 5 | 2018-10-29 |\n",
              "| 20181118 | 6 | 2018-11-12 |\n",
              "| 20170712 | 2 | 2017-07-10 |\n",
              "| 20190205 | 1 | 2019-02-04 |\n",
              "| 20180821 | 1 | 2018-08-20 |\n",
              "| 20190605 | 2 | 2019-06-03 |\n",
              "| 20181205 | 2 | 2018-12-03 |\n",
              "| 20190922 | 6 | 2019-09-16 |\n",
              "| 20170504 | 3 | 2017-05-01 |\n",
              "| 20191010 | 3 | 2019-10-07 |\n",
              "\n"
            ],
            "text/plain": [
              "   sales_ymd elapsed_days monday    \n",
              "1  20181103  5            2018-10-29\n",
              "2  20181118  6            2018-11-12\n",
              "3  20170712  2            2017-07-10\n",
              "4  20190205  1            2019-02-04\n",
              "5  20180821  1            2018-08-20\n",
              "6  20190605  2            2019-06-03\n",
              "7  20181205  2            2018-12-03\n",
              "8  20190922  6            2019-09-16\n",
              "9  20170504  3            2017-05-01\n",
              "10 20191010  3            2019-10-07"
            ]
          },
          "metadata": {},
          "output_type": "display_data"
        }
      ],
      "source": [
        "df_receipt[\"sales_ymd\"] %>%\n",
        "    # 아래에서는 시작일이 일요일이기 때문에 하루 전으로 시프트하여 일요일을 전주 마지막 날로 변환하고 있다.\n",
        "    # 그 상태에서 floor_date를 하면 한 주의 시작일로 전주 일요일을 얻을 수 있기 때문이다,\n",
        "    # 시작일을 월요일로 만들기 위해 1을 더하고 있다.\n",
        "    mutate(monday = as.Date(floor_date(\n",
        "        strptime(as.character(sales_ymd), \"%Y%m%d\") - 1 , \n",
        "                    unit = \"week\")) + 1) %>%\n",
        "    mutate(elapsed_days = as.integer(\n",
        "           as.Date(\n",
        "               strptime(as.character(sales_ymd), \"%Y%m%d\")) - monday)) %>%\n",
        "    select(sales_ymd, elapsed_days, monday) %>%\n",
        "    slice(1:10)"
      ]
    },
    {
      "cell_type": "markdown",
      "metadata": {
        "id": "qjNA1-6TBJin"
      },
      "source": [
        "---\n",
        "> R-075: 고객 데이터(df_customer)에서 무작위로 1%의 데이터를 추출하여 맨 앞부터 10개를 표시하라."
      ]
    },
    {
      "cell_type": "code",
      "execution_count": null,
      "metadata": {
        "id": "IhJKm8SDBJin",
        "outputId": "cb3ee829-de54-429c-afd4-8d18c45288c7"
      },
      "outputs": [
        {
          "data": {
            "text/html": [
              "<table class=\"dataframe\">\n",
              "<caption>A data.frame: 10 × 11</caption>\n",
              "<thead>\n",
              "\t<tr><th></th><th scope=col>customer_id</th><th scope=col>customer_name</th><th scope=col>gender_cd</th><th scope=col>gender</th><th scope=col>birth_day</th><th scope=col>age</th><th scope=col>postal_cd</th><th scope=col>address</th><th scope=col>application_store_cd</th><th scope=col>application_date</th><th scope=col>status_cd</th></tr>\n",
              "\t<tr><th></th><th scope=col>&lt;chr&gt;</th><th scope=col>&lt;chr&gt;</th><th scope=col>&lt;chr&gt;</th><th scope=col>&lt;chr&gt;</th><th scope=col>&lt;date&gt;</th><th scope=col>&lt;int&gt;</th><th scope=col>&lt;chr&gt;</th><th scope=col>&lt;chr&gt;</th><th scope=col>&lt;chr&gt;</th><th scope=col>&lt;chr&gt;</th><th scope=col>&lt;chr&gt;</th></tr>\n",
              "</thead>\n",
              "<tbody>\n",
              "\t<tr><th scope=row>1</th><td>CS001612000311</td><td>岡本 美佳    </td><td>1</td><td>女性</td><td>1951-03-21</td><td>68</td><td>211-0015</td><td>神奈川県川崎市中原区北谷町**********</td><td>S13001</td><td>20171118</td><td>0-00000000-0</td></tr>\n",
              "\t<tr><th scope=row>2</th><td>CS018415000209</td><td>西村 由美子  </td><td>1</td><td>女性</td><td>1974-11-26</td><td>44</td><td>203-0051</td><td>東京都東久留米市小山**********      </td><td>S13018</td><td>20151001</td><td>C-20101026-D</td></tr>\n",
              "\t<tr><th scope=row>3</th><td>CS020415000109</td><td>岡村 里奈    </td><td>1</td><td>女性</td><td>1969-02-02</td><td>50</td><td>173-0001</td><td>東京都板橋区本町**********          </td><td>S13020</td><td>20150207</td><td>A-20100922-D</td></tr>\n",
              "\t<tr><th scope=row>4</th><td>CS040403000046</td><td>辻 獅童      </td><td>0</td><td>男性</td><td>1977-01-23</td><td>42</td><td>226-0016</td><td>神奈川県横浜市緑区霧が丘**********  </td><td>S14040</td><td>20150813</td><td>0-00000000-0</td></tr>\n",
              "\t<tr><th scope=row>5</th><td>CS044313000008</td><td>河原 育子    </td><td>1</td><td>女性</td><td>1985-06-03</td><td>33</td><td>144-0056</td><td>東京都大田区西六郷**********        </td><td>S13044</td><td>20161204</td><td>0-00000000-0</td></tr>\n",
              "\t<tr><th scope=row>6</th><td>CS038502000025</td><td>小柳 ケンイチ</td><td>0</td><td>男性</td><td>1963-06-01</td><td>55</td><td>134-0015</td><td>東京都江戸川区西瑞江**********      </td><td>S13038</td><td>20151214</td><td>0-00000000-0</td></tr>\n",
              "\t<tr><th scope=row>7</th><td>CS034402000064</td><td>川越 明      </td><td>0</td><td>男性</td><td>1972-11-27</td><td>46</td><td>213-0031</td><td>神奈川県川崎市高津区宇奈根**********</td><td>S14034</td><td>20170913</td><td>0-00000000-0</td></tr>\n",
              "\t<tr><th scope=row>8</th><td>CS015303000005</td><td>寺西 一徳    </td><td>0</td><td>男性</td><td>1987-01-16</td><td>32</td><td>135-0016</td><td>東京都江東区東陽**********          </td><td>S13015</td><td>20150223</td><td>0-00000000-0</td></tr>\n",
              "\t<tr><th scope=row>9</th><td>CS029411000007</td><td>森永 璃子    </td><td>1</td><td>女性</td><td>1976-12-01</td><td>42</td><td>134-0085</td><td>東京都江戸川区南葛西**********      </td><td>S12029</td><td>20150709</td><td>5-20101007-9</td></tr>\n",
              "\t<tr><th scope=row>10</th><td>CS048612000001</td><td>劇団 恵子    </td><td>1</td><td>女性</td><td>1956-01-11</td><td>63</td><td>224-0053</td><td>神奈川県横浜市都筑区池辺町**********</td><td>S14048</td><td>20170920</td><td>0-00000000-0</td></tr>\n",
              "</tbody>\n",
              "</table>\n"
            ],
            "text/latex": [
              "A data.frame: 10 × 11\n",
              "\\begin{tabular}{r|lllllllllll}\n",
              "  & customer\\_id & customer\\_name & gender\\_cd & gender & birth\\_day & age & postal\\_cd & address & application\\_store\\_cd & application\\_date & status\\_cd\\\\\n",
              "  & <chr> & <chr> & <chr> & <chr> & <date> & <int> & <chr> & <chr> & <chr> & <chr> & <chr>\\\\\n",
              "\\hline\n",
              "\t1 & CS001612000311 & 岡本 美佳     & 1 & 女性 & 1951-03-21 & 68 & 211-0015 & 神奈川県川崎市中原区北谷町********** & S13001 & 20171118 & 0-00000000-0\\\\\n",
              "\t2 & CS018415000209 & 西村 由美子   & 1 & 女性 & 1974-11-26 & 44 & 203-0051 & 東京都東久留米市小山**********       & S13018 & 20151001 & C-20101026-D\\\\\n",
              "\t3 & CS020415000109 & 岡村 里奈     & 1 & 女性 & 1969-02-02 & 50 & 173-0001 & 東京都板橋区本町**********           & S13020 & 20150207 & A-20100922-D\\\\\n",
              "\t4 & CS040403000046 & 辻 獅童       & 0 & 男性 & 1977-01-23 & 42 & 226-0016 & 神奈川県横浜市緑区霧が丘**********   & S14040 & 20150813 & 0-00000000-0\\\\\n",
              "\t5 & CS044313000008 & 河原 育子     & 1 & 女性 & 1985-06-03 & 33 & 144-0056 & 東京都大田区西六郷**********         & S13044 & 20161204 & 0-00000000-0\\\\\n",
              "\t6 & CS038502000025 & 小柳 ケンイチ & 0 & 男性 & 1963-06-01 & 55 & 134-0015 & 東京都江戸川区西瑞江**********       & S13038 & 20151214 & 0-00000000-0\\\\\n",
              "\t7 & CS034402000064 & 川越 明       & 0 & 男性 & 1972-11-27 & 46 & 213-0031 & 神奈川県川崎市高津区宇奈根********** & S14034 & 20170913 & 0-00000000-0\\\\\n",
              "\t8 & CS015303000005 & 寺西 一徳     & 0 & 男性 & 1987-01-16 & 32 & 135-0016 & 東京都江東区東陽**********           & S13015 & 20150223 & 0-00000000-0\\\\\n",
              "\t9 & CS029411000007 & 森永 璃子     & 1 & 女性 & 1976-12-01 & 42 & 134-0085 & 東京都江戸川区南葛西**********       & S12029 & 20150709 & 5-20101007-9\\\\\n",
              "\t10 & CS048612000001 & 劇団 恵子     & 1 & 女性 & 1956-01-11 & 63 & 224-0053 & 神奈川県横浜市都筑区池辺町********** & S14048 & 20170920 & 0-00000000-0\\\\\n",
              "\\end{tabular}\n"
            ],
            "text/markdown": [
              "\n",
              "A data.frame: 10 × 11\n",
              "\n",
              "| <!--/--> | customer_id &lt;chr&gt; | customer_name &lt;chr&gt; | gender_cd &lt;chr&gt; | gender &lt;chr&gt; | birth_day &lt;date&gt; | age &lt;int&gt; | postal_cd &lt;chr&gt; | address &lt;chr&gt; | application_store_cd &lt;chr&gt; | application_date &lt;chr&gt; | status_cd &lt;chr&gt; |\n",
              "|---|---|---|---|---|---|---|---|---|---|---|---|\n",
              "| 1 | CS001612000311 | 岡本 美佳     | 1 | 女性 | 1951-03-21 | 68 | 211-0015 | 神奈川県川崎市中原区北谷町********** | S13001 | 20171118 | 0-00000000-0 |\n",
              "| 2 | CS018415000209 | 西村 由美子   | 1 | 女性 | 1974-11-26 | 44 | 203-0051 | 東京都東久留米市小山**********       | S13018 | 20151001 | C-20101026-D |\n",
              "| 3 | CS020415000109 | 岡村 里奈     | 1 | 女性 | 1969-02-02 | 50 | 173-0001 | 東京都板橋区本町**********           | S13020 | 20150207 | A-20100922-D |\n",
              "| 4 | CS040403000046 | 辻 獅童       | 0 | 男性 | 1977-01-23 | 42 | 226-0016 | 神奈川県横浜市緑区霧が丘**********   | S14040 | 20150813 | 0-00000000-0 |\n",
              "| 5 | CS044313000008 | 河原 育子     | 1 | 女性 | 1985-06-03 | 33 | 144-0056 | 東京都大田区西六郷**********         | S13044 | 20161204 | 0-00000000-0 |\n",
              "| 6 | CS038502000025 | 小柳 ケンイチ | 0 | 男性 | 1963-06-01 | 55 | 134-0015 | 東京都江戸川区西瑞江**********       | S13038 | 20151214 | 0-00000000-0 |\n",
              "| 7 | CS034402000064 | 川越 明       | 0 | 男性 | 1972-11-27 | 46 | 213-0031 | 神奈川県川崎市高津区宇奈根********** | S14034 | 20170913 | 0-00000000-0 |\n",
              "| 8 | CS015303000005 | 寺西 一徳     | 0 | 男性 | 1987-01-16 | 32 | 135-0016 | 東京都江東区東陽**********           | S13015 | 20150223 | 0-00000000-0 |\n",
              "| 9 | CS029411000007 | 森永 璃子     | 1 | 女性 | 1976-12-01 | 42 | 134-0085 | 東京都江戸川区南葛西**********       | S12029 | 20150709 | 5-20101007-9 |\n",
              "| 10 | CS048612000001 | 劇団 恵子     | 1 | 女性 | 1956-01-11 | 63 | 224-0053 | 神奈川県横浜市都筑区池辺町********** | S14048 | 20170920 | 0-00000000-0 |\n",
              "\n"
            ],
            "text/plain": [
              "   customer_id    customer_name gender_cd gender birth_day  age postal_cd\n",
              "1  CS001612000311 岡本 美佳     1         女性   1951-03-21 68  211-0015 \n",
              "2  CS018415000209 西村 由美子   1         女性   1974-11-26 44  203-0051 \n",
              "3  CS020415000109 岡村 里奈     1         女性   1969-02-02 50  173-0001 \n",
              "4  CS040403000046 辻 獅童       0         男性   1977-01-23 42  226-0016 \n",
              "5  CS044313000008 河原 育子     1         女性   1985-06-03 33  144-0056 \n",
              "6  CS038502000025 小柳 ケンイチ 0         男性   1963-06-01 55  134-0015 \n",
              "7  CS034402000064 川越 明       0         男性   1972-11-27 46  213-0031 \n",
              "8  CS015303000005 寺西 一徳     0         男性   1987-01-16 32  135-0016 \n",
              "9  CS029411000007 森永 璃子     1         女性   1976-12-01 42  134-0085 \n",
              "10 CS048612000001 劇団 恵子     1         女性   1956-01-11 63  224-0053 \n",
              "   address                              application_store_cd application_date\n",
              "1  神奈川県川崎市中原区北谷町********** S13001               20171118        \n",
              "2  東京都東久留米市小山**********       S13018               20151001        \n",
              "3  東京都板橋区本町**********           S13020               20150207        \n",
              "4  神奈川県横浜市緑区霧が丘**********   S14040               20150813        \n",
              "5  東京都大田区西六郷**********         S13044               20161204        \n",
              "6  東京都江戸川区西瑞江**********       S13038               20151214        \n",
              "7  神奈川県川崎市高津区宇奈根********** S14034               20170913        \n",
              "8  東京都江東区東陽**********           S13015               20150223        \n",
              "9  東京都江戸川区南葛西**********       S12029               20150709        \n",
              "10 神奈川県横浜市都筑区池辺町********** S14048               20170920        \n",
              "   status_cd   \n",
              "1  0-00000000-0\n",
              "2  C-20101026-D\n",
              "3  A-20100922-D\n",
              "4  0-00000000-0\n",
              "5  0-00000000-0\n",
              "6  0-00000000-0\n",
              "7  0-00000000-0\n",
              "8  0-00000000-0\n",
              "9  5-20101007-9\n",
              "10 0-00000000-0"
            ]
          },
          "metadata": {},
          "output_type": "display_data"
        }
      ],
      "source": [
        "head(sample_frac(tbl = df_customer, size = 0.01), 10)"
      ]
    },
    {
      "cell_type": "markdown",
      "metadata": {
        "id": "Kn7p3oHzBJin"
      },
      "source": [
        "---\n",
        "> R-076: 고객 데이터(df_customer)에서 성별 코드(gender_cd)의 비율에 따라 무작위로 10%의 데이터를 층화 추출하고, 성별 코드별로 건수를 집계하라."
      ]
    },
    {
      "cell_type": "code",
      "execution_count": null,
      "metadata": {
        "id": "fi7Dn9spBJin",
        "outputId": "ea7210e4-57cc-4fc9-a2da-f39208e5acfe"
      },
      "outputs": [
        {
          "data": {
            "text/html": [
              "<table class=\"dataframe\">\n",
              "<caption>A tibble: 3 × 2</caption>\n",
              "<thead>\n",
              "\t<tr><th scope=col>gender_cd</th><th scope=col>customer_num</th></tr>\n",
              "\t<tr><th scope=col>&lt;chr&gt;</th><th scope=col>&lt;int&gt;</th></tr>\n",
              "</thead>\n",
              "<tbody>\n",
              "\t<tr><td>0</td><td> 298</td></tr>\n",
              "\t<tr><td>1</td><td>1792</td></tr>\n",
              "\t<tr><td>9</td><td> 107</td></tr>\n",
              "</tbody>\n",
              "</table>\n"
            ],
            "text/latex": [
              "A tibble: 3 × 2\n",
              "\\begin{tabular}{ll}\n",
              " gender\\_cd & customer\\_num\\\\\n",
              " <chr> & <int>\\\\\n",
              "\\hline\n",
              "\t 0 &  298\\\\\n",
              "\t 1 & 1792\\\\\n",
              "\t 9 &  107\\\\\n",
              "\\end{tabular}\n"
            ],
            "text/markdown": [
              "\n",
              "A tibble: 3 × 2\n",
              "\n",
              "| gender_cd &lt;chr&gt; | customer_num &lt;int&gt; |\n",
              "|---|---|\n",
              "| 0 |  298 |\n",
              "| 1 | 1792 |\n",
              "| 9 |  107 |\n",
              "\n"
            ],
            "text/plain": [
              "  gender_cd customer_num\n",
              "1 0          298        \n",
              "2 1         1792        \n",
              "3 9          107        "
            ]
          },
          "metadata": {},
          "output_type": "display_data"
        }
      ],
      "source": [
        "set.seed(71)\n",
        "\n",
        "df_customer %>%\n",
        "    group_by(gender_cd) %>%\n",
        "    sample_frac(0.1) %>%\n",
        "    summarise(customer_num = n(), .groups = \"drop\")"
      ]
    },
    {
      "cell_type": "markdown",
      "metadata": {
        "id": "M8Uoy1XRBJin"
      },
      "source": [
        "---\n",
        "> R-077: 영수증 명세서 데이터(df_receipt)의 매출 금액을 고객 단위로 합산하고, 합산한 매출 금액의 편차를 추출하라. 단, 이상값은 매출금액 합계를 로그화한 후 평균과 표준편차를 계산하여 그 평균에서 3σ 이상 벗어난 것으로 한다(자연대수, 상용대수 모두 가능). 결과는 10건 표시하라."
      ]
    },
    {
      "cell_type": "code",
      "execution_count": null,
      "metadata": {
        "id": "BI7M5oScBJin",
        "outputId": "8e4717c2-b263-4e2d-e558-8f155b7a28bd"
      },
      "outputs": [
        {
          "data": {
            "text/html": [
              "<table class=\"dataframe\">\n",
              "<caption>A tibble: 1 × 3</caption>\n",
              "<thead>\n",
              "\t<tr><th scope=col>customer_id</th><th scope=col>sum_amount</th><th scope=col>log_sum_amount</th></tr>\n",
              "\t<tr><th scope=col>&lt;chr&gt;</th><th scope=col>&lt;int&gt;</th><th scope=col>&lt;dbl&gt;</th></tr>\n",
              "</thead>\n",
              "<tbody>\n",
              "\t<tr><td>ZZ000000000000</td><td>12395003</td><td>16.3328</td></tr>\n",
              "</tbody>\n",
              "</table>\n"
            ],
            "text/latex": [
              "A tibble: 1 × 3\n",
              "\\begin{tabular}{lll}\n",
              " customer\\_id & sum\\_amount & log\\_sum\\_amount\\\\\n",
              " <chr> & <int> & <dbl>\\\\\n",
              "\\hline\n",
              "\t ZZ000000000000 & 12395003 & 16.3328\\\\\n",
              "\\end{tabular}\n"
            ],
            "text/markdown": [
              "\n",
              "A tibble: 1 × 3\n",
              "\n",
              "| customer_id &lt;chr&gt; | sum_amount &lt;int&gt; | log_sum_amount &lt;dbl&gt; |\n",
              "|---|---|---|\n",
              "| ZZ000000000000 | 12395003 | 16.3328 |\n",
              "\n"
            ],
            "text/plain": [
              "  customer_id    sum_amount log_sum_amount\n",
              "1 ZZ000000000000 12395003   16.3328       "
            ]
          },
          "metadata": {},
          "output_type": "display_data"
        }
      ],
      "source": [
        "df_receipt %>%\n",
        "    group_by(customer_id) %>%\n",
        "    summarise(sum_amount = sum(amount), .groups = \"drop\") %>%\n",
        "    mutate(log_sum_amount = log(sum_amount + 0.5)) %>%\n",
        "    filter(abs(log_sum_amount - mean(log_sum_amount)) \n",
        "                                / sd(log_sum_amount) > 3) %>%\n",
        "    slice(1:10)"
      ]
    },
    {
      "cell_type": "markdown",
      "metadata": {
        "id": "_31l8k43BJin"
      },
      "source": [
        "---\n",
        "> R-078: 영수증 내역 데이터(df_receipt)의 매출 금액(amount)을 고객 단위로 합산하고, 합산된 매출 금액의 외곽값을 추출한다. 단, 고객 ID가 \"Z\"로 시작하는 것은 비회원을 의미하므로 제외하여 계산한다. 여기서 이상값은 1사분위와 3사분위의 차이인 IQR을 이용하여 '1사분위수 -1.5×IQR' 이하 또는 '3사분위수+1.5×IQR'을 초과하는 것으로 한다. 결과는 10건 표시한다."
      ]
    },
    {
      "cell_type": "code",
      "execution_count": null,
      "metadata": {
        "id": "_6r1KtFyBJin",
        "outputId": "0b6f551c-8dea-40a8-ad29-2e6405c6b385"
      },
      "outputs": [
        {
          "data": {
            "text/html": [
              "<table class=\"dataframe\">\n",
              "<caption>A tibble: 10 × 2</caption>\n",
              "<thead>\n",
              "\t<tr><th scope=col>customer_id</th><th scope=col>sum_amount</th></tr>\n",
              "\t<tr><th scope=col>&lt;chr&gt;</th><th scope=col>&lt;int&gt;</th></tr>\n",
              "</thead>\n",
              "<tbody>\n",
              "\t<tr><td>CS001414000048</td><td> 8584</td></tr>\n",
              "\t<tr><td>CS001605000009</td><td>18925</td></tr>\n",
              "\t<tr><td>CS002415000594</td><td> 9568</td></tr>\n",
              "\t<tr><td>CS004414000181</td><td> 9584</td></tr>\n",
              "\t<tr><td>CS005415000137</td><td> 8734</td></tr>\n",
              "\t<tr><td>CS006414000001</td><td> 9156</td></tr>\n",
              "\t<tr><td>CS006414000029</td><td> 9179</td></tr>\n",
              "\t<tr><td>CS006415000105</td><td>10042</td></tr>\n",
              "\t<tr><td>CS006415000147</td><td>12723</td></tr>\n",
              "\t<tr><td>CS006415000157</td><td>10648</td></tr>\n",
              "</tbody>\n",
              "</table>\n"
            ],
            "text/latex": [
              "A tibble: 10 × 2\n",
              "\\begin{tabular}{ll}\n",
              " customer\\_id & sum\\_amount\\\\\n",
              " <chr> & <int>\\\\\n",
              "\\hline\n",
              "\t CS001414000048 &  8584\\\\\n",
              "\t CS001605000009 & 18925\\\\\n",
              "\t CS002415000594 &  9568\\\\\n",
              "\t CS004414000181 &  9584\\\\\n",
              "\t CS005415000137 &  8734\\\\\n",
              "\t CS006414000001 &  9156\\\\\n",
              "\t CS006414000029 &  9179\\\\\n",
              "\t CS006415000105 & 10042\\\\\n",
              "\t CS006415000147 & 12723\\\\\n",
              "\t CS006415000157 & 10648\\\\\n",
              "\\end{tabular}\n"
            ],
            "text/markdown": [
              "\n",
              "A tibble: 10 × 2\n",
              "\n",
              "| customer_id &lt;chr&gt; | sum_amount &lt;int&gt; |\n",
              "|---|---|\n",
              "| CS001414000048 |  8584 |\n",
              "| CS001605000009 | 18925 |\n",
              "| CS002415000594 |  9568 |\n",
              "| CS004414000181 |  9584 |\n",
              "| CS005415000137 |  8734 |\n",
              "| CS006414000001 |  9156 |\n",
              "| CS006414000029 |  9179 |\n",
              "| CS006415000105 | 10042 |\n",
              "| CS006415000147 | 12723 |\n",
              "| CS006415000157 | 10648 |\n",
              "\n"
            ],
            "text/plain": [
              "   customer_id    sum_amount\n",
              "1  CS001414000048  8584     \n",
              "2  CS001605000009 18925     \n",
              "3  CS002415000594  9568     \n",
              "4  CS004414000181  9584     \n",
              "5  CS005415000137  8734     \n",
              "6  CS006414000001  9156     \n",
              "7  CS006414000029  9179     \n",
              "8  CS006415000105 10042     \n",
              "9  CS006415000147 12723     \n",
              "10 CS006415000157 10648     "
            ]
          },
          "metadata": {},
          "output_type": "display_data"
        }
      ],
      "source": [
        "df_receipt %>%\n",
        "    group_by(customer_id) %>%\n",
        "    filter(!grepl(\"^Z\", customer_id)) %>%\n",
        "    summarise(sum_amount = sum(amount), .groups = \"drop\") %>%\n",
        "    filter(\n",
        "        sum_amount < quantile(sum_amount)[2] \n",
        "                     - 1.5 * (quantile(sum_amount)[4] - quantile(sum_amount)[2])\n",
        "        |\n",
        "        sum_amount > quantile(sum_amount)[4] \n",
        "                     + 1.5 * (quantile(sum_amount)[4] - quantile(sum_amount)[2])\n",
        "    ) %>%\n",
        "    slice(1:10)"
      ]
    },
    {
      "cell_type": "markdown",
      "metadata": {
        "id": "MeX5g1okBJin"
      },
      "source": [
        "---\n",
        "> R-079: 상품 데이터(df_product)의 각 항목에 대해 결손 수를 확인하라."
      ]
    },
    {
      "cell_type": "code",
      "execution_count": null,
      "metadata": {
        "id": "By6zEHu1BJio",
        "outputId": "1ea0199c-4c7c-4e44-e7e4-9bca33a9c01d"
      },
      "outputs": [
        {
          "data": {
            "text/html": [
              "<style>\n",
              ".dl-inline {width: auto; margin:0; padding: 0}\n",
              ".dl-inline>dt, .dl-inline>dd {float: none; width: auto; display: inline-block}\n",
              ".dl-inline>dt::after {content: \":\\0020\"; padding-right: .5ex}\n",
              ".dl-inline>dt:not(:first-of-type) {padding-left: .5ex}\n",
              "</style><dl class=dl-inline><dt>product_cd</dt><dd>0</dd><dt>category_major_cd</dt><dd>0</dd><dt>category_medium_cd</dt><dd>0</dd><dt>category_small_cd</dt><dd>0</dd><dt>unit_price</dt><dd>7</dd><dt>unit_cost</dt><dd>7</dd></dl>\n"
            ],
            "text/latex": [
              "\\begin{description*}\n",
              "\\item[product\\textbackslash{}\\_cd] 0\n",
              "\\item[category\\textbackslash{}\\_major\\textbackslash{}\\_cd] 0\n",
              "\\item[category\\textbackslash{}\\_medium\\textbackslash{}\\_cd] 0\n",
              "\\item[category\\textbackslash{}\\_small\\textbackslash{}\\_cd] 0\n",
              "\\item[unit\\textbackslash{}\\_price] 7\n",
              "\\item[unit\\textbackslash{}\\_cost] 7\n",
              "\\end{description*}\n"
            ],
            "text/markdown": [
              "product_cd\n",
              ":   0category_major_cd\n",
              ":   0category_medium_cd\n",
              ":   0category_small_cd\n",
              ":   0unit_price\n",
              ":   7unit_cost\n",
              ":   7\n",
              "\n"
            ],
            "text/plain": [
              "        product_cd  category_major_cd category_medium_cd  category_small_cd \n",
              "                 0                  0                  0                  0 \n",
              "        unit_price          unit_cost \n",
              "                 7                  7 "
            ]
          },
          "metadata": {},
          "output_type": "display_data"
        }
      ],
      "source": [
        "sapply(df_product, function(x) sum(is.na(x)))"
      ]
    },
    {
      "cell_type": "markdown",
      "metadata": {
        "id": "HAK31NQ3BJio"
      },
      "source": [
        "---\n",
        "> R-080: 상품 데이터(df_product) 중 어느 한 항목에 결손이 발생한 레코드를 모두 삭제한 새로운 상품 데이터를 생성한다. 또한, 삭제 전후의 건수를 표시하고, 079에서 확인한 건수만큼 감소한 것도 확인해야 한다."
      ]
    },
    {
      "cell_type": "code",
      "execution_count": null,
      "metadata": {
        "id": "K0w-TrUlBJio",
        "outputId": "e0ccd0c2-630a-41a3-9066-f139c0d507f2"
      },
      "outputs": [
        {
          "data": {
            "text/html": [
              "'削除前: 10030'"
            ],
            "text/latex": [
              "'削除前: 10030'"
            ],
            "text/markdown": [
              "'削除前: 10030'"
            ],
            "text/plain": [
              "[1] \"削除前: 10030\""
            ]
          },
          "metadata": {},
          "output_type": "display_data"
        },
        {
          "data": {
            "text/html": [
              "'削除後: 10023'"
            ],
            "text/latex": [
              "'削除後: 10023'"
            ],
            "text/markdown": [
              "'削除後: 10023'"
            ],
            "text/plain": [
              "[1] \"削除後: 10023\""
            ]
          },
          "metadata": {},
          "output_type": "display_data"
        }
      ],
      "source": [
        "df_product_1 <- na.omit(df_product)\n",
        "\n",
        "paste(\"삭제전\", nrow(df_product))\n",
        "paste(\"삭제후:\", nrow(df_product_1))"
      ]
    },
    {
      "cell_type": "markdown",
      "metadata": {
        "id": "HZgqmUojBJio"
      },
      "source": [
        "---\n",
        "> R-081: 단가(unit_price)와 원가(unit_cost)의 결손값에 대해 각각의 평균값으로 보완한 새로운 상품 데이터를 작성하시오. 단, 평균값은 1원 미만은 반올림한다(반올림 또는 짝수로 반올림해도 무방하다). 보완 실시 후 각 항목에 대해 결손이 발생하지 않았는지도 확인해야 한다."
      ]
    },
    {
      "cell_type": "code",
      "execution_count": null,
      "metadata": {
        "id": "IDdoQrkrBJio",
        "outputId": "07da009d-33ee-43a2-9bd1-99edd7b3923f"
      },
      "outputs": [
        {
          "data": {
            "text/html": [
              "<style>\n",
              ".dl-inline {width: auto; margin:0; padding: 0}\n",
              ".dl-inline>dt, .dl-inline>dd {float: none; width: auto; display: inline-block}\n",
              ".dl-inline>dt::after {content: \":\\0020\"; padding-right: .5ex}\n",
              ".dl-inline>dt:not(:first-of-type) {padding-left: .5ex}\n",
              "</style><dl class=dl-inline><dt>product_cd</dt><dd>0</dd><dt>category_major_cd</dt><dd>0</dd><dt>category_medium_cd</dt><dd>0</dd><dt>category_small_cd</dt><dd>0</dd><dt>unit_price</dt><dd>0</dd><dt>unit_cost</dt><dd>0</dd></dl>\n"
            ],
            "text/latex": [
              "\\begin{description*}\n",
              "\\item[product\\textbackslash{}\\_cd] 0\n",
              "\\item[category\\textbackslash{}\\_major\\textbackslash{}\\_cd] 0\n",
              "\\item[category\\textbackslash{}\\_medium\\textbackslash{}\\_cd] 0\n",
              "\\item[category\\textbackslash{}\\_small\\textbackslash{}\\_cd] 0\n",
              "\\item[unit\\textbackslash{}\\_price] 0\n",
              "\\item[unit\\textbackslash{}\\_cost] 0\n",
              "\\end{description*}\n"
            ],
            "text/markdown": [
              "product_cd\n",
              ":   0category_major_cd\n",
              ":   0category_medium_cd\n",
              ":   0category_small_cd\n",
              ":   0unit_price\n",
              ":   0unit_cost\n",
              ":   0\n",
              "\n"
            ],
            "text/plain": [
              "        product_cd  category_major_cd category_medium_cd  category_small_cd \n",
              "                 0                  0                  0                  0 \n",
              "        unit_price          unit_cost \n",
              "                 0                  0 "
            ]
          },
          "metadata": {},
          "output_type": "display_data"
        }
      ],
      "source": [
        "price_mean <- round(mean(df_product$unit_price, na.rm = TRUE))\n",
        "\n",
        "cost_mean <- round(mean(df_product$unit_cost, na.rm = TRUE))\n",
        "\n",
        "df_product_2 <- df_product %>%\n",
        "    replace_na(list(unit_price = price_mean, unit_cost = cost_mean))\n",
        "    \n",
        "sapply(df_product_2, function(x) sum(is.na(x)))"
      ]
    },
    {
      "cell_type": "markdown",
      "metadata": {
        "id": "Y6elvo61BJio"
      },
      "source": [
        "---\n",
        "> R-082: 단가(unit_price)와 원가(unit_cost)의 결손값에 대해 각각의 중앙값으로 보완한 새로운 상품 데이터를 작성하시오. 단, 중앙값은 1원 미만은 반올림한다(반올림 또는 짝수로 반올림해도 무방하다). 보완 실시 후 각 항목에 대해 결손이 발생하지 않았는지도 확인해야 한다."
      ]
    },
    {
      "cell_type": "code",
      "execution_count": null,
      "metadata": {
        "id": "6ba9LGuVBJio",
        "outputId": "018ae7c0-d523-418b-df06-cc57e752c953"
      },
      "outputs": [
        {
          "data": {
            "text/html": [
              "<style>\n",
              ".dl-inline {width: auto; margin:0; padding: 0}\n",
              ".dl-inline>dt, .dl-inline>dd {float: none; width: auto; display: inline-block}\n",
              ".dl-inline>dt::after {content: \":\\0020\"; padding-right: .5ex}\n",
              ".dl-inline>dt:not(:first-of-type) {padding-left: .5ex}\n",
              "</style><dl class=dl-inline><dt>product_cd</dt><dd>0</dd><dt>category_major_cd</dt><dd>0</dd><dt>category_medium_cd</dt><dd>0</dd><dt>category_small_cd</dt><dd>0</dd><dt>unit_price</dt><dd>0</dd><dt>unit_cost</dt><dd>0</dd></dl>\n"
            ],
            "text/latex": [
              "\\begin{description*}\n",
              "\\item[product\\textbackslash{}\\_cd] 0\n",
              "\\item[category\\textbackslash{}\\_major\\textbackslash{}\\_cd] 0\n",
              "\\item[category\\textbackslash{}\\_medium\\textbackslash{}\\_cd] 0\n",
              "\\item[category\\textbackslash{}\\_small\\textbackslash{}\\_cd] 0\n",
              "\\item[unit\\textbackslash{}\\_price] 0\n",
              "\\item[unit\\textbackslash{}\\_cost] 0\n",
              "\\end{description*}\n"
            ],
            "text/markdown": [
              "product_cd\n",
              ":   0category_major_cd\n",
              ":   0category_medium_cd\n",
              ":   0category_small_cd\n",
              ":   0unit_price\n",
              ":   0unit_cost\n",
              ":   0\n",
              "\n"
            ],
            "text/plain": [
              "        product_cd  category_major_cd category_medium_cd  category_small_cd \n",
              "                 0                  0                  0                  0 \n",
              "        unit_price          unit_cost \n",
              "                 0                  0 "
            ]
          },
          "metadata": {},
          "output_type": "display_data"
        }
      ],
      "source": [
        "price_median <- round(median(df_product$unit_price, na.rm = TRUE))\n",
        "\n",
        "cost_median <- round(median(df_product$unit_cost, na.rm = TRUE))\n",
        "\n",
        "df_product_3 <- df_product %>%\n",
        "    replace_na(list(unit_price = price_median, unit_cost = cost_median))\n",
        "    \n",
        "sapply(df_product_3, function(x) sum(is.na(x)))"
      ]
    },
    {
      "cell_type": "markdown",
      "metadata": {
        "id": "TriLDJVHBJio"
      },
      "source": [
        "---\n",
        "> R-083: 단가(unit_price)와 원가(unit_cost)의 결손값에 대해 각 상품의 카테고리 소분류 코드(category_small_cd)별로 산출한 중간값으로 보완한 새로운 상품 데이터를 작성한다. 단, 중앙값은 1원 미만은 반올림한다(반올림 또는 짝수로 반올림해도 무방하다). 보완 실시 후 각 항목에 대해 결손이 발생하지 않았는지도 확인해야 한다."
      ]
    },
    {
      "cell_type": "code",
      "execution_count": null,
      "metadata": {
        "id": "y2MGbQYfBJio",
        "outputId": "c4873310-d1c0-46c7-996f-92479f54eff8"
      },
      "outputs": [
        {
          "data": {
            "text/html": [
              "<style>\n",
              ".dl-inline {width: auto; margin:0; padding: 0}\n",
              ".dl-inline>dt, .dl-inline>dd {float: none; width: auto; display: inline-block}\n",
              ".dl-inline>dt::after {content: \":\\0020\"; padding-right: .5ex}\n",
              ".dl-inline>dt:not(:first-of-type) {padding-left: .5ex}\n",
              "</style><dl class=dl-inline><dt>category_small_cd</dt><dd>0</dd><dt>price_median</dt><dd>0</dd><dt>cost_median</dt><dd>0</dd><dt>product_cd</dt><dd>0</dd><dt>category_major_cd</dt><dd>0</dd><dt>category_medium_cd</dt><dd>0</dd><dt>unit_price</dt><dd>0</dd><dt>unit_cost</dt><dd>0</dd></dl>\n"
            ],
            "text/latex": [
              "\\begin{description*}\n",
              "\\item[category\\textbackslash{}\\_small\\textbackslash{}\\_cd] 0\n",
              "\\item[price\\textbackslash{}\\_median] 0\n",
              "\\item[cost\\textbackslash{}\\_median] 0\n",
              "\\item[product\\textbackslash{}\\_cd] 0\n",
              "\\item[category\\textbackslash{}\\_major\\textbackslash{}\\_cd] 0\n",
              "\\item[category\\textbackslash{}\\_medium\\textbackslash{}\\_cd] 0\n",
              "\\item[unit\\textbackslash{}\\_price] 0\n",
              "\\item[unit\\textbackslash{}\\_cost] 0\n",
              "\\end{description*}\n"
            ],
            "text/markdown": [
              "category_small_cd\n",
              ":   0price_median\n",
              ":   0cost_median\n",
              ":   0product_cd\n",
              ":   0category_major_cd\n",
              ":   0category_medium_cd\n",
              ":   0unit_price\n",
              ":   0unit_cost\n",
              ":   0\n",
              "\n"
            ],
            "text/plain": [
              " category_small_cd       price_median        cost_median         product_cd \n",
              "                 0                  0                  0                  0 \n",
              " category_major_cd category_medium_cd         unit_price          unit_cost \n",
              "                 0                  0                  0                  0 "
            ]
          },
          "metadata": {},
          "output_type": "display_data"
        }
      ],
      "source": [
        "df_product_4 <- df_product %>%\n",
        "    group_by(category_small_cd) %>%\n",
        "    summarise(price_median = round(median(unit_price, na.rm = TRUE)), \n",
        "              cost_median = round(median(unit_cost, na.rm = TRUE)),\n",
        "              .groups = \"drop\") %>%\n",
        "    inner_join(df_product, by = \"category_small_cd\") %>%\n",
        "    mutate(unit_price = ifelse(is.na(unit_price), price_median, unit_price),\n",
        "           unit_cost = ifelse(is.na(unit_cost), cost_median, unit_cost))\n",
        "\n",
        "sapply(df_product_4, function(x) sum(is.na(x)))"
      ]
    },
    {
      "cell_type": "markdown",
      "metadata": {
        "id": "njqEXQExBJio"
      },
      "source": [
        "---\n",
        "> R-084: 고객 데이터(df_customer)의 전체 고객에 대해 전체 기간의 매출 금액에서 2019년 매출 금액이 차지하는 비율을 계산하여 새로운 데이터를 생성한다. 단, 매출 실적이 없는 경우 0으로 처리한다. 그리고 계산한 비율이 0을 초과하는 것을 추출하여 결과를 10건씩 표시하라. 또한, 작성된 데이터에 결손이 없는지 확인하라."
      ]
    },
    {
      "cell_type": "code",
      "execution_count": null,
      "metadata": {
        "id": "SZQM1TwgBJio",
        "outputId": "bf0050a8-52d8-44ab-b088-889c3e7d878b"
      },
      "outputs": [
        {
          "data": {
            "text/html": [
              "<table class=\"dataframe\">\n",
              "<caption>A data.frame: 10 × 4</caption>\n",
              "<thead>\n",
              "\t<tr><th scope=col>customer_id</th><th scope=col>amount_2019</th><th scope=col>amount_all</th><th scope=col>amount_rate</th></tr>\n",
              "\t<tr><th scope=col>&lt;chr&gt;</th><th scope=col>&lt;dbl&gt;</th><th scope=col>&lt;dbl&gt;</th><th scope=col>&lt;dbl&gt;</th></tr>\n",
              "</thead>\n",
              "<tbody>\n",
              "\t<tr><td>CS031415000172</td><td>2971</td><td>5088</td><td>0.58392296</td></tr>\n",
              "\t<tr><td>CS015414000103</td><td> 874</td><td>3122</td><td>0.27994875</td></tr>\n",
              "\t<tr><td>CS011215000048</td><td> 248</td><td>3444</td><td>0.07200929</td></tr>\n",
              "\t<tr><td>CS029415000023</td><td>3767</td><td>5167</td><td>0.72904974</td></tr>\n",
              "\t<tr><td>CS035415000029</td><td>5823</td><td>7504</td><td>0.77598614</td></tr>\n",
              "\t<tr><td>CS023513000066</td><td> 208</td><td> 771</td><td>0.26977951</td></tr>\n",
              "\t<tr><td>CS035513000134</td><td> 463</td><td>1565</td><td>0.29584665</td></tr>\n",
              "\t<tr><td>CS001515000263</td><td> 216</td><td> 216</td><td>1.00000000</td></tr>\n",
              "\t<tr><td>CS006415000279</td><td> 229</td><td> 229</td><td>1.00000000</td></tr>\n",
              "\t<tr><td>CS031415000106</td><td> 215</td><td>7741</td><td>0.02777419</td></tr>\n",
              "</tbody>\n",
              "</table>\n"
            ],
            "text/latex": [
              "A data.frame: 10 × 4\n",
              "\\begin{tabular}{llll}\n",
              " customer\\_id & amount\\_2019 & amount\\_all & amount\\_rate\\\\\n",
              " <chr> & <dbl> & <dbl> & <dbl>\\\\\n",
              "\\hline\n",
              "\t CS031415000172 & 2971 & 5088 & 0.58392296\\\\\n",
              "\t CS015414000103 &  874 & 3122 & 0.27994875\\\\\n",
              "\t CS011215000048 &  248 & 3444 & 0.07200929\\\\\n",
              "\t CS029415000023 & 3767 & 5167 & 0.72904974\\\\\n",
              "\t CS035415000029 & 5823 & 7504 & 0.77598614\\\\\n",
              "\t CS023513000066 &  208 &  771 & 0.26977951\\\\\n",
              "\t CS035513000134 &  463 & 1565 & 0.29584665\\\\\n",
              "\t CS001515000263 &  216 &  216 & 1.00000000\\\\\n",
              "\t CS006415000279 &  229 &  229 & 1.00000000\\\\\n",
              "\t CS031415000106 &  215 & 7741 & 0.02777419\\\\\n",
              "\\end{tabular}\n"
            ],
            "text/markdown": [
              "\n",
              "A data.frame: 10 × 4\n",
              "\n",
              "| customer_id &lt;chr&gt; | amount_2019 &lt;dbl&gt; | amount_all &lt;dbl&gt; | amount_rate &lt;dbl&gt; |\n",
              "|---|---|---|---|\n",
              "| CS031415000172 | 2971 | 5088 | 0.58392296 |\n",
              "| CS015414000103 |  874 | 3122 | 0.27994875 |\n",
              "| CS011215000048 |  248 | 3444 | 0.07200929 |\n",
              "| CS029415000023 | 3767 | 5167 | 0.72904974 |\n",
              "| CS035415000029 | 5823 | 7504 | 0.77598614 |\n",
              "| CS023513000066 |  208 |  771 | 0.26977951 |\n",
              "| CS035513000134 |  463 | 1565 | 0.29584665 |\n",
              "| CS001515000263 |  216 |  216 | 1.00000000 |\n",
              "| CS006415000279 |  229 |  229 | 1.00000000 |\n",
              "| CS031415000106 |  215 | 7741 | 0.02777419 |\n",
              "\n"
            ],
            "text/plain": [
              "   customer_id    amount_2019 amount_all amount_rate\n",
              "1  CS031415000172 2971        5088       0.58392296 \n",
              "2  CS015414000103  874        3122       0.27994875 \n",
              "3  CS011215000048  248        3444       0.07200929 \n",
              "4  CS029415000023 3767        5167       0.72904974 \n",
              "5  CS035415000029 5823        7504       0.77598614 \n",
              "6  CS023513000066  208         771       0.26977951 \n",
              "7  CS035513000134  463        1565       0.29584665 \n",
              "8  CS001515000263  216         216       1.00000000 \n",
              "9  CS006415000279  229         229       1.00000000 \n",
              "10 CS031415000106  215        7741       0.02777419 "
            ]
          },
          "metadata": {},
          "output_type": "display_data"
        }
      ],
      "source": [
        "df_receipt_2019 <- df_receipt %>%\n",
        "                    filter(20190101 <= sales_ymd & sales_ymd <= 20191231) %>%\n",
        "                    group_by(customer_id) %>%\n",
        "                    summarise(amount_2019 = sum(amount), .groups = \"drop\")\n",
        "\n",
        "df_receipt_all <- df_receipt %>%\n",
        "                    group_by(customer_id) %>%\n",
        "                    summarise(amount_all = sum(amount), .groups = \"drop\")\n",
        "\n",
        "df_sales_rate <- left_join(df_customer[\"customer_id\"],\n",
        "                           df_receipt_2019, by = \"customer_id\") %>%\n",
        "                    left_join(df_receipt_all, by = \"customer_id\") %>%\n",
        "                    replace_na(list(amount_2019 = 0, amount_all = 0)) %>%\n",
        "                    mutate(amount_rate = ifelse(amount_all == 0, 0,\n",
        "                                                amount_2019 / amount_all))\n",
        "\n",
        "df_sales_rate %>%\n",
        "    filter(amount_rate > 0) %>%\n",
        "    slice(1:10)"
      ]
    },
    {
      "cell_type": "code",
      "execution_count": null,
      "metadata": {
        "id": "Ddve2j_nBJio",
        "outputId": "a31603ad-b853-4412-9976-fa97748ce468"
      },
      "outputs": [
        {
          "data": {
            "text/html": [
              "<style>\n",
              ".dl-inline {width: auto; margin:0; padding: 0}\n",
              ".dl-inline>dt, .dl-inline>dd {float: none; width: auto; display: inline-block}\n",
              ".dl-inline>dt::after {content: \":\\0020\"; padding-right: .5ex}\n",
              ".dl-inline>dt:not(:first-of-type) {padding-left: .5ex}\n",
              "</style><dl class=dl-inline><dt>customer_id</dt><dd>0</dd><dt>amount_2019</dt><dd>0</dd></dl>\n"
            ],
            "text/latex": [
              "\\begin{description*}\n",
              "\\item[customer\\textbackslash{}\\_id] 0\n",
              "\\item[amount\\textbackslash{}\\_2019] 0\n",
              "\\end{description*}\n"
            ],
            "text/markdown": [
              "customer_id\n",
              ":   0amount_2019\n",
              ":   0\n",
              "\n"
            ],
            "text/plain": [
              "customer_id amount_2019 \n",
              "          0           0 "
            ]
          },
          "metadata": {},
          "output_type": "display_data"
        }
      ],
      "source": [
        "sapply(df_receipt_2019, function(x) sum(is.na(x)))"
      ]
    },
    {
      "cell_type": "markdown",
      "metadata": {
        "id": "a9PpwlDdBJio"
      },
      "source": [
        "---\n",
        "> R-085: 고객 데이터(df_customer)의 모든 고객에 대해 우편번호(postal_cd)를 이용하여 지오코드 데이터(df_geocode)를 연결하여 새로운 고객 데이터를 생성한다. 단, 하나의 우편번호(postal_cd)에 여러 개의 경도(longitude), 위도(latitude) 정보가 연결된 경우에는 경도(longitude), 위도(latitude)의 평균값을 산출하여 사용해야 한다. 또한, 생성된 결과를 확인하기 위해 10개의 결과를 표시한다."
      ]
    },
    {
      "cell_type": "code",
      "execution_count": null,
      "metadata": {
        "id": "YjgBAL55BJio",
        "outputId": "9ce8e643-f6c5-4be3-e1f4-9cbdc9a46a1d"
      },
      "outputs": [
        {
          "data": {
            "text/html": [
              "<table class=\"dataframe\">\n",
              "<caption>A data.frame: 10 × 13</caption>\n",
              "<thead>\n",
              "\t<tr><th></th><th scope=col>customer_id</th><th scope=col>customer_name</th><th scope=col>gender_cd</th><th scope=col>gender</th><th scope=col>birth_day</th><th scope=col>age</th><th scope=col>postal_cd</th><th scope=col>address</th><th scope=col>application_store_cd</th><th scope=col>application_date</th><th scope=col>status_cd</th><th scope=col>m_longiture</th><th scope=col>m_latitude</th></tr>\n",
              "\t<tr><th></th><th scope=col>&lt;chr&gt;</th><th scope=col>&lt;chr&gt;</th><th scope=col>&lt;chr&gt;</th><th scope=col>&lt;chr&gt;</th><th scope=col>&lt;date&gt;</th><th scope=col>&lt;int&gt;</th><th scope=col>&lt;chr&gt;</th><th scope=col>&lt;chr&gt;</th><th scope=col>&lt;chr&gt;</th><th scope=col>&lt;chr&gt;</th><th scope=col>&lt;chr&gt;</th><th scope=col>&lt;dbl&gt;</th><th scope=col>&lt;dbl&gt;</th></tr>\n",
              "</thead>\n",
              "<tbody>\n",
              "\t<tr><th scope=row>1</th><td>CS021313000114</td><td>大野 あや子  </td><td>1</td><td>女性</td><td>1981-04-29</td><td>37</td><td>259-1113</td><td>神奈川県伊勢原市粟窪**********    </td><td>S14021</td><td>20150905</td><td>0-00000000-0</td><td>139.3178</td><td>35.41358</td></tr>\n",
              "\t<tr><th scope=row>2</th><td>CS037613000071</td><td>六角 雅彦    </td><td>9</td><td>不明</td><td>1952-04-01</td><td>66</td><td>136-0076</td><td>東京都江東区南砂**********        </td><td>S13037</td><td>20150414</td><td>0-00000000-0</td><td>139.8350</td><td>35.67193</td></tr>\n",
              "\t<tr><th scope=row>3</th><td>CS031415000172</td><td>宇多田 貴美子</td><td>1</td><td>女性</td><td>1976-10-04</td><td>42</td><td>151-0053</td><td>東京都渋谷区代々木**********      </td><td>S13031</td><td>20150529</td><td>D-20100325-C</td><td>139.6897</td><td>35.67374</td></tr>\n",
              "\t<tr><th scope=row>4</th><td>CS028811000001</td><td>堀井 かおり  </td><td>1</td><td>女性</td><td>1933-03-27</td><td>86</td><td>245-0016</td><td>神奈川県横浜市泉区和泉町**********</td><td>S14028</td><td>20160115</td><td>0-00000000-0</td><td>139.4836</td><td>35.39125</td></tr>\n",
              "\t<tr><th scope=row>5</th><td>CS001215000145</td><td>田崎 美紀    </td><td>1</td><td>女性</td><td>1995-03-29</td><td>24</td><td>144-0055</td><td>東京都大田区仲六郷**********      </td><td>S13001</td><td>20170605</td><td>6-20090929-2</td><td>139.7078</td><td>35.54084</td></tr>\n",
              "\t<tr><th scope=row>6</th><td>CS020401000016</td><td>宮下 達士    </td><td>0</td><td>男性</td><td>1974-09-15</td><td>44</td><td>174-0065</td><td>東京都板橋区若木**********        </td><td>S13020</td><td>20150225</td><td>0-00000000-0</td><td>139.6724</td><td>35.77073</td></tr>\n",
              "\t<tr><th scope=row>7</th><td>CS015414000103</td><td>奥野 陽子    </td><td>1</td><td>女性</td><td>1977-08-09</td><td>41</td><td>136-0073</td><td>東京都江東区北砂**********        </td><td>S13015</td><td>20150722</td><td>B-20100609-B</td><td>139.8360</td><td>35.67818</td></tr>\n",
              "\t<tr><th scope=row>8</th><td>CS029403000008</td><td>釈 人志      </td><td>0</td><td>男性</td><td>1973-08-17</td><td>45</td><td>279-0003</td><td>千葉県浦安市海楽**********        </td><td>S12029</td><td>20150515</td><td>0-00000000-0</td><td>139.9047</td><td>35.65422</td></tr>\n",
              "\t<tr><th scope=row>9</th><td>CS015804000004</td><td>松谷 米蔵    </td><td>0</td><td>男性</td><td>1931-05-02</td><td>87</td><td>136-0073</td><td>東京都江東区北砂**********        </td><td>S13015</td><td>20150607</td><td>0-00000000-0</td><td>139.8360</td><td>35.67818</td></tr>\n",
              "\t<tr><th scope=row>10</th><td>CS033513000180</td><td>安斎 遥      </td><td>1</td><td>女性</td><td>1962-07-11</td><td>56</td><td>241-0823</td><td>神奈川県横浜市旭区善部町**********</td><td>S14033</td><td>20150728</td><td>6-20080506-5</td><td>139.5146</td><td>35.45013</td></tr>\n",
              "</tbody>\n",
              "</table>\n"
            ],
            "text/latex": [
              "A data.frame: 10 × 13\n",
              "\\begin{tabular}{r|lllllllllllll}\n",
              "  & customer\\_id & customer\\_name & gender\\_cd & gender & birth\\_day & age & postal\\_cd & address & application\\_store\\_cd & application\\_date & status\\_cd & m\\_longiture & m\\_latitude\\\\\n",
              "  & <chr> & <chr> & <chr> & <chr> & <date> & <int> & <chr> & <chr> & <chr> & <chr> & <chr> & <dbl> & <dbl>\\\\\n",
              "\\hline\n",
              "\t1 & CS021313000114 & 大野 あや子   & 1 & 女性 & 1981-04-29 & 37 & 259-1113 & 神奈川県伊勢原市粟窪**********     & S14021 & 20150905 & 0-00000000-0 & 139.3178 & 35.41358\\\\\n",
              "\t2 & CS037613000071 & 六角 雅彦     & 9 & 不明 & 1952-04-01 & 66 & 136-0076 & 東京都江東区南砂**********         & S13037 & 20150414 & 0-00000000-0 & 139.8350 & 35.67193\\\\\n",
              "\t3 & CS031415000172 & 宇多田 貴美子 & 1 & 女性 & 1976-10-04 & 42 & 151-0053 & 東京都渋谷区代々木**********       & S13031 & 20150529 & D-20100325-C & 139.6897 & 35.67374\\\\\n",
              "\t4 & CS028811000001 & 堀井 かおり   & 1 & 女性 & 1933-03-27 & 86 & 245-0016 & 神奈川県横浜市泉区和泉町********** & S14028 & 20160115 & 0-00000000-0 & 139.4836 & 35.39125\\\\\n",
              "\t5 & CS001215000145 & 田崎 美紀     & 1 & 女性 & 1995-03-29 & 24 & 144-0055 & 東京都大田区仲六郷**********       & S13001 & 20170605 & 6-20090929-2 & 139.7078 & 35.54084\\\\\n",
              "\t6 & CS020401000016 & 宮下 達士     & 0 & 男性 & 1974-09-15 & 44 & 174-0065 & 東京都板橋区若木**********         & S13020 & 20150225 & 0-00000000-0 & 139.6724 & 35.77073\\\\\n",
              "\t7 & CS015414000103 & 奥野 陽子     & 1 & 女性 & 1977-08-09 & 41 & 136-0073 & 東京都江東区北砂**********         & S13015 & 20150722 & B-20100609-B & 139.8360 & 35.67818\\\\\n",
              "\t8 & CS029403000008 & 釈 人志       & 0 & 男性 & 1973-08-17 & 45 & 279-0003 & 千葉県浦安市海楽**********         & S12029 & 20150515 & 0-00000000-0 & 139.9047 & 35.65422\\\\\n",
              "\t9 & CS015804000004 & 松谷 米蔵     & 0 & 男性 & 1931-05-02 & 87 & 136-0073 & 東京都江東区北砂**********         & S13015 & 20150607 & 0-00000000-0 & 139.8360 & 35.67818\\\\\n",
              "\t10 & CS033513000180 & 安斎 遥       & 1 & 女性 & 1962-07-11 & 56 & 241-0823 & 神奈川県横浜市旭区善部町********** & S14033 & 20150728 & 6-20080506-5 & 139.5146 & 35.45013\\\\\n",
              "\\end{tabular}\n"
            ],
            "text/markdown": [
              "\n",
              "A data.frame: 10 × 13\n",
              "\n",
              "| <!--/--> | customer_id &lt;chr&gt; | customer_name &lt;chr&gt; | gender_cd &lt;chr&gt; | gender &lt;chr&gt; | birth_day &lt;date&gt; | age &lt;int&gt; | postal_cd &lt;chr&gt; | address &lt;chr&gt; | application_store_cd &lt;chr&gt; | application_date &lt;chr&gt; | status_cd &lt;chr&gt; | m_longiture &lt;dbl&gt; | m_latitude &lt;dbl&gt; |\n",
              "|---|---|---|---|---|---|---|---|---|---|---|---|---|---|\n",
              "| 1 | CS021313000114 | 大野 あや子   | 1 | 女性 | 1981-04-29 | 37 | 259-1113 | 神奈川県伊勢原市粟窪**********     | S14021 | 20150905 | 0-00000000-0 | 139.3178 | 35.41358 |\n",
              "| 2 | CS037613000071 | 六角 雅彦     | 9 | 不明 | 1952-04-01 | 66 | 136-0076 | 東京都江東区南砂**********         | S13037 | 20150414 | 0-00000000-0 | 139.8350 | 35.67193 |\n",
              "| 3 | CS031415000172 | 宇多田 貴美子 | 1 | 女性 | 1976-10-04 | 42 | 151-0053 | 東京都渋谷区代々木**********       | S13031 | 20150529 | D-20100325-C | 139.6897 | 35.67374 |\n",
              "| 4 | CS028811000001 | 堀井 かおり   | 1 | 女性 | 1933-03-27 | 86 | 245-0016 | 神奈川県横浜市泉区和泉町********** | S14028 | 20160115 | 0-00000000-0 | 139.4836 | 35.39125 |\n",
              "| 5 | CS001215000145 | 田崎 美紀     | 1 | 女性 | 1995-03-29 | 24 | 144-0055 | 東京都大田区仲六郷**********       | S13001 | 20170605 | 6-20090929-2 | 139.7078 | 35.54084 |\n",
              "| 6 | CS020401000016 | 宮下 達士     | 0 | 男性 | 1974-09-15 | 44 | 174-0065 | 東京都板橋区若木**********         | S13020 | 20150225 | 0-00000000-0 | 139.6724 | 35.77073 |\n",
              "| 7 | CS015414000103 | 奥野 陽子     | 1 | 女性 | 1977-08-09 | 41 | 136-0073 | 東京都江東区北砂**********         | S13015 | 20150722 | B-20100609-B | 139.8360 | 35.67818 |\n",
              "| 8 | CS029403000008 | 釈 人志       | 0 | 男性 | 1973-08-17 | 45 | 279-0003 | 千葉県浦安市海楽**********         | S12029 | 20150515 | 0-00000000-0 | 139.9047 | 35.65422 |\n",
              "| 9 | CS015804000004 | 松谷 米蔵     | 0 | 男性 | 1931-05-02 | 87 | 136-0073 | 東京都江東区北砂**********         | S13015 | 20150607 | 0-00000000-0 | 139.8360 | 35.67818 |\n",
              "| 10 | CS033513000180 | 安斎 遥       | 1 | 女性 | 1962-07-11 | 56 | 241-0823 | 神奈川県横浜市旭区善部町********** | S14033 | 20150728 | 6-20080506-5 | 139.5146 | 35.45013 |\n",
              "\n"
            ],
            "text/plain": [
              "   customer_id    customer_name gender_cd gender birth_day  age postal_cd\n",
              "1  CS021313000114 大野 あや子   1         女性   1981-04-29 37  259-1113 \n",
              "2  CS037613000071 六角 雅彦     9         不明   1952-04-01 66  136-0076 \n",
              "3  CS031415000172 宇多田 貴美子 1         女性   1976-10-04 42  151-0053 \n",
              "4  CS028811000001 堀井 かおり   1         女性   1933-03-27 86  245-0016 \n",
              "5  CS001215000145 田崎 美紀     1         女性   1995-03-29 24  144-0055 \n",
              "6  CS020401000016 宮下 達士     0         男性   1974-09-15 44  174-0065 \n",
              "7  CS015414000103 奥野 陽子     1         女性   1977-08-09 41  136-0073 \n",
              "8  CS029403000008 釈 人志       0         男性   1973-08-17 45  279-0003 \n",
              "9  CS015804000004 松谷 米蔵     0         男性   1931-05-02 87  136-0073 \n",
              "10 CS033513000180 安斎 遥       1         女性   1962-07-11 56  241-0823 \n",
              "   address                            application_store_cd application_date\n",
              "1  神奈川県伊勢原市粟窪**********     S14021               20150905        \n",
              "2  東京都江東区南砂**********         S13037               20150414        \n",
              "3  東京都渋谷区代々木**********       S13031               20150529        \n",
              "4  神奈川県横浜市泉区和泉町********** S14028               20160115        \n",
              "5  東京都大田区仲六郷**********       S13001               20170605        \n",
              "6  東京都板橋区若木**********         S13020               20150225        \n",
              "7  東京都江東区北砂**********         S13015               20150722        \n",
              "8  千葉県浦安市海楽**********         S12029               20150515        \n",
              "9  東京都江東区北砂**********         S13015               20150607        \n",
              "10 神奈川県横浜市旭区善部町********** S14033               20150728        \n",
              "   status_cd    m_longiture m_latitude\n",
              "1  0-00000000-0 139.3178    35.41358  \n",
              "2  0-00000000-0 139.8350    35.67193  \n",
              "3  D-20100325-C 139.6897    35.67374  \n",
              "4  0-00000000-0 139.4836    35.39125  \n",
              "5  6-20090929-2 139.7078    35.54084  \n",
              "6  0-00000000-0 139.6724    35.77073  \n",
              "7  B-20100609-B 139.8360    35.67818  \n",
              "8  0-00000000-0 139.9047    35.65422  \n",
              "9  0-00000000-0 139.8360    35.67818  \n",
              "10 6-20080506-5 139.5146    35.45013  "
            ]
          },
          "metadata": {},
          "output_type": "display_data"
        }
      ],
      "source": [
        "df_geocode_1 <- df_geocode[c(\"postal_cd\", \"longitude\" ,\"latitude\")] %>%\n",
        "                group_by(postal_cd) %>%\n",
        "                summarise(m_longiture = mean(longitude),\n",
        "                          m_latitude = mean(latitude), .groups = \"drop\")\n",
        "\n",
        "df_customer_1 <- inner_join(df_customer, df_geocode_1, by = \"postal_cd\")\n",
        "\n",
        "head(df_customer_1, 10)"
      ]
    },
    {
      "cell_type": "markdown",
      "metadata": {
        "id": "gUh4IzYVBJip"
      },
      "source": [
        "---\n",
        "> R-086: 085에서 생성한 위도경도별 고객 데이터에 대해 회원 신청 매장 코드(application_store_cd)를 키로 매장 데이터(df_store)와 결합하라. 그리고 신청 매장의 위도(latitude)-경도 정보(longitude)와 고객 주소(address)의 위도-경도를 이용하여 신청 매장과 고객 주소의 거리(단위: km)를 구하고, 고객 ID(customer_id), 고객 주소(address), 매장 주소(address)와 함께 표시하라. 과 함께 표시하라. 계산식은 아래의 간단한 식을 사용하되, 그 외 정밀도가 높은 방식을 이용한 라이브러리를 사용해도 무방하다. 결과는 10건을 표시한다.\n",
        "\n",
        "$$\n",
        "\\begin{aligned}\n",
        "& \\mbox{위도(라디안)} : \\phi \\\\ \\\\\n",
        "& \\mbox{경도(라디안)}：\\lambda \\\\\n",
        "& \\mbox{거리}L = 6371 * \\arccos(\\sin \\phi_1 * \\sin \\phi_2 \\\\)\n",
        "& \\cos \\phi_1 * \\cos \\phi_2 * \\cos(\\lambda_1 - \\lambda_2))\n",
        "\\end{aligned}\n",
        "$$"
      ]
    },
    {
      "cell_type": "code",
      "execution_count": null,
      "metadata": {
        "id": "2JlAoiQnBJip",
        "outputId": "80ceea9a-9fd5-4f7c-a547-86089fff1802"
      },
      "outputs": [
        {
          "name": "stdout",
          "output_type": "stream",
          "text": [
            "[1] \"numeric\"\n"
          ]
        },
        {
          "data": {
            "text/html": [
              "<table class=\"dataframe\">\n",
              "<caption>A data.frame: 10 × 4</caption>\n",
              "<thead>\n",
              "\t<tr><th scope=col>customer_id</th><th scope=col>customer_address</th><th scope=col>store_address</th><th scope=col>distance</th></tr>\n",
              "\t<tr><th scope=col>&lt;chr&gt;</th><th scope=col>&lt;chr&gt;</th><th scope=col>&lt;chr&gt;</th><th scope=col>&lt;dbl&gt;</th></tr>\n",
              "</thead>\n",
              "<tbody>\n",
              "\t<tr><td>CS021313000114</td><td>神奈川県伊勢原市粟窪**********    </td><td>神奈川県伊勢原市伊勢原四丁目      </td><td>1.3944087</td></tr>\n",
              "\t<tr><td>CS037613000071</td><td>東京都江東区南砂**********        </td><td>東京都江東区南砂一丁目            </td><td>1.4511822</td></tr>\n",
              "\t<tr><td>CS031415000172</td><td>東京都渋谷区代々木**********      </td><td>東京都渋谷区初台二丁目            </td><td>0.4117335</td></tr>\n",
              "\t<tr><td>CS028811000001</td><td>神奈川県横浜市泉区和泉町**********</td><td>神奈川県横浜市瀬谷区二ツ橋町      </td><td>8.0651960</td></tr>\n",
              "\t<tr><td>CS001215000145</td><td>東京都大田区仲六郷**********      </td><td>東京都大田区仲六郷二丁目          </td><td>1.2684210</td></tr>\n",
              "\t<tr><td>CS020401000016</td><td>東京都板橋区若木**********        </td><td>東京都北区十条仲原三丁目          </td><td>4.1859046</td></tr>\n",
              "\t<tr><td>CS015414000103</td><td>東京都江東区北砂**********        </td><td>東京都江東区南砂二丁目            </td><td>1.4496734</td></tr>\n",
              "\t<tr><td>CS029403000008</td><td>千葉県浦安市海楽**********        </td><td>千葉県浦安市東野一丁目            </td><td>0.8048581</td></tr>\n",
              "\t<tr><td>CS015804000004</td><td>東京都江東区北砂**********        </td><td>東京都江東区南砂二丁目            </td><td>1.4496734</td></tr>\n",
              "\t<tr><td>CS033513000180</td><td>神奈川県横浜市旭区善部町**********</td><td>神奈川県横浜市瀬谷区阿久和西一丁目</td><td>1.9569470</td></tr>\n",
              "</tbody>\n",
              "</table>\n"
            ],
            "text/latex": [
              "A data.frame: 10 × 4\n",
              "\\begin{tabular}{llll}\n",
              " customer\\_id & customer\\_address & store\\_address & distance\\\\\n",
              " <chr> & <chr> & <chr> & <dbl>\\\\\n",
              "\\hline\n",
              "\t CS021313000114 & 神奈川県伊勢原市粟窪**********     & 神奈川県伊勢原市伊勢原四丁目       & 1.3944087\\\\\n",
              "\t CS037613000071 & 東京都江東区南砂**********         & 東京都江東区南砂一丁目             & 1.4511822\\\\\n",
              "\t CS031415000172 & 東京都渋谷区代々木**********       & 東京都渋谷区初台二丁目             & 0.4117335\\\\\n",
              "\t CS028811000001 & 神奈川県横浜市泉区和泉町********** & 神奈川県横浜市瀬谷区二ツ橋町       & 8.0651960\\\\\n",
              "\t CS001215000145 & 東京都大田区仲六郷**********       & 東京都大田区仲六郷二丁目           & 1.2684210\\\\\n",
              "\t CS020401000016 & 東京都板橋区若木**********         & 東京都北区十条仲原三丁目           & 4.1859046\\\\\n",
              "\t CS015414000103 & 東京都江東区北砂**********         & 東京都江東区南砂二丁目             & 1.4496734\\\\\n",
              "\t CS029403000008 & 千葉県浦安市海楽**********         & 千葉県浦安市東野一丁目             & 0.8048581\\\\\n",
              "\t CS015804000004 & 東京都江東区北砂**********         & 東京都江東区南砂二丁目             & 1.4496734\\\\\n",
              "\t CS033513000180 & 神奈川県横浜市旭区善部町********** & 神奈川県横浜市瀬谷区阿久和西一丁目 & 1.9569470\\\\\n",
              "\\end{tabular}\n"
            ],
            "text/markdown": [
              "\n",
              "A data.frame: 10 × 4\n",
              "\n",
              "| customer_id &lt;chr&gt; | customer_address &lt;chr&gt; | store_address &lt;chr&gt; | distance &lt;dbl&gt; |\n",
              "|---|---|---|---|\n",
              "| CS021313000114 | 神奈川県伊勢原市粟窪**********     | 神奈川県伊勢原市伊勢原四丁目       | 1.3944087 |\n",
              "| CS037613000071 | 東京都江東区南砂**********         | 東京都江東区南砂一丁目             | 1.4511822 |\n",
              "| CS031415000172 | 東京都渋谷区代々木**********       | 東京都渋谷区初台二丁目             | 0.4117335 |\n",
              "| CS028811000001 | 神奈川県横浜市泉区和泉町********** | 神奈川県横浜市瀬谷区二ツ橋町       | 8.0651960 |\n",
              "| CS001215000145 | 東京都大田区仲六郷**********       | 東京都大田区仲六郷二丁目           | 1.2684210 |\n",
              "| CS020401000016 | 東京都板橋区若木**********         | 東京都北区十条仲原三丁目           | 4.1859046 |\n",
              "| CS015414000103 | 東京都江東区北砂**********         | 東京都江東区南砂二丁目             | 1.4496734 |\n",
              "| CS029403000008 | 千葉県浦安市海楽**********         | 千葉県浦安市東野一丁目             | 0.8048581 |\n",
              "| CS015804000004 | 東京都江東区北砂**********         | 東京都江東区南砂二丁目             | 1.4496734 |\n",
              "| CS033513000180 | 神奈川県横浜市旭区善部町********** | 神奈川県横浜市瀬谷区阿久和西一丁目 | 1.9569470 |\n",
              "\n"
            ],
            "text/plain": [
              "   customer_id    customer_address                  \n",
              "1  CS021313000114 神奈川県伊勢原市粟窪**********    \n",
              "2  CS037613000071 東京都江東区南砂**********        \n",
              "3  CS031415000172 東京都渋谷区代々木**********      \n",
              "4  CS028811000001 神奈川県横浜市泉区和泉町**********\n",
              "5  CS001215000145 東京都大田区仲六郷**********      \n",
              "6  CS020401000016 東京都板橋区若木**********        \n",
              "7  CS015414000103 東京都江東区北砂**********        \n",
              "8  CS029403000008 千葉県浦安市海楽**********        \n",
              "9  CS015804000004 東京都江東区北砂**********        \n",
              "10 CS033513000180 神奈川県横浜市旭区善部町**********\n",
              "   store_address                      distance \n",
              "1  神奈川県伊勢原市伊勢原四丁目       1.3944087\n",
              "2  東京都江東区南砂一丁目             1.4511822\n",
              "3  東京都渋谷区初台二丁目             0.4117335\n",
              "4  神奈川県横浜市瀬谷区二ツ橋町       8.0651960\n",
              "5  東京都大田区仲六郷二丁目           1.2684210\n",
              "6  東京都北区十条仲原三丁目           4.1859046\n",
              "7  東京都江東区南砂二丁目             1.4496734\n",
              "8  千葉県浦安市東野一丁目             0.8048581\n",
              "9  東京都江東区南砂二丁目             1.4496734\n",
              "10 神奈川県横浜市瀬谷区阿久和西一丁目 1.9569470"
            ]
          },
          "metadata": {},
          "output_type": "display_data"
        }
      ],
      "source": [
        "calc_distance <- function(x1, y1, x2, y2) {\n",
        "    distance <- 6371 * acos(\n",
        "                        sin(x1 * pi / 180) \n",
        "                        * sin(x2 * pi / 180) \n",
        "                        + cos(x1 * pi / 180) \n",
        "                        * cos(x2 * pi / 180) \n",
        "                        * cos((y1 * pi / 180) - (y2 * pi / 180 )))\n",
        "    print(class(distance)) # Check the CLASS of the calculation results just to be sure.\n",
        "    return(distance)\n",
        "}\n",
        "\n",
        "inner_join(df_customer_1, df_store, \n",
        "           by = c(\"application_store_cd\" = \"store_cd\")) %>%\n",
        "    rename(customer_address = address.x, store_address = address.y) %>%\n",
        "    mutate(distance = \n",
        "           calc_distance(m_latitude, m_longiture, latitude, longitude)) %>%\n",
        "    select(customer_id, customer_address, store_address, distance) %>%\n",
        "    slice(1:10)"
      ]
    },
    {
      "cell_type": "markdown",
      "metadata": {
        "id": "gQZ9cxOCBJip"
      },
      "source": [
        "---\n",
        "> R-087: 고객 데이터(df_customer)에는 다른 매장에서의 신청 등으로 동일 고객이 여러 개 등록되어 있다. 이름(customer_name)과 우편번호(postal_cd)가 같은 고객은 동일 고객으로 간주하여 1고객 1레코드가 되도록 이름을 붙인 명목 고객 데이터를 생성하고, 고객 데이터 개수, 명목 고객 데이터 개수, 중복 횟수를 계산하라. 단, 동일 고객에 대해서는 매출 금액 합계가 가장 높은 것을 남기고, 매출 금액 합계가 동일하거나 매출 실적이 없는 고객에 대해서는 고객 ID(customer_id)의 번호가 작은 것을 남긴다."
      ]
    },
    {
      "cell_type": "code",
      "execution_count": null,
      "metadata": {
        "id": "Gw5evoF8BJip",
        "outputId": "4b547937-9271-4e8d-db07-e866055824b7"
      },
      "outputs": [
        {
          "name": "stdout",
          "output_type": "stream",
          "text": [
            "[1] \"df_customer_cnt: 21971 df_customer_u_cnt: 21941 diff: 30\"\n"
          ]
        }
      ],
      "source": [
        "df_sales_amount <- df_receipt %>%\n",
        "    group_by(customer_id) %>%\n",
        "    summarise(sum_amount = sum(amount), .groups = \"drop\")\n",
        "\n",
        "df_customer_u <- left_join(df_customer, df_sales_amount, by = \"customer_id\") %>%\n",
        "    mutate(sum_amount = ifelse(is.na(sum_amount), 0, sum_amount)) %>%\n",
        "    arrange(desc(sum_amount), customer_id) %>%\n",
        "    distinct(customer_name, postal_cd, .keep_all = TRUE) \n",
        "\n",
        "print(paste(\n",
        "    \"df_customer_cnt:\", nrow(df_customer),\n",
        "    \"df_customer_u_cnt:\", nrow(df_customer_u),\n",
        "    \"diff:\", nrow(df_customer) - nrow(df_customer_u)))"
      ]
    },
    {
      "cell_type": "markdown",
      "metadata": {
        "id": "CGFOEm-rBJip"
      },
      "source": [
        "---\n",
        "> R-088: 087에서 생성한 데이터를 바탕으로 고객 데이터에 통합명칭 ID를 부여한 데이터를 생성한다. 단, 통합명칭 ID는 아래의 사양으로 부여한다.\n",
        ">  중복되지 않은 고객\n",
        "> - 중복되지 않은 고객 : 고객 ID(customer_id) 설정\n",
        "> - 중복되는 고객: 이전 설문에서 추출한 레코드의 고객 ID를 설정한다.\n",
        ">고객 ID의 고유 개수 \n",
        "> 고객 ID의 고유 건수와 통합명칭 ID의 고유 건수 차이도 확인해야 한다."
      ]
    },
    {
      "cell_type": "code",
      "execution_count": null,
      "metadata": {
        "id": "2LgyKsTmBJip",
        "outputId": "b98c51fa-452c-4657-fc96-2bc4e480d509"
      },
      "outputs": [
        {
          "name": "stdout",
          "output_type": "stream",
          "text": [
            "[1] \"ID数の差 30\"\n"
          ]
        }
      ],
      "source": [
        "df_customer_n = inner_join(df_customer, \n",
        "                           df_customer_u[c(\"customer_id\", \n",
        "                                           \"customer_name\", \n",
        "                                           \"postal_cd\")],\n",
        "                           by = c(\"customer_name\", \"postal_cd\")) %>% \n",
        "                    rename(customer_id = customer_id.x, \n",
        "                           integration_id = customer_id.y)\n",
        "\n",
        "customer_id_cnt <- length(unique(df_customer_n$customer_id))\n",
        "integration_id_cnt <- length(unique(df_customer_n$integration_id))\n",
        "\n",
        "print(paste(\"수의 차이\", customer_id_cnt - integration_id_cnt))"
      ]
    },
    {
      "cell_type": "markdown",
      "metadata": {
        "id": "l5sNX8JFBJip"
      },
      "source": [
        "---\n",
        "> R-089: 예측 모델 구축을 위해 판매 실적이 있는 고객을 학습용 데이터와 테스트용 데이터로 나누고 싶다. 각각 8:2의 비율로 무작위로 데이터를 분할하라."
      ]
    },
    {
      "cell_type": "code",
      "execution_count": null,
      "metadata": {
        "id": "KLmA2PXNBJip",
        "outputId": "26ee18d5-6d60-4275-a51b-1e3ff4d0e2e2"
      },
      "outputs": [
        {
          "name": "stdout",
          "output_type": "stream",
          "text": [
            "[1] \"学習データ割合: 0.799903684083795\"\n",
            "[1] \"テストデータ割合: 0.200096315916205\"\n"
          ]
        }
      ],
      "source": [
        "set.seed(71)\n",
        "\n",
        "#Example using rsample initial_split\n",
        "df_sales_customer <- df_receipt %>%\n",
        "    group_by(customer_id) %>%\n",
        "    summarise(sum_amount = sum(amount), .groups = \"drop\") %>%\n",
        "    filter(sum_amount > 0)\n",
        "\n",
        "df_tmp <- inner_join(df_customer, df_sales_customer, by = \"customer_id\")\n",
        "\n",
        "split <- initial_split(df_tmp, prop = 0.8)\n",
        "\n",
        "df_customer_train <- training(split)\n",
        "df_customer_test <- testing(split)\n",
        "\n",
        "# Confirmation\n",
        "print(paste(\"학습 데이터 비율:\", nrow(df_customer_train) / nrow(df_tmp)))\n",
        "print(paste(\"테스트 데이터 비율:\", nrow(df_customer_test) / nrow(df_tmp)))"
      ]
    },
    {
      "cell_type": "markdown",
      "metadata": {
        "id": "9GXYZst5BJip"
      },
      "source": [
        "---\n",
        "> R-090: 영수증 내역 데이터(df_receipt)는 2017년 1월 1일부터 2019년 10월 31일까지의 데이터를 가지고 있다. 매출 금액(amount)을 월별로 집계하여 학습용 12개월, 테스트용 6개월의 시계열 모델 구축용 데이터 3세트를 생성한다."
      ]
    },
    {
      "cell_type": "code",
      "execution_count": null,
      "metadata": {
        "id": "sdVC9PDdBJip"
      },
      "outputs": [],
      "source": [
        "#caret의 createTimeSlices를 사용한 예시\n",
        "df_ts_amount <- df_receipt %>%\n",
        "    group_by(substr(as.character(sales_ymd), 1, 6)) %>%\n",
        "    summarise(sum_amount = sum(amount), .groups = \"drop\")\n",
        "\n",
        "colnames(df_ts_amount) <- c(\"sales_ym\", \"sales_amount\")\n",
        "\n",
        "timeSlice <- createTimeSlices(df_ts_amount$sales_ym, \n",
        "                              initialWindow = 12, \n",
        "                              horizon = 6, \n",
        "                              skip = 5, \n",
        "                              fixedWindow = TRUE)\n",
        "\n",
        "df_train_1 <- df_ts_amount[timeSlice$train[[1]],]\n",
        "df_train_2 <- df_ts_amount[timeSlice$train[[2]],]\n",
        "df_train_3 <- df_ts_amount[timeSlice$train[[3]],]\n",
        "\n",
        "df_test_1 <- df_ts_amount[timeSlice$test[[1]],]\n",
        "df_test_2 <- df_ts_amount[timeSlice$test[[2]],]\n",
        "df_test_3 <- df_ts_amount[timeSlice$test[[3]],]"
      ]
    },
    {
      "cell_type": "code",
      "execution_count": null,
      "metadata": {
        "id": "PHB1M_MGBJip",
        "outputId": "b1581e18-455c-4d15-ef98-2c35b0f7124e"
      },
      "outputs": [
        {
          "data": {
            "text/html": [
              "<table class=\"dataframe\">\n",
              "<caption>A tibble: 12 × 2</caption>\n",
              "<thead>\n",
              "\t<tr><th scope=col>sales_ym</th><th scope=col>sales_amount</th></tr>\n",
              "\t<tr><th scope=col>&lt;chr&gt;</th><th scope=col>&lt;int&gt;</th></tr>\n",
              "</thead>\n",
              "<tbody>\n",
              "\t<tr><td>201701</td><td>902056</td></tr>\n",
              "\t<tr><td>201702</td><td>764413</td></tr>\n",
              "\t<tr><td>201703</td><td>962945</td></tr>\n",
              "\t<tr><td>201704</td><td>847566</td></tr>\n",
              "\t<tr><td>201705</td><td>884010</td></tr>\n",
              "\t<tr><td>201706</td><td>894242</td></tr>\n",
              "\t<tr><td>201707</td><td>959205</td></tr>\n",
              "\t<tr><td>201708</td><td>954836</td></tr>\n",
              "\t<tr><td>201709</td><td>902037</td></tr>\n",
              "\t<tr><td>201710</td><td>905739</td></tr>\n",
              "\t<tr><td>201711</td><td>932157</td></tr>\n",
              "\t<tr><td>201712</td><td>939654</td></tr>\n",
              "</tbody>\n",
              "</table>\n"
            ],
            "text/latex": [
              "A tibble: 12 × 2\n",
              "\\begin{tabular}{ll}\n",
              " sales\\_ym & sales\\_amount\\\\\n",
              " <chr> & <int>\\\\\n",
              "\\hline\n",
              "\t 201701 & 902056\\\\\n",
              "\t 201702 & 764413\\\\\n",
              "\t 201703 & 962945\\\\\n",
              "\t 201704 & 847566\\\\\n",
              "\t 201705 & 884010\\\\\n",
              "\t 201706 & 894242\\\\\n",
              "\t 201707 & 959205\\\\\n",
              "\t 201708 & 954836\\\\\n",
              "\t 201709 & 902037\\\\\n",
              "\t 201710 & 905739\\\\\n",
              "\t 201711 & 932157\\\\\n",
              "\t 201712 & 939654\\\\\n",
              "\\end{tabular}\n"
            ],
            "text/markdown": [
              "\n",
              "A tibble: 12 × 2\n",
              "\n",
              "| sales_ym &lt;chr&gt; | sales_amount &lt;int&gt; |\n",
              "|---|---|\n",
              "| 201701 | 902056 |\n",
              "| 201702 | 764413 |\n",
              "| 201703 | 962945 |\n",
              "| 201704 | 847566 |\n",
              "| 201705 | 884010 |\n",
              "| 201706 | 894242 |\n",
              "| 201707 | 959205 |\n",
              "| 201708 | 954836 |\n",
              "| 201709 | 902037 |\n",
              "| 201710 | 905739 |\n",
              "| 201711 | 932157 |\n",
              "| 201712 | 939654 |\n",
              "\n"
            ],
            "text/plain": [
              "   sales_ym sales_amount\n",
              "1  201701   902056      \n",
              "2  201702   764413      \n",
              "3  201703   962945      \n",
              "4  201704   847566      \n",
              "5  201705   884010      \n",
              "6  201706   894242      \n",
              "7  201707   959205      \n",
              "8  201708   954836      \n",
              "9  201709   902037      \n",
              "10 201710   905739      \n",
              "11 201711   932157      \n",
              "12 201712   939654      "
            ]
          },
          "metadata": {},
          "output_type": "display_data"
        }
      ],
      "source": [
        "# df_train_2와 df_train_3의 표시는 생략 df_train_1\n",
        "df_train_1"
      ]
    },
    {
      "cell_type": "code",
      "execution_count": null,
      "metadata": {
        "id": "J8zKopS0BJip",
        "outputId": "6ff055f9-a780-41a6-e0fd-87b55851d48d"
      },
      "outputs": [
        {
          "data": {
            "text/html": [
              "<table class=\"dataframe\">\n",
              "<caption>A tibble: 6 × 2</caption>\n",
              "<thead>\n",
              "\t<tr><th scope=col>sales_ym</th><th scope=col>sales_amount</th></tr>\n",
              "\t<tr><th scope=col>&lt;chr&gt;</th><th scope=col>&lt;int&gt;</th></tr>\n",
              "</thead>\n",
              "<tbody>\n",
              "\t<tr><td>201801</td><td> 944509</td></tr>\n",
              "\t<tr><td>201802</td><td> 864128</td></tr>\n",
              "\t<tr><td>201803</td><td> 946588</td></tr>\n",
              "\t<tr><td>201804</td><td> 937099</td></tr>\n",
              "\t<tr><td>201805</td><td>1004438</td></tr>\n",
              "\t<tr><td>201806</td><td>1012329</td></tr>\n",
              "</tbody>\n",
              "</table>\n"
            ],
            "text/latex": [
              "A tibble: 6 × 2\n",
              "\\begin{tabular}{ll}\n",
              " sales\\_ym & sales\\_amount\\\\\n",
              " <chr> & <int>\\\\\n",
              "\\hline\n",
              "\t 201801 &  944509\\\\\n",
              "\t 201802 &  864128\\\\\n",
              "\t 201803 &  946588\\\\\n",
              "\t 201804 &  937099\\\\\n",
              "\t 201805 & 1004438\\\\\n",
              "\t 201806 & 1012329\\\\\n",
              "\\end{tabular}\n"
            ],
            "text/markdown": [
              "\n",
              "A tibble: 6 × 2\n",
              "\n",
              "| sales_ym &lt;chr&gt; | sales_amount &lt;int&gt; |\n",
              "|---|---|\n",
              "| 201801 |  944509 |\n",
              "| 201802 |  864128 |\n",
              "| 201803 |  946588 |\n",
              "| 201804 |  937099 |\n",
              "| 201805 | 1004438 |\n",
              "| 201806 | 1012329 |\n",
              "\n"
            ],
            "text/plain": [
              "  sales_ym sales_amount\n",
              "1 201801    944509     \n",
              "2 201802    864128     \n",
              "3 201803    946588     \n",
              "4 201804    937099     \n",
              "5 201805   1004438     \n",
              "6 201806   1012329     "
            ]
          },
          "metadata": {},
          "output_type": "display_data"
        }
      ],
      "source": [
        "# df_test_2와 df_test_3의 표시 생략 df_test_1\n",
        "df_test_1"
      ]
    },
    {
      "cell_type": "markdown",
      "metadata": {
        "id": "cxelbQvqBJiq"
      },
      "source": [
        "---\n",
        "> R-091: 고객 데이터(df_customer)의 각 고객에 대해 매출 실적이 있는 고객 수와 매출 실적이 없는 고객 수가 1:1이 되도록 언더샘플링으로 추출하라."
      ]
    },
    {
      "cell_type": "code",
      "execution_count": null,
      "metadata": {
        "id": "QTcYQjuaBJiq",
        "outputId": "2ea132e7-2fc0-4d5b-a690-17d6e69418a8"
      },
      "outputs": [
        {
          "data": {
            "text/html": [
              "<table class=\"dataframe\">\n",
              "<caption>A tibble: 2 × 2</caption>\n",
              "<thead>\n",
              "\t<tr><th scope=col>is_buy_flag</th><th scope=col>cnt</th></tr>\n",
              "\t<tr><th scope=col>&lt;fct&gt;</th><th scope=col>&lt;int&gt;</th></tr>\n",
              "</thead>\n",
              "<tbody>\n",
              "\t<tr><td>0</td><td>8306</td></tr>\n",
              "\t<tr><td>1</td><td>8306</td></tr>\n",
              "</tbody>\n",
              "</table>\n"
            ],
            "text/latex": [
              "A tibble: 2 × 2\n",
              "\\begin{tabular}{ll}\n",
              " is\\_buy\\_flag & cnt\\\\\n",
              " <fct> & <int>\\\\\n",
              "\\hline\n",
              "\t 0 & 8306\\\\\n",
              "\t 1 & 8306\\\\\n",
              "\\end{tabular}\n"
            ],
            "text/markdown": [
              "\n",
              "A tibble: 2 × 2\n",
              "\n",
              "| is_buy_flag &lt;fct&gt; | cnt &lt;int&gt; |\n",
              "|---|---|\n",
              "| 0 | 8306 |\n",
              "| 1 | 8306 |\n",
              "\n"
            ],
            "text/plain": [
              "  is_buy_flag cnt \n",
              "1 0           8306\n",
              "2 1           8306"
            ]
          },
          "metadata": {},
          "output_type": "display_data"
        }
      ],
      "source": [
        "#receipts 패키지 사용 예시\n",
        "df_sales_amount <- df_receipt %>%\n",
        "    group_by(customer_id) %>%\n",
        "    summarise(sum_amount = sum(amount), .groups = \"drop\") %>%\n",
        "    right_join(df_customer, by = \"customer_id\") %>%\n",
        "    mutate(is_buy_flag = factor(ifelse(is.na(sum_amount), 0, 1)))\n",
        "\n",
        "df_down_sampling <- df_sales_amount %>% \n",
        "    recipe() %>% \n",
        "    step_downsample(is_buy_flag, seed = 71) %>%\n",
        "    prep() %>% \n",
        "    juice()\n",
        "\n",
        "df_down_sampling %>%\n",
        "    group_by(is_buy_flag) %>%\n",
        "    summarise(cnt = n(), .groups = \"drop\")"
      ]
    },
    {
      "cell_type": "markdown",
      "metadata": {
        "id": "m2m1OhngBJiq"
      },
      "source": [
        "---\n",
        "> R-092: 고객 데이터(df_customer)의 성별을 제3정규형으로 정규화하라."
      ]
    },
    {
      "cell_type": "code",
      "execution_count": null,
      "metadata": {
        "id": "EkHHoLa4BJiq"
      },
      "outputs": [],
      "source": [
        "df_gender_std = unique(df_customer[c(\"gender_cd\", \"gender\")])\n",
        "\n",
        "df_customer_std = df_customer[, colnames(df_customer) != \"gender\"]"
      ]
    },
    {
      "cell_type": "code",
      "execution_count": null,
      "metadata": {
        "id": "f2ENKoeABJiq",
        "outputId": "c555d3f9-230a-4e4a-b0ff-afe1b1b148cf"
      },
      "outputs": [
        {
          "data": {
            "text/html": [
              "<table class=\"dataframe\">\n",
              "<caption>A data.frame: 3 × 10</caption>\n",
              "<thead>\n",
              "\t<tr><th></th><th scope=col>customer_id</th><th scope=col>customer_name</th><th scope=col>gender_cd</th><th scope=col>birth_day</th><th scope=col>age</th><th scope=col>postal_cd</th><th scope=col>address</th><th scope=col>application_store_cd</th><th scope=col>application_date</th><th scope=col>status_cd</th></tr>\n",
              "\t<tr><th></th><th scope=col>&lt;chr&gt;</th><th scope=col>&lt;chr&gt;</th><th scope=col>&lt;chr&gt;</th><th scope=col>&lt;date&gt;</th><th scope=col>&lt;int&gt;</th><th scope=col>&lt;chr&gt;</th><th scope=col>&lt;chr&gt;</th><th scope=col>&lt;chr&gt;</th><th scope=col>&lt;chr&gt;</th><th scope=col>&lt;chr&gt;</th></tr>\n",
              "</thead>\n",
              "<tbody>\n",
              "\t<tr><th scope=row>1</th><td>CS021313000114</td><td>大野 あや子  </td><td>1</td><td>1981-04-29</td><td>37</td><td>259-1113</td><td>神奈川県伊勢原市粟窪**********</td><td>S14021</td><td>20150905</td><td>0-00000000-0</td></tr>\n",
              "\t<tr><th scope=row>2</th><td>CS037613000071</td><td>六角 雅彦    </td><td>9</td><td>1952-04-01</td><td>66</td><td>136-0076</td><td>東京都江東区南砂**********    </td><td>S13037</td><td>20150414</td><td>0-00000000-0</td></tr>\n",
              "\t<tr><th scope=row>3</th><td>CS031415000172</td><td>宇多田 貴美子</td><td>1</td><td>1976-10-04</td><td>42</td><td>151-0053</td><td>東京都渋谷区代々木**********  </td><td>S13031</td><td>20150529</td><td>D-20100325-C</td></tr>\n",
              "</tbody>\n",
              "</table>\n"
            ],
            "text/latex": [
              "A data.frame: 3 × 10\n",
              "\\begin{tabular}{r|llllllllll}\n",
              "  & customer\\_id & customer\\_name & gender\\_cd & birth\\_day & age & postal\\_cd & address & application\\_store\\_cd & application\\_date & status\\_cd\\\\\n",
              "  & <chr> & <chr> & <chr> & <date> & <int> & <chr> & <chr> & <chr> & <chr> & <chr>\\\\\n",
              "\\hline\n",
              "\t1 & CS021313000114 & 大野 あや子   & 1 & 1981-04-29 & 37 & 259-1113 & 神奈川県伊勢原市粟窪********** & S14021 & 20150905 & 0-00000000-0\\\\\n",
              "\t2 & CS037613000071 & 六角 雅彦     & 9 & 1952-04-01 & 66 & 136-0076 & 東京都江東区南砂**********     & S13037 & 20150414 & 0-00000000-0\\\\\n",
              "\t3 & CS031415000172 & 宇多田 貴美子 & 1 & 1976-10-04 & 42 & 151-0053 & 東京都渋谷区代々木**********   & S13031 & 20150529 & D-20100325-C\\\\\n",
              "\\end{tabular}\n"
            ],
            "text/markdown": [
              "\n",
              "A data.frame: 3 × 10\n",
              "\n",
              "| <!--/--> | customer_id &lt;chr&gt; | customer_name &lt;chr&gt; | gender_cd &lt;chr&gt; | birth_day &lt;date&gt; | age &lt;int&gt; | postal_cd &lt;chr&gt; | address &lt;chr&gt; | application_store_cd &lt;chr&gt; | application_date &lt;chr&gt; | status_cd &lt;chr&gt; |\n",
              "|---|---|---|---|---|---|---|---|---|---|---|\n",
              "| 1 | CS021313000114 | 大野 あや子   | 1 | 1981-04-29 | 37 | 259-1113 | 神奈川県伊勢原市粟窪********** | S14021 | 20150905 | 0-00000000-0 |\n",
              "| 2 | CS037613000071 | 六角 雅彦     | 9 | 1952-04-01 | 66 | 136-0076 | 東京都江東区南砂**********     | S13037 | 20150414 | 0-00000000-0 |\n",
              "| 3 | CS031415000172 | 宇多田 貴美子 | 1 | 1976-10-04 | 42 | 151-0053 | 東京都渋谷区代々木**********   | S13031 | 20150529 | D-20100325-C |\n",
              "\n"
            ],
            "text/plain": [
              "  customer_id    customer_name gender_cd birth_day  age postal_cd\n",
              "1 CS021313000114 大野 あや子   1         1981-04-29 37  259-1113 \n",
              "2 CS037613000071 六角 雅彦     9         1952-04-01 66  136-0076 \n",
              "3 CS031415000172 宇多田 貴美子 1         1976-10-04 42  151-0053 \n",
              "  address                        application_store_cd application_date\n",
              "1 神奈川県伊勢原市粟窪********** S14021               20150905        \n",
              "2 東京都江東区南砂**********     S13037               20150414        \n",
              "3 東京都渋谷区代々木**********   S13031               20150529        \n",
              "  status_cd   \n",
              "1 0-00000000-0\n",
              "2 0-00000000-0\n",
              "3 D-20100325-C"
            ]
          },
          "metadata": {},
          "output_type": "display_data"
        }
      ],
      "source": [
        "# 데이터 내용 확인\n",
        "head(df_customer_std, n = 3)"
      ]
    },
    {
      "cell_type": "code",
      "execution_count": null,
      "metadata": {
        "id": "9A8_inH4BJiq",
        "outputId": "f2841b82-8e85-400f-8f14-fddeb9912a50"
      },
      "outputs": [
        {
          "data": {
            "text/html": [
              "<table class=\"dataframe\">\n",
              "<caption>A data.frame: 3 × 2</caption>\n",
              "<thead>\n",
              "\t<tr><th></th><th scope=col>gender_cd</th><th scope=col>gender</th></tr>\n",
              "\t<tr><th></th><th scope=col>&lt;chr&gt;</th><th scope=col>&lt;chr&gt;</th></tr>\n",
              "</thead>\n",
              "<tbody>\n",
              "\t<tr><th scope=row>1</th><td>1</td><td>女性</td></tr>\n",
              "\t<tr><th scope=row>2</th><td>9</td><td>不明</td></tr>\n",
              "\t<tr><th scope=row>6</th><td>0</td><td>男性</td></tr>\n",
              "</tbody>\n",
              "</table>\n"
            ],
            "text/latex": [
              "A data.frame: 3 × 2\n",
              "\\begin{tabular}{r|ll}\n",
              "  & gender\\_cd & gender\\\\\n",
              "  & <chr> & <chr>\\\\\n",
              "\\hline\n",
              "\t1 & 1 & 女性\\\\\n",
              "\t2 & 9 & 不明\\\\\n",
              "\t6 & 0 & 男性\\\\\n",
              "\\end{tabular}\n"
            ],
            "text/markdown": [
              "\n",
              "A data.frame: 3 × 2\n",
              "\n",
              "| <!--/--> | gender_cd &lt;chr&gt; | gender &lt;chr&gt; |\n",
              "|---|---|---|\n",
              "| 1 | 1 | 女性 |\n",
              "| 2 | 9 | 不明 |\n",
              "| 6 | 0 | 男性 |\n",
              "\n"
            ],
            "text/plain": [
              "  gender_cd gender\n",
              "1 1         女性  \n",
              "2 9         不明  \n",
              "6 0         男性  "
            ]
          },
          "metadata": {},
          "output_type": "display_data"
        }
      ],
      "source": [
        "# 데이터 내용 확인\n",
        "head(df_gender_std, n = 3)"
      ]
    },
    {
      "cell_type": "markdown",
      "metadata": {
        "id": "iXvpVjNLBJiq"
      },
      "source": [
        "---\n",
        "> R-093: 상품 데이터(df_product)는 각 카테고리의 코드 값만 보유하고 카테고리 이름은 보유하지 않는다. 카테고리 데이터(df_category)와 결합하여 비정규화하여 카테고리 이름을 보유한 새로운 상품 데이터를 생성한다."
      ]
    },
    {
      "cell_type": "code",
      "execution_count": null,
      "metadata": {
        "id": "dMiW84dDBJiq",
        "outputId": "790b5409-03e3-4680-b916-1fe523b3fa58"
      },
      "outputs": [
        {
          "data": {
            "text/html": [
              "<table class=\"dataframe\">\n",
              "<caption>A data.frame: 3 × 9</caption>\n",
              "<thead>\n",
              "\t<tr><th></th><th scope=col>product_cd</th><th scope=col>category_major_cd</th><th scope=col>category_medium_cd</th><th scope=col>category_small_cd</th><th scope=col>unit_price</th><th scope=col>unit_cost</th><th scope=col>category_major_name</th><th scope=col>category_medium_name</th><th scope=col>category_small_name</th></tr>\n",
              "\t<tr><th></th><th scope=col>&lt;chr&gt;</th><th scope=col>&lt;chr&gt;</th><th scope=col>&lt;chr&gt;</th><th scope=col>&lt;chr&gt;</th><th scope=col>&lt;int&gt;</th><th scope=col>&lt;int&gt;</th><th scope=col>&lt;chr&gt;</th><th scope=col>&lt;chr&gt;</th><th scope=col>&lt;chr&gt;</th></tr>\n",
              "</thead>\n",
              "<tbody>\n",
              "\t<tr><th scope=row>1</th><td>P040101001</td><td>04</td><td>0401</td><td>040101</td><td>198</td><td>149</td><td>惣菜</td><td>御飯類</td><td>弁当類</td></tr>\n",
              "\t<tr><th scope=row>2</th><td>P040101002</td><td>04</td><td>0401</td><td>040101</td><td>218</td><td>164</td><td>惣菜</td><td>御飯類</td><td>弁当類</td></tr>\n",
              "\t<tr><th scope=row>3</th><td>P040101003</td><td>04</td><td>0401</td><td>040101</td><td>230</td><td>173</td><td>惣菜</td><td>御飯類</td><td>弁当類</td></tr>\n",
              "</tbody>\n",
              "</table>\n"
            ],
            "text/latex": [
              "A data.frame: 3 × 9\n",
              "\\begin{tabular}{r|lllllllll}\n",
              "  & product\\_cd & category\\_major\\_cd & category\\_medium\\_cd & category\\_small\\_cd & unit\\_price & unit\\_cost & category\\_major\\_name & category\\_medium\\_name & category\\_small\\_name\\\\\n",
              "  & <chr> & <chr> & <chr> & <chr> & <int> & <int> & <chr> & <chr> & <chr>\\\\\n",
              "\\hline\n",
              "\t1 & P040101001 & 04 & 0401 & 040101 & 198 & 149 & 惣菜 & 御飯類 & 弁当類\\\\\n",
              "\t2 & P040101002 & 04 & 0401 & 040101 & 218 & 164 & 惣菜 & 御飯類 & 弁当類\\\\\n",
              "\t3 & P040101003 & 04 & 0401 & 040101 & 230 & 173 & 惣菜 & 御飯類 & 弁当類\\\\\n",
              "\\end{tabular}\n"
            ],
            "text/markdown": [
              "\n",
              "A data.frame: 3 × 9\n",
              "\n",
              "| <!--/--> | product_cd &lt;chr&gt; | category_major_cd &lt;chr&gt; | category_medium_cd &lt;chr&gt; | category_small_cd &lt;chr&gt; | unit_price &lt;int&gt; | unit_cost &lt;int&gt; | category_major_name &lt;chr&gt; | category_medium_name &lt;chr&gt; | category_small_name &lt;chr&gt; |\n",
              "|---|---|---|---|---|---|---|---|---|---|\n",
              "| 1 | P040101001 | 04 | 0401 | 040101 | 198 | 149 | 惣菜 | 御飯類 | 弁当類 |\n",
              "| 2 | P040101002 | 04 | 0401 | 040101 | 218 | 164 | 惣菜 | 御飯類 | 弁当類 |\n",
              "| 3 | P040101003 | 04 | 0401 | 040101 | 230 | 173 | 惣菜 | 御飯類 | 弁当類 |\n",
              "\n"
            ],
            "text/plain": [
              "  product_cd category_major_cd category_medium_cd category_small_cd unit_price\n",
              "1 P040101001 04                0401               040101            198       \n",
              "2 P040101002 04                0401               040101            218       \n",
              "3 P040101003 04                0401               040101            230       \n",
              "  unit_cost category_major_name category_medium_name category_small_name\n",
              "1 149       惣菜                御飯類               弁当類             \n",
              "2 164       惣菜                御飯類               弁当類             \n",
              "3 173       惣菜                御飯類               弁当類             "
            ]
          },
          "metadata": {},
          "output_type": "display_data"
        }
      ],
      "source": [
        "df_product_full <- inner_join(df_product, \n",
        "                              df_category[c(\"category_small_cd\", \n",
        "                                            \"category_major_name\",\n",
        "                                            \"category_medium_name\",\n",
        "                                            \"category_small_name\")], \n",
        "                              by = \"category_small_cd\")\n",
        "\n",
        "# 데이터 내용 확인\n",
        "head(df_product_full, n = 3)"
      ]
    },
    {
      "cell_type": "markdown",
      "metadata": {
        "id": "as7F_N4SBJiq"
      },
      "source": [
        "---\n",
        "> R-094: 093에서 생성된 카테고리 이름을 가진 제품 데이터를 다음 사양으로 파일로 정리하라.\n",
        ">\n",
        "> |파일 형식|헤더 포함/미포함|문자 인코딩|\n",
        "> |:--:|:--:|:--:|\n",
        "> |CSV(쉼표로 구분된 값)|있음|UTF-8|\n",
        ">\n",
        "> 파일 출력 대상의 경로는 다음과 같아야 합니다.\n",
        "> \n",
        "> |출력 대상|\n",
        "> |:--:|\n",
        "> |. /data|"
      ]
    },
    {
      "cell_type": "code",
      "execution_count": null,
      "metadata": {
        "id": "zRyTMh4aBJir"
      },
      "outputs": [],
      "source": [
        "# 답안 파일의 위치가 문제 파일과 다르기 때문에 경로가 '. /data'로 되어 있는 점 참고\n",
        "write.csv(df_product_full, \"../data/R_df_product_full_UTF-8_header.csv\", \n",
        "          row.names=FALSE,\n",
        "          fileEncoding = \"UTF-8\")"
      ]
    },
    {
      "cell_type": "markdown",
      "metadata": {
        "id": "SNRr50aTBJir"
      },
      "source": [
        "---\n",
        "> R-095: 093에서 생성된 카테고리 이름을 가진 제품 데이터를 다음 사양으로 파일로 정리합니다.\n",
        ">\n",
        "> |파일 형식|헤더 포함/미포함|문자 인코딩|\n",
        "> |:--:|:--:|:--:|\n",
        "> |CSV(쉼표로 구분된 값)|있음|CP932|\n",
        ">\n",
        "> 파일 출력 대상의 경로는 다음과 같아야 합니다.\n",
        "> \n",
        "> |출력 대상|\n",
        "> |:--:|\n",
        "> |. /data|"
      ]
    },
    {
      "cell_type": "code",
      "execution_count": null,
      "metadata": {
        "id": "BrzUsjeSBJir"
      },
      "outputs": [],
      "source": [
        "# 답안 파일의 위치가 문제 파일과 다르기 때문에 경로가 '. /data'로 되어 있는 점 참고\n",
        "write.csv(df_product_full, \"../data/R_df_product_full_CP932_header.csv\", \n",
        "          row.names = FALSE,\n",
        "          fileEncoding = \"CP932\")"
      ]
    },
    {
      "cell_type": "markdown",
      "metadata": {
        "id": "v1cRbUi2BJir"
      },
      "source": [
        "---\n",
        "> R-096: 093에서 생성된 카테고리 이름을 가진 제품 데이터를 다음 사양으로 파일로 정리하라.\n",
        "\n",
        "> |파일 형식|헤더 포함/미포함|문자 인코딩|\n",
        "> |:--:|:--:|:--:|\n",
        "> |CSV(쉼표로 구분된 값)|없음|UTF-8|\n",
        ">\n",
        "> 파일 출력 대상의 경로는 다음과 같아야 합니다.\n",
        "> \n",
        "> |출력 대상|\n",
        "> |:--:|\n",
        "> |. /data|"
      ]
    },
    {
      "cell_type": "code",
      "execution_count": null,
      "metadata": {
        "id": "GqsyhSUGBJir"
      },
      "outputs": [],
      "source": [
        "# 답안 파일의 위치가 문제 파일과 다르기 때문에 경로가 '. /data'로 되어 있는 점 참고\n",
        "write.table(df_product_full, \"../data/R_df_product_full_UTF-8_noh.csv\", \n",
        "            row.names = FALSE,\n",
        "            col.names = FALSE, sep = \",\", fileEncoding = \"UTF-8\")"
      ]
    },
    {
      "cell_type": "markdown",
      "metadata": {
        "id": "R2s0uUcDBJir"
      },
      "source": [
        "---\n",
        "> R-097: 094에서 만든 다음 형식의 파일을 로드하고 세 개의 데이터 항목을 표시한 다음 올바르게 가져왔는지 확인합니다.\n",
        "> \n",
        "> |파일 형식|헤더 포함/미포함|문자 인코딩|\n",
        "> |:--:|:--:|:--:|\n",
        "> |CSV(쉼표로 구분된 값)|있음|UTF-8|"
      ]
    },
    {
      "cell_type": "code",
      "execution_count": null,
      "metadata": {
        "id": "tuvIxZ8tBJir",
        "outputId": "e7d82099-cb7f-4425-9bbb-1927e5cfd281"
      },
      "outputs": [
        {
          "data": {
            "text/html": [
              "<table class=\"dataframe\">\n",
              "<caption>A data.frame: 3 × 9</caption>\n",
              "<thead>\n",
              "\t<tr><th></th><th scope=col>product_cd</th><th scope=col>category_major_cd</th><th scope=col>category_medium_cd</th><th scope=col>category_small_cd</th><th scope=col>unit_price</th><th scope=col>unit_cost</th><th scope=col>category_major_name</th><th scope=col>category_medium_name</th><th scope=col>category_small_name</th></tr>\n",
              "\t<tr><th></th><th scope=col>&lt;chr&gt;</th><th scope=col>&lt;chr&gt;</th><th scope=col>&lt;chr&gt;</th><th scope=col>&lt;chr&gt;</th><th scope=col>&lt;int&gt;</th><th scope=col>&lt;int&gt;</th><th scope=col>&lt;chr&gt;</th><th scope=col>&lt;chr&gt;</th><th scope=col>&lt;chr&gt;</th></tr>\n",
              "</thead>\n",
              "<tbody>\n",
              "\t<tr><th scope=row>1</th><td>P040101001</td><td>04</td><td>0401</td><td>040101</td><td>198</td><td>149</td><td>惣菜</td><td>御飯類</td><td>弁当類</td></tr>\n",
              "\t<tr><th scope=row>2</th><td>P040101002</td><td>04</td><td>0401</td><td>040101</td><td>218</td><td>164</td><td>惣菜</td><td>御飯類</td><td>弁当類</td></tr>\n",
              "\t<tr><th scope=row>3</th><td>P040101003</td><td>04</td><td>0401</td><td>040101</td><td>230</td><td>173</td><td>惣菜</td><td>御飯類</td><td>弁当類</td></tr>\n",
              "</tbody>\n",
              "</table>\n"
            ],
            "text/latex": [
              "A data.frame: 3 × 9\n",
              "\\begin{tabular}{r|lllllllll}\n",
              "  & product\\_cd & category\\_major\\_cd & category\\_medium\\_cd & category\\_small\\_cd & unit\\_price & unit\\_cost & category\\_major\\_name & category\\_medium\\_name & category\\_small\\_name\\\\\n",
              "  & <chr> & <chr> & <chr> & <chr> & <int> & <int> & <chr> & <chr> & <chr>\\\\\n",
              "\\hline\n",
              "\t1 & P040101001 & 04 & 0401 & 040101 & 198 & 149 & 惣菜 & 御飯類 & 弁当類\\\\\n",
              "\t2 & P040101002 & 04 & 0401 & 040101 & 218 & 164 & 惣菜 & 御飯類 & 弁当類\\\\\n",
              "\t3 & P040101003 & 04 & 0401 & 040101 & 230 & 173 & 惣菜 & 御飯類 & 弁当類\\\\\n",
              "\\end{tabular}\n"
            ],
            "text/markdown": [
              "\n",
              "A data.frame: 3 × 9\n",
              "\n",
              "| <!--/--> | product_cd &lt;chr&gt; | category_major_cd &lt;chr&gt; | category_medium_cd &lt;chr&gt; | category_small_cd &lt;chr&gt; | unit_price &lt;int&gt; | unit_cost &lt;int&gt; | category_major_name &lt;chr&gt; | category_medium_name &lt;chr&gt; | category_small_name &lt;chr&gt; |\n",
              "|---|---|---|---|---|---|---|---|---|---|\n",
              "| 1 | P040101001 | 04 | 0401 | 040101 | 198 | 149 | 惣菜 | 御飯類 | 弁当類 |\n",
              "| 2 | P040101002 | 04 | 0401 | 040101 | 218 | 164 | 惣菜 | 御飯類 | 弁当類 |\n",
              "| 3 | P040101003 | 04 | 0401 | 040101 | 230 | 173 | 惣菜 | 御飯類 | 弁当類 |\n",
              "\n"
            ],
            "text/plain": [
              "  product_cd category_major_cd category_medium_cd category_small_cd unit_price\n",
              "1 P040101001 04                0401               040101            198       \n",
              "2 P040101002 04                0401               040101            218       \n",
              "3 P040101003 04                0401               040101            230       \n",
              "  unit_cost category_major_name category_medium_name category_small_name\n",
              "1 149       惣菜                御飯類               弁当類             \n",
              "2 164       惣菜                御飯類               弁当類             \n",
              "3 173       惣菜                御飯類               弁当類             "
            ]
          },
          "metadata": {},
          "output_type": "display_data"
        }
      ],
      "source": [
        "# 답안 파일의 위치가 문제 파일과 다르기 때문에 경로가 '. /data'로 되어 있는 점 참고\n",
        "c_class <- c(NA, \"character\", \"character\", \"character\", NA, NA, NA, NA, NA)\n",
        "\n",
        "df_product_full <- read.csv(\"../data/R_df_product_full_UTF-8_header.csv\", \n",
        "                           colClasses = c_class,\n",
        "                           fileEncoding = \"UTF-8\")\n",
        "\n",
        "head(df_product_full, 3)"
      ]
    },
    {
      "cell_type": "markdown",
      "metadata": {
        "id": "CFDiFy_zBJir"
      },
      "source": [
        "---\n",
        "> R-098: 096에서 만든 다음 형식의 파일을 로드하고 세 개의 데이터 항목을 표시한 다음 올바르게 가져왔는지 확인합니다.\n",
        "> \n",
        "> |파일 형식|헤더 포함/미포함|문자 인코딩|\n",
        "> |:--:|:--:|:--:|\n",
        "> |CSV(쉼표로 구분된 값)|있음|UTF-8|"
      ]
    },
    {
      "cell_type": "code",
      "execution_count": null,
      "metadata": {
        "id": "b5rLko1aBJir",
        "outputId": "d1ea6f3f-f82e-4ad4-a488-7d8857f796d6"
      },
      "outputs": [
        {
          "data": {
            "text/html": [
              "<table class=\"dataframe\">\n",
              "<caption>A data.frame: 3 × 9</caption>\n",
              "<thead>\n",
              "\t<tr><th></th><th scope=col>product_cd</th><th scope=col>category_major_cd</th><th scope=col>category_medium_cd</th><th scope=col>category_small_cd</th><th scope=col>unit_price</th><th scope=col>unit_cost</th><th scope=col>category_major_name</th><th scope=col>category_medium_name</th><th scope=col>category_small_name</th></tr>\n",
              "\t<tr><th></th><th scope=col>&lt;chr&gt;</th><th scope=col>&lt;chr&gt;</th><th scope=col>&lt;chr&gt;</th><th scope=col>&lt;chr&gt;</th><th scope=col>&lt;int&gt;</th><th scope=col>&lt;int&gt;</th><th scope=col>&lt;chr&gt;</th><th scope=col>&lt;chr&gt;</th><th scope=col>&lt;chr&gt;</th></tr>\n",
              "</thead>\n",
              "<tbody>\n",
              "\t<tr><th scope=row>1</th><td>P040101001</td><td>04</td><td>0401</td><td>040101</td><td>198</td><td>149</td><td>惣菜</td><td>御飯類</td><td>弁当類</td></tr>\n",
              "\t<tr><th scope=row>2</th><td>P040101002</td><td>04</td><td>0401</td><td>040101</td><td>218</td><td>164</td><td>惣菜</td><td>御飯類</td><td>弁当類</td></tr>\n",
              "\t<tr><th scope=row>3</th><td>P040101003</td><td>04</td><td>0401</td><td>040101</td><td>230</td><td>173</td><td>惣菜</td><td>御飯類</td><td>弁当類</td></tr>\n",
              "</tbody>\n",
              "</table>\n"
            ],
            "text/latex": [
              "A data.frame: 3 × 9\n",
              "\\begin{tabular}{r|lllllllll}\n",
              "  & product\\_cd & category\\_major\\_cd & category\\_medium\\_cd & category\\_small\\_cd & unit\\_price & unit\\_cost & category\\_major\\_name & category\\_medium\\_name & category\\_small\\_name\\\\\n",
              "  & <chr> & <chr> & <chr> & <chr> & <int> & <int> & <chr> & <chr> & <chr>\\\\\n",
              "\\hline\n",
              "\t1 & P040101001 & 04 & 0401 & 040101 & 198 & 149 & 惣菜 & 御飯類 & 弁当類\\\\\n",
              "\t2 & P040101002 & 04 & 0401 & 040101 & 218 & 164 & 惣菜 & 御飯類 & 弁当類\\\\\n",
              "\t3 & P040101003 & 04 & 0401 & 040101 & 230 & 173 & 惣菜 & 御飯類 & 弁当類\\\\\n",
              "\\end{tabular}\n"
            ],
            "text/markdown": [
              "\n",
              "A data.frame: 3 × 9\n",
              "\n",
              "| <!--/--> | product_cd &lt;chr&gt; | category_major_cd &lt;chr&gt; | category_medium_cd &lt;chr&gt; | category_small_cd &lt;chr&gt; | unit_price &lt;int&gt; | unit_cost &lt;int&gt; | category_major_name &lt;chr&gt; | category_medium_name &lt;chr&gt; | category_small_name &lt;chr&gt; |\n",
              "|---|---|---|---|---|---|---|---|---|---|\n",
              "| 1 | P040101001 | 04 | 0401 | 040101 | 198 | 149 | 惣菜 | 御飯類 | 弁当類 |\n",
              "| 2 | P040101002 | 04 | 0401 | 040101 | 218 | 164 | 惣菜 | 御飯類 | 弁当類 |\n",
              "| 3 | P040101003 | 04 | 0401 | 040101 | 230 | 173 | 惣菜 | 御飯類 | 弁当類 |\n",
              "\n"
            ],
            "text/plain": [
              "  product_cd category_major_cd category_medium_cd category_small_cd unit_price\n",
              "1 P040101001 04                0401               040101            198       \n",
              "2 P040101002 04                0401               040101            218       \n",
              "3 P040101003 04                0401               040101            230       \n",
              "  unit_cost category_major_name category_medium_name category_small_name\n",
              "1 149       惣菜                御飯類               弁当類             \n",
              "2 164       惣菜                御飯類               弁当類             \n",
              "3 173       惣菜                御飯類               弁当類             "
            ]
          },
          "metadata": {},
          "output_type": "display_data"
        }
      ],
      "source": [
        "# 코드 예시 1 (나중에 항목 이름 붙이기)\n",
        "# 답안 파일의 위치가 문제 파일과 다르기 때문에 경로가 '. /data'로 되어 있는 점 참고\n",
        "c_class <- c(NA, \"character\", \"character\", \"character\", NA, NA, NA, NA, NA)\n",
        "\n",
        "df_product_full <- read.csv(\"../data/R_df_product_full_UTF-8_noh.csv\", \n",
        "                           colClasses = c_class,\n",
        "                           header = FALSE, fileEncoding = \"UTF-8\")\n",
        "\n",
        "colnames(df_product_full) <- c(\"product_cd\", \"category_major_cd\",\n",
        "                               \"category_medium_cd\", \"category_small_cd\",\n",
        "                               \"unit_price\", \"unit_cost\", \n",
        "                               \"category_major_name\", \"category_medium_name\", \n",
        "                               \"category_small_name\")\n",
        "\n",
        "head(df_product_full, 3)"
      ]
    },
    {
      "cell_type": "code",
      "execution_count": null,
      "metadata": {
        "id": "QGgTiY0MBJir",
        "outputId": "9200e91d-41e5-444e-8b7f-2edf580eef5e"
      },
      "outputs": [
        {
          "data": {
            "text/html": [
              "<table class=\"dataframe\">\n",
              "<caption>A data.frame: 3 × 9</caption>\n",
              "<thead>\n",
              "\t<tr><th></th><th scope=col>product_cd</th><th scope=col>category_major_cd</th><th scope=col>category_medium_cd</th><th scope=col>category_small_cd</th><th scope=col>unit_price</th><th scope=col>unit_cost</th><th scope=col>category_major_name</th><th scope=col>category_medium_name</th><th scope=col>category_small_name</th></tr>\n",
              "\t<tr><th></th><th scope=col>&lt;chr&gt;</th><th scope=col>&lt;chr&gt;</th><th scope=col>&lt;chr&gt;</th><th scope=col>&lt;chr&gt;</th><th scope=col>&lt;int&gt;</th><th scope=col>&lt;int&gt;</th><th scope=col>&lt;chr&gt;</th><th scope=col>&lt;chr&gt;</th><th scope=col>&lt;chr&gt;</th></tr>\n",
              "</thead>\n",
              "<tbody>\n",
              "\t<tr><th scope=row>1</th><td>P040101001</td><td>04</td><td>0401</td><td>040101</td><td>198</td><td>149</td><td>惣菜</td><td>御飯類</td><td>弁当類</td></tr>\n",
              "\t<tr><th scope=row>2</th><td>P040101002</td><td>04</td><td>0401</td><td>040101</td><td>218</td><td>164</td><td>惣菜</td><td>御飯類</td><td>弁当類</td></tr>\n",
              "\t<tr><th scope=row>3</th><td>P040101003</td><td>04</td><td>0401</td><td>040101</td><td>230</td><td>173</td><td>惣菜</td><td>御飯類</td><td>弁当類</td></tr>\n",
              "</tbody>\n",
              "</table>\n"
            ],
            "text/latex": [
              "A data.frame: 3 × 9\n",
              "\\begin{tabular}{r|lllllllll}\n",
              "  & product\\_cd & category\\_major\\_cd & category\\_medium\\_cd & category\\_small\\_cd & unit\\_price & unit\\_cost & category\\_major\\_name & category\\_medium\\_name & category\\_small\\_name\\\\\n",
              "  & <chr> & <chr> & <chr> & <chr> & <int> & <int> & <chr> & <chr> & <chr>\\\\\n",
              "\\hline\n",
              "\t1 & P040101001 & 04 & 0401 & 040101 & 198 & 149 & 惣菜 & 御飯類 & 弁当類\\\\\n",
              "\t2 & P040101002 & 04 & 0401 & 040101 & 218 & 164 & 惣菜 & 御飯類 & 弁当類\\\\\n",
              "\t3 & P040101003 & 04 & 0401 & 040101 & 230 & 173 & 惣菜 & 御飯類 & 弁当類\\\\\n",
              "\\end{tabular}\n"
            ],
            "text/markdown": [
              "\n",
              "A data.frame: 3 × 9\n",
              "\n",
              "| <!--/--> | product_cd &lt;chr&gt; | category_major_cd &lt;chr&gt; | category_medium_cd &lt;chr&gt; | category_small_cd &lt;chr&gt; | unit_price &lt;int&gt; | unit_cost &lt;int&gt; | category_major_name &lt;chr&gt; | category_medium_name &lt;chr&gt; | category_small_name &lt;chr&gt; |\n",
              "|---|---|---|---|---|---|---|---|---|---|\n",
              "| 1 | P040101001 | 04 | 0401 | 040101 | 198 | 149 | 惣菜 | 御飯類 | 弁当類 |\n",
              "| 2 | P040101002 | 04 | 0401 | 040101 | 218 | 164 | 惣菜 | 御飯類 | 弁当類 |\n",
              "| 3 | P040101003 | 04 | 0401 | 040101 | 230 | 173 | 惣菜 | 御飯類 | 弁当類 |\n",
              "\n"
            ],
            "text/plain": [
              "  product_cd category_major_cd category_medium_cd category_small_cd unit_price\n",
              "1 P040101001 04                0401               040101            198       \n",
              "2 P040101002 04                0401               040101            218       \n",
              "3 P040101003 04                0401               040101            230       \n",
              "  unit_cost category_major_name category_medium_name category_small_name\n",
              "1 149       惣菜                御飯類               弁当類             \n",
              "2 164       惣菜                御飯類               弁当類             \n",
              "3 173       惣菜                御飯類               弁当類             "
            ]
          },
          "metadata": {},
          "output_type": "display_data"
        }
      ],
      "source": [
        "# 코드 예제 2(항목 이름을 먼저 정의)\n",
        "# 답안 파일의 위치가 문제 파일과 다르기 때문에 경로가 '. /data'로 되어 있는 점 참고\n",
        "c_names <- c(\"product_cd\", \"category_major_cd\", \"category_medium_cd\",\n",
        "             \"category_small_cd\", \"unit_price\",\"unit_cost\",\n",
        "             \"category_major_name\", \"category_medium_name\",\n",
        "             \"category_small_name\")\n",
        "\n",
        "c_class <- c(NA, \"character\", \"character\", \"character\", NA, NA, NA, NA, NA)\n",
        "\n",
        "df_product_full <- read.csv(\"../data/R_df_product_full_UTF-8_noh.csv\", \n",
        "                           col.names = c_names,\n",
        "                           colClasses = c_class,\n",
        "                           header = FALSE, fileEncoding = \"UTF-8\")\n",
        "\n",
        "head(df_product_full, 3)"
      ]
    },
    {
      "cell_type": "markdown",
      "metadata": {
        "id": "DUgc6hcmBJir"
      },
      "source": [
        "---\n",
        "> R-099: 093에서 생성된 카테고리 이름을 가진 제품 데이터를 다음 사양으로 파일로 정리합니다.\n",
        "\n",
        "> |파일 형식|헤더 포함/미포함|문자 인코딩|\n",
        "> |:--:|:--:|:--:|\n",
        "> |TSV(탭으로 구분된 값)|있음|UTF-8|\n",
        ">\n",
        "> 파일 출력 대상의 경로는 다음과 같아야 합니다.\n",
        "> \n",
        "> |출력 대상|\n",
        "> |:--:|\n",
        "> |. /data|\n"
      ]
    },
    {
      "cell_type": "code",
      "execution_count": null,
      "metadata": {
        "id": "_Asyx1dsBJir"
      },
      "outputs": [],
      "source": [
        "# 답안 파일의 위치가 문제 파일과 다르기 때문에 경로가 '. /data'로 되어 있는 점 참고\n",
        "write.table(df_product_full, \"../data/R_df_product_full_UTF-8_header.tsv\", \n",
        "            row.names = FALSE, sep = \"\\t\", \n",
        "            fileEncoding = \"UTF-8\")"
      ]
    },
    {
      "cell_type": "markdown",
      "metadata": {
        "id": "vNmPSsooBJir"
      },
      "source": [
        "---\n",
        "> R-100: 093에서 생성된 카테고리 이름을 가진 제품 데이터를 다음 사양의 파일로 정리합니다.\n",
        "> \n",
        "> |파일 형식|헤더 포함/미포함|문자 인코딩|\n",
        "> |:--:|:--:|:--:|\n",
        "> |TSV(탭으로 구분된 값)|있음|UTF-8|"
      ]
    },
    {
      "cell_type": "code",
      "execution_count": null,
      "metadata": {
        "id": "lVeDcwQcBJis",
        "outputId": "9560cfae-4fc8-46e3-a1c1-a7f742828f50"
      },
      "outputs": [
        {
          "data": {
            "text/html": [
              "<table class=\"dataframe\">\n",
              "<caption>A data.frame: 3 × 9</caption>\n",
              "<thead>\n",
              "\t<tr><th></th><th scope=col>product_cd</th><th scope=col>category_major_cd</th><th scope=col>category_medium_cd</th><th scope=col>category_small_cd</th><th scope=col>unit_price</th><th scope=col>unit_cost</th><th scope=col>category_major_name</th><th scope=col>category_medium_name</th><th scope=col>category_small_name</th></tr>\n",
              "\t<tr><th></th><th scope=col>&lt;chr&gt;</th><th scope=col>&lt;chr&gt;</th><th scope=col>&lt;chr&gt;</th><th scope=col>&lt;chr&gt;</th><th scope=col>&lt;int&gt;</th><th scope=col>&lt;int&gt;</th><th scope=col>&lt;chr&gt;</th><th scope=col>&lt;chr&gt;</th><th scope=col>&lt;chr&gt;</th></tr>\n",
              "</thead>\n",
              "<tbody>\n",
              "\t<tr><th scope=row>1</th><td>P040101001</td><td>04</td><td>0401</td><td>040101</td><td>198</td><td>149</td><td>惣菜</td><td>御飯類</td><td>弁当類</td></tr>\n",
              "\t<tr><th scope=row>2</th><td>P040101002</td><td>04</td><td>0401</td><td>040101</td><td>218</td><td>164</td><td>惣菜</td><td>御飯類</td><td>弁当類</td></tr>\n",
              "\t<tr><th scope=row>3</th><td>P040101003</td><td>04</td><td>0401</td><td>040101</td><td>230</td><td>173</td><td>惣菜</td><td>御飯類</td><td>弁当類</td></tr>\n",
              "</tbody>\n",
              "</table>\n"
            ],
            "text/latex": [
              "A data.frame: 3 × 9\n",
              "\\begin{tabular}{r|lllllllll}\n",
              "  & product\\_cd & category\\_major\\_cd & category\\_medium\\_cd & category\\_small\\_cd & unit\\_price & unit\\_cost & category\\_major\\_name & category\\_medium\\_name & category\\_small\\_name\\\\\n",
              "  & <chr> & <chr> & <chr> & <chr> & <int> & <int> & <chr> & <chr> & <chr>\\\\\n",
              "\\hline\n",
              "\t1 & P040101001 & 04 & 0401 & 040101 & 198 & 149 & 惣菜 & 御飯類 & 弁当類\\\\\n",
              "\t2 & P040101002 & 04 & 0401 & 040101 & 218 & 164 & 惣菜 & 御飯類 & 弁当類\\\\\n",
              "\t3 & P040101003 & 04 & 0401 & 040101 & 230 & 173 & 惣菜 & 御飯類 & 弁当類\\\\\n",
              "\\end{tabular}\n"
            ],
            "text/markdown": [
              "\n",
              "A data.frame: 3 × 9\n",
              "\n",
              "| <!--/--> | product_cd &lt;chr&gt; | category_major_cd &lt;chr&gt; | category_medium_cd &lt;chr&gt; | category_small_cd &lt;chr&gt; | unit_price &lt;int&gt; | unit_cost &lt;int&gt; | category_major_name &lt;chr&gt; | category_medium_name &lt;chr&gt; | category_small_name &lt;chr&gt; |\n",
              "|---|---|---|---|---|---|---|---|---|---|\n",
              "| 1 | P040101001 | 04 | 0401 | 040101 | 198 | 149 | 惣菜 | 御飯類 | 弁当類 |\n",
              "| 2 | P040101002 | 04 | 0401 | 040101 | 218 | 164 | 惣菜 | 御飯類 | 弁当類 |\n",
              "| 3 | P040101003 | 04 | 0401 | 040101 | 230 | 173 | 惣菜 | 御飯類 | 弁当類 |\n",
              "\n"
            ],
            "text/plain": [
              "  product_cd category_major_cd category_medium_cd category_small_cd unit_price\n",
              "1 P040101001 04                0401               040101            198       \n",
              "2 P040101002 04                0401               040101            218       \n",
              "3 P040101003 04                0401               040101            230       \n",
              "  unit_cost category_major_name category_medium_name category_small_name\n",
              "1 149       惣菜                御飯類               弁当類             \n",
              "2 164       惣菜                御飯類               弁当類             \n",
              "3 173       惣菜                御飯類               弁当類             "
            ]
          },
          "metadata": {},
          "output_type": "display_data"
        }
      ],
      "source": [
        "# 답안 파일의 위치가 문제 파일과 다르기 때문에 경로가 '. /data'로 되어 있는 점 참고\n",
        "c_class <- c(NA, \"character\", \"character\", \"character\", NA, NA, NA, NA, NA)\n",
        "\n",
        "df_product_tmp <- read.table(\"../data/R_df_product_full_UTF-8_header.tsv\", \n",
        "                             colClasses = c_class,\n",
        "                             header = TRUE, fileEncoding = \"UTF-8\")\n",
        "\n",
        "head(df_product_tmp,3)"
      ]
    },
    {
      "cell_type": "markdown",
      "metadata": {
        "id": "gK0eLZdIBJis"
      },
      "source": [
        "# 이것으로 100번 노크는 끝났습니다. 수고하셨습니다!"
      ]
    }
  ],
  "metadata": {
    "kernelspec": {
      "display_name": "R",
      "language": "R",
      "name": "ir"
    },
    "language_info": {
      "codemirror_mode": "r",
      "file_extension": ".r",
      "mimetype": "text/x-r-source",
      "name": "R",
      "pygments_lexer": "r",
      "version": "4.1.1"
    },
    "colab": {
      "provenance": [],
      "collapsed_sections": [
        "RD0Ks24lMFck",
        "BElHuJUHoL_K",
        "gK0eLZdIBJis"
      ]
    }
  },
  "nbformat": 4,
  "nbformat_minor": 0
}